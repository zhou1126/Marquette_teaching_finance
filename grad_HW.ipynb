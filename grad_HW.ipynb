{
 "cells": [
  {
   "cell_type": "markdown",
   "metadata": {},
   "source": [
    "# **Graduate Homework: NVDA vs. INTC Analysis**  \n",
    "\n",
    "## **Course Requirements**  \n",
    "- **FINA 5931** – Mandatory assignment (cannot be dropped)  \n",
    "- **FINA 4931** – Bonus assignment (10% extra credit)  \n",
    "\n",
    "## **Objective**  \n",
    "In this assignment, you will analyze financial disclosures from NVIDIA (NVDA) and Intel (INTC) by retrieving and processing SEC filings, performing sentiment analysis, and correlating insights with stock performance.  \n",
    "\n",
    "## **Tasks**  \n",
    "\n",
    "### **1. Data Retrieval**  \n",
    "- Familiarize yourself with the **SEC EDGAR API**: [EDGAR API Overview](https://www.sec.gov/search-filings/edgar-application-programming-interfaces)  \n",
    "- Refer to the **EDGAR API Development Toolkit**: [EDGAR API Docs](https://api.edgarfiling.sec.gov/docs/index.html)  \n",
    "- Use Python to fetch **10-Q reports** for both **NVDA and INTC** from **2020 onward**.  \n",
    "\n",
    "### **2. Data Cleaning**  \n",
    "- Extract and clean **10-Q** data using Python.  \n",
    "- The filings are in **HTML format**, requiring significant processing to extract meaningful data.  \n",
    "- Compare the extracted data against the original reports to ensure accuracy.  \n",
    "\n",
    "### **3. Extract Key Sections**  \n",
    "- For each **10-Q**, extract:  \n",
    "  - **Management’s Discussion and Analysis (MD&A)**  \n",
    "  - **Risk Factors**  \n",
    "\n",
    "### **4. LLM Summarization & Sentiment Analysis**  \n",
    "- Connect to your preferred **LLM API** (e.g., OpenAI, Gemini, Claude).  \n",
    "- Summarize **MD&A and Risk Factors** for each **10-Q** and company.  \n",
    "- Perform **sentiment analysis** on these sections to gauge market outlook.  \n",
    "\n",
    "### **5. Correlation with Stock Performance**  \n",
    "- Compare your extracted insights with **historical stock prices** during the corresponding period.  \n",
    "- Analyze trends:  \n",
    "  - How do market reactions align with reported risks and management outlook?  \n",
    "  - Do NVDA and INTC exhibit opposite sentiment trends in their filings?  \n",
    "- Based on **10-Q disclosures**, make a stock price prediction and validate it against actual movements.  \n",
    "\n",
    "## **Submission Guidelines**  \n",
    "- Submit a **Jupyter Notebook** containing your code, findings, and visualizations.  \n",
    "- Include any **supporting documentation** necessary for reproducibility.  "
   ]
  },
  {
   "cell_type": "markdown",
   "metadata": {},
   "source": []
  }
 ],
 "metadata": {
  "language_info": {
   "name": "python"
  }
 },
 "nbformat": 4,
 "nbformat_minor": 2
}
