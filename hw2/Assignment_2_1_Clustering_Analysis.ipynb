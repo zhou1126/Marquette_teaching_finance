{
  "cells": [
    {
      "cell_type": "markdown",
      "metadata": {
        "id": "qGzRfoS4YrTH"
      },
      "source": [
        "Step One: Load and Preprocess the Dataset\n",
        "\n"
      ]
    },
    {
      "cell_type": "code",
      "execution_count": null,
      "metadata": {
        "id": "nX6KQwIVV0YY"
      },
      "outputs": [],
      "source": [
        "import pandas as pd\n",
        "\n",
        "# Load the dataset\n",
        "df = pd.read_csv('credit_risk_dataset.csv')"
      ]
    },
    {
      "cell_type": "code",
      "execution_count": null,
      "metadata": {
        "id": "odPIntElWWGi"
      },
      "outputs": [],
      "source": [
        "# Identify numerical columns\n",
        "numerical_cols = ['person_age', 'person_income', 'person_emp_length', 'cb_person_cred_hist_length']\n",
        "\n",
        "# Identify categorical columns\n",
        "categorical_cols = ['person_home_ownership', 'loan_intent', 'loan_grade', 'cb_person_default_on_file']\n",
        "\n",
        "# Separate numerical and categorical data\n",
        "numerical_data = df[numerical_cols]\n",
        "categorical_data = df[categorical_cols]"
      ]
    },
    {
      "cell_type": "code",
      "execution_count": null,
      "metadata": {
        "id": "o0g9ZIKwWkj0"
      },
      "outputs": [],
      "source": [
        "# Fill missing values in numerical columns with the median\n",
        "numerical_data = numerical_data.fillna(numerical_data.median())\n",
        "\n",
        "# Fill missing values in categorical columns with the mode (most frequent value)\n",
        "categorical_data = categorical_data.apply(lambda x: x.fillna(x.mode()[0]))"
      ]
    },
    {
      "cell_type": "code",
      "execution_count": null,
      "metadata": {
        "id": "Vr1C79otWnuT"
      },
      "outputs": [],
      "source": [
        "# Combine numerical and categorical data back into the DataFrame\n",
        "df[numerical_cols] = numerical_data\n",
        "df[categorical_cols] = categorical_data"
      ]
    },
    {
      "cell_type": "code",
      "execution_count": null,
      "metadata": {
        "id": "fRHFslZYWpva"
      },
      "outputs": [],
      "source": [
        "from sklearn.preprocessing import StandardScaler\n",
        "\n",
        "# Standardize the numerical columns\n",
        "scaler = StandardScaler()\n",
        "df[numerical_cols] = scaler.fit_transform(df[numerical_cols])"
      ]
    },
    {
      "cell_type": "markdown",
      "metadata": {
        "id": "Oiv-a6a8ZBAp"
      },
      "source": [
        "Step Two: Select Relavant Numerical Columns for Clustering"
      ]
    },
    {
      "cell_type": "code",
      "execution_count": null,
      "metadata": {
        "id": "A3WIeb9UW8kO"
      },
      "outputs": [],
      "source": [
        "X = df[numerical_cols]"
      ]
    },
    {
      "cell_type": "markdown",
      "metadata": {
        "id": "jihzGxLKZIjq"
      },
      "source": [
        "Step Three: Perform the K-Means Clustering"
      ]
    },
    {
      "cell_type": "code",
      "execution_count": null,
      "metadata": {
        "colab": {
          "base_uri": "https://localhost:8080/",
          "height": 472
        },
        "id": "g5JbW3FUW_g3",
        "outputId": "36fe9dfd-5131-4ca8-e420-992e85c93f03"
      },
      "outputs": [],
      "source": [
        "from sklearn.cluster import KMeans\n",
        "import matplotlib.pyplot as plt\n",
        "\n",
        "# Calculate the Within-Cluster-Sum of Squared Errors (WCSS)\n",
        "wcss = []\n",
        "for i in range(1, 11):\n",
        "    kmeans = KMeans(n_clusters=i, random_state=42)\n",
        "    kmeans.fit(X)\n",
        "    wcss.append(kmeans.inertia_)\n",
        "\n",
        "# Plot the Elbow graph\n",
        "plt.plot(range(1, 11), wcss)\n",
        "plt.title('Elbow Method')\n",
        "plt.xlabel('Number of clusters')\n",
        "plt.ylabel('WCSS')\n",
        "plt.show()"
      ]
    },
    {
      "cell_type": "code",
      "execution_count": null,
      "metadata": {
        "id": "xx5ZtI3TXEDh"
      },
      "outputs": [],
      "source": [
        "optimal_clusters = 3\n",
        "kmeans = KMeans(n_clusters=optimal_clusters, random_state=42)\n",
        "df['cluster'] = kmeans.fit_predict(X)"
      ]
    },
    {
      "cell_type": "markdown",
      "metadata": {
        "id": "_VvZlLVfbzwZ"
      },
      "source": [
        "Step 4: Interpret the Clusters"
      ]
    },
    {
      "cell_type": "code",
      "execution_count": null,
      "metadata": {
        "colab": {
          "base_uri": "https://localhost:8080/"
        },
        "id": "eHPJ2pQpXHXV",
        "outputId": "d7e45aa7-5b0f-4914-d32e-e1f31445368f"
      },
      "outputs": [],
      "source": [
        "# Select relevant numerical columns along with the 'cluster' column\n",
        "numerical_cols_with_cluster = numerical_cols + ['cluster']\n",
        "\n",
        "# Group by 'cluster' and calculate the mean for numerical columns only\n",
        "clusters = df[numerical_cols_with_cluster].groupby('cluster').mean()\n",
        "print(clusters)"
      ]
    },
    {
      "cell_type": "code",
      "execution_count": null,
      "metadata": {
        "id": "XwC1mskPXnZg"
      },
      "outputs": [],
      "source": [
        "import seaborn as sns\n",
        "import matplotlib.pyplot as plt\n",
        "\n",
        "# Loan Amount by Cluster\n",
        "sns.boxplot(x='cluster', y='loan_amnt', data=df)\n",
        "plt.title('Loan Amount by Cluster')\n",
        "plt.show()\n",
        "\n",
        "# Income by Cluster\n",
        "sns.boxplot(x='cluster', y='person_income', data=df)\n",
        "plt.title('Income by Cluster')\n",
        "plt.show()\n",
        "\n",
        "# Loan Status by Cluster\n",
        "sns.boxplot(x='cluster', y='loan_status', data=df)\n",
        "plt.title('Loan Status by Cluster')\n",
        "plt.show()\n",
        "\n",
        "# Visualizing Employment Length by Cluster\n",
        "sns.boxplot(x='cluster', y='person_emp_length', data=df)\n",
        "plt.title('Employment Length by Cluster')\n",
        "plt.show()"
      ]
    },
    {
      "cell_type": "markdown",
      "metadata": {
        "id": "ZZV0fZBOcuuD"
      },
      "source": [
        "Interpretation of Clusters\n",
        "\n",
        "**Cluster 0:**\n",
        "\n",
        "Income: High income levels.\n",
        "\n",
        "Employment Length: Longest job tenures.\n",
        "\n",
        "Loan Amount: Higher loan amounts.\n",
        "\n",
        "Loan Status: Higher likelihood of non-defaults.\n",
        "\n",
        "Summary: Financially stable, higher borrowers with reliable employment and higher loan amounts.\n",
        "\n",
        "**Cluster 1:**\n",
        "\n",
        "Income: Moderate to high income levels.\n",
        "\n",
        "Employment Length: Varied employment histories.\n",
        "\n",
        "Loan Amount: Moderate loan amounts.\n",
        "\n",
        "Loan Status: Mixed default and non-default statuses.\n",
        "\n",
        "Summary: Median income borrowers with varied job stability and moderate loan amounts, leading to mixed loan outcomes.\n",
        "\n",
        "**Cluster 2:**\n",
        "\n",
        "Income: Lower income levels.\n",
        "\n",
        "Employment Length: Shorter job tenures.\n",
        "\n",
        "Loan Amount: Moderate loan amounts.\n",
        "\n",
        "Loan Status: Balanced default and non-default statuses.\n",
        "\n",
        "Summary: Younger, lower-income borrowers with shorter employment and credit histories, moderate loan amounts, and balanced loan outcomes.                                                                      \n",
        "                                                                             \n",
        "                                                                              \n",
        "**Microsoft Copilot was used to help generate this code**"
      ]
    }
  ],
  "metadata": {
    "colab": {
      "provenance": []
    },
    "kernelspec": {
      "display_name": "Python 3",
      "name": "python3"
    },
    "language_info": {
      "name": "python"
    }
  },
  "nbformat": 4,
  "nbformat_minor": 0
}
