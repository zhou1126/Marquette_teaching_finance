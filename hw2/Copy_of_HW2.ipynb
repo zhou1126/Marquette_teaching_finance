{
  "cells": [
    {
      "cell_type": "code",
      "execution_count": null,
      "metadata": {
        "id": "dv3GdafVm89q"
      },
      "outputs": [],
      "source": [
        "#MBA 4931/5931 HW2\n",
        "#Patrick Hollenbach, William Halm"
      ]
    },
    {
      "cell_type": "code",
      "execution_count": null,
      "metadata": {
        "colab": {
          "base_uri": "https://localhost:8080/",
          "height": 226
        },
        "id": "0H6Ze4x8xg3U",
        "outputId": "8c8903ad-431d-4a3b-f83f-e2c595061f17"
      },
      "outputs": [],
      "source": [
        "#1.1.1 Load dataset\n",
        "import pandas as pd\n",
        "import seaborn as sns\n",
        "import matplotlib.pyplot as plt\n",
        "from sklearn.preprocessing import StandardScaler\n",
        "from sklearn.cluster import KMeans\n",
        "df = pd.read_csv('credit_risk_dataset.csv')\n",
        "df.head(5)"
      ]
    },
    {
      "cell_type": "code",
      "execution_count": null,
      "metadata": {
        "colab": {
          "base_uri": "https://localhost:8080/"
        },
        "id": "Negr1UIbxqVH",
        "outputId": "95a880ee-6c9c-43b5-c805-287b69d460ef"
      },
      "outputs": [],
      "source": [
        "#1.1.1 Handle missing values\n",
        "df['person_emp_length'].fillna(df['person_emp_length'].median(), inplace=True)\n",
        "df['loan_int_rate'].fillna(df['loan_int_rate'].median(), inplace=True)"
      ]
    },
    {
      "cell_type": "code",
      "execution_count": null,
      "metadata": {
        "id": "Tf29hOgoy8mc"
      },
      "outputs": [],
      "source": [
        "#1.2.1 Select relevant columns\n",
        "numerical_columns = ['person_age', 'person_income', 'person_emp_length', 'cb_person_cred_hist_length']\n",
        "df_numerical = df[numerical_columns]\n",
        "#1.1 Standardize values\n",
        "scaler = StandardScaler()\n",
        "df_scaled = scaler.fit_transform(df_numerical)"
      ]
    },
    {
      "cell_type": "code",
      "execution_count": null,
      "metadata": {
        "colab": {
          "base_uri": "https://localhost:8080/",
          "height": 507
        },
        "id": "eECVFypozDm9",
        "outputId": "e4f4eb57-436f-40ee-d3a8-4f46e8b3a7ce"
      },
      "outputs": [],
      "source": [
        "#1.3.1 Kmeans, determine optimal clusters with elbow method\n",
        "inertia = []\n",
        "silhouette_scores = []\n",
        "range_n_clusters = range(2, 11)  # Test for 2 to 10 clusters\n",
        "\n",
        "for k in range_n_clusters:\n",
        "    kmeans = KMeans(n_clusters=k, random_state=42,n_init=10).fit(df_scaled)\n",
        "    inertia.append(kmeans.inertia_)\n",
        "\n",
        "\n",
        "# Plot Inertia\n",
        "plt.figure(figsize=(12, 5))\n",
        "\n",
        "plt.subplot(1, 2, 1)\n",
        "plt.plot(range_n_clusters, inertia, marker='o')\n",
        "plt.title('Elbow Method')\n",
        "plt.xlabel('Number of Clusters')\n",
        "plt.ylabel('Inertia')\n",
        "\n",
        "plt.tight_layout()\n",
        "plt.show()"
      ]
    },
    {
      "cell_type": "code",
      "execution_count": null,
      "metadata": {
        "colab": {
          "base_uri": "https://localhost:8080/",
          "height": 206
        },
        "id": "THSyChtV0wHF",
        "outputId": "ced0bc0c-7584-4977-9c16-18ff38ae4955"
      },
      "outputs": [],
      "source": [
        "#1.3.2Kmeans - optimal clusters is 5 based on elbow method above\n",
        "optimal_k = 5\n",
        "kmeans = KMeans(n_clusters=optimal_k, random_state=42, n_init=10)\n",
        "df['cluster'] = kmeans.fit_predict(df_scaled)\n",
        "df[['person_age', 'person_income', 'person_emp_length', 'cb_person_cred_hist_length', 'cluster']].head()"
      ]
    },
    {
      "cell_type": "code",
      "execution_count": null,
      "metadata": {
        "colab": {
          "base_uri": "https://localhost:8080/",
          "height": 564
        },
        "id": "X5JT8FsD1pef",
        "outputId": "de9c1255-1db3-4208-88e8-dcfc75fd60ea"
      },
      "outputs": [],
      "source": [
        "#1.3.2 Plot clusters\n",
        "plt.figure(figsize=(10, 6))\n",
        "sns.scatterplot(x=df['person_age'], y=df['person_income'], hue=df['cluster'], palette='viridis', alpha=0.6)\n",
        "plt.xlabel('Person Age')\n",
        "plt.ylabel('Person Income')\n",
        "plt.title('K-Means Clustering')\n",
        "plt.legend(title='Cluster')\n",
        "plt.show()"
      ]
    },
    {
      "cell_type": "code",
      "execution_count": null,
      "metadata": {
        "colab": {
          "base_uri": "https://localhost:8080/",
          "height": 1000
        },
        "id": "amoeSUlR25y8",
        "outputId": "2bdd227d-11e5-45cd-ed98-5f595487fef3"
      },
      "outputs": [],
      "source": [
        "#1.3.2 Clusters with characteristics\n",
        "#\n",
        "loan_characteristics = df.groupby('cluster')[['loan_amnt', 'person_income', 'loan_status']].mean()\n",
        "print(loan_characteristics)\n",
        "\n",
        "plt.figure(figsize=(12, 6))\n",
        "sns.barplot(x=loan_characteristics.index, y=loan_characteristics['loan_amnt'], palette='viridis')\n",
        "plt.xlabel('Cluster')\n",
        "plt.ylabel('Average loan amount')\n",
        "plt.title('Average loan amount by cluster')\n",
        "plt.show()\n",
        "\n",
        "plt.figure(figsize=(12, 6))\n",
        "sns.barplot(x=loan_characteristics.index, y=loan_characteristics['person_income'], palette='viridis')\n",
        "plt.xlabel('Cluster')\n",
        "plt.ylabel('Average income')\n",
        "plt.title('Average income by cluster')\n",
        "plt.show()\n",
        "\n",
        "plt.figure(figsize=(12, 6))\n",
        "sns.barplot(x=loan_characteristics.index, y=loan_characteristics['loan_status']*100, palette='viridis')\n",
        "plt.xlabel('Cluster')\n",
        "plt.ylabel('Average loan default %')\n",
        "plt.title('Average loan status by cluster')\n",
        "plt.show()\n"
      ]
    },
    {
      "cell_type": "code",
      "execution_count": null,
      "metadata": {
        "id": "VKsKBLZx46s_"
      },
      "outputs": [],
      "source": [
        "#1.4.1 4. Interpret the clusters:\n",
        "#   - What patterns do you observe in the clusters?\n",
        "# One of the most notable differences between the clusters is age. Clusters 1, 2, and 4 seem to be relatively similar applicants of different age groups. An outlier is cluster 3 which is the high earners and little seperation by age or loan amount. There were also a few outlier loan applicants that had large effects on the clusters and their averages.\n",
        "\n",
        "#   - How do different clusters compare in terms of loan characteristics (e.g., loan amount, income, loan status)?\n",
        "# Some of the loan characteristics are not very seperated by cluster while other characteristics are major elements of the cluster. Average income was a characteristic that set cluster 3 apart from the others."
      ]
    },
    {
      "cell_type": "code",
      "execution_count": null,
      "metadata": {
        "id": "deqn-q1-nhdo"
      },
      "outputs": [],
      "source": [
        "#2.1\n",
        "import numpy as np # linear algebra\n",
        "import matplotlib.pyplot as plt\n",
        "\n",
        "import plotly.graph_objects as go\n",
        "from sklearn.model_selection import train_test_split\n",
        "from sklearn.linear_model import LogisticRegression\n",
        "from sklearn.metrics import (\n",
        "    confusion_matrix,\n",
        "    classification_report,\n",
        "    roc_auc_score,\n",
        "    roc_curve,\n",
        "    accuracy_score\n",
        ")\n",
        "import seaborn as sns\n",
        "pd.set_option('display.max_columns', None)\n",
        "import os\n",
        "for dirname, _, filenames in os.walk('/home/codespace/.cache/kagglehub/datasets/taweilo/loan-approval-classification-data/versions/1/'):\n",
        "    for filename in filenames:\n",
        "        print(os.path.join(dirname, filename))\n"
      ]
    },
    {
      "cell_type": "code",
      "execution_count": null,
      "metadata": {
        "colab": {
          "base_uri": "https://localhost:8080/",
          "height": 1000
        },
        "id": "2iWYa4k7npIw",
        "outputId": "3c0ad736-e45f-4140-8e5a-bd2e2b016be1"
      },
      "outputs": [],
      "source": [
        "#2.1 Load dataset\n",
        "df = pd.read_csv('credit_risk_dataset.csv')\n",
        "df.head(50)"
      ]
    },
    {
      "cell_type": "code",
      "execution_count": null,
      "metadata": {
        "colab": {
          "base_uri": "https://localhost:8080/"
        },
        "id": "HDP3MHvkoQ5G",
        "outputId": "7ee932a2-2bdc-480e-a278-757329d80751"
      },
      "outputs": [],
      "source": [
        "#2.1 Preprocess dataset\n",
        "# Strip whitespace from column names\n",
        "df.columns = df.columns.str.strip()\n",
        "\n",
        "# Identify categorical columns\n",
        "categorical_cols = ['person_age', 'person_income', 'person_home_ownership', 'loan_intent', 'loan_grade','loan_amnt','loan_int_rate','loan_percent_income','cb_person_default_on_file','cb_person_cred_hist_length']\n",
        "\n",
        "# present all unique values per categorical columns\n",
        "for col in categorical_cols:\n",
        "    print(f'for column {col}, the unique values are')\n",
        "    print(df[col].unique())\n",
        "\n",
        "# Apply one-hot encoding to categorical columns\n",
        "df_encoded = pd.get_dummies(df, columns=categorical_cols, drop_first=True)\n",
        "\n"
      ]
    },
    {
      "cell_type": "code",
      "execution_count": null,
      "metadata": {
        "colab": {
          "base_uri": "https://localhost:8080/"
        },
        "id": "hQNzxbvmq9g4",
        "outputId": "fada9e37-4387-4b71-94ec-a4cecfdb8dce"
      },
      "outputs": [],
      "source": [
        "df_encoded.columns"
      ]
    },
    {
      "cell_type": "code",
      "execution_count": null,
      "metadata": {
        "colab": {
          "base_uri": "https://localhost:8080/",
          "height": 163
        },
        "id": "kT_7ST78rFcj",
        "outputId": "f5a8f9d2-5c47-405d-81e5-2b4c27980425"
      },
      "outputs": [],
      "source": [
        "# Check numerical data distribution among different loan status\n",
        "grouped_averages = df_encoded.groupby(\"loan_status\").mean()\n",
        "\n",
        "# Display the grouped averages\n",
        "grouped_averages.head()"
      ]
    },
    {
      "cell_type": "code",
      "execution_count": null,
      "metadata": {
        "colab": {
          "base_uri": "https://localhost:8080/",
          "height": 426
        },
        "id": "Ks6yqxqcrJ80",
        "outputId": "ba20ecb3-bb27-4bbd-efa3-43a195b7039e"
      },
      "outputs": [],
      "source": [
        "selected_features = df_encoded.columns.drop(\"loan_status\")\n",
        "target = \"loan_status\"\n",
        "\n",
        "# Features and target\n",
        "X = df_encoded[selected_features]\n",
        "y = df_encoded[target]\n",
        "\n",
        "# Split data into training and testing sets (75% training, 25% testing)\n",
        "X_train, X_test, y_train, y_test = train_test_split(X, y, test_size=0.2, random_state=21, stratify=y)\n",
        "\n",
        "# Initialize logistic regression model\n",
        "log_reg = LogisticRegression()\n",
        "\n",
        "# Train the model\n",
        "log_reg.fit(X_train, y_train)\n",
        "\n",
        "# Generate predictions and probabilities\n",
        "y_pred = log_reg.predict(X_test)\n",
        "y_pred_prob = log_reg.predict_proba(X_test)[:, 1]\n",
        "\n",
        "# Confusion Matrix\n",
        "cm = confusion_matrix(y_test, y_pred)\n",
        "sns.heatmap(cm, annot=True, fmt='d', cmap='Blues', xticklabels=[\"df_encoded = 0\", \"df_encoded = 1\"], yticklabels=[\"df_encoded = 0\", \"df_encoded = 1\"])\n",
        "plt.title(\"Confusion Matrix\")\n",
        "plt.xlabel(\"Predicted\")\n",
        "plt.ylabel(\"Actual\")\n",
        "plt.show()\n",
        "\n",
        "# Classification Report for precision, recall, F1-score\n",
        "print(\"Classification Report:\\n\", classification_report(y_test, y_pred))\n",
        "\n",
        "# Accuracy\n",
        "accuracy = accuracy_score(y_test, y_pred)\n",
        "print(\"Accuracy:\", accuracy)\n",
        "\n",
        "# AUC (Area Under the Curve)\n",
        "auc_score = roc_auc_score(y_test, y_pred_prob)\n",
        "print(\"AUC:\", auc_score)\n",
        "\n",
        "# Plot ROC Curve\n",
        "fpr, tpr, thresholds = roc_curve(y_test, y_pred_prob)\n",
        "plt.figure(figsize=(8, 6))\n",
        "plt.plot(fpr, tpr, label=f\"ROC Curve (AUC = {auc_score:.2f})\", color=\"blue\")\n",
        "plt.plot([0, 1], [0, 1], \"k--\", label=\"Random Classifier\")\n",
        "plt.xlabel(\"False Positive Rate\")\n",
        "plt.ylabel(\"True Positive Rate\")\n",
        "plt.title(\"ROC Curve\")\n",
        "plt.legend(loc=\"best\")\n",
        "plt.grid()\n",
        "plt.show()\n",
        "\n",
        "# Results\n",
        "# The biggest insight gained from this model is the importance of employment length. This had a large effect on predicting the loan default chance. The confuusion matrix helps show that the regression model is mostly accurate. It would be reasonable to rely on this model for decision making."
      ]
    },
    {
      "cell_type": "markdown",
      "metadata": {
        "id": "Wde-ukgRlog5"
      },
      "source": [
        "Group survey:\n",
        "1. **Course Rating (1-5 scale):** How would you rate this course overall? (1: Poor, 2: Fair, 3: Good, 4: Very Good, 5: Excellent)\n",
        "\n",
        "(5) The course has been very educational and contains lots of relevent content for data analysis.\n",
        "\n",
        "2. **Difficulty Level (1-5 scale):** How difficult was this course? (1: Very Easy, 2: Easy, 3: Moderate, 4: Hard, 5: Very Hard)\n",
        "\n",
        "(4) So far the assignments have been fairly difficult but still doable.\n",
        "\n",
        "3. **Pros:** What aspects of the course did you find beneficial?\n",
        "   \n",
        "   This course has been benificial at teaching new ways to analyse data. Our prevous knowledge contained only basic statistics.\n",
        "\n",
        "4. **Cons:** What challenges did you face in this course?\n",
        "\n",
        "  The content of this course can be pretty difficult. Working with code can be frustrating if there is a small unknown error that stops it from working.\n",
        "\n",
        "5. **Suggestions:** How can this course be improved in future iterations?\n",
        "  \n",
        "  Some in class walkthroughs would be benificial where students could write the code during class."
      ]
    }
  ],
  "metadata": {
    "colab": {
      "provenance": []
    },
    "kernelspec": {
      "display_name": "Python 3",
      "name": "python3"
    },
    "language_info": {
      "name": "python"
    }
  },
  "nbformat": 4,
  "nbformat_minor": 0
}
