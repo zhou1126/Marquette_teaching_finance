{
  "cells": [
    {
      "cell_type": "code",
      "execution_count": null,
      "metadata": {
        "colab": {
          "base_uri": "https://localhost:8080/"
        },
        "id": "BRirWNwFYstG",
        "outputId": "c97f0b23-2fbe-46a7-b513-d34482cba0db"
      },
      "outputs": [],
      "source": [
        "# Install necessary libraries\n",
        "!pip install yfinance pandas_datareader\n",
        "\n",
        "# Import libraries\n",
        "import yfinance as yf\n",
        "import pandas as pd\n",
        "import numpy as np\n",
        "from datetime import datetime\n",
        "import statsmodels.api as smM\n",
        "import matplotlib.pyplot as plt\n",
        "import seaborn as sns\n",
        "import pandas_datareader.data as web\n",
        "# Define the time period for analysis\n",
        "start_date = \"2022-01-01\"\n",
        "end_date = \"2025-1-1\"\n",
        "\n",
        "# Specify the stock and benchmark tickers\n",
        "stock_ticker = 'ASB'        # Stock of your choice\n",
        "benchmark_ticker = '^GSPC'   # S&P 500 index symbol\n",
        "\n",
        "# FRED symbol for the risk-free rate\n",
        "risk_free_symbol = 'DGS3MO'  # 3-Month Treasury Bill\n",
        "# Download stock data\n",
        "stock_data = yf.download(stock_ticker, start=start_date, end=end_date, auto_adjust=True)\n",
        "\n",
        "# Download benchmark data\n",
        "benchmark_data = yf.download(benchmark_ticker, start=start_date, end=end_date, auto_adjust=True)\n",
        "\n",
        "# Display the first few rows of stock data\n",
        "print(\"Stock Data Sample:\")\n",
        "print(stock_data.head())\n",
        "\n",
        "# Display the first few rows of benchmark data\n",
        "print(\"\\nBenchmark Data Sample:\")\n",
        "print(benchmark_data.head())\n",
        "# Calculate daily returns for the stock\n",
        "stock_data['Daily_Return'] = stock_data['Close'].pct_change()\n",
        "\n",
        "# Calculate daily returns for the benchmark\n",
        "benchmark_data['Daily_Return'] = benchmark_data['Close'].pct_change()\n",
        "\n",
        "# Drop the NaN values resulting from the percentage change calculation\n",
        "stock_returns = stock_data['Daily_Return'].dropna()\n",
        "benchmark_returns = benchmark_data['Daily_Return'].dropna()"
      ]
    },
    {
      "cell_type": "code",
      "execution_count": null,
      "metadata": {
        "colab": {
          "base_uri": "https://localhost:8080/"
        },
        "id": "V2ceG1pojczi",
        "outputId": "433773ea-7d7c-4254-ee40-80f3351d2d43"
      },
      "outputs": [],
      "source": [
        "# Combine returns into one DataFrame\n",
        "data = pd.concat([stock_returns, benchmark_returns], axis=1)\n",
        "data.columns = ['Stock_Return', 'Benchmark_Return']\n",
        "\n",
        "# Reset the index to ensure 'Date' is a column\n",
        "data.reset_index(inplace=True)\n",
        "\n",
        "# Display the combined data\n",
        "print(\"\\nCombined Returns Data:\")\n",
        "print(data.head())"
      ]
    },
    {
      "cell_type": "code",
      "execution_count": null,
      "metadata": {
        "colab": {
          "base_uri": "https://localhost:8080/"
        },
        "id": "ejFX98D0jfLw",
        "outputId": "b32765d4-54aa-4774-c9b0-a76b42aa70cf"
      },
      "outputs": [],
      "source": [
        "# Fetch the risk-free rate data\n",
        "risk_free_data = web.DataReader(risk_free_symbol, 'fred', start_date, end_date)\n",
        "\n",
        "# Forward-fill any missing data (e.g., weekends and holidays)\n",
        "risk_free_data = risk_free_data.ffill()\n",
        "\n",
        "# Convert the annualized rates from percentage to decimal\n",
        "risk_free_data['Risk_Free_Rate'] = risk_free_data[risk_free_symbol] / 100\n",
        "\n",
        "# Calculate the daily risk-free rate\n",
        "trading_days = 252  # Approximate number of trading days in a year\n",
        "risk_free_data['Daily_Risk_Free_Rate'] = risk_free_data['Risk_Free_Rate'] / trading_days\n",
        "\n",
        "# Reset the index to have 'DATE' as a column\n",
        "risk_free_data.reset_index(inplace=True)\n",
        "\n",
        "# Display the risk-free rate data\n",
        "print(\"\\nRisk-Free Rate Data Sample:\")\n",
        "print(risk_free_data.head())"
      ]
    },
    {
      "cell_type": "code",
      "execution_count": null,
      "metadata": {
        "colab": {
          "base_uri": "https://localhost:8080/"
        },
        "id": "REPc4Zdkjhh8",
        "outputId": "d4c2700f-fe91-4907-bcac-2eaf26f884c0"
      },
      "outputs": [],
      "source": [
        "# Merge the risk-free data with the returns data\n",
        "data = pd.merge(data, risk_free_data[['DATE', 'Daily_Risk_Free_Rate']], left_on='Date', right_on='DATE', how='left')\n",
        "\n",
        "# Drop the redundant 'DATE' column\n",
        "data.drop(['DATE'], axis=1, inplace=True)\n",
        "\n",
        "# Forward-fill any missing daily risk-free rates\n",
        "data['Daily_Risk_Free_Rate'].fillna(method='ffill', inplace=True)\n",
        "\n",
        "# Display the merged data\n",
        "print(\"\\nData After Merging Risk-Free Rates:\")\n",
        "print(data.head())"
      ]
    },
    {
      "cell_type": "code",
      "execution_count": null,
      "metadata": {
        "colab": {
          "base_uri": "https://localhost:8080/"
        },
        "id": "2HT7WZAwjj_g",
        "outputId": "feafa47a-a6a9-4103-a5c0-519e69ec1509"
      },
      "outputs": [],
      "source": [
        "# Calculate the stock's excess returns\n",
        "data['Stock_Excess_Return'] = data['Stock_Return'] - data['Daily_Risk_Free_Rate']\n",
        "\n",
        "# Calculate the benchmark's excess returns\n",
        "data['Benchmark_Excess_Return'] = data['Benchmark_Return'] - data['Daily_Risk_Free_Rate']\n",
        "\n",
        "# Display the excess returns\n",
        "print(\"\\nExcess Returns Data:\")\n",
        "print(data[['Date', 'Stock_Excess_Return', 'Benchmark_Excess_Return']].head())"
      ]
    },
    {
      "cell_type": "code",
      "execution_count": null,
      "metadata": {
        "colab": {
          "base_uri": "https://localhost:8080/"
        },
        "id": "gBgvGCGBjwYy",
        "outputId": "942c5b02-ede2-4ec8-e104-a0b610bdbeec"
      },
      "outputs": [],
      "source": [
        "# Define the dependent and independent variables\n",
        "X = data['Benchmark_Excess_Return']  # Independent variable\n",
        "y = data['Stock_Excess_Return']      # Dependent variable\n",
        "\n",
        "# Add a constant term to the independent variable\n",
        "X = sm.add_constant(X)\n",
        "\n",
        "# Fit the regression model\n",
        "model = sm.OLS(y, X).fit()\n",
        "\n",
        "# Output the regression results\n",
        "print(\"\\nCAPM Regression Results:\")\n",
        "print(model.summary())"
      ]
    },
    {
      "cell_type": "code",
      "execution_count": null,
      "metadata": {
        "colab": {
          "base_uri": "https://localhost:8080/"
        },
        "id": "iFbSSiMvj2Fg",
        "outputId": "c9df88ae-e621-4905-c6cc-c960512a78a7"
      },
      "outputs": [],
      "source": [
        "# Extract the regression coefficients\n",
        "alpha = model.params['const']\n",
        "beta = model.params['Benchmark_Excess_Return']\n",
        "r_squared = model.rsquared\n",
        "\n",
        "# Display the regression parameters\n",
        "print(f\"\\nRegression Parameters:\")\n",
        "print(f\"Alpha (Intercept): {alpha:.6f}\")\n",
        "print(f\"Beta (Slope): {beta:.6f}\")\n",
        "print(f\"R-squared: {r_squared:.4f}\")"
      ]
    },
    {
      "cell_type": "code",
      "execution_count": null,
      "metadata": {
        "colab": {
          "base_uri": "https://localhost:8080/"
        },
        "id": "ubrXl5N_j5bG",
        "outputId": "13f3a325-079c-40c9-83cc-315d8a8901d0"
      },
      "outputs": [],
      "source": [
        "# Interpret the beta value\n",
        "if beta > 1:\n",
        "    volatility = \"more volatile than the market\"\n",
        "elif beta < 1:\n",
        "    volatility = \"less volatile than the market\"\n",
        "else:\n",
        "    volatility = \"equally volatile as the market\"\n",
        "\n",
        "print(f\"\\nBeta Interpretation:\")\n",
        "print(f\"The stock {stock_ticker} has a beta of {beta:.4f}, which means it is {volatility}.\")"
      ]
    },
    {
      "cell_type": "code",
      "execution_count": null,
      "metadata": {
        "colab": {
          "base_uri": "https://localhost:8080/",
          "height": 564
        },
        "id": "XKIYxxu-j7_b",
        "outputId": "dca399c0-37d5-4a1b-d969-d398a4be23c3"
      },
      "outputs": [],
      "source": [
        "# Set the plot size\n",
        "plt.figure(figsize=(12, 6))\n",
        "\n",
        "# Create a scatter plot with a regression line\n",
        "sns.regplot(x='Benchmark_Excess_Return', y='Stock_Excess_Return', data=data,\n",
        "            line_kws={'color': 'red'})\n",
        "\n",
        "# Customize the plot\n",
        "plt.title(f'CAPM Regression: {stock_ticker} Excess Returns vs. {benchmark_ticker}')\n",
        "plt.xlabel('Benchmark Excess Returns')\n",
        "plt.ylabel('Stock Excess Returns')\n",
        "\n",
        "# Show the plot\n",
        "plt.show()"
      ]
    },
    {
      "cell_type": "code",
      "execution_count": null,
      "metadata": {
        "colab": {
          "base_uri": "https://localhost:8080/"
        },
        "id": "levZlgg8kf1c",
        "outputId": "7807b243-ab30-4a1b-e811-7ea93ad7fd16"
      },
      "outputs": [],
      "source": [
        "# Print a summary of findings\n",
        "print(\"\\nSummary of Findings:\")\n",
        "print(f\"- The stock {stock_ticker} has an alpha of {alpha:.6f}, suggesting {'outperformance' if alpha > 0 else 'underperformance'} relative to the CAPM prediction.\")\n",
        "print(f\"- A beta of {beta:.4f} indicates that the stock is {volatility}.\")\n",
        "print(f\"- An R-squared of {r_squared:.4f} means that {r_squared*100:.2f}% of the stock's excess returns are explained by the market's excess returns.\")"
      ]
    },
    {
      "cell_type": "markdown",
      "metadata": {
        "id": "18XkILBiwjGi"
      },
      "source": [
        "Copilot was used for assistance with code generation"
      ]
    }
  ],
  "metadata": {
    "colab": {
      "provenance": []
    },
    "kernelspec": {
      "display_name": "Python 3",
      "name": "python3"
    },
    "language_info": {
      "name": "python"
    }
  },
  "nbformat": 4,
  "nbformat_minor": 0
}
