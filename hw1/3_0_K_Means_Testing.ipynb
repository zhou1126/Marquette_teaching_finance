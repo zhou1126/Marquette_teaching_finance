{
  "cells": [
    {
      "cell_type": "code",
      "execution_count": null,
      "metadata": {
        "colab": {
          "base_uri": "https://localhost:8080/"
        },
        "id": "xy9oDvvPTRJd",
        "outputId": "358fa5e5-9aa0-4279-90da-773b86e371f1"
      },
      "outputs": [],
      "source": [
        "# Install required libraries (only needed if they aren't already installed)\n",
        "!pip install yfinance\n",
        "!pip install seaborn\n",
        "!pip install scikit-learn\n",
        "\n",
        "# Import libraries\n",
        "import yfinance as yf\n",
        "import pandas as pd\n",
        "import numpy as np\n",
        "from datetime import datetime\n",
        "from scipy.stats import skew, kurtosis\n",
        "import matplotlib.pyplot as plt\n",
        "import seaborn as sns\n",
        "from sklearn.cluster import KMeans\n",
        "from sklearn.preprocessing import StandardScaler\n",
        "\n",
        "# Optional: Configure matplotlib for Jupyter Notebook\n",
        "%matplotlib inline"
      ]
    },
    {
      "cell_type": "code",
      "execution_count": null,
      "metadata": {
        "id": "T1NJTOrrms8R"
      },
      "outputs": [],
      "source": [
        "# Define the stock tickers from different sectors\n",
        "tickers = ['AAPL',  # Apple Inc.\n",
        "           'MSFT',  # Microsoft Corporation\n",
        "           'AMZN',  # Amazon.com, Inc.\n",
        "           'TSLA',  # Tesla, Inc.\n",
        "           'BAC',   # Bank of America.\n",
        "           'LYV',   # Live Nation\n",
        "           'PFE',   # Pfizer Inc.\n",
        "           'ASB',   # Associated Bank\n",
        "           'XOM',   # Exxon Mobil Corporation\n",
        "           'NVDA',  # NVIDIA Corporation\n",
        "           'META']  # Meta Platforms, Inc. (formerly Facebook)\n",
        "\n",
        "# Define the date range for the past 3 years\n",
        "end_date = datetime.now()\n",
        "start_date = end_date - pd.DateOffset(years=3)"
      ]
    },
    {
      "cell_type": "code",
      "execution_count": null,
      "metadata": {
        "colab": {
          "base_uri": "https://localhost:8080/"
        },
        "id": "q168s40tmu2e",
        "outputId": "e90b29e8-70c9-4e43-b588-337196a77608"
      },
      "outputs": [],
      "source": [
        "# Download stock data\n",
        "data = yf.download(tickers, start=start_date, end=end_date)\n",
        "\n",
        "# Check if 'Adj Close' is available\n",
        "if 'Adj Close' in data.columns.get_level_values(0):\n",
        "    # Use Adjusted Close prices\n",
        "    data = data['Adj Close']\n",
        "elif 'Close' in data.columns.get_level_values(0):\n",
        "    # Use Close prices\n",
        "    print(\"'Adj Close' not available. Using 'Close' prices instead.\")\n",
        "    data = data['Close']\n",
        "else:\n",
        "    raise KeyError(\"Neither 'Adj Close' nor 'Close' found in the downloaded data.\")\n",
        "\n",
        "# Display the first few rows to verify\n",
        "print(\"Price Data:\")\n",
        "print(data.head())"
      ]
    },
    {
      "cell_type": "code",
      "execution_count": null,
      "metadata": {
        "colab": {
          "base_uri": "https://localhost:8080/"
        },
        "id": "pjZgg8-7mwzJ",
        "outputId": "7c68997d-3558-4337-ce50-911260169400"
      },
      "outputs": [],
      "source": [
        "# Calculate daily returns for each stock\n",
        "returns = data.pct_change().dropna()\n",
        "\n",
        "# Display the first few rows of returns\n",
        "print(\"Daily Returns:\")\n",
        "print(returns.head())"
      ]
    },
    {
      "cell_type": "code",
      "execution_count": null,
      "metadata": {
        "colab": {
          "base_uri": "https://localhost:8080/"
        },
        "id": "6O760lOuoOIF",
        "outputId": "2b225eca-5801-4fae-9529-fa60a118619c"
      },
      "outputs": [],
      "source": [
        "# Initialize a DataFrame to hold summary statistics\n",
        "stats_df = pd.DataFrame(columns=['Mean', 'StdDev', 'Skewness', 'Kurtosis'])\n",
        "\n",
        "# Calculate summary statistics for each stock\n",
        "for ticker in tickers:\n",
        "    stock_returns = returns[ticker]\n",
        "    stats_df.loc[ticker, 'Mean'] = stock_returns.mean()\n",
        "    stats_df.loc[ticker, 'StdDev'] = stock_returns.std()\n",
        "    stats_df.loc[ticker, 'Skewness'] = skew(stock_returns)\n",
        "    stats_df.loc[ticker, 'Kurtosis'] = kurtosis(stock_returns)\n",
        "\n",
        "# Convert columns to numeric\n",
        "stats_df = stats_df.apply(pd.to_numeric)\n",
        "\n",
        "# Display the summary statistics\n",
        "print(\"Summary Statistics:\")\n",
        "print(stats_df)"
      ]
    },
    {
      "cell_type": "code",
      "execution_count": null,
      "metadata": {
        "colab": {
          "base_uri": "https://localhost:8080/"
        },
        "id": "UxddoI1joQAp",
        "outputId": "83cc8f0e-8f41-4e50-efcc-ff56965a1505"
      },
      "outputs": [],
      "source": [
        "# Prepare the data for clustering\n",
        "features = ['Mean', 'StdDev', 'Skewness', 'Kurtosis']\n",
        "X = stats_df[features]\n",
        "\n",
        "# Normalize the features\n",
        "scaler = StandardScaler()\n",
        "scaled_features = scaler.fit_transform(X)\n",
        "\n",
        "# Create a DataFrame of the scaled features\n",
        "scaled_stats_df = pd.DataFrame(scaled_features, index=stats_df.index, columns=features)\n",
        "\n",
        "# Display the scaled features\n",
        "print(\"Scaled Features:\")\n",
        "print(scaled_stats_df)"
      ]
    },
    {
      "cell_type": "code",
      "execution_count": null,
      "metadata": {
        "colab": {
          "base_uri": "https://localhost:8080/"
        },
        "id": "kpuRJVs5oRmN",
        "outputId": "c6e86cc5-f0b5-455f-a7c3-2fddeb9ac61d"
      },
      "outputs": [],
      "source": [
        "# Define the number of clusters\n",
        "num_clusters = 3\n",
        "\n",
        "# Apply K-Means clustering\n",
        "kmeans = KMeans(n_clusters=num_clusters, random_state=42)\n",
        "kmeans.fit(scaled_features)\n",
        "\n",
        "# Assign cluster labels to the stocks\n",
        "stats_df['Cluster'] = kmeans.labels_\n",
        "\n",
        "# Display the clusters\n",
        "print(\"Cluster Assignments:\")\n",
        "print(stats_df['Cluster'])\n"
      ]
    },
    {
      "cell_type": "code",
      "execution_count": null,
      "metadata": {
        "colab": {
          "base_uri": "https://localhost:8080/",
          "height": 696
        },
        "id": "4vAJdi9LoZ4g",
        "outputId": "a1a26695-2a30-4496-dfad-3f6da0fc9a2c"
      },
      "outputs": [],
      "source": [
        "# Assign colors to clusters\n",
        "cluster_colors = {0: 'red', 1: 'green', 2: 'blue'}\n",
        "stats_df['Color'] = stats_df['Cluster'].map(cluster_colors)\n",
        "\n",
        "# Create a scatter plot (Mean Return vs. Standard Deviation)\n",
        "plt.figure(figsize=(10, 7))\n",
        "\n",
        "for cluster in range(num_clusters):\n",
        "    clustered_data = stats_df[stats_df['Cluster'] == cluster]\n",
        "    plt.scatter(clustered_data['StdDev'], clustered_data['Mean'],\n",
        "                color=cluster_colors[cluster], label=f'Cluster {cluster}', s=100)\n",
        "\n",
        "# Annotate each point with the stock ticker\n",
        "for i in range(len(stats_df)):\n",
        "    plt.annotate(stats_df.index[i],\n",
        "                 (stats_df['StdDev'][i], stats_df['Mean'][i]),\n",
        "                 textcoords=\"offset points\", xytext=(0,10), ha='center')\n",
        "\n",
        "plt.xlabel('Standard Deviation (Volatility)')\n",
        "plt.ylabel('Mean Daily Return')\n",
        "plt.title('Clustering of Stocks Based on Return Characteristics')\n",
        "plt.legend()\n",
        "plt.grid(True)\n",
        "plt.show()"
      ]
    },
    {
      "cell_type": "code",
      "execution_count": null,
      "metadata": {
        "colab": {
          "base_uri": "https://localhost:8080/"
        },
        "id": "1j_jwHEqocEB",
        "outputId": "845a0d6b-32a4-4654-e1d9-2ce782da454d"
      },
      "outputs": [],
      "source": [
        "# Examine the stocks in each cluster\n",
        "for cluster in range(num_clusters):\n",
        "    cluster_stocks = stats_df[stats_df['Cluster'] == cluster].index.tolist()\n",
        "    print(f\"\\nStocks in Cluster {cluster}: {cluster_stocks}\")"
      ]
    },
    {
      "cell_type": "code",
      "execution_count": null,
      "metadata": {
        "colab": {
          "base_uri": "https://localhost:8080/",
          "height": 1000
        },
        "id": "XQzOTg2Moe0g",
        "outputId": "64737112-78d3-4959-c33d-74c283c036b7"
      },
      "outputs": [],
      "source": [
        "# Plot pairwise relationships\n",
        "sns.pairplot(scaled_stats_df.join(stats_df['Cluster']), hue='Cluster', palette=cluster_colors)\n",
        "plt.suptitle('Pairplot of Scaled Summary Statistics Colored by Cluster', y=1.02)\n",
        "plt.show()"
      ]
    },
    {
      "cell_type": "markdown",
      "metadata": {
        "id": "8qZy0mPqZy0y"
      },
      "source": [
        "This grouping makes sense. For instance Nvidia and Tesla are grouped together under the color green. These both have seen the most rapid growth and volatilty of the group.                                                                     Copilot was used to assist with code generation"
      ]
    }
  ],
  "metadata": {
    "colab": {
      "provenance": []
    },
    "kernelspec": {
      "display_name": "Python 3",
      "name": "python3"
    },
    "language_info": {
      "name": "python"
    }
  },
  "nbformat": 4,
  "nbformat_minor": 0
}
