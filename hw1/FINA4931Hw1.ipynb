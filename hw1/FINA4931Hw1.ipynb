{
 "cells": [
  {
   "cell_type": "markdown",
   "metadata": {},
   "source": [
    "Problem 1: CAPM"
   ]
  },
  {
   "cell_type": "code",
   "execution_count": null,
   "metadata": {},
   "outputs": [],
   "source": [
    "import yfinance as yf\n",
    "import pandas as pd\n",
    "import numpy as np\n",
    "import matplotlib.pyplot as plt\n",
    "import statsmodels.api as sm\n",
    "from sklearn.preprocessing import StandardScaler\n",
    "from sklearn.cluster import KMeans\n",
    "from scipy.stats import skew, kurtosis\n",
    "import datetime\n",
    "import requests, zipfile, io"
   ]
  },
  {
   "cell_type": "code",
   "execution_count": null,
   "metadata": {},
   "outputs": [],
   "source": [
    "end_date = datetime.datetime.today()\n",
    "start_date = end_date - datetime.timedelta(days=3*365)"
   ]
  },
  {
   "cell_type": "code",
   "execution_count": null,
   "metadata": {},
   "outputs": [],
   "source": [
    "stock = yf.download(\"AAPL\", start=start_date, end=end_date)\n",
    "market = yf.download(\"^GSPC\", start=start_date, end=end_date)"
   ]
  },
  {
   "cell_type": "code",
   "execution_count": null,
   "metadata": {},
   "outputs": [],
   "source": [
    "stock['Return'] = stock['Close'].pct_change()\n",
    "market['Return'] = market['Close'].pct_change()"
   ]
  },
  {
   "cell_type": "code",
   "execution_count": null,
   "metadata": {},
   "outputs": [],
   "source": [
    "rf_daily = 0.02 / 252"
   ]
  },
  {
   "cell_type": "code",
   "execution_count": null,
   "metadata": {},
   "outputs": [],
   "source": [
    "stock['Excess Return'] = stock['Return'] - rf_daily\n",
    "market['Excess Return'] = market['Return'] - rf_daily"
   ]
  },
  {
   "cell_type": "code",
   "execution_count": null,
   "metadata": {},
   "outputs": [],
   "source": [
    "merged_df = pd.concat([stock['Excess Return'], market['Excess Return']], axis=1).dropna()\n",
    "merged_df.columns = ['Stock Excess Return', 'Market Excess Return']"
   ]
  },
  {
   "cell_type": "code",
   "execution_count": null,
   "metadata": {},
   "outputs": [],
   "source": [
    "X = sm.add_constant(merged_df['Market Excess Return'])\n",
    "y = merged_df['Stock Excess Return']\n",
    "model = sm.OLS(y, X).fit()\n",
    "beta = model.params\n",
    "print(f\"CAPM model APPL: beta is {beta}\")\n",
    "print(model.summary())"
   ]
  },
  {
   "cell_type": "code",
   "execution_count": null,
   "metadata": {},
   "outputs": [],
   "source": [
    "plt.figure(figsize=(10,6))\n",
    "plt.scatter(df['Market Excess Return'], df['Stock Excess Return'], alpha=0.5, label='Data Points')\n",
    "x_vals = np.linspace(df['Market Excess Return'].min(), df['Market Excess Return'].max(), 100)\n",
    "y_vals = capm_model.params[0] + capm_model.params[1] * x_vals\n",
    "plt.plot(x_vals, y_vals, color='red', label='Regression Line')\n",
    "plt.xlabel('Market Excess Return')\n",
    "plt.ylabel('Stock Excess Return')\n",
    "plt.title('CAPM: AAPL vs. Market Excess Returns')\n",
    "plt.legend()\n",
    "plt.show()"
   ]
  },
  {
   "cell_type": "code",
   "execution_count": null,
   "metadata": {},
   "outputs": [],
   "source": [
    "if model.params[1] > 1:\n",
    "    print(\"AAPL is more volatile compared to the market.\")\n",
    "else:\n",
    "    print(\"AAPL is less volatile compared to the market.\")"
   ]
  },
  {
   "cell_type": "markdown",
   "metadata": {},
   "source": [
    "ANALYSIS: AAPL is more volatile compared to the market, which suggests that its results are more susceptible to changes in the market than the market overall. This indicates that AAPL's excess return tends to fluctuate by more than 1% for every 1% change in the market's excess return, indicating increased volatility. Rapid innovation cycles, market sentiment toward technology equities, and the ever-changing competitive environment in which AAPL works are some of the reasons for this increased sensitivity. As a result, even while the market fluctuates somewhat, AAPL's returns show pronounced swings, highlighting its increased intrinsic risk in comparison to the overall market."
   ]
  },
  {
   "cell_type": "markdown",
   "metadata": {},
   "source": [
    "Problem 2: Farma French Three Factor Model"
   ]
  },
  {
   "cell_type": "code",
   "execution_count": null,
   "metadata": {},
   "outputs": [],
   "source": [
    "ff_url = \"http://mba.tuck.dartmouth.edu/pages/faculty/ken.french/ftp/F-F_Research_Data_Factors_daily_CSV.zip\"\n",
    "response = requests.get(ff_url)\n",
    "z = zipfile.ZipFile(io.BytesIO(response.content))\n",
    "csv_filename = [f for f in z.namelist() if f.lower().endswith('.csv')][0]\n",
    "print(\"Extracting file:\", csv_filename)"
   ]
  },
  {
   "cell_type": "code",
   "execution_count": null,
   "metadata": {},
   "outputs": [],
   "source": [
    "ff_df = pd.read_csv(z.open(csv_filename), skiprows=3)\n",
    "ff_df = ff_df[ff_df.iloc[:, 0].apply(lambda x: str(x).strip().isdigit())]\n",
    "ff_df.rename(columns={ff_df.columns[0]: 'Date'}, inplace=True)\n",
    "ff_df['Date'] = pd.to_datetime(ff_df['Date'], format='%Y%m%d')"
   ]
  },
  {
   "cell_type": "code",
   "execution_count": null,
   "metadata": {},
   "outputs": [],
   "source": [
    "\n",
    "for col in ['Mkt-RF', 'SMB', 'HML', 'RF']:\n",
    "    ff_df[col] = pd.to_numeric(ff_df[col], errors='coerce') / 100"
   ]
  },
  {
   "cell_type": "code",
   "execution_count": null,
   "metadata": {},
   "outputs": [],
   "source": [
    "ff_df = ff_df[(ff_df['Date'] >= start_date) & (ff_df['Date'] <= end_date)]\n",
    "ff_df = ff_df.reset_index(drop=True)"
   ]
  },
  {
   "cell_type": "code",
   "execution_count": null,
   "metadata": {},
   "outputs": [],
   "source": [
    "aapl = yf.download(\"AAPL\", start=start_date, end=end_date)\n",
    "aapl['Return'] = aapl['Close'].pct_change()"
   ]
  },
  {
   "cell_type": "code",
   "execution_count": null,
   "metadata": {},
   "outputs": [],
   "source": [
    "aapl = aapl.reset_index()"
   ]
  },
  {
   "cell_type": "code",
   "execution_count": null,
   "metadata": {},
   "outputs": [],
   "source": [
    "if isinstance(aapl.columns, pd.MultiIndex):\n",
    "    aapl.columns = aapl.columns.get_level_values(0)"
   ]
  },
  {
   "cell_type": "code",
   "execution_count": null,
   "metadata": {},
   "outputs": [],
   "source": [
    "aapl['Date'] = pd.to_datetime(aapl['Date'])\n",
    "aapl['Date'] = aapl['Date'].dt.normalize()"
   ]
  },
  {
   "cell_type": "code",
   "execution_count": null,
   "metadata": {},
   "outputs": [],
   "source": [
    "if isinstance(ff_df.columns, pd.MultiIndex):\n",
    "    ff_df.columns = ff_df.columns.get_level_values(0)\n",
    "ff_df['Date'] = pd.to_datetime(ff_df['Date'])\n",
    "ff_df['Date'] = ff_df['Date'].dt.normalize()"
   ]
  },
  {
   "cell_type": "code",
   "execution_count": null,
   "metadata": {},
   "outputs": [],
   "source": [
    "merged_ff = pd.merge(aapl[['Date', 'Return']], ff_df, on='Date', how='inner')\n",
    "merged_ff = merged_ff.dropna()\n",
    "merged_ff.set_index('Date', inplace=True)"
   ]
  },
  {
   "cell_type": "code",
   "execution_count": null,
   "metadata": {},
   "outputs": [],
   "source": [
    "merged_ff['Excess Return'] = merged_ff['Return'] - merged_ff['RF']"
   ]
  },
  {
   "cell_type": "code",
   "execution_count": null,
   "metadata": {},
   "outputs": [],
   "source": [
    "X_ff = merged_ff[['Mkt-RF', 'SMB', 'HML']]\n",
    "X_ff = sm.add_constant(X_ff)\n",
    "y_ff = merged_ff['Excess Return']"
   ]
  },
  {
   "cell_type": "code",
   "execution_count": null,
   "metadata": {},
   "outputs": [],
   "source": [
    "ff_model = sm.OLS(y_ff, X_ff).fit()\n"
   ]
  },
  {
   "cell_type": "code",
   "execution_count": null,
   "metadata": {},
   "outputs": [],
   "source": [
    "ff_model = sm.OLS(y_ff, X_ff).fit()\n",
    "\n",
    "print(\"\\nFama-French Three-Factor Model Regression Results:\")\n",
    "print(ff_model.summary())"
   ]
  },
  {
   "cell_type": "code",
   "execution_count": null,
   "metadata": {},
   "outputs": [],
   "source": [
    "coefficients = ff_model.params\n",
    "r_squared = ff_model.rsquared"
   ]
  },
  {
   "cell_type": "code",
   "execution_count": null,
   "metadata": {},
   "outputs": [],
   "source": [
    "print(\"\\nRegression Coefficients:\")\n",
    "print(coefficients)\n",
    "print(\"\\nR-squared:\")\n",
    "print(r_squared)"
   ]
  },
  {
   "cell_type": "markdown",
   "metadata": {},
   "source": [
    "ANALYSIS: The CAPM model explains about 58.3% of the variation in AAPL's excess returns, while the Fama‑French model explains 62.6%, indicating that including the SMB and HML factors provides an additional 4.3% of explanatory power. The negative SMB coefficient (-0.265735) indicates that AAPL's excess return tends to decline when small-cap stocks perform better than large-cap stocks, confirming that AAPL acts like a large-cap company. In a similar vein, the negative HML coefficient (-0.330) shows that AAPL's return decreases when value firms (with high book-to-market ratios) beat growth stocks. This is consistent with AAPL's traits as a company focused on growth. All things considered, these findings suggest that although market fluctuations are the main source of AAPL's returns, size and value considerations offer some more context, with AAPL's large-cap and growth traits clearly seen in its negative exposure to both SMB and HML."
   ]
  },
  {
   "cell_type": "markdown",
   "metadata": {},
   "source": [
    "Problem 3: Clustering Stocks"
   ]
  },
  {
   "cell_type": "code",
   "execution_count": null,
   "metadata": {},
   "outputs": [],
   "source": [
    "end_date = datetime.datetime.today()\n",
    "start_date = end_date - datetime.timedelta(days=1095)"
   ]
  },
  {
   "cell_type": "code",
   "execution_count": null,
   "metadata": {},
   "outputs": [],
   "source": [
    "stocks = [\"AAPL\", \"MSFT\", \"AMZN\", \"TSLA\", \"JPM\", \"PFE\", \"KO\", \"XOM\", \"NVDA\", \"META\"]"
   ]
  },
  {
   "cell_type": "code",
   "execution_count": null,
   "metadata": {},
   "outputs": [],
   "source": [
    "data = yf.download(stocks, start=start_date, end=end_date)['Close']"
   ]
  },
  {
   "cell_type": "code",
   "execution_count": null,
   "metadata": {},
   "outputs": [],
   "source": [
    "returns = data.pct_change().dropna()"
   ]
  },
  {
   "cell_type": "code",
   "execution_count": null,
   "metadata": {},
   "outputs": [],
   "source": [
    "stats_df = pd.DataFrame(index=stocks, columns=['Mean Return', 'Std Dev', 'Skewness', 'Kurtosis'])\n",
    "for stock in stocks:\n",
    "    stats_df.loc[stock, 'Mean Return'] = returns[stock].mean()\n",
    "    stats_df.loc[stock, 'Std Dev'] = returns[stock].std()\n",
    "    stats_df.loc[stock, 'Skewness'] = skew(returns[stock])\n",
    "    stats_df.loc[stock, 'Kurtosis'] = kurtosis(returns[stock])\n",
    "stats_df = stats_df.astype(float)"
   ]
  },
  {
   "cell_type": "code",
   "execution_count": null,
   "metadata": {},
   "outputs": [],
   "source": [
    "print(\"Summary Statistics for Stocks:\")\n",
    "print(stats_df)"
   ]
  },
  {
   "cell_type": "code",
   "execution_count": null,
   "metadata": {},
   "outputs": [],
   "source": [
    "scaler = StandardScaler()\n",
    "stats_normalized = scaler.fit_transform(stats_df)"
   ]
  },
  {
   "cell_type": "code",
   "execution_count": null,
   "metadata": {},
   "outputs": [],
   "source": [
    "kmeans = KMeans(n_clusters=3, random_state=42, n_init=10)\n",
    "clusters = kmeans.fit_predict(stats_normalized)\n",
    "stats_df['Cluster'] = clusters"
   ]
  },
  {
   "cell_type": "code",
   "execution_count": null,
   "metadata": {},
   "outputs": [],
   "source": [
    "plt.figure(figsize=(10,6))\n",
    "colors = ['red', 'green', 'blue']\n",
    "for cluster in range(3):\n",
    "    cluster_data = stats_df[stats_df['Cluster'] == cluster]\n",
    "    plt.scatter(cluster_data['Std Dev'], cluster_data['Mean Return'],\n",
    "                color=colors[cluster], s=100, label=f'Cluster {cluster}')\n",
    "    for stock in cluster_data.index:\n",
    "        plt.text(cluster_data.loc[stock, 'Std Dev'], cluster_data.loc[stock, 'Mean Return'], \n",
    "                 stock, fontsize=9)\n",
    "plt.xlabel('Standard Deviation of Returns')\n",
    "plt.ylabel('Mean Return')\n",
    "plt.title('Clustering of Stocks: Mean Return vs. Standard Deviation')\n",
    "plt.legend()\n",
    "plt.show()"
   ]
  },
  {
   "cell_type": "markdown",
   "metadata": {},
   "source": [
    "ANALYSIS: The clustering results suggest distinct groupings based on risk and return characteristics. Cluster 0, which includes NVDA and TSLA, is characterized by the highest standard deviations and relatively high mean returns. According to their profiles as high-growth, tech-driven businesses, this suggests that these two stocks are more erratic and have the potential for larger gains. On the other hand, most of the stocks in Cluster 1, including XOM, JPM, and MSFT, show lower mean returns and lower volatility. This cluster likely represents more mature or stable companies with less aggressive growth profiles. Interestingly, within this cluster, XOM, JPM, and MSFT are particularly close together, suggesting they share similar return and risk dynamics. Cluster 2, which is represented solely by META, falls between the other clusters in terms of both mean return and standard deviation. This suggests that while META shows high return potential and risk, its profile is distinct enough to separate it from both the high-growth stocks of Cluster 0 and the more stable stocks of Cluster 1. Overall, the clustering highlights that NVDA and TSLA are outliers in terms of volatility and return, while the majority of stocks, including the closely grouped XOM, JPM, and MSFT, exhibit more moderate behavior, and META occupies an intermediate position."
   ]
  }
 ],
 "metadata": {
  "kernelspec": {
   "display_name": "Python 3",
   "language": "python",
   "name": "python3"
  },
  "language_info": {
   "codemirror_mode": {
    "name": "ipython",
    "version": 3
   },
   "file_extension": ".py",
   "mimetype": "text/x-python",
   "name": "python",
   "nbconvert_exporter": "python",
   "pygments_lexer": "ipython3",
   "version": "3.13.2"
  }
 },
 "nbformat": 4,
 "nbformat_minor": 2
}
