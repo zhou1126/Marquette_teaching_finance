{
 "cells": [
  {
   "cell_type": "code",
   "execution_count": null,
   "metadata": {
    "_cell_guid": "b1076dfc-b9ad-4769-8c92-a6c4dae69d19",
    "_uuid": "8f2839f25d086af736a60e9eeb907d3b93b6e0e5",
    "trusted": true
   },
   "outputs": [],
   "source": [
    "# This Python 3 environment comes with many helpful analytics libraries installed\n",
    "# It is defined by the kaggle/python Docker image: https://github.com/kaggle/docker-python\n",
    "# For example, here's several helpful packages to load\n",
    "\n",
    "import numpy as np # linear algebra\n",
    "import pandas as pd # data processing, CSV file I/O (e.g. pd.read_csv)\n",
    "\n",
    "# Input data files are available in the read-only \"../input/\" directory\n",
    "# For example, running this (by clicking run or pressing Shift+Enter) will list all files under the input directory\n",
    "\n",
    "import os\n",
    "for dirname, _, filenames in os.walk('/kaggle/input'):\n",
    "    for filename in filenames:\n",
    "        print(os.path.join(dirname, filename))\n",
    "\n",
    "# You can write up to 20GB to the current directory (/kaggle/working/) that gets preserved as output when you create a version using \"Save & Run All\" \n",
    "# You can also write temporary files to /kaggle/temp/, but they won't be saved outside of the current session"
   ]
  },
  {
   "cell_type": "code",
   "execution_count": null,
   "metadata": {
    "execution": {
     "iopub.execute_input": "2025-02-14T21:18:01.036163Z",
     "iopub.status.busy": "2025-02-14T21:18:01.035773Z",
     "iopub.status.idle": "2025-02-14T21:18:01.749099Z",
     "shell.execute_reply": "2025-02-14T21:18:01.747303Z",
     "shell.execute_reply.started": "2025-02-14T21:18:01.036133Z"
    },
    "trusted": true
   },
   "outputs": [],
   "source": [
    "\n",
    "import pandas as pd\n",
    "import yfinance as yf\n",
    "\n",
    "apple = yf.download('AAPL', \n",
    "                      start='1980-12-12', \n",
    "                      end='2022-03-18', \n",
    "                      progress=True,\n",
    ")\n",
    "apple.to_csv('Apple Stock Price.csv')\n",
    "\n",
    "\n",
    "import yfinance as yf\n",
    "import pandas as pd\n",
    "import numpy as np\n",
    "import statsmodels.api as sm\n",
    "import matplotlib.pyplot as plt\n",
    "\n",
    "\n",
    "# Daily Returns\n",
    "stock_returns = stock_data.pct_change().dropna()\n",
    "index_returns = index_data.pct_change().dropna()\n",
    "\n",
    "# Align Data using concat with explicit index\n",
    "returns_df = pd.concat([stock_returns, index_returns], axis=1, keys=['Stock', 'Market'])\n",
    "\n",
    "# Ensure data is not empty after cleaning\n",
    "if returns_df.empty:\n",
    "    raise ValueError(\"Returns data is empty after alignment. Check data sources.\")\n",
    "\n",
    "# Excess Returns\n",
    "returns_df[\"Stock_Excess\"] = returns_df[\"Stock\"] - risk_free_rate\n",
    "returns_df[\"Market_Excess\"] = returns_df[\"Market\"] - risk_free_rate\n",
    "\n",
    "# CAPM Estimation\n",
    "X = returns_df[\"Market_Excess\"]\n",
    "Y = returns_df[\"Stock_Excess\"]\n",
    "X = sm.add_constant(X)\n",
    "\n",
    "# Run Regression\n",
    "model = sm.OLS(Y, X).fit()\n",
    "\n",
    "# Output Results\n",
    "alpha, beta = model.params\n",
    "r_squared = model.rsquared\n",
    "print(f\"Alpha: {alpha:.6f}\")\n",
    "print(f\"Beta: {beta:.6f}\")\n",
    "print(f\"R-squared: {r_squared:.4f}\")\n",
    "\n",
    "# Regression Line\n",
    "plt.figure(figsize=(10, 6))\n",
    "plt.scatter(returns_df[\"Market_Excess\"], returns_df[\"Stock_Excess\"], alpha=0.5, label=\"Data Points\")\n",
    "plt.plot(returns_df[\"Market_Excess\"], model.predict(X), color='red', label=f\"CAPM Regression (Beta={beta:.2f})\")\n",
    "plt.axhline(0, color='black', linewidth=0.5, linestyle='--')\n",
    "plt.axvline(0, color='black', linewidth=0.5, linestyle='--')\n",
    "plt.xlabel(\"Market Excess Return\")\n",
    "plt.ylabel(\"Stock Excess Return\")\n",
    "plt.title(f\"CAPM Regression: {stock_ticker} vs. {index_ticker}\")\n",
    "plt.legend()\n",
    "plt.show()\n",
    "\n"
   ]
  },
  {
   "cell_type": "code",
   "execution_count": null,
   "metadata": {
    "execution": {
     "iopub.execute_input": "2025-02-14T21:29:44.180875Z",
     "iopub.status.busy": "2025-02-14T21:29:44.180470Z",
     "iopub.status.idle": "2025-02-14T21:29:44.185259Z",
     "shell.execute_reply": "2025-02-14T21:29:44.183981Z",
     "shell.execute_reply.started": "2025-02-14T21:29:44.180847Z"
    },
    "trusted": true
   },
   "outputs": [],
   "source": [
    "#The Beta of 1.28 tells us that APPL is more volatile than the market. \n",
    "#This means that when the market moves 1%, APPL will move 1.28%. \n",
    "#APPL has greater potential returns during market upswings while gaving greater risk during market downswings."
   ]
  },
  {
   "cell_type": "code",
   "execution_count": null,
   "metadata": {
    "execution": {
     "iopub.execute_input": "2025-02-14T21:45:46.786782Z",
     "iopub.status.busy": "2025-02-14T21:45:46.786377Z",
     "iopub.status.idle": "2025-02-14T21:45:48.110650Z",
     "shell.execute_reply": "2025-02-14T21:45:48.109628Z",
     "shell.execute_reply.started": "2025-02-14T21:45:46.786752Z"
    },
    "trusted": true
   },
   "outputs": [],
   "source": [
    "import pandas as pd\n",
    "import numpy as np\n",
    "import statsmodels.api as sm\n",
    "import yfinance as yf\n",
    "import matplotlib.pyplot as plt\n",
    "\n",
    "# Retrieve Fama-French Data\n",
    "ff_url = \"https://mba.tuck.dartmouth.edu/pages/faculty/ken.french/ftp/F-F_Research_Data_Factors_daily_CSV.zip\"\n",
    "ff_data = pd.read_csv(ff_url, compression='zip', skiprows=3, index_col=0)\n",
    "ff_data = ff_data.iloc[:-1]\n",
    "ff_data.index = pd.to_datetime(ff_data.index, format='%Y%m%d')\n",
    "ff_data = ff_data.astype(float) / 100\n",
    "\n",
    "# Retrieve Stock Data\n",
    "stock_ticker = \"AAPL\"\n",
    "start_date, end_date = \"2020-01-01\", \"2023-12-31\"\n",
    "stock_data = yf.download(stock_ticker, start=start_date, end=end_date)\n",
    "stock_data['Daily Return'] = stock_data['Adj Close'].pct_change()\n",
    "\n",
    "# Handling NaN values\n",
    "stock_data = stock_data.fillna(0)  \n",
    "ff_data = ff_data.fillna(0) \n",
    "\n",
    "# Compute Excess Returns\n",
    "risk_free = ff_data['RF'].reindex(stock_data.index).dropna()\n",
    "excess_return = stock_data['Daily Return'].dropna() - risk_free\n",
    "\n",
    "# Prepare Independent Variables\n",
    "ff_factors = ff_data[['Mkt-RF', 'SMB', 'HML']].reindex(excess_return.index).dropna()\n",
    "X = sm.add_constant(ff_factors)  \n",
    "Y = excess_return.loc[X.index]  \n",
    "\n",
    "# Run Regression Model\n",
    "model = sm.OLS(Y, X).fit()\n",
    "\n",
    "# Display Results\n",
    "print(model.summary())\n",
    "\n",
    "# Compare R-squared with CAPM\n",
    "capm_model = sm.OLS(Y, sm.add_constant(ff_factors[['Mkt-RF']])).fit()\n",
    "print(f\"CAPM R-squared: {capm_model.rsquared:.4f}\")\n",
    "print(f\"Three-Factor Model R-squared: {model.rsquared:.4f}\")\n",
    "\n",
    "# Interpret Coefficients\n",
    "print(f\"Alpha: {model.params.iloc[0]:.6f}\") \n",
    "print(f\"Beta (MKT): {model.params['Mkt-RF']:.4f}\")\n",
    "print(f\"SMB Coefficient: {model.params['SMB']:.4f} (Size Effect)\")\n",
    "print(f\"HML Coefficient: {model.params['HML']:.4f} (Value Effect)\")\n",
    "\n",
    "\n",
    "# Regression\n",
    "plt.figure(figsize=(10, 6))\n",
    "plt.scatter(ff_factors['Mkt-RF'], excess_return, alpha=0.5, label=\"Data Points\")\n",
    "plt.plot(ff_factors['Mkt-RF'], model.predict(X), color='red', label=f\"Regression Line\")\n",
    "plt.xlabel(\"Market Risk Premium (Mkt-RF)\")\n",
    "plt.ylabel(\"Excess Return\")\n",
    "plt.title(f\"Fama-French Three-Factor Model Regression: {stock_ticker}\")\n",
    "plt.legend()\n",
    "plt.show()"
   ]
  },
  {
   "cell_type": "code",
   "execution_count": null,
   "metadata": {
    "execution": {
     "iopub.execute_input": "2025-02-14T21:55:18.941642Z",
     "iopub.status.busy": "2025-02-14T21:55:18.940994Z",
     "iopub.status.idle": "2025-02-14T21:55:18.946825Z",
     "shell.execute_reply": "2025-02-14T21:55:18.945501Z",
     "shell.execute_reply.started": "2025-02-14T21:55:18.941583Z"
    },
    "trusted": true
   },
   "outputs": [],
   "source": [
    "#Due to the increase in independant variables and new information, the Fama-French model better explains excess returns and therefore has the higher R-squared.\n",
    "#Due to the negative values of SMB and HML, it seems as though Apple acts as both a growth stock and large-cap stock. "
   ]
  }
 ],
 "metadata": {
  "kaggle": {
   "accelerator": "none",
   "dataSources": [],
   "dockerImageVersionId": 30886,
   "isGpuEnabled": false,
   "isInternetEnabled": true,
   "language": "python",
   "sourceType": "notebook"
  },
  "kernelspec": {
   "display_name": "Python 3",
   "language": "python",
   "name": "python3"
  },
  "language_info": {
   "codemirror_mode": {
    "name": "ipython",
    "version": 3
   },
   "file_extension": ".py",
   "mimetype": "text/x-python",
   "name": "python",
   "nbconvert_exporter": "python",
   "pygments_lexer": "ipython3",
   "version": "3.10.12"
  }
 },
 "nbformat": 4,
 "nbformat_minor": 4
}
