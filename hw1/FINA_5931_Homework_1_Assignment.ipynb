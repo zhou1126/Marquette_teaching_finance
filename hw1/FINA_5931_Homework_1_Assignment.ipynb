{
  "cells": [
    {
      "cell_type": "markdown",
      "metadata": {
        "id": "7ryBAdqIMD6J"
      },
      "source": [
        "FROM GROUP 1 = Jay Capozzoli, Sufyan Haroon, Noah Severin"
      ]
    },
    {
      "cell_type": "markdown",
      "metadata": {
        "id": "mR3V6sLSLME8"
      },
      "source": [
        "Submission Instructions: - Submit a Jupyter Notebook with the complete code and analysis\n",
        "for all three problems. - Ensure that plots are labeled appropriately, and all assumptions and\n",
        "interpretations are clearly stated."
      ]
    },
    {
      "cell_type": "markdown",
      "metadata": {
        "id": "_zobtRK-KM1P"
      },
      "source": [
        "1.1 Problem 1: CAPM Model\n",
        "Objective: Estimate the beta of a stock using the CAPM model and analyze its performance.\n",
        "1.1.1 Steps:\n",
        "1. Data Retrieval:\n",
        "• Use the Yahoo Finance API to download daily adjusted closing prices for the stock of\n",
        "your choice (e.g., AAPL) and a benchmark index (e.g., S&P 500) for the past 3 years.\n",
        "2. Excess Returns:\n",
        "• Download risk-free rate data from a reliable source (e.g., FRED) or use a constant risk-\n",
        "free rate (e.g., 2% annualized).\n",
        "• Calculate daily excess returns for both the stock and the index.\n",
        "3. CAPM Estimation:\n",
        "• Perform a linear regression with the stock’s excess returns as the dependent variable and\n",
        "the index’s excess returns as the independent variable.\n",
        "• Report the beta, alpha, and R-squared values.\n",
        "4. Analysis:\n",
        "• Interpret the beta and explain whether the stock is more or less volatile compared to\n",
        "the market.\n",
        "• Plot the regression line along with the scatterplot of excess returns."
      ]
    },
    {
      "cell_type": "code",
      "execution_count": null,
      "metadata": {
        "id": "9Q7F9h7GKRxy"
      },
      "outputs": [],
      "source": [
        "## PROBLEM 1 Solution Code (JAY)\n"
      ]
    },
    {
      "cell_type": "code",
      "execution_count": null,
      "metadata": {
        "colab": {
          "base_uri": "https://localhost:8080/",
          "height": 653
        },
        "id": "To2k5hob38H7",
        "outputId": "8243d8da-0ce2-451f-83f6-e3f0577912a9"
      },
      "outputs": [],
      "source": [
        "import yfinance as yf\n",
        "import pandas as pd\n",
        "import numpy as np\n",
        "from datetime import datetime, timedelta # Import timedelta\n",
        "import statsmodels.api as sm\n",
        "import matplotlib.pyplot as plt\n",
        "from sklearn.metrics import mean_absolute_error, mean_absolute_percentage_error\n",
        "import seaborn as sns\n",
        "from sklearn.preprocessing import StandardScaler\n",
        "from sklearn.cluster import KMeans\n",
        "\n",
        "\n",
        "# Define start and end date manually for a fixed range (past 3 years)\n",
        "end_date = datetime.today()\n",
        "start_date = end_date - timedelta(days=3*365) # Now timedelta is defined\n",
        "\n",
        "# Convert to string format for Yahoo Finance API\n",
        "end_date_str = end_date.strftime('2024-12-31')\n",
        "start_date_str = start_date.strftime('2022-01-01')\n",
        "\n",
        "# Download Tesla (TSLA) and S&P 500 (^GSPC) data\n",
        "tsla_data = yf.download('TSLA', start=start_date_str, end=end_date_str)\n",
        "sp500_data = yf.download('^GSPC', start=start_date_str, end=end_date_str)\n",
        "\n",
        "# Instead of searching for various column names, directly use 'Close'\n",
        "# which is likely present and squeeze to ensure 1-dimensional Series\n",
        "tsla = tsla_data['Close'].squeeze()\n",
        "sp500 = sp500_data['Close'].squeeze()\n",
        "\n",
        "# Combine into a DataFrame\n",
        "data = pd.DataFrame({'Date': tsla.index, 'TSLA': tsla, 'SP500': sp500})\n",
        "data.set_index('Date', inplace=True)\n",
        "\n",
        "# Drop missing values\n",
        "data.dropna(inplace=True)\n",
        "\n",
        "# Compute daily returns\n",
        "data['TSLA_ret'] = data['TSLA'].pct_change()\n",
        "data['SP500_ret'] = data['SP500'].pct_change()\n",
        "\n",
        "# Drop missing values (from first NaN row)\n",
        "data.dropna(inplace=True)\n",
        "\n",
        "# Assume a constant annual risk-free rate of 2% (converted to daily)\n",
        "risk_free_rate = 0.02 / 252  # Convert annualized rate to daily\n",
        "\n",
        "# Compute excess returns\n",
        "data['TSLA_excess'] = data['TSLA_ret'] - risk_free_rate\n",
        "data['SP500_excess'] = data['SP500_ret'] - risk_free_rate\n",
        "\n",
        "# Define independent (market excess return) and dependent (stock excess return) variables\n",
        "X = sm.add_constant(data['SP500_excess'])  # Add alpha (constant)\n",
        "y = data['TSLA_excess']\n",
        "\n",
        "# Run regression\n",
        "model = sm.OLS(y, X).fit()\n",
        "\n",
        "# Get beta, alpha, and R-squared\n",
        "alpha, beta = model.params\n",
        "r_squared = model.rsquared\n",
        "\n",
        "# Print results\n",
        "print(f\"Alpha (Intercept): {alpha:.6f}\")\n",
        "print(f\"Beta (Market Exposure): {beta:.4f}\")\n",
        "print(f\"R-Squared: {r_squared:.4f}\")\n",
        "\n",
        "# Plot regression line and scatterplot\n",
        "plt.figure(figsize=(8,6))\n",
        "\n",
        "# Scatterplot of excess returns\n",
        "plt.scatter(data['SP500_excess'], data['TSLA_excess'], alpha=0.5, label='Excess Returns')\n",
        "\n",
        "# Regression Line\n",
        "x_range = np.linspace(data['SP500_excess'].min(), data['SP500_excess'].max(), 100)\n",
        "y_range = alpha + beta * x_range\n",
        "plt.plot(x_range, y_range, color='red', label='CAPM Regression Line')\n",
        "\n",
        "# Labels\n",
        "plt.xlabel('S&P 500 Excess Return')\n",
        "plt.ylabel('TSLA Excess Return')\n",
        "plt.title('CAPM Regression for TSLA ;)')\n",
        "plt.legend()\n",
        "plt.grid()\n",
        "plt.show()"
      ]
    },
    {
      "cell_type": "markdown",
      "metadata": {
        "id": "_LsuytgORbth"
      },
      "source": [
        "Analysis: Teslas beta = 1.9558. this means tesla is more volatile than the market, suggesting it moves around twice as much as the S&P500. This means higher potential gains, but also can mean bigger losses."
      ]
    },
    {
      "cell_type": "markdown",
      "metadata": {
        "id": "qHQK9-YoKYrz"
      },
      "source": [
        "1.2 Problem 2: Fama-French Three-Factor Model\n",
        "Objective: Extend the analysis to the Fama-French Three-Factor Model.\n",
        "1.2.1 Steps:\n",
        "1. Data Retrieval:\n",
        "• Download the Fama-French daily factors (MKT, SMB, and HML) from Kenneth French’s\n",
        "website or another reliable source.\n",
        "2. Excess Returns:\n",
        "• Use the same stock as in Problem 1 and calculate its daily excess returns.\n",
        "3. Model Estimation:\n",
        "1\n",
        "• Perform a multiple linear regression with the stock’s excess returns as the dependent\n",
        "variable and the three factors (MKT, SMB, HML) as independent variables.\n",
        "• Report the coeﬀicients, alpha, and R-squared values.\n",
        "4. Analysis:\n",
        "• Compare the R-squared values of the CAPM and Three-Factor Model.\n",
        "• Interpret the SMB and HML coeﬀicients to discuss size and value effects."
      ]
    },
    {
      "cell_type": "code",
      "execution_count": null,
      "metadata": {
        "id": "PKdvPtABKewZ"
      },
      "outputs": [],
      "source": [
        "## Problem 2 Solution Code (NOAH)"
      ]
    },
    {
      "cell_type": "code",
      "execution_count": null,
      "metadata": {
        "colab": {
          "base_uri": "https://localhost:8080/"
        },
        "id": "TwrAaknUH3zh",
        "outputId": "24d5d3db-a878-4797-86e9-6ee298803f62"
      },
      "outputs": [],
      "source": [
        "# Step 1: Fetch Data\n",
        "start_date = \"2021-01-01\"\n",
        "end_date = \"2024-12-31\"\n",
        "risk_free_ticker = \"^IRX\"  # Use the 13-week Treasury yield as a proxy for risk-free rate\n",
        "market_index_ticker = \"^GSPC\"  # S&P 500 index\n",
        "equity_tickers = [\"TSLA\"]  # Replace with desired stock tickers\n",
        "\n",
        "# Fetch data\n",
        "risk_free_data = yf.download(risk_free_ticker, start=start_date, end=end_date)[\"Close\"]\n",
        "market_data = yf.download(market_index_ticker, start=start_date, end=end_date)[\"Close\"]\n",
        "stock_data = yf.download(equity_tickers, start=start_date, end=end_date)[\"Close\"]\n",
        "\n",
        "# Step 2: Prepare Data\n",
        "# Calculate daily returns\n",
        "market_returns = market_data.pct_change().dropna()\n",
        "stock_returns = stock_data.pct_change().dropna()\n",
        "\n",
        "# Import FF Factors\n",
        "FF_df = pd.read_csv('F-F_Research_Data_Factors_daily.CSV')\n",
        "FF_df['Date'] = pd.to_datetime(FF_df['Date'], format='%Y%m%d')\n",
        "FF_df['Mkt-RF'] = FF_df['Mkt-RF']/100\n",
        "FF_df['SMB'] = FF_df['SMB']/100\n",
        "FF_df['HML'] = FF_df['HML']/100\n",
        "FF_df['RF'] = FF_df['RF']/100\n",
        "\n",
        "\n",
        "# Merge the FF Factors to Stocks\n",
        "stock_returns = stock_returns.merge(FF_df, on = 'Date', how = 'inner')\n",
        "\n",
        "# print minimal and maximum dates\n",
        "print(stock_returns['Date'].min(), stock_returns['Date'].max())"
      ]
    },
    {
      "cell_type": "code",
      "execution_count": null,
      "metadata": {
        "colab": {
          "base_uri": "https://localhost:8080/",
          "height": 53
        },
        "id": "W74q57mFIuzs",
        "outputId": "3a4e188a-c009-4f39-9343-4414a8269779"
      },
      "outputs": [],
      "source": [
        "# Check if is there any missing data\n",
        "stock_returns[stock_returns['Mkt-RF'].isna()]"
      ]
    },
    {
      "cell_type": "code",
      "execution_count": null,
      "metadata": {
        "colab": {
          "base_uri": "https://localhost:8080/"
        },
        "id": "5DxTdnf1I0Vm",
        "outputId": "d60c2bd1-a7c9-4e43-e54b-a089a40a014e"
      },
      "outputs": [],
      "source": [
        "# Three factor model\n",
        "y = stock_returns['TSLA'] - stock_returns['RF']\n",
        "x = stock_returns[['Mkt-RF', 'SMB', 'HML']]\n",
        "model = sm.OLS(y, x).fit()\n",
        "print(model.summary())"
      ]
    },
    {
      "cell_type": "markdown",
      "metadata": {
        "id": "rTxSCAYVJlAR"
      },
      "source": [
        "#Compare the R-squared values of the CAPM and Three-Factor Model.\n",
        "\n",
        "The R-Squared value for the Three Factor Model is .361, compared to the R-Squared value of .312 for the CAPM model. This indicates that the Three Factor model outperforms the CAPM model, with the independent variables in this Three Factor Model being able to explain approximately 36% of the variance of the daily returns for $TSLA."
      ]
    },
    {
      "cell_type": "markdown",
      "metadata": {
        "id": "ccHANmaBJ6R5"
      },
      "source": [
        "#Interpret the SMB and HML coefficients to discuss size and value effects.\n",
        "\n",
        "The SMB coefficient represents how Tesla performs relative to the size effect. In this analysis, the SMB coefficient for Tesla was 0.5827. This is an interesting correlation, as one would expect Tesla, a large cap company, to perform worse when small cap companies are outperforming large cap companies. One possible explanation for this strong positive correlation is that Tesla is still a rapidly growing company, and its return patterns may match those of other rapidly growing companies, many of which are small caps. The HML coefficient represents how Tesla performs relative to the value effect. In this case, the -0.7055 HML coefficient indicates a strong negative correlation with the performance of value stocks, showing that Tesla performs better when growth stocks outperform value stocks. This is not surprising as Tesla is one of the premier growth stocks on the market."
      ]
    },
    {
      "cell_type": "markdown",
      "metadata": {
        "id": "3HD4jzK9KllW"
      },
      "source": [
        "1.3 Problem 3: Clustering Stocks\n",
        "Objective: Use clustering to group stocks based on their historical returns.\n",
        "1.3.1 Steps:\n",
        "1. Data Retrieval:\n",
        "• Select 10 stocks from different sectors (e.g., AAPL, MSFT, AMZN, TSLA, JPM, PFE,\n",
        "KO, XOM, NVDA, META).\n",
        "• Download their daily adjusted closing prices for the past 3 years.\n",
        "2. Feature Engineering:\n",
        "• Calculate daily returns for each stock.\n",
        "• Compute summary statistics (e.g., mean return, standard deviation, skewness, kurtosis)\n",
        "for each stock.\n",
        "3. Clustering:\n",
        "• Normalize the summary statistics.\n",
        "• Use k-means clustering to group the stocks into 3 clusters.\n",
        "4. Visualization:\n",
        "• Plot the clusters using a 2D scatterplot (e.g., mean return vs. standard deviation) with\n",
        "different colors for each cluster.\n",
        "5. Analysis:\n",
        "• Interpret the clusters and discuss potential similarities among stocks in the same cluster."
      ]
    },
    {
      "cell_type": "code",
      "execution_count": null,
      "metadata": {
        "id": "QwRyOZ5FKtd3"
      },
      "outputs": [],
      "source": [
        "## Problem 3 Solution Code (SUFYAN)"
      ]
    },
    {
      "cell_type": "code",
      "execution_count": null,
      "metadata": {
        "colab": {
          "base_uri": "https://localhost:8080/",
          "height": 864
        },
        "id": "tVGjdEm7J34k",
        "outputId": "cec1197b-e1e3-4e2a-d15c-4cb709004020"
      },
      "outputs": [],
      "source": [
        "# Data Retrieval\n",
        "# 10 Stocks From Different Sectors\n",
        "stocks = ['AAPL', 'MSFT', 'AMZN', 'TSLA', 'JPM', 'PFE', 'KO', 'XOM', 'NVDA', 'META']\n",
        "\n",
        "# Download daily adjusted closing prices for the past 3 years\n",
        "data = yf.download(stocks, start=\"2022-01-01\", end=\"2024-12-31\")\n",
        "adj_close = data['Close']\n",
        "\n",
        "# Feature Engineering\n",
        "# Calculate daily returns using the adjusted closing prices\n",
        "returns = adj_close.pct_change().dropna()\n",
        "\n",
        "# Compute summary statistics for each stock\n",
        "summary_stats = pd.DataFrame({\n",
        "    'Mean Return': returns.mean(),\n",
        "    'Standard Deviation': returns.std(),\n",
        "    'Skewness': returns.skew(),\n",
        "    'Kurtosis': returns.kurt()\n",
        "})\n",
        "\n",
        "# Clustering\n",
        "# Normalize the summary statistics\n",
        "scaler = StandardScaler()\n",
        "normalized_stats = scaler.fit_transform(summary_stats)\n",
        "\n",
        "# Use k-means clustering to group the stocks into 3 clusters\n",
        "kmeans = KMeans(n_clusters=3, random_state=42)\n",
        "summary_stats['Cluster'] = kmeans.fit_predict(normalized_stats)\n",
        "\n",
        "# Visualization\n",
        "# Plot the clusters using a 2D scatterplot (mean return vs. standard deviation)\n",
        "plt.figure(figsize=(10, 6))\n",
        "sns.scatterplot(x='Mean Return', y='Standard Deviation', hue='Cluster', data=summary_stats, palette='viridis', s=100)\n",
        "plt.title('Clustering of Stocks based on Historical Returns')\n",
        "plt.xlabel('Mean Return')\n",
        "plt.ylabel('Standard Deviation')\n",
        "for i, txt in enumerate(summary_stats.index):\n",
        "    plt.annotate(txt, (summary_stats['Mean Return'][i], summary_stats['Standard Deviation'][i]), fontsize=9)\n",
        "plt.show()\n",
        "\n",
        "# Analysis\n",
        "# Display the clusters and summary statistics\n",
        "print(\"Summary Statistics for Each Stock:\")\n",
        "print(summary_stats[['Mean Return', 'Standard Deviation', 'Skewness', 'Kurtosis', 'Cluster']])\n"
      ]
    },
    {
      "cell_type": "markdown",
      "metadata": {
        "id": "oUvswQ9rLa8T"
      },
      "source": [
        "# Analysis\n",
        "\n",
        "The clustering placed these 10 stocks into three distinct groups, each with varying risk-return profiles. Cluster 0, which includes KO (Coca-Cola), is a stick with low volatility and negative skewness. This suggests that it is a stable, defensive stock with consistent returns, making it appealing to risk-averse investors. The negative skewness indicates that the stock's returns are more likely to fall below the mean rather than exceed it.\n",
        "\n",
        "Cluster 1 consists of stocks like NVDA (Nvidia) and TSLA (Tesla), which show higher volatility and positive skewness. These stocks are growth-oriented and tend to have larger price swings, offering return on invest however they also pose a higher risk as well. The positive skewness indicates that these stocks have more potential for upside movement, making them appealing to investor look for high risk and high reward stocks.\n",
        "\n",
        "Cluster 2 includes stocks such as AAPL (Apple), AMZN (Amazon), JPM (JPMorgan), META (Facebook), MSFT (Microsoft), PFE (Pfizer), and XOM (ExxonMobil). These stocks exhibit moderate volatility and varying degrees of skewness and kurtosis. While they have relatively low to moderate volatility, they show more diverse return distributions. Stocks like META, demonstrate extreme kurtosis, meaning they tend to experience larger, less frequent price swings. This cluster represents a broader range of stocks that balance risk and return, with some stocks showing more consistent patterns and others having potential for larger, more unpredictable moves.\n",
        "\n",
        "In summary, Cluster 0 represents stable, defensive stocks with consistent, lower-risk returns; Cluster 1 consists of high-volatility growth stocks with greater potential for returns but higher risk; and Cluster 2 is a mix of stocks with moderate risk and varying degrees of return distribution, offering a balance of stability and growth potential with some stocks displaying more unpredictable price movements."
      ]
    }
  ],
  "metadata": {
    "colab": {
      "provenance": []
    },
    "kernelspec": {
      "display_name": "Python 3",
      "name": "python3"
    },
    "language_info": {
      "name": "python"
    }
  },
  "nbformat": 4,
  "nbformat_minor": 0
}
