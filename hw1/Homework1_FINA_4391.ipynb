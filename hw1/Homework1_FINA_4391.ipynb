{
  "cells": [
    {
      "cell_type": "code",
      "execution_count": null,
      "metadata": {
        "id": "0fuy2MbPbYwx"
      },
      "outputs": [],
      "source": [
        "import yfinance as yf\n",
        "import pandas as pd\n",
        "import numpy as np\n",
        "from datetime import datetime\n",
        "import statsmodels.api as sm\n",
        "import matplotlib.pyplot as plt\n",
        "from sklearn.metrics import mean_absolute_error, mean_absolute_percentage_error"
      ]
    },
    {
      "cell_type": "code",
      "execution_count": null,
      "metadata": {
        "colab": {
          "base_uri": "https://localhost:8080/",
          "height": 914
        },
        "id": "iyWjRikol1GC",
        "outputId": "f0bdcc95-4b6a-4cb2-b6e5-5faf3ff10f69"
      },
      "outputs": [],
      "source": [
        "# Import necessary libraries\n",
        "import yfinance as yf\n",
        "import pandas as pd\n",
        "import numpy as np\n",
        "import statsmodels.api as sm\n",
        "import matplotlib.pyplot as plt\n",
        "\n",
        "# Step 1: Define stock and market index tickers\n",
        "stock_ticker = \"PLTR\"       # Change this to any stock\n",
        "benchmark_ticker = \"^GSPC\"  # S&P 500 index\n",
        "risk_free_ticker = \"^TNX\"   # 10-year Treasury bond yield as risk-free rate\n",
        "\n",
        "# Here we Define time range for 3 years\n",
        "end_date = pd.Timestamp.today()\n",
        "start_date = end_date - pd.DateOffset(years=3)\n",
        "\n",
        "# Fetch stock, market, and risk-free rate data\n",
        "stock_data = yf.download(stock_ticker, start=start_date, end=end_date)[[\"Close\"]].rename(columns={\"Close\": \"Stock_Close\"})\n",
        "market_data = yf.download(benchmark_ticker, start=start_date, end=end_date)[[\"Close\"]].rename(columns={\"Close\": \"Market_Close\"})\n",
        "risk_free_data = yf.download(risk_free_ticker, start=start_date, end=end_date)[[\"Close\"]].rename(columns={\"Close\": \"Risk_Free_Close\"})\n",
        "\n",
        "# Debugging: Print available columns to ensure proper data loading\n",
        "print(\"Stock Data Columns:\", stock_data.columns)\n",
        "print(\"Market Data Columns:\", market_data.columns)\n",
        "print(\"Risk-Free Data Columns:\", risk_free_data.columns)\n",
        "\n",
        "# Merge dataframes based on index\n",
        "data = stock_data.join(market_data, how=\"inner\").join(risk_free_data, how=\"inner\")\n",
        "data.dropna(inplace=True)  # Remove missing values\n",
        "\n",
        "# Step 2: Compute daily returns\n",
        "data[\"Stock_Returns\"] = data[\"Stock_Close\"].pct_change()\n",
        "data[\"Market_Returns\"] = data[\"Market_Close\"].pct_change()\n",
        "data[\"Risk_Free_Rate\"] = (data[\"Risk_Free_Close\"] / 100) / 252  # Convert 10-year yield to daily risk-free rate\n",
        "\n",
        "# Drop NaN values after pct_change()\n",
        "data.dropna(inplace=True)\n",
        "\n",
        "# Compute excess returns\n",
        "data[\"Excess_Stock_Returns\"] = data[\"Stock_Returns\"] - data[\"Risk_Free_Rate\"]\n",
        "data[\"Excess_Market_Returns\"] = data[\"Market_Returns\"] - data[\"Risk_Free_Rate\"]\n",
        "\n",
        "# Step 3: Ensure proper DataFrame creation\n",
        "df_excess_returns = data[[\"Excess_Stock_Returns\", \"Excess_Market_Returns\"]].dropna()\n",
        "\n",
        "# Step 4: CAPM Estimation using OLS Regression\n",
        "X = sm.add_constant(df_excess_returns[\"Excess_Market_Returns\"])  # Add intercept term\n",
        "Y = df_excess_returns[\"Excess_Stock_Returns\"]\n",
        "\n",
        "model = sm.OLS(Y, X)\n",
        "results = model.fit()\n",
        "\n",
        "# Extract regression coefficients\n",
        "alpha = results.params[0]\n",
        "beta = results.params[1]\n",
        "r_squared = results.rsquared\n",
        "\n",
        "# Step 5: Plot regression line and scatterplot\n",
        "plt.figure(figsize=(10, 6))\n",
        "plt.scatter(df_excess_returns[\"Excess_Market_Returns\"], df_excess_returns[\"Excess_Stock_Returns\"], alpha=0.5, label=\"Data Points\")\n",
        "plt.plot(df_excess_returns[\"Excess_Market_Returns\"], results.predict(X), color='red', label=\"Regression Line\")\n",
        "\n",
        "plt.xlabel(\"Market Excess Returns\")\n",
        "plt.ylabel(f\"{stock_ticker} Excess Returns\")\n",
        "plt.title(f\"CAPM Regression: {stock_ticker} vs. {benchmark_ticker}\")\n",
        "plt.legend()\n",
        "plt.show()\n",
        "\n",
        "# Print results\n",
        "print(\"CAPM Regression Results:\")\n",
        "print(f\"Alpha (Intercept): {alpha:.6f}\")\n",
        "print(f\"Beta (Slope): {beta:.6f}\")\n",
        "print(f\"R-squared: {r_squared:.4f}\")\n",
        "\n",
        "# Interpretation of Beta\n",
        "if beta > 1:\n",
        "    volatility_message = \"more volatile than the market\"\n",
        "elif beta < 1:\n",
        "    volatility_message = \"less volatile than the market\"\n",
        "else:\n",
        "    volatility_message = \"as volatile as the market\"\n",
        "\n",
        "print(f\"\\nInterpretation: The beta of {stock_ticker} is {beta:.4f}, meaning it is {volatility_message}.\")\n"
      ]
    },
    {
      "cell_type": "markdown",
      "metadata": {
        "id": "YJNGycUtnixB"
      },
      "source": [
        "## 1.2 Problem 2: Fama-French Three-Factor Model\n",
        "# Objective: Extend the analysis to the Fama-French Three-Factor Model. **bold text**\n"
      ]
    },
    {
      "cell_type": "code",
      "execution_count": null,
      "metadata": {
        "id": "WFxgZWdymMwi"
      },
      "outputs": [],
      "source": [
        "# Import necessary libraries\n",
        "import yfinance as yf\n",
        "import pandas as pd\n",
        "import numpy as np\n",
        "import statsmodels.api as sm\n",
        "import matplotlib.pyplot as plt\n"
      ]
    },
    {
      "cell_type": "code",
      "execution_count": null,
      "metadata": {
        "id": "528yBWLnoHov"
      },
      "outputs": [],
      "source": [
        "# Define stock and market index tickers\n",
        "stock_ticker = \"PLTR\"       # Change this to any stock\n",
        "benchmark_ticker = \"^GSPC\"  # S&P 500 index\n",
        "risk_free_ticker = \"^TNX\"   # 10-year Treasury yield as risk-free rate\n"
      ]
    },
    {
      "cell_type": "code",
      "execution_count": null,
      "metadata": {
        "colab": {
          "base_uri": "https://localhost:8080/"
        },
        "id": "u283aAVioHqv",
        "outputId": "c82e4cc7-6fb8-4c65-b5da-4772196f4287"
      },
      "outputs": [],
      "source": [
        "# Define time range for 3 years\n",
        "end_date = pd.Timestamp.today()\n",
        "start_date = end_date - pd.DateOffset(years=3)\n",
        "\n",
        "# Fetch stock, market, and risk-free rate data\n",
        "stock_data = yf.download(stock_ticker, start=start_date, end=end_date)[[\"Close\"]].rename(columns={\"Close\": \"Stock_Close\"})\n",
        "market_data = yf.download(benchmark_ticker, start=start_date, end=end_date)[[\"Close\"]].rename(columns={\"Close\": \"Market_Close\"})\n",
        "risk_free_data = yf.download(risk_free_ticker, start=start_date, end=end_date)[[\"Close\"]].rename(columns={\"Close\": \"Risk_Free_Close\"})\n",
        "\n",
        "# Debugging: Print available columns\n",
        "print(\"Stock Data Columns:\", stock_data.columns)\n",
        "print(\"Market Data Columns:\", market_data.columns)\n",
        "print(\"Risk-Free Data Columns:\", risk_free_data.columns)\n",
        "\n",
        "# Merge datasets\n",
        "data = stock_data.join(market_data, how=\"inner\").join(risk_free_data, how=\"inner\")\n",
        "data.dropna(inplace=True)  # Remove missing values\n"
      ]
    },
    {
      "cell_type": "code",
      "execution_count": null,
      "metadata": {
        "colab": {
          "base_uri": "https://localhost:8080/"
        },
        "id": "9jmhcBAWoHtc",
        "outputId": "79557879-b24a-4554-c70a-23043e520d45"
      },
      "outputs": [],
      "source": [
        "# Load Fama-French three-factor data\n",
        "ff_url = \"https://mba.tuck.dartmouth.edu/pages/faculty/ken.french/ftp/F-F_Research_Data_Factors_daily_CSV.zip\"\n",
        "\n",
        "# Read Fama-French data, skipping initial description rows and footer text\n",
        "ff_data = pd.read_csv(ff_url, compression=\"zip\", skiprows=3, skipfooter=5, engine=\"python\")\n",
        "\n",
        "# Rename first column to \"Date\"\n",
        "ff_data.rename(columns={ff_data.columns[0]: \"Date\"}, inplace=True)\n",
        "\n",
        "# Convert \"Date\" column to string before filtering non-numeric values\n",
        "ff_data[\"Date\"] = ff_data[\"Date\"].astype(str)\n",
        "\n",
        "# Drop any rows where \"Date\" is not purely numeric (removing footer text)\n",
        "ff_data = ff_data[ff_data[\"Date\"].str.match(r\"^\\d+$\")]\n",
        "\n",
        "# Convert Date column to datetime format\n",
        "ff_data[\"Date\"] = pd.to_datetime(ff_data[\"Date\"], format=\"%Y%m%d\")\n",
        "\n",
        "# Filter Fama-French data to match our stock's date range\n",
        "ff_data = ff_data[(ff_data[\"Date\"] >= start_date) & (ff_data[\"Date\"] <= end_date)]\n",
        "\n",
        "# Set Date as index\n",
        "ff_data.set_index(\"Date\", inplace=True)\n",
        "\n",
        "# Convert factor values to percentages\n",
        "ff_data = ff_data / 100\n",
        "\n",
        "# Debugging: Display first rows to ensure correct loading\n",
        "print(ff_data.head())\n",
        "\n",
        "\n"
      ]
    },
    {
      "cell_type": "code",
      "execution_count": null,
      "metadata": {
        "colab": {
          "base_uri": "https://localhost:8080/"
        },
        "id": "OAynIhXspfTt",
        "outputId": "e3478169-6b89-4fec-8a26-896fc428cb66"
      },
      "outputs": [],
      "source": [
        "# Compute daily stock and market returns\n",
        "data[\"Stock_Returns\"] = data[\"Stock_Close\"].pct_change()\n",
        "data[\"Market_Returns\"] = data[\"Market_Close\"].pct_change()\n",
        "data[\"Risk_Free_Rate\"] = (data[\"Risk_Free_Close\"] / 100) / 252  # Convert 10-year yield to daily risk-free rate\n",
        "\n",
        "# Drop NaN values after computing returns\n",
        "data.dropna(inplace=True)\n",
        "\n",
        "# Compute excess returns\n",
        "data[\"Excess_Stock_Returns\"] = data[\"Stock_Returns\"] - data[\"Risk_Free_Rate\"]\n",
        "data[\"Excess_Market_Returns\"] = data[\"Market_Returns\"] - data[\"Risk_Free_Rate\"]\n",
        "\n",
        "# Debug: Display first few rows to verify excess return calculations\n",
        "print(data.head())\n"
      ]
    },
    {
      "cell_type": "code",
      "execution_count": null,
      "metadata": {
        "colab": {
          "base_uri": "https://localhost:8080/"
        },
        "id": "j_IsPJh_p0NF",
        "outputId": "df143e4b-839e-46a5-ccd0-1fdf0a257307"
      },
      "outputs": [],
      "source": [
        "# Check full index details\n",
        "print(\"Data Index Levels:\", data.index.names)\n",
        "print(\"FF Data Index Levels:\", ff_data.index.names)\n",
        "\n",
        "# Print first few index values to compare\n",
        "print(\"\\nFirst few dates in `data`:\", data.index[:5])\n",
        "print(\"\\nFirst few dates in `ff_data`:\", ff_data.index[:5])\n",
        "\n",
        "# Check data types of indices\n",
        "print(\"\\nData index type:\", type(data.index))\n",
        "print(\"FF Data index type:\", type(ff_data.index))\n",
        "\n",
        "\n",
        "\n",
        "\n",
        "\n",
        "\n"
      ]
    },
    {
      "cell_type": "code",
      "execution_count": null,
      "metadata": {
        "colab": {
          "base_uri": "https://localhost:8080/"
        },
        "id": "xG_11KPAp0PZ",
        "outputId": "c02ba955-9bd8-4255-e175-c3cd767107f4"
      },
      "outputs": [],
      "source": [
        "# Flatten MultiIndex columns in `data`\n",
        "if isinstance(data.columns, pd.MultiIndex):\n",
        "    print(\"Flattening MultiIndex columns in `data`...\")\n",
        "    data.columns = ['_'.join(col).strip() if isinstance(col, tuple) else col for col in data.columns]\n",
        "\n",
        "# Convert Fama-French column names to strings for compatibility\n",
        "ff_data.columns = ff_data.columns.astype(str)\n",
        "\n",
        "# Now merge datasets\n",
        "final_data = data.join(ff_data, how=\"inner\")\n",
        "\n",
        "# Drop NaN values\n",
        "final_data.dropna(inplace=True)\n",
        "\n",
        "# Debug: Check first few rows\n",
        "print(final_data.head())\n",
        "\n"
      ]
    },
    {
      "cell_type": "code",
      "execution_count": null,
      "metadata": {
        "colab": {
          "base_uri": "https://localhost:8080/"
        },
        "id": "CUkUpLqgrs12",
        "outputId": "e4c40533-326f-4a2c-8cc8-631e0e57edb6"
      },
      "outputs": [],
      "source": [
        "# Rename columns to remove trailing underscores (if any)\n",
        "final_data.columns = [col.rstrip('_') for col in final_data.columns]\n",
        "\n",
        "# Debug: Check updated column names\n",
        "print(\"Updated columns in final_data:\", final_data.columns)\n",
        "\n",
        "\n"
      ]
    },
    {
      "cell_type": "code",
      "execution_count": null,
      "metadata": {
        "colab": {
          "base_uri": "https://localhost:8080/"
        },
        "id": "nrIvqO5hswAs",
        "outputId": "a723a532-e177-4244-d848-e71c397cc4d0"
      },
      "outputs": [],
      "source": [
        "# Define dependent variable (Stock excess returns)\n",
        "Y = final_data[\"Excess_Stock_Returns\"]\n",
        "\n",
        "# Define independent variables (Fama-French three factors)\n",
        "X = final_data[[\"Mkt-RF\", \"SMB\", \"HML\"]]\n",
        "X = sm.add_constant(X)  # Add intercept term\n",
        "\n",
        "# Run multiple regression (Three-Factor Model)\n",
        "model_ff = sm.OLS(Y, X)\n",
        "results_ff = model_ff.fit()\n",
        "\n",
        "# Display regression results\n",
        "print(results_ff.summary())\n"
      ]
    },
    {
      "cell_type": "code",
      "execution_count": null,
      "metadata": {
        "colab": {
          "base_uri": "https://localhost:8080/"
        },
        "id": "T1-X3OqKtO9i",
        "outputId": "27278489-9195-4ffb-cc65-fbb2f803d341"
      },
      "outputs": [],
      "source": [
        "# CAPM R-squared from previous model (update with actual CAPM result)\n",
        "r_squared_capm = 0.379\n",
        "\n",
        "# Fama-French Three-Factor Model R-squared\n",
        "r_squared_ff = results_ff.rsquared\n",
        "\n",
        "# Compare the models\n",
        "print(f\"CAPM R-squared: {r_squared_capm:.4f}\")\n",
        "print(f\"Fama-French R-squared: {r_squared_ff:.4f}\")\n",
        "\n",
        "if r_squared_ff > r_squared_capm:\n",
        "    print(\" The Three-Factor Model explains more variation in returns than CAPM.\")\n",
        "else:\n",
        "    print(\" The CAPM model explains returns better in this case.\")\n"
      ]
    },
    {
      "cell_type": "code",
      "execution_count": null,
      "metadata": {
        "colab": {
          "base_uri": "https://localhost:8080/"
        },
        "id": "gQkSq-SruBI6",
        "outputId": "6df4c9a2-7bc8-47aa-9385-372a3f964db8"
      },
      "outputs": [],
      "source": [
        "# Extract SMB and HML coefficients\n",
        "smb_coef = results_ff.params[\"SMB\"]\n",
        "hml_coef = results_ff.params[\"HML\"]\n",
        "\n",
        "# Interpret SMB (Size Factor)\n",
        "if smb_coef > 0:\n",
        "    size_effect = \"✅ The stock behaves more like small-cap stocks.\"\n",
        "else:\n",
        "    size_effect = \"❌ The stock behaves more like large-cap stocks.\"\n",
        "\n",
        "# Interpret HML (Value Factor)\n",
        "if hml_coef > 0:\n",
        "    value_effect = \"✅ The stock behaves more like value stocks.\"\n",
        "else:\n",
        "    value_effect = \"❌ The stock behaves more like growth stocks.\"\n",
        "\n",
        "print(f\"\\nSMB Coefficient: {smb_coef:.4f} → {size_effect}\")\n",
        "print(f\"HML Coefficient: {hml_coef:.4f} → {value_effect}\")\n"
      ]
    },
    {
      "cell_type": "markdown",
      "metadata": {
        "id": "U8bHKAfhveB9"
      },
      "source": [
        "# Section 1.3: Clustering Stocks Based on Three-Factor Model Betas"
      ]
    },
    {
      "cell_type": "code",
      "execution_count": null,
      "metadata": {
        "id": "V3l6hQXEvknG"
      },
      "outputs": [],
      "source": [
        "# Import necessary libraries\n",
        "import yfinance as yf\n",
        "import pandas as pd\n",
        "import numpy as np\n",
        "import statsmodels.api as sm\n",
        "import matplotlib.pyplot as plt\n",
        "import seaborn as sns\n",
        "from sklearn.cluster import KMeans\n",
        "from sklearn.preprocessing import StandardScaler\n"
      ]
    },
    {
      "cell_type": "code",
      "execution_count": null,
      "metadata": {
        "colab": {
          "base_uri": "https://localhost:8080/"
        },
        "id": "_Kw87rAevn96",
        "outputId": "3321d75e-76a8-43b5-8707-33cefd34dcd7"
      },
      "outputs": [],
      "source": [
        "# Define stock tickers\n",
        "tickers = [\"NVDA\", \"MSFT\", \"PLTR\", \"TSLA\", \"GOOGL\", \"COST\", \"BABA\",\"HOLX\",\"HM\",\"ABNB\"]\n",
        "\n",
        "# Define time range\n",
        "start_date = \"2010-02-01\"\n",
        "end_date = \"2025-02-01\"\n",
        "\n",
        "# Download adjusted closing prices\n",
        "stock_data = yf.download(tickers, start=start_date, end=end_date)[\"Close\"]\n",
        "\n",
        "# Compute daily returns\n",
        "stock_returns = stock_data.pct_change().dropna()\n",
        "\n",
        "# Debugging: Display first rows\n",
        "print(stock_returns.head())\n"
      ]
    },
    {
      "cell_type": "code",
      "execution_count": null,
      "metadata": {
        "colab": {
          "base_uri": "https://localhost:8080/"
        },
        "id": "hVsWm09awNZy",
        "outputId": "7af7cf12-fb1b-4b7b-df59-e5ff8bf4a9e6"
      },
      "outputs": [],
      "source": [
        "# Load Fama-French Three-Factor Data\n",
        "ff_data = pd.read_csv(\"https://mba.tuck.dartmouth.edu/pages/faculty/ken.french/ftp/F-F_Research_Data_Factors_daily_CSV.zip\",\n",
        "                      compression=\"zip\", skiprows=3, skipfooter=5, engine=\"python\")\n",
        "\n",
        "# Rename first column to \"Date\"\n",
        "ff_data.rename(columns={ff_data.columns[0]: \"Date\"}, inplace=True)\n",
        "\n",
        "# Convert \"Date\" column to string before filtering non-numeric values\n",
        "ff_data[\"Date\"] = ff_data[\"Date\"].astype(str)\n",
        "\n",
        "# Drop any rows where \"Date\" is not purely numeric (removing footer text)\n",
        "ff_data = ff_data[ff_data[\"Date\"].str.match(r\"^\\d+$\")]\n",
        "\n",
        "# Convert Date column to datetime format\n",
        "ff_data[\"Date\"] = pd.to_datetime(ff_data[\"Date\"], format=\"%Y%m%d\")\n",
        "\n",
        "# Convert percentages to decimal format\n",
        "for col in [\"Mkt-RF\", \"SMB\", \"HML\", \"RF\"]:\n",
        "    ff_data[col] = ff_data[col] / 100\n",
        "\n",
        "# Set Date as index\n",
        "ff_data.set_index(\"Date\", inplace=True)\n",
        "\n",
        "# Merge stock returns with Fama-French factors\n",
        "stock_returns = stock_returns.merge(ff_data, how=\"inner\", left_index=True, right_index=True)\n",
        "\n",
        "# Debug: Display first few rows\n",
        "print(stock_returns.head())\n",
        "\n"
      ]
    },
    {
      "cell_type": "code",
      "execution_count": null,
      "metadata": {
        "colab": {
          "base_uri": "https://localhost:8080/"
        },
        "id": "ToUrhtw5xABB",
        "outputId": "94e76494-5bbd-4531-f806-bb2a27770657"
      },
      "outputs": [],
      "source": [
        "# Prepare an empty list for betas\n",
        "betas = []\n",
        "\n",
        "# Loop through each stock to estimate betas\n",
        "for stock in tickers:\n",
        "    Y = stock_returns[stock] - stock_returns[\"RF\"]\n",
        "    X = stock_returns[[\"Mkt-RF\", \"SMB\", \"HML\"]]\n",
        "    X = sm.add_constant(X)  # Add intercept\n",
        "\n",
        "    # Run OLS regression\n",
        "    model = sm.OLS(Y, X).fit()\n",
        "\n",
        "    # Store betas\n",
        "    betas.append([stock, model.params[\"Mkt-RF\"], model.params[\"SMB\"], model.params[\"HML\"]])\n",
        "\n",
        "# Convert to DataFrame\n",
        "betas_df = pd.DataFrame(betas, columns=[\"Stock\", \"Beta_MktRF\", \"Beta_SMB\", \"Beta_HML\"])\n",
        "\n",
        "# Debug: Display first few betas\n",
        "print(betas_df.head())\n"
      ]
    },
    {
      "cell_type": "code",
      "execution_count": null,
      "metadata": {
        "colab": {
          "base_uri": "https://localhost:8080/"
        },
        "id": "bsCxfahbxEhK",
        "outputId": "0bd6579e-f9b2-4a2d-cf36-626fb120aa1e"
      },
      "outputs": [],
      "source": [
        "# Standardize betas for clustering\n",
        "scaler = StandardScaler()\n",
        "betas_scaled = scaler.fit_transform(betas_df.iloc[:, 1:])  # Exclude stock names\n",
        "\n",
        "# Convert back to DataFrame\n",
        "betas_scaled_df = pd.DataFrame(betas_scaled, columns=[\"Beta_MktRF\", \"Beta_SMB\", \"Beta_HML\"])\n",
        "betas_scaled_df[\"Stock\"] = betas_df[\"Stock\"]\n",
        "\n",
        "# Apply K-Means clustering (3 clusters)\n",
        "kmeans = KMeans(n_clusters=3, random_state=42, n_init=10)\n",
        "betas_scaled_df[\"Cluster\"] = kmeans.fit_predict(betas_scaled_df.iloc[:, :-1])\n",
        "\n",
        "# Debug: Display first few rows\n",
        "print(betas_scaled_df.head())\n"
      ]
    },
    {
      "cell_type": "code",
      "execution_count": null,
      "metadata": {
        "colab": {
          "base_uri": "https://localhost:8080/",
          "height": 564
        },
        "id": "wPN_MAiXxK4w",
        "outputId": "02b397b6-fb40-4939-a895-8497de65d719"
      },
      "outputs": [],
      "source": [
        "# Scatter plot of clusters\n",
        "plt.figure(figsize=(10, 6))\n",
        "sns.scatterplot(x=betas_scaled_df[\"Beta_MktRF\"],\n",
        "                y=betas_scaled_df[\"Beta_SMB\"],\n",
        "                hue=betas_scaled_df[\"Cluster\"],\n",
        "                palette=\"Set1\", alpha=0.7)\n",
        "\n",
        "plt.xlabel(\"Beta (Market-RF)\")\n",
        "plt.ylabel(\"Beta (SMB - Size Factor)\")\n",
        "plt.title(\"Stock Clusters Based on Fama-French Betas\")\n",
        "plt.legend(title=\"Cluster\")\n",
        "plt.show()\n"
      ]
    },
    {
      "cell_type": "code",
      "execution_count": null,
      "metadata": {
        "colab": {
          "base_uri": "https://localhost:8080/"
        },
        "id": "Nnhm1Yrj2bqd",
        "outputId": "a67e9216-1dc4-4b1b-bfd1-6d78370762e6"
      },
      "outputs": [],
      "source": [
        "# Calculate mean beta values for each cluster\n",
        "cluster_means = betas_scaled_df.groupby(\"Cluster\")[[\"Beta_MktRF\", \"Beta_SMB\", \"Beta_HML\"]].mean()\n",
        "\n",
        "# Debugging: Display cluster characteristics\n",
        "print(cluster_means)\n"
      ]
    },
    {
      "cell_type": "code",
      "execution_count": null,
      "metadata": {
        "colab": {
          "base_uri": "https://localhost:8080/",
          "height": 627
        },
        "id": "PmPEOcp92fSD",
        "outputId": "04efebba-5ba5-4aab-fd5e-75a8cd3a209a"
      },
      "outputs": [],
      "source": [
        "# Plot boxplots for each beta factor across clusters\n",
        "fig, axes = plt.subplots(1, 3, figsize=(18, 6))\n",
        "\n",
        "# Market Beta\n",
        "sns.boxplot(x=\"Cluster\", y=\"Beta_MktRF\", data=betas_scaled_df, ax=axes[0])\n",
        "axes[0].set_title(\"Market Beta (Mkt-RF) by Cluster\")\n",
        "\n",
        "# SMB Beta (Size Effect)\n",
        "sns.boxplot(x=\"Cluster\", y=\"Beta_SMB\", data=betas_scaled_df, ax=axes[1])\n",
        "axes[1].set_title(\"Size Beta (SMB) by Cluster\")\n",
        "\n",
        "# HML Beta (Value Effect)\n",
        "sns.boxplot(x=\"Cluster\", y=\"Beta_HML\", data=betas_scaled_df, ax=axes[2])\n",
        "axes[2].set_title(\"Value Beta (HML) by Cluster\")\n",
        "\n",
        "plt.tight_layout()\n",
        "plt.show()\n"
      ]
    },
    {
      "cell_type": "code",
      "execution_count": null,
      "metadata": {
        "colab": {
          "base_uri": "https://localhost:8080/"
        },
        "id": "6Qh13tMG2fKH",
        "outputId": "9230e09d-0af6-4879-d2be-18f1f3db418c"
      },
      "outputs": [],
      "source": [
        "# Group stocks by cluster\n",
        "stocks_by_cluster = betas_scaled_df.groupby(\"Cluster\")[\"Stock\"].apply(list)\n",
        "\n",
        "# Debugging: Display stocks in each cluster\n",
        "for cluster, stocks in stocks_by_cluster.items():\n",
        "    print(f\"Cluster {cluster}: {stocks}\")\n"
      ]
    },
    {
      "cell_type": "code",
      "execution_count": null,
      "metadata": {
        "colab": {
          "base_uri": "https://localhost:8080/",
          "height": 542
        },
        "id": "wEKb5Jmr6U7x",
        "outputId": "8ec74348-c8e8-4aee-9b9f-a1d46913a9d3"
      },
      "outputs": [],
      "source": [
        "from sklearn.decomposition import PCA\n",
        "import plotly.express as px\n",
        "\n",
        "# Prepare data for PCA\n",
        "X_betas_only = betas_scaled_df[[\"Beta_MktRF\", \"Beta_SMB\", \"Beta_HML\"]].copy()\n",
        "stock_names = betas_scaled_df[\"Stock\"].copy()\n",
        "cluster_labels = betas_scaled_df[\"Cluster\"].copy()\n",
        "\n",
        "# Perform PCA to reduce to 2D\n",
        "pca = PCA(n_components=2)\n",
        "X_pca = pca.fit_transform(X_betas_only)\n",
        "\n",
        "# Convert PCA result into DataFrame\n",
        "pca_df = pd.DataFrame(X_pca, columns=[\"PCA1\", \"PCA2\"])\n",
        "pca_df[\"Stock\"] = stock_names\n",
        "pca_df[\"Cluster\"] = cluster_labels\n",
        "\n",
        "# Plotly scatter plot\n",
        "fig = px.scatter(\n",
        "    pca_df,\n",
        "    x=\"PCA1\",\n",
        "    y=\"PCA2\",\n",
        "    color=pca_df[\"Cluster\"].astype(str),  # Ensures Cluster is treated as a category\n",
        "    hover_data=[\"Stock\"],\n",
        "    title=\"PCA Projection of Clusters (Colored by Cluster, Labeled by Company Name)\",\n",
        "    labels={\"PCA1\": \"PCA Component 1\", \"PCA2\": \"PCA Component 2\"},\n",
        ")\n",
        "\n",
        "fig.show()\n",
        "\n"
      ]
    }
  ],
  "metadata": {
    "colab": {
      "provenance": []
    },
    "kernelspec": {
      "display_name": "Python 3",
      "name": "python3"
    },
    "language_info": {
      "name": "python"
    }
  },
  "nbformat": 4,
  "nbformat_minor": 0
}
