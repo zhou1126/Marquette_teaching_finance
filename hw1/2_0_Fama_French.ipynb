{
  "cells": [
    {
      "cell_type": "code",
      "execution_count": null,
      "metadata": {
        "colab": {
          "base_uri": "https://localhost:8080/"
        },
        "id": "4c4FwAivwTiU",
        "outputId": "1ad9fa7b-cfbd-495e-e720-ccd1c747323a"
      },
      "outputs": [],
      "source": [
        "# Install required libraries if necessary\n",
        "!pip install pandas_datareader yfinance\n",
        "\n",
        "# Import libraries\n",
        "import pandas as pd\n",
        "import numpy as np\n",
        "import yfinance as yf\n",
        "import pandas_datareader.data as web\n",
        "import statsmodels.api as sm\n",
        "import matplotlib.pyplot as plt\n",
        "from datetime import datetime"
      ]
    },
    {
      "cell_type": "code",
      "execution_count": null,
      "metadata": {
        "colab": {
          "base_uri": "https://localhost:8080/"
        },
        "id": "Ekh_RhJS1XW1",
        "outputId": "1f8e9645-94b7-42c6-8d66-4daad9da46e7"
      },
      "outputs": [],
      "source": [
        "# Define the date range\n",
        "start_date = '2022-01-01'\n",
        "end_date = '2025-01-01'\n",
        "\n",
        "# Fetch Fama-French factors\n",
        "ff_factors = web.DataReader('F-F_Research_Data_Factors_daily', 'famafrench', start_date, end_date)[0]\n",
        "\n",
        "# Display the first few rows\n",
        "print(\"Fama-French Daily Factors:\")\n",
        "print(ff_factors.head())"
      ]
    },
    {
      "cell_type": "code",
      "execution_count": null,
      "metadata": {
        "id": "pcgVSNB41lID"
      },
      "outputs": [],
      "source": [
        "# Rename columns for easier reference\n",
        "ff_factors = ff_factors.rename(columns={'Mkt-RF': 'MKT', 'SMB': 'SMB', 'HML': 'HML', 'RF': 'RF'})"
      ]
    },
    {
      "cell_type": "code",
      "execution_count": null,
      "metadata": {
        "id": "EPm3pegx1nrj"
      },
      "outputs": [],
      "source": [
        "# Define the stock ticker\n",
        "stock_ticker = 'ASB'"
      ]
    },
    {
      "cell_type": "code",
      "execution_count": null,
      "metadata": {
        "colab": {
          "base_uri": "https://localhost:8080/"
        },
        "id": "uP3gWr1T1pEh",
        "outputId": "423d1111-fe3a-4aac-b9e7-28de236335fb"
      },
      "outputs": [],
      "source": [
        "# Download stock data\n",
        "stock_data = yf.download(stock_ticker, start=start_date, end=end_date)\n",
        "\n",
        "# Determine which column to use for returns calculation\n",
        "if 'Adj Close' in stock_data.columns:\n",
        "    price_column = 'Adj Close'\n",
        "elif 'Close' in stock_data.columns:\n",
        "    price_column = 'Close'\n",
        "    print(\"'Adj Close' not available. Using 'Close' prices instead.\")\n",
        "else:\n",
        "    raise KeyError(\"Neither 'Adj Close' nor 'Close' found in the stock data.\")\n",
        "\n",
        "# Calculate stock returns\n",
        "stock_data['Return'] = stock_data[price_column].pct_change()\n",
        "stock_returns = stock_data['Return'].dropna()"
      ]
    },
    {
      "cell_type": "code",
      "execution_count": null,
      "metadata": {
        "id": "Tvf4fl5a2bvI"
      },
      "outputs": [],
      "source": [
        "# Prepare data\n",
        "stock_returns = stock_returns.reset_index()\n",
        "stock_returns.rename(columns={'Date': 'Date', 'Return': 'Stock_Return'}, inplace=True)\n",
        "ff_factors = ff_factors.reset_index()\n",
        "\n",
        "# Convert Date columns to datetime\n",
        "stock_returns['Date'] = pd.to_datetime(stock_returns['Date'])\n",
        "ff_factors['Date'] = pd.to_datetime(ff_factors['Date'])\n",
        "\n",
        "# Merge datasets\n",
        "data = pd.merge(stock_returns, ff_factors, on='Date')"
      ]
    },
    {
      "cell_type": "code",
      "execution_count": null,
      "metadata": {
        "id": "rnLYDsdV2eTr"
      },
      "outputs": [],
      "source": [
        "# Calculate excess returns\n",
        "data['Excess_Return'] = data['Stock_Return'] - data['RF']/100"
      ]
    },
    {
      "cell_type": "code",
      "execution_count": null,
      "metadata": {
        "id": "kHL1BFf02eOC"
      },
      "outputs": [],
      "source": [
        "# Define dependent and independent variables\n",
        "Y = data['Excess_Return']\n",
        "X = data[['MKT', 'SMB', 'HML']]\n",
        "\n",
        "# Add a constant\n",
        "X = sm.add_constant(X)"
      ]
    },
    {
      "cell_type": "code",
      "execution_count": null,
      "metadata": {
        "colab": {
          "base_uri": "https://localhost:8080/"
        },
        "id": "5V6AwChe2iuq",
        "outputId": "fa047a1c-fbff-4128-9854-b45a1072bd1e"
      },
      "outputs": [],
      "source": [
        "# Fit the Fama-French Three-Factor Model\n",
        "ff_model = sm.OLS(Y, X).fit()\n",
        "print(ff_model.summary())"
      ]
    },
    {
      "cell_type": "code",
      "execution_count": null,
      "metadata": {
        "colab": {
          "base_uri": "https://localhost:8080/"
        },
        "id": "TYreJPTC23Qv",
        "outputId": "e5b6ebcd-f962-4eb5-979d-562314d66b1c"
      },
      "outputs": [],
      "source": [
        "# Extract coefficients and R-squared\n",
        "alpha_ff = ff_model.params['const']\n",
        "beta_mkt = ff_model.params['MKT']\n",
        "beta_smb = ff_model.params['SMB']\n",
        "beta_hml = ff_model.params['HML']\n",
        "r_squared_ff = ff_model.rsquared\n",
        "\n",
        "# Display the results\n",
        "print(\"\\nFama-French Three-Factor Model Results:\")\n",
        "print(f\"Alpha (Intercept): {alpha_ff}\")\n",
        "print(f\"Beta (MKT): {beta_mkt}\")\n",
        "print(f\"Beta (SMB): {beta_smb}\")\n",
        "print(f\"Beta (HML): {beta_hml}\")\n",
        "print(f\"R-squared: {r_squared_ff}\")"
      ]
    },
    {
      "cell_type": "markdown",
      "metadata": {
        "id": "TL2vf_hYauUX"
      },
      "source": [
        "R- squared:                                                                  CAPM - 27.9% where as Fama-French is 69%                                 \n",
        "SMB Coefficient (Size Effect)\n",
        "\n",
        "The SMB coefficient is 0.0094. This positive coefficient suggests that ASB's stock returns are positively related to the returns of small-cap stocks relative to large-cap stocks.\n",
        "Interpretation: A positive SMB beta indicates that ASB tends to behave more like a small-cap stock and is expected to outperform when small-cap stocks (as a group) outperform large-cap stocks. This is consistent with the \"size effect\" or \"small firm effect,\" where smaller companies are often observed to generate higher returns than larger companies over the long term.\n",
        "HML Coefficient (Value Effect)\n",
        "\n",
        "The HML coefficient is 0.0134. This positive coefficient indicates a positive relationship between ASB's stock returns and the returns of value stocks (high book-to-market ratio) relative to growth stocks (low book-to-market ratio).\n",
        "Interpretation: A positive HML beta implies that ASB exhibits characteristics of a value stock. It tends to perform well when value stocks outperform growth stocks, aligning with the \"value effect\" where value stocks are often found to have higher returns compared to growth stocks over time.\n",
        "In summary, for ASB stock:\n",
        "\n",
        "Size Effect: The positive SMB coefficient suggests a positive size effect, indicating that the stock's returns are positively influenced by the performance of small-cap stocks.\n",
        "Value Effect: The positive HML coefficient suggests a positive value effect, meaning the stock's returns are positively influenced by the performance of value stocks.                                            \n",
        " Copilot was used to assist with code"
      ]
    }
  ],
  "metadata": {
    "colab": {
      "provenance": []
    },
    "kernelspec": {
      "display_name": "Python 3",
      "name": "python3"
    },
    "language_info": {
      "name": "python"
    }
  },
  "nbformat": 4,
  "nbformat_minor": 0
}
