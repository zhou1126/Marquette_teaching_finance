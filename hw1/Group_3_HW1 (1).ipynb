{
  "cells": [
    {
      "cell_type": "code",
      "execution_count": null,
      "metadata": {
        "colab": {
          "base_uri": "https://localhost:8080/"
        },
        "id": "_ZBP1fBokLdc",
        "outputId": "ec276659-ebb1-4943-c073-98f8bf79eacb"
      },
      "outputs": [],
      "source": [
        "import yfinance as yf\n",
        "import pandas as pd\n",
        "import numpy as np\n",
        "from datetime import datetime\n",
        "import statsmodels.api as sm\n",
        "\n",
        "# Problem 1\n",
        "# Group 3: Matt Benbenek, Ben Teske, Sam Barbel\n",
        "# Step 1: Fetch Data\n",
        "start_date = \"2022-01-01\"\n",
        "end_date = \"2024-12-31\"\n",
        "risk_free_ticker = \"^IRX\"  # Use the 13-week Treasury yield as a proxy for risk-free rate\n",
        "market_index_ticker = \"^GSPC\"  # S&P 500 index\n",
        "equity_tickers = [\"SWK\"]  # Replace with desired stock tickers\n",
        "\n",
        "# Fetch data\n",
        "risk_free_data = yf.download(risk_free_ticker, start=start_date, end=end_date)[\"Close\"]\n",
        "market_data = yf.download(market_index_ticker, start=start_date, end=end_date)[\"Close\"]\n",
        "stock_data = yf.download(equity_tickers, start=start_date, end=end_date)[\"Close\"]\n",
        "\n",
        "# check the columns\n",
        "stock_data.columns\n",
        "import plotly.graph_objects as go\n",
        "\n",
        "# Assuming stock_data['SWK'] contains the data for Stanley Black & Decker's stock\n",
        "fig = go.Figure()\n",
        "\n",
        "# Add a line plot for SWK stock prices\n",
        "fig.add_trace(go.Scatter(\n",
        "    x=stock_data.index,  # Assuming the index contains dates\n",
        "    y=stock_data['SWK'],\n",
        "    mode='lines',\n",
        "    name='SWK Stock Prices'\n",
        "))\n",
        "\n",
        "\n",
        "# Customize the layout\n",
        "fig.update_layout(\n",
        "    title='SWK Stock Price Over Time',\n",
        "    xaxis_title='Date',\n",
        "    yaxis_title='Price',\n",
        "    template='plotly_white',\n",
        "    showlegend=True\n",
        ")\n",
        "\n",
        "# Show the plot\n",
        "fig.show()\n",
        "# Step 2: Prepare Data\n",
        "# Calculate daily returns\n",
        "market_returns = market_data.pct_change().dropna()\n",
        "stock_returns = stock_data.pct_change().dropna()\n",
        "\n",
        "# Convert risk-free rate from percentage to daily rate\n",
        "risk_free_rate = risk_free_data / 100 / 252\n",
        "risk_free_rate = risk_free_rate.reindex(market_returns.index, method=\"ffill\")\n",
        "\n",
        "# convert to pandas dataframe\n",
        "risk_free_rate = pd.DataFrame(risk_free_rate).dropna()\n",
        "\n",
        "# Merge All data together\n",
        "merged_df = pd.merge(stock_returns,\n",
        "                    pd.merge(market_returns, risk_free_rate,\n",
        "                            left_index=True, right_index=True),\n",
        "                    left_index=True, right_index=True)\n",
        "\n",
        "# Calculate cumulative return\n",
        "for col in merged_df.columns:\n",
        "    merged_df[f\"{col}_cumu_return\"] = (1 + merged_df[col]).cumprod()\n",
        "Above are the daily excess returns for SWK and the market index.\n",
        "# Calculate market excess return\n",
        "merged_df['market_excess_return'] = merged_df['^GSPC'] - merged_df['^IRX']\n",
        "merged_df['dt'] = merged_df.index"
      ]
    },
    {
      "cell_type": "code",
      "execution_count": null,
      "metadata": {
        "colab": {
          "base_uri": "https://localhost:8080/"
        },
        "id": "AoPWDvE0kLdr",
        "outputId": "50b44e2c-6124-4290-a2cf-fc05a30b81a3"
      },
      "outputs": [],
      "source": [
        "# use CAPM model\n",
        "stock = 'SWK'\n",
        "\n",
        "# Stock excess return ~ market excess return\n",
        "y = merged_df[stock] - merged_df['^IRX']\n",
        "x = merged_df['market_excess_return']\n",
        "model = sm.OLS(y, x).fit()\n",
        "model = sm.OLS(y, sm.add_constant(x)).fit()\n",
        "print(f\"CAPM model {stock}: beta is\")\n",
        "print(model.params)\n",
        "print(model.summary())\n",
        "print(f\"Alpha (intercept): {model.params[0]}\")\n"
      ]
    },
    {
      "cell_type": "markdown",
      "metadata": {
        "id": "SgjiOHIwmGd8"
      },
      "source": [
        "The stock is more volatile than the market because the beta is greater than 1.\n",
        "R-squared value is 0.299. Alpha is -.0011\n"
      ]
    },
    {
      "cell_type": "code",
      "execution_count": null,
      "metadata": {
        "colab": {
          "base_uri": "https://localhost:8080/",
          "height": 542
        },
        "id": "bIuQsT4bpn6t",
        "outputId": "126373f2-d6b4-4bb4-935c-064b0c77add9"
      },
      "outputs": [],
      "source": [
        "x_pred = np.linspace(x.min(), x.max(), 100)  # Create a range of x values for prediction\n",
        "X_pred = sm.add_constant(x_pred)  # Add constant for the intercept term\n",
        "y_pred = model.predict(X_pred)  # Predict y values using the fitted model\n",
        "\n",
        "fig = go.Figure()\n",
        "\n",
        "# Add scatter plot for the original data\n",
        "fig.add_trace(go.Scatter(x=x, y=y, mode='markers', name='Data'))\n",
        "\n",
        "   # Add line plot for the regression line\n",
        "fig.add_trace(go.Scatter(x=x_pred, y=y_pred, mode='lines', name='Regression Line', line=dict(color='red')))\n",
        "\n",
        "   # Customize the layout\n",
        "fig.update_layout(\n",
        "title='SWK Regression Plot',\n",
        "xaxis_title='Market Excess Return',\n",
        "yaxis_title='SWK Excess Return',\n",
        "showlegend=True\n",
        "   )\n",
        "\n",
        "fig.show()"
      ]
    },
    {
      "cell_type": "markdown",
      "metadata": {
        "id": "Spu9uMocsleO"
      },
      "source": [
        "Problem 2"
      ]
    },
    {
      "cell_type": "code",
      "execution_count": null,
      "metadata": {
        "colab": {
          "base_uri": "https://localhost:8080/"
        },
        "id": "5o_nz2EysnGA",
        "outputId": "56f55d14-25ba-4dd8-ea0f-51c3dba1d3fd"
      },
      "outputs": [],
      "source": [
        "import matplotlib.pyplot as plt\n",
        "from sklearn.metrics import mean_absolute_error, mean_absolute_percentage_error\n",
        "# Step 1: Fetch Data\n",
        "start_date = \"2022-01-01\"\n",
        "end_date = \"2024-12-31\"\n",
        "risk_free_ticker = \"^IRX\"  # Use the 13-week Treasury yield as a proxy for risk-free rate\n",
        "market_index_ticker = \"^GSPC\"  # S&P 500 index\n",
        "equity_tickers = [\"SWK\"]  # Replace with desired stock tickers\n",
        "\n",
        "# Fetch data\n",
        "risk_free_data = yf.download(risk_free_ticker, start=start_date, end=end_date)[\"Close\"]\n",
        "market_data = yf.download(market_index_ticker, start=start_date, end=end_date)[\"Close\"]\n",
        "stock_data = yf.download(equity_tickers, start=start_date, end=end_date)[\"Close\"]\n",
        "\n",
        "# Step 2: Prepare Data\n",
        "# Calculate daily returns\n",
        "market_returns = market_data.pct_change().dropna()\n",
        "stock_returns = stock_data.pct_change().dropna()"
      ]
    },
    {
      "cell_type": "code",
      "execution_count": null,
      "metadata": {
        "colab": {
          "base_uri": "https://localhost:8080/"
        },
        "id": "e7h8EaQ9sxM_",
        "outputId": "8824e2ad-0f50-400f-a767-e07e3ebfb2e6"
      },
      "outputs": [],
      "source": [
        "# Import FF Factors\n",
        "FF_df = pd.read_csv('fama_french.csv')\n",
        "FF_df['Date'] = pd.to_datetime(FF_df['Date'], format='%Y%m%d')\n",
        "FF_df['Mkt-RF'] = FF_df['Mkt-RF']/100\n",
        "FF_df['SMB'] = FF_df['SMB']/100\n",
        "FF_df['HML'] = FF_df['HML']/100\n",
        "FF_df['RF'] = FF_df['RF']/100\n",
        "\n",
        "\n",
        "# Merge the FF Factors to Stocks\n",
        "stock_returns = stock_returns.merge(FF_df, on = 'Date', how = 'inner')\n",
        "\n",
        "# print minimal and maximum dates\n",
        "print(stock_returns['Date'].min(), stock_returns['Date'].max())"
      ]
    },
    {
      "cell_type": "code",
      "execution_count": null,
      "metadata": {
        "colab": {
          "base_uri": "https://localhost:8080/",
          "height": 206
        },
        "id": "Z30Virv5uu5o",
        "outputId": "0b064c23-3964-4ce7-d3ad-5d6fe773ab12"
      },
      "outputs": [],
      "source": [
        "FF_df.head()"
      ]
    },
    {
      "cell_type": "code",
      "execution_count": null,
      "metadata": {
        "colab": {
          "base_uri": "https://localhost:8080/"
        },
        "id": "wgZbZABXu5h_",
        "outputId": "9d0d3e45-8515-41bd-8bd9-7214cead6663"
      },
      "outputs": [],
      "source": [
        "# use CAPM model\n",
        "stock = 'SWK'\n",
        "\n",
        "# Stock excess return ~ market excess return\n",
        "y = stock_returns[stock] - stock_returns['RF']\n",
        "x = stock_returns[['Mkt-RF', 'SMB', 'HML']]\n",
        "model = sm.OLS(y, x).fit()\n",
        "model = sm.OLS(y, sm.add_constant(x)).fit()\n",
        "print(f\"CAPM model {stock}: beta is\")\n",
        "print(model.summary())"
      ]
    },
    {
      "cell_type": "markdown",
      "metadata": {
        "id": "hxiF7_5jwEyR"
      },
      "source": [
        "The alpha is -.0010. The beta for the market is 1.0607. The coefficient for SMB 0.9110 and the coefficient for HML is 0.4233. The R-squared value for the 3-factor is .408. This is higher than the R-squared value for CAPM 0.299. All 3 coefficients are relevant because the P-value is very small. The SMB coefficient of 0.9110 means that SWK is a \"small\" company relative to the rest of the market. The HML coefficient of 0.4233 means that SWK behaves more like a value stock than a growth stock."
      ]
    },
    {
      "cell_type": "code",
      "execution_count": null,
      "metadata": {
        "colab": {
          "base_uri": "https://localhost:8080/"
        },
        "id": "iDZYChhBzM4_",
        "outputId": "c01b8d20-50ed-4009-9f91-ee55af4c3b5f"
      },
      "outputs": [],
      "source": [
        "#Problem 3\n",
        "start_date = \"2022-01-01\"\n",
        "end_date = \"2024-12-31\"\n",
        "risk_free_ticker = \"^IRX\"  # Use the 13-week Treasury yield as a proxy for risk-free rate\n",
        "market_index_ticker = \"^GSPC\"  # S&P 500 index\n",
        "equity_tickers = [\"SWK\", \"AAPL\", \"JPM\", \"XOM\", \"JNJ\", \"KO\", \"TSLA\", \"WMT\", \"BA\", \"MCD\"\n",
        "]\n",
        "# Step 2: Prepare Data\n",
        "\n",
        "stock_data = yf.download(equity_tickers, start=start_date, end=end_date)[\"Close\"]\n",
        "# Calculate daily returns\n",
        "market_returns = market_data.pct_change().dropna()\n",
        "stock_returns = stock_data.pct_change().dropna()\n",
        "\n"
      ]
    },
    {
      "cell_type": "code",
      "execution_count": null,
      "metadata": {
        "id": "RGosbGII0KZA"
      },
      "outputs": [],
      "source": [
        "stock_returns.describe()\n",
        "df=stock_returns.describe()"
      ]
    },
    {
      "cell_type": "code",
      "execution_count": null,
      "metadata": {
        "colab": {
          "base_uri": "https://localhost:8080/"
        },
        "id": "DMXdPx973C-r",
        "outputId": "b8e51a3f-a924-4aed-c0ee-d78054ea96dd"
      },
      "outputs": [],
      "source": [
        "df_t = df.T\n",
        "print(df_t)\n"
      ]
    },
    {
      "cell_type": "code",
      "execution_count": null,
      "metadata": {
        "colab": {
          "base_uri": "https://localhost:8080/",
          "height": 257
        },
        "id": "I5fW339S5l8-",
        "outputId": "912bd62c-7516-4498-a298-0e16896126f8"
      },
      "outputs": [],
      "source": [
        "df_t['name'] = ['SWK', 'AAPL', 'JPM', 'XOM', 'JNJ', 'KO', 'TSLA', 'WMT', 'BA', 'MCD']\n",
        "df_t.head()"
      ]
    },
    {
      "cell_type": "code",
      "execution_count": null,
      "metadata": {
        "colab": {
          "base_uri": "https://localhost:8080/"
        },
        "id": "s91PEq9o1JCj",
        "outputId": "bc295d17-c22a-48d0-cc7e-84fff29c7e38"
      },
      "outputs": [],
      "source": [
        "skewnness = stock_returns.skew()\n",
        "print(skewnness)"
      ]
    },
    {
      "cell_type": "code",
      "execution_count": null,
      "metadata": {
        "colab": {
          "base_uri": "https://localhost:8080/"
        },
        "id": "xMXV-nwp1J-Y",
        "outputId": "d1efe07b-0615-49f6-d569-00c7513ffc67"
      },
      "outputs": [],
      "source": [
        "kurtosis = stock_returns.kurtosis()\n",
        "print(kurtosis)"
      ]
    },
    {
      "cell_type": "markdown",
      "metadata": {
        "id": "WyN-BrIj1VFg"
      },
      "source": [
        "Above is the summary statistics for the 10 stocks."
      ]
    },
    {
      "cell_type": "code",
      "execution_count": null,
      "metadata": {
        "id": "7VOPd1Pv1Z-M"
      },
      "outputs": [],
      "source": [
        "from sklearn.cluster import KMeans"
      ]
    },
    {
      "cell_type": "code",
      "execution_count": null,
      "metadata": {
        "id": "-LcPLUMp2brg"
      },
      "outputs": [],
      "source": [
        "columns_for_clustering = ['mean', 'std']\n",
        "X = df_t[columns_for_clustering]"
      ]
    },
    {
      "cell_type": "code",
      "execution_count": null,
      "metadata": {
        "colab": {
          "base_uri": "https://localhost:8080/"
        },
        "id": "MesuKlhx30jw",
        "outputId": "da8ec7e8-59a4-4788-f907-36d56eb5c169"
      },
      "outputs": [],
      "source": [
        "optimal_clusters = 3\n",
        "\n",
        "# K-Means Clustering\n",
        "kmeans = KMeans(n_clusters=optimal_clusters, random_state=15).fit(X)\n",
        "X['Cluster'] = kmeans.labels_\n",
        "\n",
        "df_t['Cluster'] =  kmeans.labels_\n",
        "cluster_analysis = df_t.groupby('Cluster').agg(mean_mean = ('mean', 'mean'),\n",
        "                                                      mean_std= ('std', 'mean'),num_comp= ('name', 'count')\n",
        "                                                      ).reset_index()\n",
        "\n",
        "print(\"Cluster Analysis (Means and Record Counts):\\n\", cluster_analysis)"
      ]
    },
    {
      "cell_type": "code",
      "execution_count": null,
      "metadata": {
        "colab": {
          "base_uri": "https://localhost:8080/",
          "height": 1000
        },
        "id": "NEkKoVjW4k-k",
        "outputId": "7d2a15fc-7d7c-40c4-e0e4-ae146af7eac5"
      },
      "outputs": [],
      "source": [
        "from sklearn.decomposition import PCA\n",
        "import plotly.express as px\n",
        "\n",
        "# Perform PCA to reduce to 2D\n",
        "pca = PCA(n_components=2)\n",
        "X_pca = pca.fit_transform(X)  # Use X without the Cluster column for PCA\n",
        "\n",
        "# Add the PCA results and cluster labels to the dataframe\n",
        "X['PCA1'] = X_pca[:, 0]\n",
        "X['PCA2'] = X_pca[:, 1]\n",
        "X['Cluster'] = kmeans.labels_\n",
        "X['name'] = df_t['name']\n",
        "\n",
        "# Create a Plotly scatter plot with company names as labels\n",
        "fig = px.scatter(X, x='PCA1', y='PCA2', color='Cluster',\n",
        "                 hover_data=['name'],  # Show company names on hover\n",
        "                 title=\"PCA Projection of Clusters (Colored by Cluster, Labeled by Company Name)\",\n",
        "                 labels={'PCA1': 'Normalized Mean', 'PCA2': 'Normalized Standard Deviation'})\n",
        "\n",
        "# Show the plot\n",
        "fig.show()"
      ]
    },
    {
      "cell_type": "code",
      "execution_count": null,
      "metadata": {},
      "outputs": [],
      "source": []
    },
    {
      "cell_type": "markdown",
      "metadata": {
        "id": "BcNjFnTY7UWU"
      },
      "source": [
        "Cluster 0 had the most companies with 7 out of ten. Cluster 1 only had one company. Cluster 2 had 2 companies. Both Apple and Tesla are high value tech stocks so it might explain why they are clustered together. Walmart is alone in Cluster 1; it is in retail and might be seasonal so it fluctuates more resulting in a higher standard deviation. A lot of the companies in Cluster 0 are value stocks, not growth stocks, so they are more stable. They are clustered with a negative normalized mean daily return which might mean they have all been underperforming in the last 3 years."
      ]
    }
  ],
  "metadata": {
    "colab": {
      "provenance": []
    },
    "kernelspec": {
      "display_name": "Python 3",
      "language": "python",
      "name": "python3"
    },
    "language_info": {
      "codemirror_mode": {
        "name": "ipython",
        "version": 3
      },
      "file_extension": ".py",
      "mimetype": "text/x-python",
      "name": "python",
      "nbconvert_exporter": "python",
      "pygments_lexer": "ipython3",
      "version": "3.12.1"
    }
  },
  "nbformat": 4,
  "nbformat_minor": 0
}
