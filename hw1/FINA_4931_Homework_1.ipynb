{
  "cells": [
    {
      "cell_type": "markdown",
      "metadata": {
        "id": "vXYpNyaBnQ3j"
      },
      "source": [
        "Problem 1"
      ]
    },
    {
      "cell_type": "code",
      "execution_count": null,
      "metadata": {
        "id": "0FpLQ3aLaj3l"
      },
      "outputs": [],
      "source": [
        "import yfinance as yf\n",
        "import pandas as pd\n",
        "import numpy as np\n",
        "from datetime import datetime\n",
        "import statsmodels.api as sm"
      ]
    },
    {
      "cell_type": "code",
      "execution_count": null,
      "metadata": {
        "id": "eWC24zyScEz_"
      },
      "outputs": [],
      "source": [
        "start_date = \"2022-01-01\"\n",
        "end_date= \"2025-01-01\"\n",
        "risk_free_ticker = \"^IRX\"\n",
        "market_index_ticker= \"^GSPC\"\n",
        "equity_tickers= [\"MSFT\"]"
      ]
    },
    {
      "cell_type": "code",
      "execution_count": null,
      "metadata": {
        "colab": {
          "base_uri": "https://localhost:8080/"
        },
        "id": "SNiBns1ddTAX",
        "outputId": "dc32bb8f-de85-4b79-f52d-79171241e341"
      },
      "outputs": [],
      "source": [
        "risk_free_data = yf.download(risk_free_ticker, start=start_date, end=end_date)[\"Close\"]\n",
        "market_data = yf.download(market_index_ticker, start=start_date, end=end_date)[\"Close\"]\n",
        "stock_data = yf.download(equity_tickers, start=start_date, end=end_date)[\"Close\"]"
      ]
    },
    {
      "cell_type": "markdown",
      "metadata": {
        "id": "UY3xoJ7hTENP"
      },
      "source": []
    },
    {
      "cell_type": "code",
      "execution_count": null,
      "metadata": {
        "id": "R8HNEVuzSrfu"
      },
      "outputs": [],
      "source": [
        "import plotly.graph_objects as go"
      ]
    },
    {
      "cell_type": "code",
      "execution_count": null,
      "metadata": {
        "id": "UAZHY3ifT1Zp"
      },
      "outputs": [],
      "source": [
        "market_returns = market_data.pct_change().dropna()\n",
        "stock_returns = stock_data.pct_change().dropna()\n",
        "\n",
        "risk_free_rate = risk_free_data / 100 / 252\n",
        "risk_free_rate = risk_free_rate.reindex(market_returns.index, method=\"ffill\")\n",
        "\n",
        "risk_free_rate = pd.DataFrame(risk_free_rate).dropna()\n",
        "\n",
        "merged_df = pd.merge(stock_returns,\n",
        "                     pd.merge(market_returns, risk_free_rate,\n",
        "                             left_index=True, right_index=True),\n",
        "                     left_index=True, right_index=True)\n",
        "\n",
        "for col in merged_df.columns:\n",
        "  merged_df[f\"{col}_cumu_return\"] = (1 + merged_df[col]).cumprod()"
      ]
    },
    {
      "cell_type": "code",
      "execution_count": null,
      "metadata": {
        "id": "kCWIYeprV17X"
      },
      "outputs": [],
      "source": [
        "merged_df['market_excess_return'] = merged_df['^GSPC'] - merged_df['^IRX']\n",
        "merged_df['dt'] = merged_df.index"
      ]
    },
    {
      "cell_type": "code",
      "execution_count": null,
      "metadata": {
        "colab": {
          "base_uri": "https://localhost:8080/"
        },
        "id": "LZndHZBkYbtW",
        "outputId": "61cd2513-4b9d-430a-b7f7-ffbb9cc77b72"
      },
      "outputs": [],
      "source": [
        "stock = 'MSFT'\n",
        "y = merged_df[stock] - merged_df['^IRX']\n",
        "x= merged_df['market_excess_return']\n",
        "model = sm.OLS(y, x).fit()\n",
        "print(f\"CAPM model {stock}: beta is\")\n",
        "print(model.params)"
      ]
    },
    {
      "cell_type": "code",
      "execution_count": null,
      "metadata": {
        "colab": {
          "base_uri": "https://localhost:8080/"
        },
        "id": "hI4O-AkeZb4Z",
        "outputId": "4a275d38-1f31-4b66-94d1-c636fd698855"
      },
      "outputs": [],
      "source": [
        "stock = '^GSPC'\n",
        "y = merged_df[stock] - merged_df['^IRX']\n",
        "x= merged_df['market_excess_return']\n",
        "model = sm.OLS(y, x).fit()\n",
        "print(f\"CAPM model {stock}: beta is\")\n",
        "print(model.params)"
      ]
    },
    {
      "cell_type": "code",
      "execution_count": null,
      "metadata": {
        "colab": {
          "base_uri": "https://localhost:8080/"
        },
        "id": "pe-O3XWX5X3G",
        "outputId": "79cd2189-50e9-44c2-91f1-337013ad6cf2"
      },
      "outputs": [],
      "source": [
        "print(model.summary())"
      ]
    },
    {
      "cell_type": "markdown",
      "metadata": {
        "id": "VmVeyC0ojd7y"
      },
      "source": [
        "Based on the results above,  I can say that MSFT is less volatile than the market due to its lesser beta value. Unfortunately, I could not for the life of me figure out how to plot graphs."
      ]
    },
    {
      "cell_type": "markdown",
      "metadata": {
        "id": "ljHKt2kNnV8Q"
      },
      "source": [
        "Problem 2"
      ]
    },
    {
      "cell_type": "code",
      "execution_count": null,
      "metadata": {
        "id": "hvOIkIBmnW_K"
      },
      "outputs": [],
      "source": [
        "import yfinance as yf\n",
        "import pandas as pd\n",
        "import numpy as np\n",
        "from datetime import datetime\n",
        "import statsmodels.api as sm"
      ]
    },
    {
      "cell_type": "code",
      "execution_count": null,
      "metadata": {
        "id": "MDKEymiDoWnE"
      },
      "outputs": [],
      "source": [
        "start_date = \"2022-01-01\"\n",
        "end_date= \"2025-01-01\"\n",
        "risk_free_ticker = \"^IRX\"\n",
        "market_index_ticker= \"^GSPC\"\n",
        "equity_tickers= [\"MSFT\"]"
      ]
    },
    {
      "cell_type": "code",
      "execution_count": null,
      "metadata": {
        "colab": {
          "base_uri": "https://localhost:8080/"
        },
        "id": "_9RCDJixoZbj",
        "outputId": "6371cbf7-c3fb-4a7c-e1a0-4fa50574a790"
      },
      "outputs": [],
      "source": [
        "risk_free_data = yf.download(risk_free_ticker, start=start_date, end=end_date)[\"Close\"]\n",
        "market_data = yf.download(market_index_ticker, start=start_date, end=end_date)[\"Close\"]\n",
        "stock_data = yf.download(equity_tickers, start=start_date, end=end_date)[\"Close\"]"
      ]
    },
    {
      "cell_type": "code",
      "execution_count": null,
      "metadata": {
        "colab": {
          "base_uri": "https://localhost:8080/"
        },
        "id": "5LzbMIYAx9tn",
        "outputId": "0364af90-6d93-4af8-efaa-d3ed08588159"
      },
      "outputs": [],
      "source": [
        "stock = 'MSFT'\n",
        "y = merged_df[stock] - merged_df['^IRX']\n",
        "x= merged_df['market_excess_return']\n",
        "model = sm.OLS(y, x).fit()\n",
        "print(f\"CAPM model {stock}: beta is\")\n",
        "print(model.params)"
      ]
    },
    {
      "cell_type": "code",
      "execution_count": null,
      "metadata": {
        "colab": {
          "base_uri": "https://localhost:8080/"
        },
        "id": "eNhv7NIFohCL",
        "outputId": "32c4eeb7-0049-461f-a54a-238ad8b55f60"
      },
      "outputs": [],
      "source": [
        "FF_df = pd.read_csv(\"/adjusted fama french daily.csv\")\n",
        "FF_df['Date'] = pd.to_datetime(FF_df['Date'], format='%Y%m%d')\n",
        "FF_df['Mkt_RF'] = FF_df['Mkt-RF']/100\n",
        "FF_df['SMB'] = FF_df['SMB']/100\n",
        "FF_df['HML'] = FF_df['HML']/100\n",
        "FF_df['RMW'] = FF_df['RMW']/100\n",
        "\n",
        "stock_returns = stock_returns.merge(FF_df, on = 'Date', how = 'inner')\n",
        "\n",
        "print(stock_returns['Date'].min(), stock_returns['Date'].max())"
      ]
    },
    {
      "cell_type": "code",
      "execution_count": null,
      "metadata": {
        "colab": {
          "base_uri": "https://localhost:8080/",
          "height": 272
        },
        "id": "EbCGdsdiy0wo",
        "outputId": "87bfd82b-d5ce-4955-c316-577382c7e051"
      },
      "outputs": [],
      "source": [
        "FF_df.dtypes"
      ]
    },
    {
      "cell_type": "code",
      "execution_count": null,
      "metadata": {
        "colab": {
          "base_uri": "https://localhost:8080/",
          "height": 206
        },
        "id": "5AcREbm927AX",
        "outputId": "7c57460a-fd01-4a97-cae4-9a736df21589"
      },
      "outputs": [],
      "source": [
        "FF_df.head()"
      ]
    },
    {
      "cell_type": "code",
      "execution_count": null,
      "metadata": {
        "colab": {
          "base_uri": "https://localhost:8080/",
          "height": 1000
        },
        "id": "Wb4uGbET3c0p",
        "outputId": "f3eb0f02-e611-4426-d86f-f284a73f04d2"
      },
      "outputs": [],
      "source": [
        "stock_returns.head()"
      ]
    },
    {
      "cell_type": "code",
      "execution_count": null,
      "metadata": {
        "colab": {
          "base_uri": "https://localhost:8080/"
        },
        "id": "sHKaDSF47eXR",
        "outputId": "b3fc797e-0346-43f6-fed9-81741f0a8a3a"
      },
      "outputs": [],
      "source": [
        "y = stock_returns['MSFT'] - stock_returns['RMW']\n",
        "x = stock_returns[['Mkt_RF', 'SMB', 'HML']]\n",
        "model= sm.OLS(y, x).fit()\n",
        "print(model.summary())"
      ]
    },
    {
      "cell_type": "markdown",
      "metadata": {
        "id": "1fsMzjAx4ECQ"
      },
      "source": [
        "R squared appears to be greater for the FF model.\n",
        "I can say that it appears low SMB ratios are caused by overexposure to large market caps, and high HMLs account for value stocks."
      ]
    },
    {
      "cell_type": "markdown",
      "metadata": {
        "id": "x2_k21As42_P"
      },
      "source": [
        "Problem3"
      ]
    },
    {
      "cell_type": "code",
      "execution_count": null,
      "metadata": {
        "id": "iXaTvaKN45nP"
      },
      "outputs": [],
      "source": [
        "import yfinance as yf\n",
        "import pandas as pd\n",
        "import numpy as np\n",
        "from datetime import datetime\n",
        "import statsmodels.api as sm\n",
        "import matplotlib.pyplot as plt\n",
        "from sklearn.metrics import mean_absolute_error, mean_absolute_percentage_error"
      ]
    },
    {
      "cell_type": "code",
      "execution_count": null,
      "metadata": {
        "colab": {
          "base_uri": "https://localhost:8080/"
        },
        "id": "bwZQhp3pAE5r",
        "outputId": "575fe174-7bb5-4a2c-ba05-2fd79306390f"
      },
      "outputs": [],
      "source": [
        "start_date = \"2022-01-01\"\n",
        "end_date= \"2025-01-01\"\n",
        "\n",
        "Stock1 = [\"AAPL\"]\n",
        "Stock2 = [\"MSFT\"]\n",
        "Stock3 = [\"GOOGL\"]\n",
        "Stock4 = [\"AMZN\"]\n",
        "Stock5 = [\"META\"]\n",
        "Stock6 = [\"TSLA\"]\n",
        "Stock7 = [\"JPM\"]\n",
        "Stock8 = [\"PFE\"]\n",
        "Stock9 = [\"KO\"]\n",
        "Stock10 = [\"XOM\"]\n",
        "Stock1 = yf.download(Stock1, start=start_date, end=end_date)[\"Close\"]\n",
        "Stock2 = yf.download(Stock2, start=start_date, end=end_date)[\"Close\"]\n",
        "Stock3 = yf.download(Stock3, start=start_date, end=end_date)[\"Close\"]\n",
        "Stock4 = yf.download(Stock4, start=start_date, end=end_date)[\"Close\"]\n",
        "Stock5 = yf.download(Stock5, start=start_date, end=end_date)[\"Close\"]\n",
        "Stock6 = yf.download(Stock6, start=start_date, end=end_date)[\"Close\"]\n",
        "Stock7 = yf.download(Stock7, start=start_date, end=end_date)[\"Close\"]\n",
        "Stock8 = yf.download(Stock8, start=start_date, end=end_date)[\"Close\"]\n",
        "Stock9 = yf.download(Stock9, start=start_date, end=end_date)[\"Close\"]\n",
        "Stock10 = yf.download(Stock10, start=start_date, end=end_date)[\"Close\"]"
      ]
    },
    {
      "cell_type": "code",
      "execution_count": null,
      "metadata": {
        "id": "ygOs6shZUUX0"
      },
      "outputs": [],
      "source": [
        "stock_datas = pd.concat([Stock1, Stock2, Stock3, Stock4, Stock5, Stock6, Stock7, Stock8, Stock9, Stock10], axis=1)\n",
        "stock_datas.columns = ['AAPL', 'MSFT', 'GOOGL', 'AMZN', 'META', 'TSLA', 'JPM', 'PFE', 'KO', 'XOM']\n",
        "stock_returns = stock_datas.pct_change().dropna()"
      ]
    },
    {
      "cell_type": "code",
      "execution_count": null,
      "metadata": {
        "colab": {
          "base_uri": "https://localhost:8080/",
          "height": 344
        },
        "id": "5NQR_fuCVdIo",
        "outputId": "6eba2d8f-d242-4ec8-d9eb-c1519a05a1ff"
      },
      "outputs": [],
      "source": [
        "stock_returns.head()"
      ]
    },
    {
      "cell_type": "code",
      "execution_count": null,
      "metadata": {
        "colab": {
          "base_uri": "https://localhost:8080/"
        },
        "id": "Z5KVySrDcuCs",
        "outputId": "26c025f9-6cdf-4bf4-dc1e-223d34ac2f16"
      },
      "outputs": [],
      "source": [
        "FF_df = pd.read_csv(\"/adjusted fama french daily.csv\")\n",
        "FF_df['Date'] = pd.to_datetime(FF_df['Date'], format='%Y%m%d')\n",
        "FF_df['Mkt_RF'] = FF_df['Mkt-RF']/100\n",
        "FF_df['SMB'] = FF_df['SMB']/100\n",
        "FF_df['HML'] = FF_df['HML']/100\n",
        "FF_df['RMW'] = FF_df['RMW']/100\n",
        "\n",
        "stock_returns = stock_returns.merge(FF_df, on = 'Date', how = 'inner')\n",
        "\n",
        "print(stock_returns['Date'].min(), stock_returns['Date'].max())"
      ]
    },
    {
      "cell_type": "code",
      "execution_count": null,
      "metadata": {
        "colab": {
          "base_uri": "https://localhost:8080/"
        },
        "id": "tp-MKv0yfywe",
        "outputId": "d7f17476-fd6d-45d4-d81e-3d1ec5004a91"
      },
      "outputs": [],
      "source": [
        "columns_to_exclude = ['Data', 'Mkt-RF', 'SMB', 'HML', 'RMW']\n",
        "\n",
        "stock_list = [col for col in stock_returns.columns if col not in columns_to_exclude]\n",
        "\n",
        "print(stock_list)"
      ]
    },
    {
      "cell_type": "code",
      "execution_count": null,
      "metadata": {
        "colab": {
          "base_uri": "https://localhost:8080/",
          "height": 206
        },
        "id": "Kmtw7qktiRNc",
        "outputId": "699d63ec-8d35-4458-9014-f8205c3a9963"
      },
      "outputs": [],
      "source": [
        "all_betas = []\n",
        "for stock in stock_list:\n",
        "  if stock == 'Date':\n",
        "    continue\n",
        "\n",
        "  y = stock_returns[stock] - stock_returns['RMW']\n",
        "  x = stock_returns[['Mkt_RF', 'SMB', 'HML']]\n",
        "  model= sm.OLS(y, x).fit()\n",
        "  temp = {'ticker': stock,\n",
        "          'MKT_excess_beta': model.params['Mkt_RF'],\n",
        "          'SMB_beta': model.params['SMB'],\n",
        "          'HML_beta': model.params['HML']}\n",
        "  all_betas.append(temp)\n",
        "\n",
        "all_beta_df = pd.DataFrame(all_betas)\n",
        "all_beta_df.head()"
      ]
    },
    {
      "cell_type": "code",
      "execution_count": null,
      "metadata": {
        "colab": {
          "base_uri": "https://localhost:8080/",
          "height": 822
        },
        "id": "zYj7xChrpguw",
        "outputId": "fc68db71-b3ea-4dfb-a174-631e9a29d393"
      },
      "outputs": [],
      "source": [
        "from sklearn.cluster import KMeans\n",
        "from sklearn.metrics import silhouette_score\n",
        "import matplotlib.pyplot as plt\n",
        "\n",
        "columns_for_clustering = ['MKT_excess_beta','SMB_beta','HML_beta']\n",
        "X = all_beta_df[columns_for_clustering]\n",
        "\n",
        "inertia = []\n",
        "silhoutte_scores = []\n",
        "range_n_clusters = range(2, 11)\n",
        "\n",
        "for k in range_n_clusters:\n",
        "  kmeans = KMeans(n_clusters=k)\n",
        "  kmeans.fit(X)\n",
        "  inertia.append(kmeans.inertia_)\n",
        "  silhoutte_scores.append(silhouette_score(X, kmeans.labels_))\n",
        "\n",
        "  plt.figure(figsize=(12, 5))\n",
        "\n",
        "  plt.subplot(1, 2, 1)\n",
        "  plt.plot(range_n_clusters, inertia)\n",
        "  plt.xlabel('Number of clusters')\n",
        "  plt.ylabel('Inertia')\n",
        "\n",
        "  plt.subplot(1, 2, 2)\n",
        "  plt.plot(range_n_clusters, silhoutte_scores, marker='0')\n",
        "  plt.xlabel('Number of clusters')\n",
        "  plt.ylabel('Silhouette score')\n",
        "\n",
        "  plt.tight_layout()\n",
        "  plt.show()"
      ]
    },
    {
      "cell_type": "code",
      "execution_count": null,
      "metadata": {
        "colab": {
          "base_uri": "https://localhost:8080/",
          "height": 369
        },
        "id": "6FhFm29AxWQ-",
        "outputId": "62eea0e3-6404-45ae-dc26-a05bd000ce52"
      },
      "outputs": [],
      "source": [
        "from sklearn.cluster import KMeans\n",
        "from sklearn.metrics import silhouette_score\n",
        "import matplotlib.pyplot as plt\n",
        "\n",
        "columns_for_clustering = ['MKT_excess_beta','SMB_beta','HML_beta']\n",
        "X = all_beta_df[columns_for_clustering]\n",
        "\n",
        "inertia = []\n",
        "silhoutte_scores = []\n",
        "range_n_clusters = range(2, 11)\n",
        "\n",
        "# Calculate inertia and silhouette scores for all cluster numbers first\n",
        "for k in range_n_clusters:\n",
        "  kmeans = KMeans(n_clusters=k)\n",
        "  kmeans.fit(X)\n",
        "  inertia.append(kmeans.inertia_)\n",
        "  silhoutte_scores.append(silhouette_score(X, kmeans.labels_))\n",
        "\n",
        "# Then plot the results outside the loop\n",
        "plt.figure(figsize=(12, 5))\n",
        "\n",
        "plt.subplot(1, 2, 1)\n",
        "plt.plot(range_n_clusters, inertia)\n",
        "plt.xlabel('Number of clusters')\n",
        "plt.ylabel('Inertia')\n",
        "\n",
        "plt.subplot(1, 2, 2)\n",
        "plt.plot(range_n_clusters, silhoutte_scores)\n",
        "plt.xlabel('Number of clusters')\n",
        "plt.ylabel('Silhouette score')\n",
        "\n",
        "plt.tight_layout()\n",
        "plt.show()"
      ]
    },
    {
      "cell_type": "code",
      "execution_count": null,
      "metadata": {
        "colab": {
          "base_uri": "https://localhost:8080/"
        },
        "id": "ywkBScUkxw2x",
        "outputId": "1013ba2f-a710-436e-9310-b6de97ae644f"
      },
      "outputs": [],
      "source": [
        "optimal_clusters = 3\n",
        "\n",
        "kmeans = KMeans(n_clusters=optimal_clusters, random_state=20).fit(X)\n",
        "X['Cluster'] = kmeans.labels_\n",
        "\n",
        "all_beta_df['Cluster'] = kmeans.labels_\n",
        "cluster_analysis = all_beta_df.groupby('Cluster').agg(mean_mkt_beta = ('MKT_excess_beta', 'mean'),\n",
        "                                                       mean_smb_beta = ('SMB_beta', 'mean'),\n",
        "                                                       mean_hml_beta = ('HML_beta', 'mean'))\n",
        "\n",
        "\n",
        "print(\"Cluster Analysis (Means and Record Counts):\\n\"), cluster_analysis\n"
      ]
    },
    {
      "cell_type": "markdown",
      "metadata": {
        "id": "TZ-QWTbK1fgd"
      },
      "source": [
        "I was unable to figure out how to graph the scatterplot, but from the table I can tell that stocks from this industry vary in volatility and market cap all the way across the spectrum."
      ]
    }
  ],
  "metadata": {
    "colab": {
      "provenance": []
    },
    "kernelspec": {
      "display_name": "Python 3",
      "name": "python3"
    },
    "language_info": {
      "name": "python"
    }
  },
  "nbformat": 4,
  "nbformat_minor": 0
}
