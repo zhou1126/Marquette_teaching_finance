{
  "cells": [
    {
      "cell_type": "markdown",
      "metadata": {
        "colab_type": "text",
        "id": "view-in-github"
      },
      "source": [
        "<a href=\"https://colab.research.google.com/github/zhou1126/Marquette_teaching_finance/blob/main/Taiwan_bankruptcy.ipynb\" target=\"_parent\"><img src=\"https://colab.research.google.com/assets/colab-badge.svg\" alt=\"Open In Colab\"/></a>"
      ]
    },
    {
      "cell_type": "code",
      "execution_count": 1,
      "metadata": {
        "colab": {
          "base_uri": "https://localhost:8080/"
        },
        "id": "lwE984_uv7dd",
        "outputId": "56427958-9dc3-47ca-8e0d-d88cba8c247d"
      },
      "outputs": [
        {
          "name": "stderr",
          "output_type": "stream",
          "text": [
            "/home/codespace/.python/current/lib/python3.12/site-packages/tqdm/auto.py:21: TqdmWarning: IProgress not found. Please update jupyter and ipywidgets. See https://ipywidgets.readthedocs.io/en/stable/user_install.html\n",
            "  from .autonotebook import tqdm as notebook_tqdm\n"
          ]
        },
        {
          "name": "stdout",
          "output_type": "stream",
          "text": [
            "Data source import complete.\n"
          ]
        }
      ],
      "source": [
        "# IMPORTANT: RUN THIS CELL IN ORDER TO IMPORT YOUR KAGGLE DATA SOURCES,\n",
        "# THEN FEEL FREE TO DELETE THIS CELL.\n",
        "# NOTE: THIS NOTEBOOK ENVIRONMENT DIFFERS FROM KAGGLE'S PYTHON\n",
        "# ENVIRONMENT SO THERE MAY BE MISSING LIBRARIES USED BY YOUR\n",
        "# NOTEBOOK.\n",
        "import kagglehub\n",
        "fedesoriano_company_bankruptcy_prediction_path = kagglehub.dataset_download('fedesoriano/company-bankruptcy-prediction')\n",
        "\n",
        "print('Data source import complete.')\n"
      ]
    },
    {
      "cell_type": "code",
      "execution_count": 2,
      "metadata": {
        "_cell_guid": "b1076dfc-b9ad-4769-8c92-a6c4dae69d19",
        "_uuid": "8f2839f25d086af736a60e9eeb907d3b93b6e0e5",
        "colab": {
          "base_uri": "https://localhost:8080/"
        },
        "execution": {
          "iopub.execute_input": "2025-01-24T23:31:58.092832Z",
          "iopub.status.busy": "2025-01-24T23:31:58.092361Z",
          "iopub.status.idle": "2025-01-24T23:31:58.100763Z",
          "shell.execute_reply": "2025-01-24T23:31:58.099427Z",
          "shell.execute_reply.started": "2025-01-24T23:31:58.092801Z"
        },
        "id": "l-s4TJTkv7df",
        "outputId": "f456a0ed-b584-43a0-957e-89adbed3de6a",
        "trusted": true
      },
      "outputs": [],
      "source": [
        "# This Python 3 environment comes with many helpful analytics libraries installed\n",
        "# It is defined by the kaggle/python Docker image: https://github.com/kaggle/docker-python\n",
        "# For example, here's several helpful packages to load\n",
        "\n",
        "import numpy as np # linear algebra\n",
        "import pandas as pd # data processing, CSV file I/O (e.g. pd.read_csv)\n",
        "\n",
        "pd.set_option('display.max_rows', None)\n",
        "pd.set_option('display.max_columns', None)\n",
        "\n",
        "# Input data files are available in the read-only \"../input/\" directory\n",
        "# For example, running this (by clicking run or pressing Shift+Enter) will list all files under the input directory\n",
        "\n",
        "import os\n",
        "for dirname, _, filenames in os.walk('/root/.cache/kagglehub/datasets/fedesoriano/company-bankruptcy-prediction/versions/2'):\n",
        "    for filename in filenames:\n",
        "        print(os.path.join(dirname, filename))\n",
        "\n",
        "import matplotlib.pyplot as plt\n",
        "\n",
        "# You can write up to 20GB to the current directory (/kaggle/working/) that gets preserved as output when you create a version using \"Save & Run All\"\n",
        "# You can also write temporary files to /kaggle/temp/, but they won't be saved outside of the current session"
      ]
    },
    {
      "cell_type": "code",
      "execution_count": 3,
      "metadata": {
        "colab": {
          "base_uri": "https://localhost:8080/",
          "height": 36
        },
        "id": "QqWeGmV6wKcY",
        "outputId": "28fb3fb2-130c-44ef-88e2-49b78a63bd51"
      },
      "outputs": [
        {
          "data": {
            "text/plain": [
              "'/home/codespace/.cache/kagglehub/datasets/fedesoriano/company-bankruptcy-prediction/versions/2'"
            ]
          },
          "execution_count": 3,
          "metadata": {},
          "output_type": "execute_result"
        }
      ],
      "source": [
        "fedesoriano_company_bankruptcy_prediction_path"
      ]
    },
    {
      "cell_type": "code",
      "execution_count": 4,
      "metadata": {
        "colab": {
          "base_uri": "https://localhost:8080/"
        },
        "execution": {
          "iopub.execute_input": "2025-01-24T23:38:54.349271Z",
          "iopub.status.busy": "2025-01-24T23:38:54.348899Z",
          "iopub.status.idle": "2025-01-24T23:38:54.587223Z",
          "shell.execute_reply": "2025-01-24T23:38:54.585867Z",
          "shell.execute_reply.started": "2025-01-24T23:38:54.349243Z"
        },
        "id": "-QDUwSPSv7dg",
        "outputId": "e6dcea65-ac68-47c3-a1c8-ebfec93ca358",
        "trusted": true
      },
      "outputs": [
        {
          "ename": "PermissionError",
          "evalue": "[Errno 13] Permission denied: '/root/.cache/kagglehub/datasets/fedesoriano/company-bankruptcy-prediction/versions/2/data.csv'",
          "output_type": "error",
          "traceback": [
            "\u001b[0;31m---------------------------------------------------------------------------\u001b[0m",
            "\u001b[0;31mPermissionError\u001b[0m                           Traceback (most recent call last)",
            "Cell \u001b[0;32mIn[4], line 1\u001b[0m\n\u001b[0;32m----> 1\u001b[0m df \u001b[38;5;241m=\u001b[39m \u001b[43mpd\u001b[49m\u001b[38;5;241;43m.\u001b[39;49m\u001b[43mread_csv\u001b[49m\u001b[43m(\u001b[49m\u001b[38;5;124;43m'\u001b[39;49m\u001b[38;5;124;43m/root/.cache/kagglehub/datasets/fedesoriano/company-bankruptcy-prediction/versions/2/data.csv\u001b[39;49m\u001b[38;5;124;43m'\u001b[39;49m\u001b[43m)\u001b[49m\n\u001b[1;32m      2\u001b[0m \u001b[38;5;66;03m# Remove leading and trailing spaces from column names\u001b[39;00m\n\u001b[1;32m      3\u001b[0m df\u001b[38;5;241m.\u001b[39mcolumns \u001b[38;5;241m=\u001b[39m df\u001b[38;5;241m.\u001b[39mcolumns\u001b[38;5;241m.\u001b[39mstr\u001b[38;5;241m.\u001b[39mstrip()\n",
            "File \u001b[0;32m~/.local/lib/python3.12/site-packages/pandas/io/parsers/readers.py:1026\u001b[0m, in \u001b[0;36mread_csv\u001b[0;34m(filepath_or_buffer, sep, delimiter, header, names, index_col, usecols, dtype, engine, converters, true_values, false_values, skipinitialspace, skiprows, skipfooter, nrows, na_values, keep_default_na, na_filter, verbose, skip_blank_lines, parse_dates, infer_datetime_format, keep_date_col, date_parser, date_format, dayfirst, cache_dates, iterator, chunksize, compression, thousands, decimal, lineterminator, quotechar, quoting, doublequote, escapechar, comment, encoding, encoding_errors, dialect, on_bad_lines, delim_whitespace, low_memory, memory_map, float_precision, storage_options, dtype_backend)\u001b[0m\n\u001b[1;32m   1013\u001b[0m kwds_defaults \u001b[38;5;241m=\u001b[39m _refine_defaults_read(\n\u001b[1;32m   1014\u001b[0m     dialect,\n\u001b[1;32m   1015\u001b[0m     delimiter,\n\u001b[0;32m   (...)\u001b[0m\n\u001b[1;32m   1022\u001b[0m     dtype_backend\u001b[38;5;241m=\u001b[39mdtype_backend,\n\u001b[1;32m   1023\u001b[0m )\n\u001b[1;32m   1024\u001b[0m kwds\u001b[38;5;241m.\u001b[39mupdate(kwds_defaults)\n\u001b[0;32m-> 1026\u001b[0m \u001b[38;5;28;01mreturn\u001b[39;00m \u001b[43m_read\u001b[49m\u001b[43m(\u001b[49m\u001b[43mfilepath_or_buffer\u001b[49m\u001b[43m,\u001b[49m\u001b[43m \u001b[49m\u001b[43mkwds\u001b[49m\u001b[43m)\u001b[49m\n",
            "File \u001b[0;32m~/.local/lib/python3.12/site-packages/pandas/io/parsers/readers.py:620\u001b[0m, in \u001b[0;36m_read\u001b[0;34m(filepath_or_buffer, kwds)\u001b[0m\n\u001b[1;32m    617\u001b[0m _validate_names(kwds\u001b[38;5;241m.\u001b[39mget(\u001b[38;5;124m\"\u001b[39m\u001b[38;5;124mnames\u001b[39m\u001b[38;5;124m\"\u001b[39m, \u001b[38;5;28;01mNone\u001b[39;00m))\n\u001b[1;32m    619\u001b[0m \u001b[38;5;66;03m# Create the parser.\u001b[39;00m\n\u001b[0;32m--> 620\u001b[0m parser \u001b[38;5;241m=\u001b[39m \u001b[43mTextFileReader\u001b[49m\u001b[43m(\u001b[49m\u001b[43mfilepath_or_buffer\u001b[49m\u001b[43m,\u001b[49m\u001b[43m \u001b[49m\u001b[38;5;241;43m*\u001b[39;49m\u001b[38;5;241;43m*\u001b[39;49m\u001b[43mkwds\u001b[49m\u001b[43m)\u001b[49m\n\u001b[1;32m    622\u001b[0m \u001b[38;5;28;01mif\u001b[39;00m chunksize \u001b[38;5;129;01mor\u001b[39;00m iterator:\n\u001b[1;32m    623\u001b[0m     \u001b[38;5;28;01mreturn\u001b[39;00m parser\n",
            "File \u001b[0;32m~/.local/lib/python3.12/site-packages/pandas/io/parsers/readers.py:1620\u001b[0m, in \u001b[0;36mTextFileReader.__init__\u001b[0;34m(self, f, engine, **kwds)\u001b[0m\n\u001b[1;32m   1617\u001b[0m     \u001b[38;5;28mself\u001b[39m\u001b[38;5;241m.\u001b[39moptions[\u001b[38;5;124m\"\u001b[39m\u001b[38;5;124mhas_index_names\u001b[39m\u001b[38;5;124m\"\u001b[39m] \u001b[38;5;241m=\u001b[39m kwds[\u001b[38;5;124m\"\u001b[39m\u001b[38;5;124mhas_index_names\u001b[39m\u001b[38;5;124m\"\u001b[39m]\n\u001b[1;32m   1619\u001b[0m \u001b[38;5;28mself\u001b[39m\u001b[38;5;241m.\u001b[39mhandles: IOHandles \u001b[38;5;241m|\u001b[39m \u001b[38;5;28;01mNone\u001b[39;00m \u001b[38;5;241m=\u001b[39m \u001b[38;5;28;01mNone\u001b[39;00m\n\u001b[0;32m-> 1620\u001b[0m \u001b[38;5;28mself\u001b[39m\u001b[38;5;241m.\u001b[39m_engine \u001b[38;5;241m=\u001b[39m \u001b[38;5;28;43mself\u001b[39;49m\u001b[38;5;241;43m.\u001b[39;49m\u001b[43m_make_engine\u001b[49m\u001b[43m(\u001b[49m\u001b[43mf\u001b[49m\u001b[43m,\u001b[49m\u001b[43m \u001b[49m\u001b[38;5;28;43mself\u001b[39;49m\u001b[38;5;241;43m.\u001b[39;49m\u001b[43mengine\u001b[49m\u001b[43m)\u001b[49m\n",
            "File \u001b[0;32m~/.local/lib/python3.12/site-packages/pandas/io/parsers/readers.py:1880\u001b[0m, in \u001b[0;36mTextFileReader._make_engine\u001b[0;34m(self, f, engine)\u001b[0m\n\u001b[1;32m   1878\u001b[0m     \u001b[38;5;28;01mif\u001b[39;00m \u001b[38;5;124m\"\u001b[39m\u001b[38;5;124mb\u001b[39m\u001b[38;5;124m\"\u001b[39m \u001b[38;5;129;01mnot\u001b[39;00m \u001b[38;5;129;01min\u001b[39;00m mode:\n\u001b[1;32m   1879\u001b[0m         mode \u001b[38;5;241m+\u001b[39m\u001b[38;5;241m=\u001b[39m \u001b[38;5;124m\"\u001b[39m\u001b[38;5;124mb\u001b[39m\u001b[38;5;124m\"\u001b[39m\n\u001b[0;32m-> 1880\u001b[0m \u001b[38;5;28mself\u001b[39m\u001b[38;5;241m.\u001b[39mhandles \u001b[38;5;241m=\u001b[39m \u001b[43mget_handle\u001b[49m\u001b[43m(\u001b[49m\n\u001b[1;32m   1881\u001b[0m \u001b[43m    \u001b[49m\u001b[43mf\u001b[49m\u001b[43m,\u001b[49m\n\u001b[1;32m   1882\u001b[0m \u001b[43m    \u001b[49m\u001b[43mmode\u001b[49m\u001b[43m,\u001b[49m\n\u001b[1;32m   1883\u001b[0m \u001b[43m    \u001b[49m\u001b[43mencoding\u001b[49m\u001b[38;5;241;43m=\u001b[39;49m\u001b[38;5;28;43mself\u001b[39;49m\u001b[38;5;241;43m.\u001b[39;49m\u001b[43moptions\u001b[49m\u001b[38;5;241;43m.\u001b[39;49m\u001b[43mget\u001b[49m\u001b[43m(\u001b[49m\u001b[38;5;124;43m\"\u001b[39;49m\u001b[38;5;124;43mencoding\u001b[39;49m\u001b[38;5;124;43m\"\u001b[39;49m\u001b[43m,\u001b[49m\u001b[43m \u001b[49m\u001b[38;5;28;43;01mNone\u001b[39;49;00m\u001b[43m)\u001b[49m\u001b[43m,\u001b[49m\n\u001b[1;32m   1884\u001b[0m \u001b[43m    \u001b[49m\u001b[43mcompression\u001b[49m\u001b[38;5;241;43m=\u001b[39;49m\u001b[38;5;28;43mself\u001b[39;49m\u001b[38;5;241;43m.\u001b[39;49m\u001b[43moptions\u001b[49m\u001b[38;5;241;43m.\u001b[39;49m\u001b[43mget\u001b[49m\u001b[43m(\u001b[49m\u001b[38;5;124;43m\"\u001b[39;49m\u001b[38;5;124;43mcompression\u001b[39;49m\u001b[38;5;124;43m\"\u001b[39;49m\u001b[43m,\u001b[49m\u001b[43m \u001b[49m\u001b[38;5;28;43;01mNone\u001b[39;49;00m\u001b[43m)\u001b[49m\u001b[43m,\u001b[49m\n\u001b[1;32m   1885\u001b[0m \u001b[43m    \u001b[49m\u001b[43mmemory_map\u001b[49m\u001b[38;5;241;43m=\u001b[39;49m\u001b[38;5;28;43mself\u001b[39;49m\u001b[38;5;241;43m.\u001b[39;49m\u001b[43moptions\u001b[49m\u001b[38;5;241;43m.\u001b[39;49m\u001b[43mget\u001b[49m\u001b[43m(\u001b[49m\u001b[38;5;124;43m\"\u001b[39;49m\u001b[38;5;124;43mmemory_map\u001b[39;49m\u001b[38;5;124;43m\"\u001b[39;49m\u001b[43m,\u001b[49m\u001b[43m \u001b[49m\u001b[38;5;28;43;01mFalse\u001b[39;49;00m\u001b[43m)\u001b[49m\u001b[43m,\u001b[49m\n\u001b[1;32m   1886\u001b[0m \u001b[43m    \u001b[49m\u001b[43mis_text\u001b[49m\u001b[38;5;241;43m=\u001b[39;49m\u001b[43mis_text\u001b[49m\u001b[43m,\u001b[49m\n\u001b[1;32m   1887\u001b[0m \u001b[43m    \u001b[49m\u001b[43merrors\u001b[49m\u001b[38;5;241;43m=\u001b[39;49m\u001b[38;5;28;43mself\u001b[39;49m\u001b[38;5;241;43m.\u001b[39;49m\u001b[43moptions\u001b[49m\u001b[38;5;241;43m.\u001b[39;49m\u001b[43mget\u001b[49m\u001b[43m(\u001b[49m\u001b[38;5;124;43m\"\u001b[39;49m\u001b[38;5;124;43mencoding_errors\u001b[39;49m\u001b[38;5;124;43m\"\u001b[39;49m\u001b[43m,\u001b[49m\u001b[43m \u001b[49m\u001b[38;5;124;43m\"\u001b[39;49m\u001b[38;5;124;43mstrict\u001b[39;49m\u001b[38;5;124;43m\"\u001b[39;49m\u001b[43m)\u001b[49m\u001b[43m,\u001b[49m\n\u001b[1;32m   1888\u001b[0m \u001b[43m    \u001b[49m\u001b[43mstorage_options\u001b[49m\u001b[38;5;241;43m=\u001b[39;49m\u001b[38;5;28;43mself\u001b[39;49m\u001b[38;5;241;43m.\u001b[39;49m\u001b[43moptions\u001b[49m\u001b[38;5;241;43m.\u001b[39;49m\u001b[43mget\u001b[49m\u001b[43m(\u001b[49m\u001b[38;5;124;43m\"\u001b[39;49m\u001b[38;5;124;43mstorage_options\u001b[39;49m\u001b[38;5;124;43m\"\u001b[39;49m\u001b[43m,\u001b[49m\u001b[43m \u001b[49m\u001b[38;5;28;43;01mNone\u001b[39;49;00m\u001b[43m)\u001b[49m\u001b[43m,\u001b[49m\n\u001b[1;32m   1889\u001b[0m \u001b[43m\u001b[49m\u001b[43m)\u001b[49m\n\u001b[1;32m   1890\u001b[0m \u001b[38;5;28;01massert\u001b[39;00m \u001b[38;5;28mself\u001b[39m\u001b[38;5;241m.\u001b[39mhandles \u001b[38;5;129;01mis\u001b[39;00m \u001b[38;5;129;01mnot\u001b[39;00m \u001b[38;5;28;01mNone\u001b[39;00m\n\u001b[1;32m   1891\u001b[0m f \u001b[38;5;241m=\u001b[39m \u001b[38;5;28mself\u001b[39m\u001b[38;5;241m.\u001b[39mhandles\u001b[38;5;241m.\u001b[39mhandle\n",
            "File \u001b[0;32m~/.local/lib/python3.12/site-packages/pandas/io/common.py:873\u001b[0m, in \u001b[0;36mget_handle\u001b[0;34m(path_or_buf, mode, encoding, compression, memory_map, is_text, errors, storage_options)\u001b[0m\n\u001b[1;32m    868\u001b[0m \u001b[38;5;28;01melif\u001b[39;00m \u001b[38;5;28misinstance\u001b[39m(handle, \u001b[38;5;28mstr\u001b[39m):\n\u001b[1;32m    869\u001b[0m     \u001b[38;5;66;03m# Check whether the filename is to be opened in binary mode.\u001b[39;00m\n\u001b[1;32m    870\u001b[0m     \u001b[38;5;66;03m# Binary mode does not support 'encoding' and 'newline'.\u001b[39;00m\n\u001b[1;32m    871\u001b[0m     \u001b[38;5;28;01mif\u001b[39;00m ioargs\u001b[38;5;241m.\u001b[39mencoding \u001b[38;5;129;01mand\u001b[39;00m \u001b[38;5;124m\"\u001b[39m\u001b[38;5;124mb\u001b[39m\u001b[38;5;124m\"\u001b[39m \u001b[38;5;129;01mnot\u001b[39;00m \u001b[38;5;129;01min\u001b[39;00m ioargs\u001b[38;5;241m.\u001b[39mmode:\n\u001b[1;32m    872\u001b[0m         \u001b[38;5;66;03m# Encoding\u001b[39;00m\n\u001b[0;32m--> 873\u001b[0m         handle \u001b[38;5;241m=\u001b[39m \u001b[38;5;28;43mopen\u001b[39;49m\u001b[43m(\u001b[49m\n\u001b[1;32m    874\u001b[0m \u001b[43m            \u001b[49m\u001b[43mhandle\u001b[49m\u001b[43m,\u001b[49m\n\u001b[1;32m    875\u001b[0m \u001b[43m            \u001b[49m\u001b[43mioargs\u001b[49m\u001b[38;5;241;43m.\u001b[39;49m\u001b[43mmode\u001b[49m\u001b[43m,\u001b[49m\n\u001b[1;32m    876\u001b[0m \u001b[43m            \u001b[49m\u001b[43mencoding\u001b[49m\u001b[38;5;241;43m=\u001b[39;49m\u001b[43mioargs\u001b[49m\u001b[38;5;241;43m.\u001b[39;49m\u001b[43mencoding\u001b[49m\u001b[43m,\u001b[49m\n\u001b[1;32m    877\u001b[0m \u001b[43m            \u001b[49m\u001b[43merrors\u001b[49m\u001b[38;5;241;43m=\u001b[39;49m\u001b[43merrors\u001b[49m\u001b[43m,\u001b[49m\n\u001b[1;32m    878\u001b[0m \u001b[43m            \u001b[49m\u001b[43mnewline\u001b[49m\u001b[38;5;241;43m=\u001b[39;49m\u001b[38;5;124;43m\"\u001b[39;49m\u001b[38;5;124;43m\"\u001b[39;49m\u001b[43m,\u001b[49m\n\u001b[1;32m    879\u001b[0m \u001b[43m        \u001b[49m\u001b[43m)\u001b[49m\n\u001b[1;32m    880\u001b[0m     \u001b[38;5;28;01melse\u001b[39;00m:\n\u001b[1;32m    881\u001b[0m         \u001b[38;5;66;03m# Binary mode\u001b[39;00m\n\u001b[1;32m    882\u001b[0m         handle \u001b[38;5;241m=\u001b[39m \u001b[38;5;28mopen\u001b[39m(handle, ioargs\u001b[38;5;241m.\u001b[39mmode)\n",
            "\u001b[0;31mPermissionError\u001b[0m: [Errno 13] Permission denied: '/root/.cache/kagglehub/datasets/fedesoriano/company-bankruptcy-prediction/versions/2/data.csv'"
          ]
        }
      ],
      "source": [
        "df = pd.read_csv('/root/.cache/kagglehub/datasets/fedesoriano/company-bankruptcy-prediction/versions/2/data.csv')\n",
        "# Remove leading and trailing spaces from column names\n",
        "df.columns = df.columns.str.strip()\n",
        "df.head()\n",
        "\n",
        "# Profitability: Operating Gross Margin\n",
        "# Liquidity: Current Ratio\n",
        "# Leverage: 'Total debt/Total net worth'\n",
        "# Efficiency: 'Total Asset Turnover'\n",
        "# Cash flow: 'Cash Flow to Total Assets'\n",
        "# Growth: 'Operating Profit Growth Rate'\n",
        "\n",
        "df = df[['Bankrupt?', 'Operating Gross Margin', 'Current Ratio', 'Total debt/Total net worth', 'Total Asset Turnover', 'Cash Flow to Total Assets', 'Operating Profit Growth Rate']]\n",
        "df = df.dropna()\n",
        "print(f'df has {df.shape[0]} rows')\n",
        "\n",
        "\n",
        "percentile_10 = df[['Operating Gross Margin', 'Current Ratio', 'Total debt/Total net worth', 'Total Asset Turnover', 'Cash Flow to Total Assets', 'Operating Profit Growth Rate']].quantile(0.1)\n",
        "percentile_90 = df[['Operating Gross Margin', 'Current Ratio', 'Total debt/Total net worth', 'Total Asset Turnover', 'Cash Flow to Total Assets', 'Operating Profit Growth Rate']].quantile(0.9)\n",
        "\n",
        "# Filter data to keep values within 10th and 90th percentiles for each column\n",
        "filtered_df = df[\n",
        "    (df[['Operating Gross Margin', 'Current Ratio', 'Total debt/Total net worth', 'Total Asset Turnover', 'Cash Flow to Total Assets', 'Operating Profit Growth Rate']] >= percentile_10).all(axis=1) &\n",
        "    (df[['Operating Gross Margin', 'Current Ratio', 'Total debt/Total net worth', 'Total Asset Turnover', 'Cash Flow to Total Assets', 'Operating Profit Growth Rate']] <= percentile_90).all(axis=1)\n",
        "]\n",
        "\n",
        "print(f'filtered_df has {filtered_df.shape[0]} rows')\n"
      ]
    },
    {
      "cell_type": "code",
      "execution_count": null,
      "metadata": {
        "colab": {
          "base_uri": "https://localhost:8080/",
          "height": 206
        },
        "execution": {
          "iopub.execute_input": "2025-01-24T23:39:02.769292Z",
          "iopub.status.busy": "2025-01-24T23:39:02.768934Z",
          "iopub.status.idle": "2025-01-24T23:39:02.783388Z",
          "shell.execute_reply": "2025-01-24T23:39:02.781975Z",
          "shell.execute_reply.started": "2025-01-24T23:39:02.769265Z"
        },
        "id": "6CPgxpnmv7dg",
        "outputId": "e9d74191-e931-4e08-c216-b83b9058836d",
        "trusted": true
      },
      "outputs": [],
      "source": [
        "filtered_df.head()"
      ]
    },
    {
      "cell_type": "code",
      "execution_count": null,
      "metadata": {
        "colab": {
          "base_uri": "https://localhost:8080/"
        },
        "execution": {
          "iopub.execute_input": "2025-01-24T23:39:08.241042Z",
          "iopub.status.busy": "2025-01-24T23:39:08.240584Z",
          "iopub.status.idle": "2025-01-24T23:39:08.249343Z",
          "shell.execute_reply": "2025-01-24T23:39:08.248141Z",
          "shell.execute_reply.started": "2025-01-24T23:39:08.241009Z"
        },
        "id": "PPUi8FJ8v7dg",
        "outputId": "79777ff1-d229-4f2f-dbc9-e4a49dffb019",
        "trusted": true
      },
      "outputs": [],
      "source": [
        "percentile_10, percentile_90"
      ]
    },
    {
      "cell_type": "code",
      "execution_count": null,
      "metadata": {
        "colab": {
          "base_uri": "https://localhost:8080/",
          "height": 144
        },
        "execution": {
          "iopub.execute_input": "2025-01-24T23:39:11.716115Z",
          "iopub.status.busy": "2025-01-24T23:39:11.715633Z",
          "iopub.status.idle": "2025-01-24T23:39:11.730886Z",
          "shell.execute_reply": "2025-01-24T23:39:11.729756Z",
          "shell.execute_reply.started": "2025-01-24T23:39:11.71608Z"
        },
        "id": "YLBjCj9fv7dh",
        "outputId": "9e8dbf06-1dd8-4ecc-9288-1bed4d150e4d",
        "trusted": true
      },
      "outputs": [],
      "source": [
        "grouped_averages = filtered_df.groupby(\"Bankrupt?\").median()\n",
        "\n",
        "# Display the grouped averages\n",
        "grouped_averages.head()"
      ]
    },
    {
      "cell_type": "code",
      "execution_count": null,
      "metadata": {
        "colab": {
          "base_uri": "https://localhost:8080/"
        },
        "execution": {
          "iopub.execute_input": "2025-01-24T23:39:18.864546Z",
          "iopub.status.busy": "2025-01-24T23:39:18.864182Z",
          "iopub.status.idle": "2025-01-24T23:39:18.877665Z",
          "shell.execute_reply": "2025-01-24T23:39:18.87637Z",
          "shell.execute_reply.started": "2025-01-24T23:39:18.864517Z"
        },
        "id": "qaC7f3Djv7dh",
        "outputId": "a6b9d17e-a02f-456f-966e-a1a33daa9d39",
        "trusted": true
      },
      "outputs": [],
      "source": [
        "filtered_df.info()"
      ]
    },
    {
      "cell_type": "code",
      "execution_count": null,
      "metadata": {
        "colab": {
          "base_uri": "https://localhost:8080/"
        },
        "execution": {
          "iopub.execute_input": "2025-01-24T23:39:21.533749Z",
          "iopub.status.busy": "2025-01-24T23:39:21.533233Z",
          "iopub.status.idle": "2025-01-24T23:39:21.54228Z",
          "shell.execute_reply": "2025-01-24T23:39:21.540901Z",
          "shell.execute_reply.started": "2025-01-24T23:39:21.533683Z"
        },
        "id": "5QerjxFOv7dh",
        "outputId": "0ca20ab0-9b82-4c0c-854a-644c936f0bd3",
        "trusted": true
      },
      "outputs": [],
      "source": [
        "filtered_df.columns"
      ]
    },
    {
      "cell_type": "markdown",
      "metadata": {
        "id": "Od-NYvf5v7dh"
      },
      "source": [
        "# Cluster Analysis"
      ]
    },
    {
      "cell_type": "code",
      "execution_count": 14,
      "metadata": {
        "execution": {
          "iopub.execute_input": "2025-01-24T23:39:25.297543Z",
          "iopub.status.busy": "2025-01-24T23:39:25.297185Z",
          "iopub.status.idle": "2025-01-24T23:39:25.304322Z",
          "shell.execute_reply": "2025-01-24T23:39:25.302662Z",
          "shell.execute_reply.started": "2025-01-24T23:39:25.297517Z"
        },
        "id": "9tIGKDFev7di",
        "trusted": true
      },
      "outputs": [],
      "source": [
        "from sklearn.cluster import KMeans\n",
        "from sklearn.metrics import silhouette_score\n",
        "import matplotlib.pyplot as plt\n",
        "\n",
        "columns_for_clustering = ['Operating Gross Margin', 'Current Ratio', 'Total debt/Total net worth', 'Total Asset Turnover', 'Cash Flow to Total Assets', 'Operating Profit Growth Rate']\n",
        "X = filtered_df[columns_for_clustering]\n"
      ]
    },
    {
      "cell_type": "code",
      "execution_count": null,
      "metadata": {
        "colab": {
          "base_uri": "https://localhost:8080/",
          "height": 206
        },
        "execution": {
          "iopub.execute_input": "2025-01-24T23:39:25.935859Z",
          "iopub.status.busy": "2025-01-24T23:39:25.935483Z",
          "iopub.status.idle": "2025-01-24T23:39:25.949988Z",
          "shell.execute_reply": "2025-01-24T23:39:25.948041Z",
          "shell.execute_reply.started": "2025-01-24T23:39:25.935829Z"
        },
        "id": "vnGftdzqv7di",
        "outputId": "40c3f99e-0703-4319-8345-9d72f7c579de",
        "trusted": true
      },
      "outputs": [],
      "source": [
        "X.head()"
      ]
    },
    {
      "cell_type": "code",
      "execution_count": null,
      "metadata": {
        "colab": {
          "base_uri": "https://localhost:8080/",
          "height": 507
        },
        "execution": {
          "iopub.execute_input": "2025-01-24T23:39:34.166681Z",
          "iopub.status.busy": "2025-01-24T23:39:34.166329Z",
          "iopub.status.idle": "2025-01-24T23:39:48.240226Z",
          "shell.execute_reply": "2025-01-24T23:39:48.23912Z",
          "shell.execute_reply.started": "2025-01-24T23:39:34.166653Z"
        },
        "id": "P_Oy-0ZHv7di",
        "outputId": "96d62c9b-bb37-46d4-c4b3-bc9b297c0bbb",
        "trusted": true
      },
      "outputs": [],
      "source": [
        "# Elbow Method\n",
        "inertia = []\n",
        "silhouette_scores = []\n",
        "range_n_clusters = range(2, 11)  # Test for 2 to 10 clusters\n",
        "\n",
        "for k in range_n_clusters:\n",
        "    kmeans = KMeans(n_clusters=k, random_state=20).fit(X)\n",
        "    inertia.append(kmeans.inertia_)\n",
        "    silhouette_scores.append(silhouette_score(X, kmeans.labels_))\n",
        "\n",
        "# Plot Inertia and Silhouette Score\n",
        "plt.figure(figsize=(12, 5))\n",
        "\n",
        "plt.subplot(1, 2, 1)\n",
        "plt.plot(range_n_clusters, inertia, marker='o')\n",
        "plt.title('Elbow Method')\n",
        "plt.xlabel('Number of Clusters')\n",
        "plt.ylabel('Inertia')\n",
        "\n",
        "plt.subplot(1, 2, 2)\n",
        "plt.plot(range_n_clusters, silhouette_scores, marker='o', color='green')\n",
        "plt.title('Silhouette Score')\n",
        "plt.xlabel('Number of Clusters')\n",
        "plt.ylabel('Silhouette Score')\n",
        "\n",
        "plt.tight_layout()\n",
        "plt.show()\n",
        "\n",
        "# Elbow Method Plot (Inertia vs. Number of Clusters):\n",
        "# Look for the \"elbow,\" which is the point where the decrease in inertia slows down significantly. This suggests the optimal number of clusters.\n",
        "\n",
        "# Silhouette Score Plot (Silhouette Score vs. Number of Clusters):\n",
        "# The peak value of the Silhouette Score indicates the best number of clusters, as it represents the best separation and compactness of the clusters.\n",
        "\n",
        "# Looks 6 is a good number of clusters"
      ]
    },
    {
      "cell_type": "code",
      "execution_count": null,
      "metadata": {
        "colab": {
          "base_uri": "https://localhost:8080/"
        },
        "execution": {
          "iopub.execute_input": "2025-01-24T23:42:26.39026Z",
          "iopub.status.busy": "2025-01-24T23:42:26.389806Z",
          "iopub.status.idle": "2025-01-24T23:42:27.074273Z",
          "shell.execute_reply": "2025-01-24T23:42:27.070695Z",
          "shell.execute_reply.started": "2025-01-24T23:42:26.390225Z"
        },
        "id": "UARgZC9sv7di",
        "outputId": "bfb1bc9e-bab7-462b-dd3a-b557f83243a4",
        "trusted": true
      },
      "outputs": [],
      "source": [
        "optimal_clusters = 3\n",
        "\n",
        "# K-Means Clustering\n",
        "kmeans = KMeans(n_clusters=optimal_clusters, random_state=20).fit(X)\n",
        "X['Cluster'] = kmeans.labels_\n",
        "\n",
        "# Append \"Bankrupt?\" column to analyze\n",
        "X['Bankrupt?'] = df['Bankrupt?']\n",
        "\n",
        "# Analyze each cluster\n",
        "cluster_analysis = X.groupby('Cluster').mean()\n",
        "cluster_analysis['Record Count'] = X['Cluster'].value_counts().sort_index()\n",
        "\n",
        "print(\"Cluster Analysis (Means and Record Counts):\\n\", cluster_analysis)"
      ]
    },
    {
      "cell_type": "code",
      "execution_count": null,
      "metadata": {
        "colab": {
          "base_uri": "https://localhost:8080/",
          "height": 175
        },
        "execution": {
          "iopub.execute_input": "2025-01-24T23:40:16.055562Z",
          "iopub.status.busy": "2025-01-24T23:40:16.055226Z",
          "iopub.status.idle": "2025-01-24T23:40:16.070348Z",
          "shell.execute_reply": "2025-01-24T23:40:16.068208Z",
          "shell.execute_reply.started": "2025-01-24T23:40:16.055536Z"
        },
        "id": "1cARadWMv7dj",
        "outputId": "df70268e-57e4-4f94-d9e3-186360e7c66a",
        "trusted": true
      },
      "outputs": [],
      "source": [
        "cluster_analysis"
      ]
    },
    {
      "cell_type": "code",
      "execution_count": null,
      "metadata": {
        "execution": {
          "iopub.execute_input": "2025-01-24T23:42:34.244774Z",
          "iopub.status.busy": "2025-01-24T23:42:34.244362Z",
          "iopub.status.idle": "2025-01-24T23:42:34.259273Z",
          "shell.execute_reply": "2025-01-24T23:42:34.257353Z",
          "shell.execute_reply.started": "2025-01-24T23:42:34.24473Z"
        },
        "id": "LD4iUaMPv7dj",
        "trusted": true
      },
      "outputs": [],
      "source": [
        "cluster_analysis"
      ]
    },
    {
      "cell_type": "code",
      "execution_count": null,
      "metadata": {
        "colab": {
          "base_uri": "https://localhost:8080/",
          "height": 707
        },
        "execution": {
          "iopub.execute_input": "2025-01-24T23:49:54.173676Z",
          "iopub.status.busy": "2025-01-24T23:49:54.173275Z",
          "iopub.status.idle": "2025-01-24T23:49:54.816304Z",
          "shell.execute_reply": "2025-01-24T23:49:54.815167Z",
          "shell.execute_reply.started": "2025-01-24T23:49:54.173631Z"
        },
        "id": "VfC3Q1-Rv7dj",
        "outputId": "672b17dd-1608-4dcb-8755-6601c4c85ae1",
        "trusted": true
      },
      "outputs": [],
      "source": [
        "from sklearn.decomposition import PCA\n",
        "import matplotlib.pyplot as plt\n",
        "\n",
        "# Columns to use for PCA\n",
        "pca_columns = ['Operating Gross Margin', 'Current Ratio', 'Total debt/Total net worth',\n",
        "               'Total Asset Turnover', 'Cash Flow to Total Assets', 'Operating Profit Growth Rate']\n",
        "\n",
        "# Perform PCA\n",
        "pca = PCA(n_components=2, random_state=42)  # Reduce to 2 components for visualization\n",
        "pca_result = pca.fit_transform(X[pca_columns])\n",
        "\n",
        "# Add PCA results and cluster labels to the DataFrame\n",
        "X['PCA1'] = pca_result[:, 0]\n",
        "X['PCA2'] = pca_result[:, 1]\n",
        "\n",
        "# Plot the PCA results, colored by cluster\n",
        "plt.figure(figsize=(10, 7))\n",
        "for cluster_label in X['Cluster'].unique():\n",
        "    cluster_data = X[X['Cluster'] == cluster_label]\n",
        "    plt.scatter(cluster_data['PCA1'], cluster_data['PCA2'], label=f'Cluster {cluster_label}', s=50, alpha=0.7)\n",
        "\n",
        "# Add labels and title\n",
        "plt.title('PCA Visualization of Clusters', fontsize=16)\n",
        "plt.xlabel('PCA Component 1', fontsize=12)\n",
        "plt.ylabel('PCA Component 2', fontsize=12)\n",
        "plt.legend(title='Clusters')\n",
        "plt.grid(alpha=0.5)\n",
        "plt.tight_layout()\n",
        "plt.show()\n"
      ]
    },
    {
      "cell_type": "code",
      "execution_count": null,
      "metadata": {
        "colab": {
          "base_uri": "https://localhost:8080/",
          "height": 206
        },
        "execution": {
          "iopub.execute_input": "2025-01-24T23:44:30.411825Z",
          "iopub.status.busy": "2025-01-24T23:44:30.411416Z",
          "iopub.status.idle": "2025-01-24T23:44:30.943175Z",
          "shell.execute_reply": "2025-01-24T23:44:30.941836Z",
          "shell.execute_reply.started": "2025-01-24T23:44:30.41179Z"
        },
        "id": "Dj-UyLKGv7dj",
        "outputId": "583b5f07-442d-43ab-e6e3-9df5e5f46cc3",
        "trusted": true
      },
      "outputs": [],
      "source": [
        "X.head()"
      ]
    },
    {
      "cell_type": "markdown",
      "metadata": {
        "execution": {
          "iopub.execute_input": "2025-01-04T23:39:35.339718Z",
          "iopub.status.busy": "2025-01-04T23:39:35.339344Z",
          "iopub.status.idle": "2025-01-04T23:39:35.344025Z",
          "shell.execute_reply": "2025-01-04T23:39:35.34277Z",
          "shell.execute_reply.started": "2025-01-04T23:39:35.339694Z"
        },
        "id": "DVkDHRTWv7dj"
      },
      "source": [
        "## Run EDA"
      ]
    },
    {
      "cell_type": "code",
      "execution_count": null,
      "metadata": {
        "id": "0PqH3-F0v7dj",
        "trusted": true
      },
      "outputs": [],
      "source": []
    },
    {
      "cell_type": "code",
      "execution_count": null,
      "metadata": {
        "id": "PGCMaxnHv7dj",
        "trusted": true
      },
      "outputs": [],
      "source": [
        "col = ' Quick Ratio'\n",
        "\n",
        "plt.figure(figsize=(10, 6))\n",
        "\n",
        "# Create the box plot\n",
        "boxplot = df[df[col]<0.05].boxplot(column=col, by=\"Bankrupt?\", grid=False, showfliers=True, patch_artist=True, widths=0.6)\n",
        "\n",
        "# Get positions of the boxes\n",
        "positions = range(1, len(df[\"Bankrupt?\"].unique()) + 1)\n",
        "\n",
        "# # Add mean points to the box plot\n",
        "# for i, category in enumerate(sorted(df[\"Bankrupt?\"].unique())):\n",
        "#     category_values = df[df[\"Bankrupt?\"] == category][col].dropna()\n",
        "#     mean_value = category_values.mean()\n",
        "\n",
        "#     # Plot the mean at the corresponding box position\n",
        "#     plt.scatter(positions[i], mean_value, color='red', zorder=3, label=\"Mean\" if i == 0 else None)\n",
        "\n",
        "# Customize the plot\n",
        "plt.title(f\"Distribution of {col} by Bankruptcy Status\")\n",
        "plt.suptitle(\"\")  # Remove default 'Boxplot grouped by...' title\n",
        "plt.xlabel(\"Bankruptcy Status (0 = No, 1 = Yes)\")\n",
        "plt.ylabel(col)\n",
        "\n",
        "# Add a legend for the mean\n",
        "plt.legend(loc=\"best\")\n",
        "\n",
        "# Show grid for better readability\n",
        "plt.grid(axis='y', linestyle='--', alpha=0.7)\n",
        "\n",
        "# Show the plot\n",
        "plt.show()"
      ]
    },
    {
      "cell_type": "code",
      "execution_count": null,
      "metadata": {
        "id": "8ZfxdihTv7dj",
        "trusted": true
      },
      "outputs": [],
      "source": [
        "# List all columns except \"Bankrupt?\" for comparison\n",
        "columns_to_compare = [col for col in df.columns if col != \"Bankrupt?\"]\n",
        "\n",
        "for col in columns_to_compare[0:]:\n",
        "    plt.figure(figsize=(10, 6))\n",
        "\n",
        "    # Create the box plot\n",
        "    boxplot = df.boxplot(column=col, by=\"Bankrupt?\", grid=False, showfliers=True, patch_artist=True, widths=0.6)\n",
        "\n",
        "    # Get positions of the boxes\n",
        "    positions = range(1, len(df[\"Bankrupt?\"].unique()) + 1)\n",
        "\n",
        "    # Add mean points to the box plot\n",
        "    for i, category in enumerate(sorted(df[\"Bankrupt?\"].unique())):\n",
        "        category_values = df[df[\"Bankrupt?\"] == category][col].dropna()\n",
        "        mean_value = category_values.mean()\n",
        "\n",
        "        # Plot the mean at the corresponding box position\n",
        "        plt.scatter(positions[i], mean_value, color='red', zorder=3, label=\"Mean\" if i == 0 else None)\n",
        "\n",
        "    # Customize the plot\n",
        "    plt.title(f\"Distribution of {col} by Bankruptcy Status\")\n",
        "    plt.suptitle(\"\")  # Remove default 'Boxplot grouped by...' title\n",
        "    plt.xlabel(\"Bankruptcy Status (0 = No, 1 = Yes)\")\n",
        "    plt.ylabel(col)\n",
        "\n",
        "    # Add a legend for the mean\n",
        "    plt.legend(loc=\"best\")\n",
        "\n",
        "    # Show grid for better readability\n",
        "    plt.grid(axis='y', linestyle='--', alpha=0.7)\n",
        "\n",
        "    # Show the plot\n",
        "    plt.show()"
      ]
    },
    {
      "cell_type": "markdown",
      "metadata": {
        "id": "13USgIJ_v7dj"
      },
      "source": [
        "### Try a Logistic Regression Model"
      ]
    },
    {
      "cell_type": "code",
      "execution_count": null,
      "metadata": {
        "id": "5Y5wmXkKv7dj",
        "trusted": true
      },
      "outputs": [],
      "source": [
        "df.columns"
      ]
    },
    {
      "cell_type": "code",
      "execution_count": null,
      "metadata": {
        "id": "cJanhatAv7dj",
        "trusted": true
      },
      "outputs": [],
      "source": [
        "from sklearn.model_selection import train_test_split\n",
        "from sklearn.linear_model import LogisticRegression\n",
        "from sklearn.metrics import (\n",
        "    confusion_matrix,\n",
        "    classification_report,\n",
        "    roc_auc_score,\n",
        "    roc_curve,\n",
        "    accuracy_score\n",
        ")\n",
        "import matplotlib.pyplot as plt\n",
        "import seaborn as sns\n",
        "\n",
        "# selected_features = [\" Current Liability to Current Assets\"]\n",
        "selected_features = df.columns.drop(\"Bankrupt?\")\n",
        "target = \"Bankrupt?\"\n",
        "\n",
        "# Features and target\n",
        "X = df[selected_features]\n",
        "y = df[target]\n",
        "\n",
        "# Split data into training and testing sets (75% training, 25% testing)\n",
        "X_train, X_test, y_train, y_test = train_test_split(X, y, test_size=0.25, random_state=42, stratify=y)\n",
        "\n",
        "# Initialize logistic regression model\n",
        "log_reg = LogisticRegression()\n",
        "\n",
        "# Train the model\n",
        "log_reg.fit(X_train, y_train)\n",
        "\n",
        "# Generate predictions and probabilities\n",
        "y_pred = log_reg.predict(X_test)\n",
        "y_pred_prob = log_reg.predict_proba(X_test)[:, 1]\n",
        "\n",
        "# Confusion Matrix\n",
        "cm = confusion_matrix(y_test, y_pred)\n",
        "sns.heatmap(cm, annot=True, fmt='d', cmap='Blues', xticklabels=[\"Not Bankrupt\", \"Bankrupt\"], yticklabels=[\"Not Bankrupt\", \"Bankrupt\"])\n",
        "plt.title(\"Confusion Matrix\")\n",
        "plt.xlabel(\"Predicted\")\n",
        "plt.ylabel(\"Actual\")\n",
        "plt.show()\n",
        "\n",
        "# Classification Report for precision, recall, F1-score\n",
        "print(\"Classification Report:\\n\", classification_report(y_test, y_pred))\n",
        "\n",
        "# Accuracy\n",
        "accuracy = accuracy_score(y_test, y_pred)\n",
        "print(\"Accuracy:\", accuracy)\n",
        "\n",
        "# AUC (Area Under the Curve)\n",
        "auc_score = roc_auc_score(y_test, y_pred_prob)\n",
        "print(\"AUC:\", auc_score)\n",
        "\n",
        "# Plot ROC Curve\n",
        "fpr, tpr, thresholds = roc_curve(y_test, y_pred_prob)\n",
        "plt.figure(figsize=(8, 6))\n",
        "plt.plot(fpr, tpr, label=f\"ROC Curve (AUC = {auc_score:.2f})\", color=\"blue\")\n",
        "plt.plot([0, 1], [0, 1], \"k--\", label=\"Random Classifier\")\n",
        "plt.xlabel(\"False Positive Rate\")\n",
        "plt.ylabel(\"True Positive Rate\")\n",
        "plt.title(\"ROC Curve\")\n",
        "plt.legend(loc=\"best\")\n",
        "plt.grid()\n",
        "plt.show()\n"
      ]
    },
    {
      "cell_type": "code",
      "execution_count": null,
      "metadata": {
        "id": "Oz22W1AFv7dj",
        "trusted": true
      },
      "outputs": [],
      "source": [
        "print(df[target].mean())\n",
        "\n",
        "### Bankrupted companies are too few. The data is biased."
      ]
    },
    {
      "cell_type": "code",
      "execution_count": null,
      "metadata": {
        "id": "9hyOv8QUv7dj",
        "trusted": true
      },
      "outputs": [],
      "source": [
        "from sklearn.model_selection import train_test_split\n",
        "from sklearn.linear_model import LogisticRegression\n",
        "from sklearn.metrics import (\n",
        "    confusion_matrix,\n",
        "    classification_report,\n",
        "    roc_auc_score,\n",
        "    roc_curve,\n",
        "    accuracy_score\n",
        ")\n",
        "import matplotlib.pyplot as plt\n",
        "import seaborn as sns\n",
        "\n",
        "# selected_features = [\" Current Liability to Current Assets\"]\n",
        "selected_features = df.columns.drop(\"Bankrupt?\")\n",
        "target = \"Bankrupt?\"\n",
        "\n",
        "# Features and target\n",
        "X = df[selected_features]\n",
        "y = df[target]\n",
        "\n",
        "# Split data into training and testing sets (75% training, 25% testing)\n",
        "X_train, X_test, y_train, y_test = train_test_split(X, y, test_size=0.25, random_state=42, stratify=y)\n",
        "\n",
        "# Initialize logistic regression model\n",
        "# log_reg = LogisticRegression()\n",
        "log_reg = LogisticRegression(class_weight='balanced', random_state=42)\n",
        "\n",
        "\n",
        "# Train the model\n",
        "log_reg.fit(X_train, y_train)\n",
        "\n",
        "# Generate predictions and probabilities\n",
        "y_pred = log_reg.predict(X_test)\n",
        "y_pred_prob = log_reg.predict_proba(X_test)[:, 1]\n",
        "\n",
        "# Confusion Matrix\n",
        "cm = confusion_matrix(y_test, y_pred)\n",
        "sns.heatmap(cm, annot=True, fmt='d', cmap='Blues', xticklabels=[\"Not Bankrupt\", \"Bankrupt\"], yticklabels=[\"Not Bankrupt\", \"Bankrupt\"])\n",
        "plt.title(\"Confusion Matrix\")\n",
        "plt.xlabel(\"Predicted\")\n",
        "plt.ylabel(\"Actual\")\n",
        "plt.show()\n",
        "\n",
        "# Classification Report for precision, recall, F1-score\n",
        "print(\"Classification Report:\\n\", classification_report(y_test, y_pred))\n",
        "\n",
        "# Accuracy\n",
        "accuracy = accuracy_score(y_test, y_pred)\n",
        "print(\"Accuracy:\", accuracy)\n",
        "\n",
        "# AUC (Area Under the Curve)\n",
        "auc_score = roc_auc_score(y_test, y_pred_prob)\n",
        "print(\"AUC:\", auc_score)\n",
        "\n",
        "# Plot ROC Curve\n",
        "fpr, tpr, thresholds = roc_curve(y_test, y_pred_prob)\n",
        "plt.figure(figsize=(8, 6))\n",
        "plt.plot(fpr, tpr, label=f\"ROC Curve (AUC = {auc_score:.2f})\", color=\"blue\")\n",
        "plt.plot([0, 1], [0, 1], \"k--\", label=\"Random Classifier\")\n",
        "plt.xlabel(\"False Positive Rate\")\n",
        "plt.ylabel(\"True Positive Rate\")\n",
        "plt.title(\"ROC Curve\")\n",
        "plt.legend(loc=\"best\")\n",
        "plt.grid()\n",
        "plt.show()\n"
      ]
    },
    {
      "cell_type": "markdown",
      "metadata": {
        "id": "2YifFZCgv7dj"
      },
      "source": [
        "## Variable Selection"
      ]
    },
    {
      "cell_type": "code",
      "execution_count": null,
      "metadata": {
        "id": "Md_fJGg6v7dk",
        "trusted": true
      },
      "outputs": [],
      "source": [
        "# Get the absolute values of the coefficients\n",
        "coefficients = pd.DataFrame(log_reg.coef_[0], X.columns, columns=[\"Coefficient\"])\n",
        "\n",
        "# Sort by absolute coefficient value\n",
        "coefficients['abs_coeff'] = coefficients['Coefficient'].abs()\n",
        "coefficients = coefficients.sort_values(by=\"abs_coeff\", ascending=False)\n",
        "\n",
        "# Display the most significant features\n",
        "print(coefficients[['Coefficient', 'abs_coeff']])"
      ]
    },
    {
      "cell_type": "code",
      "execution_count": null,
      "metadata": {
        "id": "Xu627lWBv7dk",
        "trusted": true
      },
      "outputs": [],
      "source": [
        "from sklearn.linear_model import LogisticRegressionCV\n",
        "\n",
        "# Use Logistic Regression with L1 regularization\n",
        "lasso_log_reg = LogisticRegressionCV(penalty='l1', solver='liblinear', max_iter=1000)\n",
        "lasso_log_reg.fit(X_train, y_train)\n",
        "\n",
        "# Get the non-zero coefficients\n",
        "selected_features_lasso = X.columns[(lasso_log_reg.coef_ != 0).flatten()]\n",
        "print(\"Selected Features by Lasso:\", selected_features_lasso)"
      ]
    },
    {
      "cell_type": "code",
      "execution_count": null,
      "metadata": {
        "id": "ZOGLEuSJv7dk",
        "trusted": true
      },
      "outputs": [],
      "source": []
    }
  ],
  "metadata": {
    "colab": {
      "include_colab_link": true,
      "name": "Taiwan_bankruptcy",
      "provenance": []
    },
    "kaggle": {
      "accelerator": "none",
      "dataSources": [
        {
          "datasetId": 1111894,
          "sourceId": 1938459,
          "sourceType": "datasetVersion"
        }
      ],
      "dockerImageVersionId": 30822,
      "isGpuEnabled": false,
      "isInternetEnabled": true,
      "language": "python",
      "sourceType": "notebook"
    },
    "kernelspec": {
      "display_name": "Python 3",
      "language": "python",
      "name": "python3"
    },
    "language_info": {
      "codemirror_mode": {
        "name": "ipython",
        "version": 3
      },
      "file_extension": ".py",
      "mimetype": "text/x-python",
      "name": "python",
      "nbconvert_exporter": "python",
      "pygments_lexer": "ipython3",
      "version": "3.12.1"
    }
  },
  "nbformat": 4,
  "nbformat_minor": 0
}
