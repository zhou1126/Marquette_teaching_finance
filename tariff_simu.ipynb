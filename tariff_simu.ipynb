{
 "cells": [
  {
   "cell_type": "code",
   "execution_count": 5,
   "metadata": {},
   "outputs": [
    {
     "name": "stdout",
     "output_type": "stream",
     "text": [
      "Initial tariff per unit: 0.10\n",
      "Tariff elasticity: 4\n",
      "\n",
      "Year 1: Demand=10300.00, Import=3708.00, Domestic=6592.00, Tariff Revenue=370.80, Remaining Debt=19629.20\n",
      "Year 2: Demand=10609.00, Import=3819.24, Domestic=6789.76, Tariff Revenue=381.92, Remaining Debt=19247.28\n",
      "Year 3: Demand=10927.27, Import=3933.82, Domestic=6993.45, Tariff Revenue=393.38, Remaining Debt=18853.89\n",
      "Year 4: Demand=11255.09, Import=4051.83, Domestic=7203.26, Tariff Revenue=405.18, Remaining Debt=18448.71\n",
      "Year 5: Demand=11592.74, Import=4173.39, Domestic=7419.35, Tariff Revenue=417.34, Remaining Debt=18031.37\n",
      "Year 6: Demand=11940.52, Import=4298.59, Domestic=7641.93, Tariff Revenue=429.86, Remaining Debt=17601.51\n",
      "Year 7: Demand=12298.74, Import=4427.55, Domestic=7871.19, Tariff Revenue=442.75, Remaining Debt=17158.76\n",
      "Year 8: Demand=12667.70, Import=4560.37, Domestic=8107.33, Tariff Revenue=456.04, Remaining Debt=16702.72\n",
      "Year 9: Demand=13047.73, Import=4697.18, Domestic=8350.55, Tariff Revenue=469.72, Remaining Debt=16233.00\n",
      "Year 10: Demand=13439.16, Import=4838.10, Domestic=8601.06, Tariff Revenue=483.81, Remaining Debt=15749.19\n",
      "Year 11: Demand=13842.34, Import=4983.24, Domestic=8859.10, Tariff Revenue=498.32, Remaining Debt=15250.87\n",
      "Year 12: Demand=14257.61, Import=5132.74, Domestic=9124.87, Tariff Revenue=513.27, Remaining Debt=14737.60\n",
      "Year 13: Demand=14685.34, Import=5286.72, Domestic=9398.62, Tariff Revenue=528.67, Remaining Debt=14208.92\n",
      "Year 14: Demand=15125.90, Import=5445.32, Domestic=9680.57, Tariff Revenue=544.53, Remaining Debt=13664.39\n",
      "Year 15: Demand=15579.67, Import=5608.68, Domestic=9970.99, Tariff Revenue=560.87, Remaining Debt=13103.52\n",
      "Year 16: Demand=16047.06, Import=5776.94, Domestic=10270.12, Tariff Revenue=577.69, Remaining Debt=12525.83\n",
      "Year 17: Demand=16528.48, Import=5950.25, Domestic=10578.22, Tariff Revenue=595.03, Remaining Debt=11930.80\n",
      "Year 18: Demand=17024.33, Import=6128.76, Domestic=10895.57, Tariff Revenue=612.88, Remaining Debt=11317.93\n",
      "Year 19: Demand=17535.06, Import=6312.62, Domestic=11222.44, Tariff Revenue=631.26, Remaining Debt=10686.67\n",
      "Year 20: Demand=18061.11, Import=6502.00, Domestic=11559.11, Tariff Revenue=650.20, Remaining Debt=10036.47\n",
      "Year 21: Demand=18602.95, Import=6697.06, Domestic=11905.89, Tariff Revenue=669.71, Remaining Debt=9366.76\n",
      "Year 22: Demand=19161.03, Import=6897.97, Domestic=12263.06, Tariff Revenue=689.80, Remaining Debt=8676.96\n",
      "Year 23: Demand=19735.87, Import=7104.91, Domestic=12630.95, Tariff Revenue=710.49, Remaining Debt=7966.47\n",
      "Year 24: Demand=20327.94, Import=7318.06, Domestic=13009.88, Tariff Revenue=731.81, Remaining Debt=7234.66\n",
      "Year 25: Demand=20937.78, Import=7537.60, Domestic=13400.18, Tariff Revenue=753.76, Remaining Debt=6480.90\n",
      "Year 26: Demand=21565.91, Import=7763.73, Domestic=13802.18, Tariff Revenue=776.37, Remaining Debt=5704.53\n",
      "Year 27: Demand=22212.89, Import=7996.64, Domestic=14216.25, Tariff Revenue=799.66, Remaining Debt=4904.87\n",
      "Year 28: Demand=22879.28, Import=8236.54, Domestic=14642.74, Tariff Revenue=823.65, Remaining Debt=4081.21\n",
      "Year 29: Demand=23565.66, Import=8483.64, Domestic=15082.02, Tariff Revenue=848.36, Remaining Debt=3232.85\n",
      "Year 30: Demand=24272.62, Import=8738.14, Domestic=15534.48, Tariff Revenue=873.81, Remaining Debt=2359.04\n",
      "Year 31: Demand=25000.80, Import=9000.29, Domestic=16000.51, Tariff Revenue=900.03, Remaining Debt=1459.01\n",
      "Year 32: Demand=25750.83, Import=9270.30, Domestic=16480.53, Tariff Revenue=927.03, Remaining Debt=531.98\n",
      "Year 33: Demand=26523.35, Import=9548.41, Domestic=16974.95, Tariff Revenue=954.84, Remaining Debt=0.00\n",
      "\n",
      "Debt eliminated in year 33!\n"
     ]
    },
    {
     "data": {
      "text/plain": [
       "True"
      ]
     },
     "execution_count": 5,
     "metadata": {},
     "output_type": "execute_result"
    }
   ],
   "source": [
    "def simulate_tariff_policy(\n",
    "    initial_demand=10000,\n",
    "    annual_growth=0.03,\n",
    "    foreign_import_ratio=0.6,\n",
    "    initial_debt=20000,\n",
    "    num_countries=4,\n",
    "    tariff_per_unit=0.1,\n",
    "    tariff_elasticity=4,  # Elasticity: % reduction in import ratio per unit tariff\n",
    "    max_years=50\n",
    "):\n",
    "    demand = initial_demand\n",
    "    debt = initial_debt\n",
    "    year = 0\n",
    "\n",
    "    print(f\"Initial tariff per unit: {tariff_per_unit:.2f}\")\n",
    "    print(f\"Tariff elasticity: {tariff_elasticity}\\n\")\n",
    "\n",
    "    while year < max_years and debt > 0:\n",
    "        year += 1\n",
    "        demand *= (1 + annual_growth)\n",
    "\n",
    "        # Adjust foreign import ratio based on tariff and elasticity\n",
    "        adjusted_import_ratio = max(\n",
    "            0.0, foreign_import_ratio * (1 - tariff_elasticity * tariff_per_unit)\n",
    "        )\n",
    "        total_import = demand * adjusted_import_ratio\n",
    "        domestic_supply = demand - total_import\n",
    "\n",
    "        yearly_tariff_revenue = total_import * tariff_per_unit\n",
    "        debt -= yearly_tariff_revenue\n",
    "\n",
    "        print(\n",
    "            f\"Year {year}: Demand={demand:.2f}, Import={total_import:.2f}, \"\n",
    "            f\"Domestic={domestic_supply:.2f}, Tariff Revenue={yearly_tariff_revenue:.2f}, \"\n",
    "            f\"Remaining Debt={max(debt, 0):.2f}\"\n",
    "        )\n",
    "\n",
    "        if debt <= 0:\n",
    "            print(f\"\\nDebt eliminated in year {year}!\")\n",
    "            return True\n",
    "\n",
    "    print(\"\\nDebt not eliminated within the simulation timeframe.\")\n",
    "    return False\n",
    "\n",
    "simulate_tariff_policy()\n"
   ]
  },
  {
   "cell_type": "code",
   "execution_count": null,
   "metadata": {},
   "outputs": [],
   "source": []
  }
 ],
 "metadata": {
  "kernelspec": {
   "display_name": "Python 3",
   "language": "python",
   "name": "python3"
  },
  "language_info": {
   "codemirror_mode": {
    "name": "ipython",
    "version": 3
   },
   "file_extension": ".py",
   "mimetype": "text/x-python",
   "name": "python",
   "nbconvert_exporter": "python",
   "pygments_lexer": "ipython3",
   "version": "3.12.1"
  }
 },
 "nbformat": 4,
 "nbformat_minor": 2
}
