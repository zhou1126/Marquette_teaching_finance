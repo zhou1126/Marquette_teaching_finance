{
 "cells": [
  {
   "cell_type": "markdown",
   "metadata": {},
   "source": [
    "# **HW 4: Time Series Analysis**\n",
    "\n",
    "## **Instructions**  \n",
    "Complete the following tasks and submit both your **Excel file** and **Jupyter Notebook** as part of your assignment.\n",
    "\n",
    "## **Tasks**  \n",
    "\n",
    "1. **Data Retrieval**  \n",
    "   - Use the **Yahoo Finance API** to download NVDA daily price data.\n",
    "\n",
    "2. **Data Export**  \n",
    "   - Save the NVDA daily price data as a **CSV file** using the `to_csv` function in Pandas and download it to your local machine.\n",
    "\n",
    "3. **Time Series Modeling in Excel**  \n",
    "   - Build a **time series model** in Excel to predict NVDA’s daily price for **January and February 2025**.\n",
    "\n",
    "4. **Prediction Accuracy**  \n",
    "   - Evaluate the model’s performance using **Mean Squared Error (MSE)**.\n",
    "\n",
    "5. **Residual Analysis**  \n",
    "   - Analyze the prediction errors.  \n",
    "   - Identify specific dates where the errors are unusually high.  \n",
    "   - Research possible external factors (e.g., news, reports, product releases) that may explain these anomalies.\n",
    "\n",
    "6. **Forecasting with Prophet**  \n",
    "   - In a **Jupyter Notebook**, use the **Prophet** library to forecast NVDA’s daily price for **January and February 2025**.\n",
    "\n",
    "7. **Comparison & Residual Analysis**  \n",
    "   - Compare the predictions from **Excel and Prophet**.  \n",
    "   - Perform a similar **residual analysis** for the Prophet model. Are there more data points with large errors in the Prophet version?\n",
    "\n",
    "## **Submission**  \n",
    "- Submit your **Excel file** containing the time series model.  \n",
    "- Submit your **Jupyter Notebook** with the Prophet-based forecast and analysis."
   ]
  }
 ],
 "metadata": {
  "language_info": {
   "name": "python"
  }
 },
 "nbformat": 4,
 "nbformat_minor": 2
}
