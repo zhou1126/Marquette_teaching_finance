{
 "cells": [
  {
   "cell_type": "code",
   "execution_count": 13,
   "id": "74515f9c",
   "metadata": {},
   "outputs": [
    {
     "name": "stdout",
     "output_type": "stream",
     "text": [
      "   Group  A\n",
      "3      4  1\n",
      "4      5  2\n",
      "0      1  3\n",
      "2      3  4\n",
      "1      2  5\n",
      "6     10  6\n",
      "5      6  7\n"
     ]
    }
   ],
   "source": [
    "import pandas as pd\n",
    "import random\n",
    "\n",
    "# Define group IDs\n",
    "groups = [1, 2, 3, 4, 5, 6, 10]\n",
    "\n",
    "# Create shuffled lists of unique numbers from 1 to 7\n",
    "random.seed(20002)\n",
    "a = random.sample(range(1, 8), len(groups))\n",
    "\n",
    "# Create DataFrame\n",
    "df = pd.DataFrame({\n",
    "    \"Group\": groups,\n",
    "    \"A\": a,\n",
    "})\n",
    "\n",
    "df.sort_values(by = 'A', ascending=True, inplace = True)\n",
    "print(df)"
   ]
  },
  {
   "cell_type": "code",
   "execution_count": null,
   "id": "0b9cceca",
   "metadata": {},
   "outputs": [],
   "source": []
  }
 ],
 "metadata": {
  "kernelspec": {
   "display_name": "Python 3",
   "language": "python",
   "name": "python3"
  },
  "language_info": {
   "codemirror_mode": {
    "name": "ipython",
    "version": 3
   },
   "file_extension": ".py",
   "mimetype": "text/x-python",
   "name": "python",
   "nbconvert_exporter": "python",
   "pygments_lexer": "ipython3",
   "version": "3.12.1"
  }
 },
 "nbformat": 4,
 "nbformat_minor": 5
}
