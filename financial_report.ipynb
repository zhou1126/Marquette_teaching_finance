{
 "cells": [
  {
   "cell_type": "code",
   "execution_count": 2,
   "id": "5f9335ba",
   "metadata": {},
   "outputs": [],
   "source": [
    "from sec_edgar_downloader import Downloader\n",
    "import os\n",
    "from bs4 import BeautifulSoup\n",
    "import re"
   ]
  },
  {
   "cell_type": "code",
   "execution_count": 3,
   "id": "3c477fcb",
   "metadata": {},
   "outputs": [
    {
     "name": "stdout",
     "output_type": "stream",
     "text": [
      "Downloading 10-K filings for TSLA between 2024-01-01 and 2024-08-30...\n",
      "Successfully downloaded 10-K filings for TSLA between 2024-01-01 and 2024-08-30\n",
      "/workspaces/Marquette_teaching_finance\n",
      "/workspaces/Marquette_teaching_finance/sec-edgar-filings/TSLA/10-K\n"
     ]
    }
   ],
   "source": [
    "ticker = 'TSLA'\n",
    "report_type = '10-K'\n",
    "account_email = \"zhou60302@gmail.com\"\n",
    "after_date = '2024-01-01'\n",
    "before_date = '2024-08-30'\n",
    "\n",
    "try: \n",
    "    dl = Downloader(ticker, account_email)\n",
    "    dl.get(report_type, ticker, after=after_date, before=before_date)\n",
    "    base_dir = os.getcwd()\n",
    "    target_dir = os.path.join(base_dir, \"sec-edgar-filings\", ticker, report_type)\n",
    "    print(f\"Downloading 10-K filings for {ticker} between {after_date} and {before_date}...\")\n",
    "    print(f\"Successfully downloaded 10-K filings for {ticker} between {after_date} and {before_date}\")\n",
    "except Exception as e:\n",
    "        print(f\"Error downloading 10-K filings for {ticker}: {e}\")\n",
    "\n",
    "print(base_dir)\n",
    "print(target_dir)"
   ]
  },
  {
   "cell_type": "code",
   "execution_count": null,
   "id": "d5713737",
   "metadata": {},
   "outputs": [],
   "source": []
  }
 ],
 "metadata": {
  "kernelspec": {
   "display_name": "Python 3",
   "language": "python",
   "name": "python3"
  },
  "language_info": {
   "codemirror_mode": {
    "name": "ipython",
    "version": 3
   },
   "file_extension": ".py",
   "mimetype": "text/x-python",
   "name": "python",
   "nbconvert_exporter": "python",
   "pygments_lexer": "ipython3",
   "version": "3.12.1"
  }
 },
 "nbformat": 4,
 "nbformat_minor": 5
}
