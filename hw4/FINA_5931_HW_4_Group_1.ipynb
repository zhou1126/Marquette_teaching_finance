{
  "cells": [
    {
      "cell_type": "markdown",
      "metadata": {
        "id": "t5bNY-GR4W_I"
      },
      "source": [
        "# **HW 4: Time Series Analysis**\n",
        "\n",
        "# **Instructions**\n",
        "\n",
        "# **Tasks**\n",
        "\n",
        "Data Retrieval\n",
        "Use the Yahoo Finance API to download NVDA daily price data.\n",
        "\n",
        "Data Export\n",
        "Save the NVDA daily price data as a CSV file using the to_csv function in Pandas and download it to your local machine.\n",
        "\n",
        "Time Series Modeling in Excel\n",
        "Build a time series model in Excel to predict NVDA’s daily price for January and February 2025.\n",
        "\n",
        "Prediction Accuracy\n",
        "Evaluate the model’s performance using Mean Squared Error (MSE).\n",
        "\n",
        "Residual Analysis\n",
        "Analyze the prediction errors. Identify specific dates where the errors are unusually high. Research possible external factors (e.g., news, reports, product releases) that may explain these anomalies.\n",
        "\n",
        "Forecasting with Prophet\n",
        "In a Jupyter Notebook, use the Prophet library to forecast NVDA’s daily price for January and February 2025.\n",
        "\n",
        "Comparison & Residual Analysis\n",
        "Compare the predictions from Excel and Prophet. Perform a similar residual analysis for the Prophet model. Are there more data points with large errors in the Prophet version?\n",
        "\n",
        "# **Submission**\n",
        "\n",
        "Submit your Excel file containing the time series model.\n",
        "•\n",
        "Submit your Jupyter Notebook with the Prophet-based forecast and analysis."
      ]
    },
    {
      "cell_type": "code",
      "execution_count": null,
      "metadata": {
        "colab": {
          "base_uri": "https://localhost:8080/",
          "height": 1000
        },
        "id": "5gWceUYPJb52",
        "outputId": "ae04ff0f-7654-48de-d4db-cffcb08017b6"
      },
      "outputs": [],
      "source": [
        "import yfinance as yf\n",
        "import pandas as pd\n",
        "from prophet import Prophet\n",
        "import matplotlib.pyplot as plt\n",
        "from sklearn.metrics import mean_squared_error\n",
        "\n",
        "# Step 1: Download and prepare data\n",
        "ticker = \"NVDA\"\n",
        "start_date = \"2010-01-01\"\n",
        "end_date = \"2025-02-28\"\n",
        "\n",
        "data = yf.download(ticker, start=start_date, end=end_date, auto_adjust=False)\n",
        "data = data.reset_index()\n",
        "\n",
        "# Fill in all calendar dates, forward-fill stock values - Required for Excel Time Series Analysis\n",
        "full_dates = pd.date_range(start=data['Date'].min(), end=data['Date'].max())\n",
        "data = data.set_index('Date').reindex(full_dates).rename_axis('Date').reset_index()\n",
        "data[['Open', 'High', 'Low', 'Close', 'Adj Close', 'Volume']] = data[['Open', 'High', 'Low', 'Close', 'Adj Close', 'Volume']].ffill()\n",
        "\n",
        "# Save for Excel use\n",
        "data.to_csv('NVDA_daily_price_data1.csv', index=False)\n",
        "\n",
        "# Step 2: Prepare for Prophet\n",
        "prophet_data = data[['Date', 'Close']].copy()\n",
        "prophet_data.columns = ['ds', 'y']\n",
        "prophet_data = prophet_data.dropna()\n",
        "\n",
        "# Step 3: Train Prophet model\n",
        "model = Prophet(daily_seasonality=True)\n",
        "model.fit(prophet_data)\n",
        "\n",
        "# Step 4: Forecast next 60 days\n",
        "future = model.make_future_dataframe(periods=60)\n",
        "forecast = model.predict(future)\n",
        "\n",
        "# Step 5: Merge forecast with actuals\n",
        "merged = pd.merge(forecast[['ds', 'yhat']], prophet_data, on='ds', how='inner')\n",
        "\n",
        "# Step 6: Filter for Jan–Feb 2025\n",
        "jan_feb = merged[(merged['ds'] >= '2025-01-01') & (merged['ds'] < '2025-03-01')].copy()\n",
        "jan_feb.dropna(inplace=True)\n",
        "\n",
        "# Step 7: Calculate residuals and MSE\n",
        "jan_feb['residual'] = jan_feb['y'] - jan_feb['yhat']\n",
        "mse = mean_squared_error(jan_feb['y'], jan_feb['yhat'])\n",
        "\n",
        "# Step 8: Plot forecast vs actual with labels\n",
        "plt.figure(figsize=(12, 6))\n",
        "plt.plot(jan_feb['ds'], jan_feb['y'], label='Actual', marker='o')\n",
        "plt.plot(jan_feb['ds'], jan_feb['yhat'], label='Forecast', linestyle='--', marker='x')\n",
        "plt.title('NVDA Forecast vs Actual (Jan–Feb 2025)')\n",
        "plt.xlabel('Date')\n",
        "plt.ylabel('Price')\n",
        "plt.xticks(rotation=45)\n",
        "plt.legend()\n",
        "plt.grid(True)\n",
        "plt.tight_layout()\n",
        "plt.show()\n",
        "\n",
        "# Step 9: Plot residuals\n",
        "plt.figure(figsize=(12, 4))\n",
        "plt.bar(jan_feb['ds'], jan_feb['residual'])\n",
        "plt.axhline(0, color='red', linestyle='--')\n",
        "plt.title('Residuals (Actual - Forecast)')\n",
        "plt.xlabel('Date')\n",
        "plt.ylabel('Residual')\n",
        "plt.xticks(rotation=45)\n",
        "plt.tight_layout()\n",
        "plt.grid(True)\n",
        "plt.show()\n",
        "\n",
        "# Step 10: Model performance summary\n",
        "print(\"📊 MODEL PERFORMANCE SUMMARY\")\n",
        "print(f\"Mean Squared Error (Jan–Feb 2025): {round(mse, 4)}\")\n",
        "\n",
        "# Step 11: Show forecast vs actual per day + residual\n",
        "print(\"\\n📅 FORECAST VS ACTUAL + RESIDUALS (Jan–Feb 2025):\")\n",
        "print(jan_feb[['ds', 'yhat', 'y', 'residual']].rename(columns={\n",
        "    'ds': 'Date', 'yhat': 'Forecast', 'y': 'Actual', 'residual': 'Residual'\n",
        "}).to_string(index=False))\n"
      ]
    },
    {
      "cell_type": "markdown",
      "metadata": {
        "id": "mxv6TGVOVqvX"
      },
      "source": [
        "# **Excel Residual Analysis**\n",
        "\n",
        "The Excel MSE is 63.362\n",
        "\n",
        "Top three dates with highest residuals\n",
        "\n",
        "\n",
        "1.   01/06/2025\n",
        "  *  NVIDIA CEO Jensen Huang delivered the opening keynote for CES, which is one of the worlds largest consumer electronics trade shows. In his keynote Jensen revealed several new project lines  and partnerships which can explain the variance in are actual vs predicted values. Examples of new products and partships include the NVIDIA Cosmos, New NVIDIA Blackwell-based GeForce RTX 50 Series GPUs, The new NVIDIA Project DIGITS and lastly NVIDIA is partnering with Toyota for safe next-gen vehicle development.\n",
        "  \n",
        "  https://blogs.nvidia.com/blog/ces-2025-jensen-huang/\n",
        "\n",
        "  https://www.forbes.com/sites/digital-assets/2025/01/08/9-nvidia-announcements-from-ces-2025-and-their-impact-on-blockchain/\n",
        "\n",
        "2.   01/23/2025\n",
        "\n",
        "  *   NVIDIA stock was riding the wave from previous days. See the analysis below as it is the same.\n",
        "\n",
        "\n",
        "\n",
        "\n",
        "\n",
        "3.   01/22/2025\n",
        "  *   Nvidia announced the Stargate project which is a new joint company formed by OpenAI, Oracle, and Softbank. The three partners have announced they will soon be investing 100 billion in U.S. AI infrastructure. They also have the backing of United States Government as President Trump hosted all three CEO's and Chairman's to announce the Stargate's AI infrastrucutre initiative. This venture will focus on expanding AI-focused data centers domestically. While the project will initially invest 100 billion however over next four years they could potentially invest 500 billion.\n",
        "\n",
        "  https://www.fool.com/investing/2025/01/22/why-nvidia-stock-surged-today/\n",
        "  https://www.wsj.com/livecoverage/stock-market-today-dow-sp500-nasdaq-live-01-22-2025/card/zsuKorU4YWdWorMl2D45\n",
        "\n",
        "\n",
        "\n"
      ]
    },
    {
      "cell_type": "markdown",
      "metadata": {
        "id": "KOzovM2PK1_C"
      },
      "source": [
        "# **Prophet Residual Analysis**\n",
        "\n",
        "The Python Prophet MSE is 200.6044\n",
        "\n",
        "The daily residuals for the Prophet model were much higher than the excel model, which is reflected in the larger MSE. The largest, however, residuals occurred on the same dates as the excel model on 1/6, 1/22, and 1/23. Refer to the above residual analysis on the excel model for the likely explanation of the large residuals on those dates."
      ]
    },
    {
      "cell_type": "markdown",
      "metadata": {
        "id": "iPK4Mp_MZliS"
      },
      "source": [
        "# **Excel & Prophet Comparison**\n",
        "\n",
        "Python Prophet MSE = 200.6044\n",
        "\n",
        "Excel MSE = 63.362\n",
        "\n",
        "\n",
        "While both models forecasted NVDA's price movement from Jan–Feb 2025, the Excel model significantly outperformed the Prophet model in terms of Mean Squared Error (63.36 vs 200.60).\n",
        "\n",
        "Possible Reasons for discrepency comparison:\n",
        "\n",
        "**Excel Model:** Potentially overfitted or more reactive to recent trends, it might have captured short-term anomalies (like CES announcements or government-backed AI initiatives) better. This helped reduce its residuals for key event dates.\n",
        "\n",
        "**Prophet Model:** Designed for general trend and seasonality detection, it smooths out sudden spikes or dips that don't align with historical seasonality. As a result, it missed capturing sharp rises caused by sudden news or partnerships.\n",
        "\n",
        "In short, Prophet is better for long-term trend forecasting, but Excel may excel in short-term, event-driven predictions—especially when recent price patterns strongly influence future values."
      ]
    }
  ],
  "metadata": {
    "colab": {
      "provenance": []
    },
    "kernelspec": {
      "display_name": "Python 3",
      "name": "python3"
    },
    "language_info": {
      "name": "python"
    }
  },
  "nbformat": 4,
  "nbformat_minor": 0
}
