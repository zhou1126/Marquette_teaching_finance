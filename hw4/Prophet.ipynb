{
 "cells": [
  {
   "cell_type": "code",
   "execution_count": null,
   "id": "e2c801e2-a5cb-4e65-b390-c767f4bf9367",
   "metadata": {},
   "outputs": [],
   "source": [
    "pip install yfinance pandas Prophet"
   ]
  },
  {
   "cell_type": "code",
   "execution_count": 1,
   "id": "fa34bab9-9d1d-4cab-93d6-67b52255fdec",
   "metadata": {},
   "outputs": [
    {
     "name": "stderr",
     "output_type": "stream",
     "text": [
      "/home/codespace/.python/current/lib/python3.12/site-packages/tqdm/auto.py:21: TqdmWarning: IProgress not found. Please update jupyter and ipywidgets. See https://ipywidgets.readthedocs.io/en/stable/user_install.html\n",
      "  from .autonotebook import tqdm as notebook_tqdm\n"
     ]
    }
   ],
   "source": [
    "import yfinance as yf\n",
    "import pandas as pd\n",
    "import matplotlib.pyplot as plt\n",
    "from prophet import Prophet\n"
   ]
  },
  {
   "cell_type": "code",
   "execution_count": null,
   "id": "0b19d05f-1e16-49a9-922b-f4af1c3ab1ef",
   "metadata": {},
   "outputs": [],
   "source": [
    "nvda_data = yf.download(\"NVDA\", start=\"2024-01-01\", end=\"2025-01-01\", interval=\"1d\")"
   ]
  },
  {
   "cell_type": "code",
   "execution_count": null,
   "id": "636129d3-1d9b-4b0a-9214-bcbbc9f23caf",
   "metadata": {},
   "outputs": [],
   "source": [
    "nvda_data.reset_index(inplace=True)"
   ]
  },
  {
   "cell_type": "code",
   "execution_count": null,
   "id": "16637940-ca43-41ae-a680-d6d6d6bddd10",
   "metadata": {},
   "outputs": [],
   "source": [
    "nvda_data = nvda_data[['Date', 'Close']]"
   ]
  },
  {
   "cell_type": "code",
   "execution_count": null,
   "id": "3a4d4311-cb58-4c2d-8e1e-d586599c326f",
   "metadata": {},
   "outputs": [],
   "source": [
    "nvda_data = nvda_data.rename(columns={'Date': 'ds', 'Close': 'y'})"
   ]
  },
  {
   "cell_type": "code",
   "execution_count": null,
   "id": "e8250d5e-4630-41ae-8b06-c1fb40514a76",
   "metadata": {},
   "outputs": [],
   "source": [
    "plt.figure(figsize=(10,6))\n",
    "plt.plot(nvda_data['ds'], nvda_data['y'])\n",
    "plt.title('NVDA Daily Closing Prices')\n",
    "plt.xlabel('Date')\n",
    "plt.ylabel('Closing Price (USD)')\n",
    "plt.show()\n"
   ]
  },
  {
   "cell_type": "code",
   "execution_count": null,
   "id": "1031d007-302e-4584-8b48-f650389c9519",
   "metadata": {},
   "outputs": [],
   "source": [
    "model = Prophet()"
   ]
  },
  {
   "cell_type": "code",
   "execution_count": null,
   "id": "cf28ae2f-bc2c-47c8-87b1-8d5908e95986",
   "metadata": {},
   "outputs": [],
   "source": [
    "nvda_data = nvda_data.rename(columns={'Date': 'ds', 'Close': 'y'})\n",
    "future = model.make_future_dataframe(nvda_data, periods=40, freq='B')\n",
    "forecast = model.predict(future)\n",
    "fig = model.plot(forecast)\n",
    "plt.title('NVDA Stock Price Forecast (Jan & Feb 2025)')\n",
    "plt.xlabel('Date')\n",
    "plt.ylabel('Price (USD)')\n",
    "plt.show()\n",
    "forecast[['ds', 'yhat', 'yhat_lower', 'yhat_upper']].tail(40)"
   ]
  },
  {
   "cell_type": "markdown",
   "id": "39a1407b-ad82-49d6-895f-e24d4cf0d7e8",
   "metadata": {},
   "source": [
    "I could not get my code for the prophet model to work, so unfortunately I can't compare residuals to my LSTM model. Excel wouldn't forecast my data either, so I did all my models and MSE in Jupyter to try and make up for that."
   ]
  },
  {
   "cell_type": "code",
   "execution_count": null,
   "id": "373d7009-d0fd-4056-a94d-e6586771843c",
   "metadata": {},
   "outputs": [],
   "source": []
  }
 ],
 "metadata": {
  "kernelspec": {
   "display_name": "Python 3",
   "language": "python",
   "name": "python3"
  },
  "language_info": {
   "codemirror_mode": {
    "name": "ipython",
    "version": 3
   },
   "file_extension": ".py",
   "mimetype": "text/x-python",
   "name": "python",
   "nbconvert_exporter": "python",
   "pygments_lexer": "ipython3",
   "version": "3.12.1"
  }
 },
 "nbformat": 4,
 "nbformat_minor": 5
}
