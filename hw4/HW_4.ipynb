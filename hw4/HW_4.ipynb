{
  "cells": [
    {
      "cell_type": "code",
      "execution_count": null,
      "metadata": {
        "colab": {
          "base_uri": "https://localhost:8080/"
        },
        "id": "3LmmPQwVn8UY",
        "outputId": "f8fede41-1664-430b-9c9f-4bd0161ff93b"
      },
      "outputs": [],
      "source": [
        "import yfinance as yf\n",
        "import pandas as pd\n",
        "from prophet import Prophet\n",
        "import matplotlib.pyplot as plt\n",
        "import numpy as np\n",
        "\n",
        "# 1. Data Retrieval: Download NVDA daily price data\n",
        "# Set your desired start and end dates (adjust as necessary)\n",
        "start_date = \"2025-01-01\"\n",
        "end_date = \"2025-02-28\"\n",
        "nvda_data = yf.download(\"NVDA\", start=start_date, end=end_date)\n",
        "nvda_data.reset_index(inplace=True)\n",
        "\n",
        "# 2. Data Export: Save the data as a CSV file\n",
        "nvda_data.to_csv(\"nvda_data.csv\", index=False)\n",
        "print(\"Data saved to nvda_data.csv\")\n"
      ]
    },
    {
      "cell_type": "code",
      "execution_count": null,
      "metadata": {
        "colab": {
          "base_uri": "https://localhost:8080/"
        },
        "id": "MjwQRI2xrGJw",
        "outputId": "4c223942-e0e3-4c3b-9d95-c513b1c560a6"
      },
      "outputs": [],
      "source": [
        "# Install required packages if needed (uncomment the next lines if not already installed)\n",
        "# !pip install yfinance prophet matplotlib\n",
        "\n",
        "import pandas as pd\n",
        "import numpy as np\n",
        "import matplotlib.pyplot as plt\n",
        "from prophet import Prophet\n",
        "from sklearn.metrics import mean_squared_error\n",
        "from google.colab import files\n",
        "\n",
        "# ------------------------------\n",
        "# 1. Load the CSV data\n",
        "# ------------------------------\n",
        "# Read the CSV file provided in your Colab session\n",
        "df_hw = pd.read_csv(\"nvda_data_hw.csv\")\n",
        "\n",
        "# Convert the 'Date' column to datetime and sort the DataFrame by date\n",
        "df_hw['Date'] = pd.to_datetime(df_hw['Date'])\n",
        "df_hw.sort_values('Date', inplace=True)\n",
        "\n",
        "# Optional: display the first few rows to verify the data loaded correctly\n",
        "print(\"Data preview:\")\n",
        "print(df_hw.head())\n",
        "\n"
      ]
    },
    {
      "cell_type": "code",
      "execution_count": null,
      "metadata": {
        "colab": {
          "base_uri": "https://localhost:8080/",
          "height": 1000
        },
        "id": "tLf2giVMrQHP",
        "outputId": "596d17cf-916a-4218-89f8-4b25c09b970a"
      },
      "outputs": [],
      "source": [
        "\n",
        "# We assume 'Close' is the target variable.\n",
        "df_prophet = df_hw[['Date', 'Close']].rename(columns={'Date': 'ds', 'Close': 'y'})\n",
        "\n",
        "# ------------------------------\n",
        "# 3. Fit the Prophet Model\n",
        "# ------------------------------\n",
        "# Initialize and fit the model on the historical data.\n",
        "model = Prophet(daily_seasonality=True)\n",
        "model.fit(df_prophet)\n",
        "\n",
        "# ------------------------------\n",
        "# 4. Create Future DataFrame for Forecasting\n",
        "# ------------------------------\n",
        "# We want to forecast NVDA's daily price for January and February 2025.\n",
        "# First, define the target forecast end date:\n",
        "forecast_end_date = pd.to_datetime(\"2025-02-28\")\n",
        "\n",
        "# Compute how many days to forecast beyond the last date in the training data:\n",
        "last_date = df_prophet['ds'].max()\n",
        "forecast_horizon = (forecast_end_date - last_date).days\n",
        "\n",
        "# Create the future DataFrame (includes the training period by default)\n",
        "future = model.make_future_dataframe(periods=forecast_horizon)\n",
        "forecast = model.predict(future)\n",
        "\n",
        "# ------------------------------\n",
        "# 5. Extract Forecast for January and February 2025\n",
        "# ------------------------------\n",
        "forecast_jan_feb = forecast[(forecast['ds'] >= \"2025-01-01\") & (forecast['ds'] <= \"2025-02-28\")]\n",
        "\n",
        "# Plot the forecast for the entire period (training + forecast)\n",
        "fig1 = model.plot(forecast)\n",
        "plt.title(\"NVDA Daily Price Forecast\")\n",
        "plt.xlabel(\"Date\")\n",
        "plt.ylabel(\"Price (USD)\")\n",
        "plt.show()\n",
        "\n",
        "# Plot forecast components (trend, weekly, yearly seasonality, etc.)\n",
        "fig2 = model.plot_components(forecast)\n",
        "plt.show()\n",
        "\n"
      ]
    },
    {
      "cell_type": "code",
      "execution_count": null,
      "metadata": {
        "colab": {
          "base_uri": "https://localhost:8080/",
          "height": 694
        },
        "id": "MiQctk5br_Jr",
        "outputId": "3f6a00db-3eed-484a-9517-ae419826f388"
      },
      "outputs": [],
      "source": [
        "# 6. Evaluate Model Performance on Historical Data (MSE)\n",
        "# ------------------------------\n",
        "# Limit the forecast to the training period.\n",
        "forecast_train = forecast[forecast['ds'] <= last_date].copy()\n",
        "# Set index to 'ds' for easier alignment.\n",
        "df_train = df_prophet.set_index('ds')\n",
        "forecast_train = forecast_train.set_index('ds')\n",
        "\n",
        "# Add the in-sample prediction ('yhat') to the training data.\n",
        "df_train['yhat'] = forecast_train['yhat']\n",
        "# Calculate residuals\n",
        "df_train['residual'] = df_train['y'] - df_train['yhat']\n",
        "\n",
        "# Compute Mean Squared Error (MSE)\n",
        "mse = mean_squared_error(df_train['y'], df_train['yhat'])\n",
        "print(\"Mean Squared Error (MSE) on training data:\", mse)\n",
        "\n",
        "# ------------------------------\n",
        "# 7. Residual Analysis\n",
        "# ------------------------------\n",
        "# Plot residuals over time.\n",
        "plt.figure(figsize=(10, 6))\n",
        "plt.plot(df_train.index, df_train['residual'], marker='o', linestyle='-', label=\"Residuals\")\n",
        "plt.axhline(y=0, color='r', linestyle='--')\n",
        "plt.xlabel(\"Date\")\n",
        "plt.ylabel(\"Residual (Actual - Predicted)\")\n",
        "plt.title(\"Residuals of Prophet Model on Historical Data\")\n",
        "plt.xticks(rotation=45)\n",
        "plt.tight_layout()\n",
        "plt.legend()\n",
        "plt.show()\n",
        "\n",
        "# Identify dates with unusually high residuals using a threshold (e.g., 2 standard deviations)\n",
        "threshold = 2 * np.std(df_train['residual'])\n",
        "anomalies = df_train[abs(df_train['residual']) > threshold]\n",
        "print(\"Dates with unusually high residuals (>|2*std|):\")\n",
        "print(anomalies[['y', 'yhat', 'residual']])\n"
      ]
    }
  ],
  "metadata": {
    "colab": {
      "provenance": []
    },
    "kernelspec": {
      "display_name": "Python 3",
      "name": "python3"
    },
    "language_info": {
      "name": "python"
    }
  },
  "nbformat": 4,
  "nbformat_minor": 0
}
