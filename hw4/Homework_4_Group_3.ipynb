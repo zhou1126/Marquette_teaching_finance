{
  "cells": [
    {
      "cell_type": "markdown",
      "metadata": {
        "id": "Ifvi6SDxgu9-"
      },
      "source": [
        "Homework 4 Group 3 - Matt Benbenek, Ben Teske, Sam Barbel"
      ]
    },
    {
      "cell_type": "code",
      "execution_count": null,
      "metadata": {
        "id": "p8YQ8a8CAbDd"
      },
      "outputs": [],
      "source": [
        "import yfinance as yf\n",
        "import pandas as pd\n",
        "import numpy as np\n",
        "from datetime import datetime\n",
        "import statsmodels.api as sm\n",
        "from statsmodels.tsa.seasonal import STL\n",
        "from statsmodels.tsa.stattools import adfuller\n",
        "from statsmodels.tsa.stattools import acf, pacf\n",
        "from statsmodels.graphics.tsaplots import plot_acf, plot_pacf\n",
        "from statsmodels.stats.diagnostic import acorr_ljungbox\n",
        "from statsmodels.tsa.ar_model import AutoReg\n",
        "from statsmodels.tsa.arima.model import ARIMA\n",
        "from statsmodels.tsa.statespace.sarimax import SARIMAX\n",
        "from sklearn.metrics import mean_squared_error, mean_absolute_error\n",
        "from statsmodels.tsa.exponential_smoothing.ets import ETSModel\n",
        "from prophet import Prophet\n",
        "import matplotlib.pyplot as plt\n",
        "import itertools"
      ]
    },
    {
      "cell_type": "markdown",
      "metadata": {
        "id": "kGgnBfGUg0qU"
      },
      "source": [
        "Part 1"
      ]
    },
    {
      "cell_type": "code",
      "execution_count": null,
      "metadata": {
        "colab": {
          "base_uri": "https://localhost:8080/",
          "height": 305
        },
        "id": "uhrMYKfBBFP8",
        "outputId": "e8156af7-e221-46e8-ad68-a4b8e6442728"
      },
      "outputs": [],
      "source": [
        "ticker = \"NVDA\"\n",
        "data = yf.download(ticker, start=\"2020-01-01\", end=\"2025-3-01\")\n",
        "data.head()"
      ]
    },
    {
      "cell_type": "markdown",
      "metadata": {
        "id": "5StHMFQBhAQ6"
      },
      "source": [
        "Part 2"
      ]
    },
    {
      "cell_type": "code",
      "execution_count": null,
      "metadata": {
        "id": "qYIWgZqlCMIH"
      },
      "outputs": [],
      "source": [
        "data.to_csv('data.csv')"
      ]
    },
    {
      "cell_type": "markdown",
      "metadata": {
        "id": "Hu2GdzZthBgO"
      },
      "source": [
        "Formatted csv offline and reuploaded"
      ]
    },
    {
      "cell_type": "code",
      "execution_count": null,
      "metadata": {
        "id": "cOTH7urdDgyM"
      },
      "outputs": [],
      "source": [
        "NVDA_data=pd.read_csv('NVDA_data.csv')"
      ]
    },
    {
      "cell_type": "code",
      "execution_count": null,
      "metadata": {
        "colab": {
          "base_uri": "https://localhost:8080/",
          "height": 0
        },
        "id": "Yyna0jZrELgZ",
        "outputId": "144599ff-5c42-4d3d-f2d9-ec633c7561a2"
      },
      "outputs": [],
      "source": [
        "print(NVDA_data.columns)"
      ]
    },
    {
      "cell_type": "code",
      "execution_count": null,
      "metadata": {
        "colab": {
          "base_uri": "https://localhost:8080/",
          "height": 206
        },
        "id": "DyYO2JO-EnyD",
        "outputId": "367d9fdd-0f3b-4eb4-c228-01eef60632d3"
      },
      "outputs": [],
      "source": [
        "NVDA_data.head()"
      ]
    },
    {
      "cell_type": "code",
      "execution_count": null,
      "metadata": {
        "id": "N3PDWSzTLEA7"
      },
      "outputs": [],
      "source": [
        "NVDA_data['Date'] = pd.to_datetime(NVDA_data['Date'])\n",
        "\n",
        "NVDA_data = NVDA_data.sort_values(by='Date')  # Sort by Date if not already sorted"
      ]
    },
    {
      "cell_type": "code",
      "execution_count": null,
      "metadata": {
        "colab": {
          "base_uri": "https://localhost:8080/",
          "height": 206
        },
        "id": "FYvZWsjyFciY",
        "outputId": "c85f7774-fc18-4632-ad6e-ee92d548df0e"
      },
      "outputs": [],
      "source": [
        "NVDA_data.head()"
      ]
    },
    {
      "cell_type": "code",
      "execution_count": null,
      "metadata": {
        "colab": {
          "base_uri": "https://localhost:8080/",
          "height": 1617
        },
        "id": "KfxLrrCDJdr-",
        "outputId": "f3566c51-f3ba-4609-a0c9-3c20bb9e737d"
      },
      "outputs": [],
      "source": [
        "NVDA_data.head(50)"
      ]
    },
    {
      "cell_type": "code",
      "execution_count": null,
      "metadata": {
        "colab": {
          "base_uri": "https://localhost:8080/",
          "height": 564
        },
        "id": "9awag2muFrqH",
        "outputId": "046f652e-362e-4cf7-fab0-43eff86cd532"
      },
      "outputs": [],
      "source": [
        "# Plot the time series\n",
        "plt.figure(figsize=(12, 6))\n",
        "plt.plot(NVDA_data['Date'], NVDA_data['Close'], label=\"Close Price\", color='b')\n",
        "\n",
        "# Formatting the plot\n",
        "plt.xlabel(\"Date\")\n",
        "plt.ylabel(\"Close Price\")\n",
        "plt.title(\"NVDA Data Close Price Time Series\")\n",
        "plt.legend()\n",
        "plt.grid(True)\n",
        "\n",
        "\n",
        "# Display the plot\n",
        "plt.show()"
      ]
    },
    {
      "cell_type": "code",
      "execution_count": null,
      "metadata": {
        "colab": {
          "base_uri": "https://localhost:8080/",
          "height": 807
        },
        "id": "cdJRCvQJM-T8",
        "outputId": "025b7363-90b1-422a-8a7d-2af2c361087a"
      },
      "outputs": [],
      "source": [
        "NVDA_data.set_index('Date', inplace=True)\n",
        "\n",
        "# Ensure period is set (252 trading days in a year)\n",
        "stl = STL(NVDA_data['Close'], period=252, robust=True)\n",
        "result = stl.fit()\n",
        "\n",
        "# Plot the decomposition\n",
        "fig, axs = plt.subplots(4, 1, figsize=(12, 8), sharex=True)\n",
        "\n",
        "axs[0].plot(NVDA_data.index, NVDA_data['Close'], color='black', label=\"Original\")\n",
        "axs[0].set_title(\"Original Time Series\")\n",
        "\n",
        "axs[1].plot(NVDA_data.index, result.trend, color='blue', label=\"Trend\")\n",
        "axs[1].set_title(\"Trend Component\")\n",
        "\n",
        "axs[2].plot(NVDA_data.index, result.seasonal, color='green', label=\"Seasonal\")\n",
        "axs[2].set_title(\"Seasonal Component\")\n",
        "\n",
        "axs[3].plot(NVDA_data.index, result.resid, color='red', label=\"Residual\")\n",
        "axs[3].set_title(\"Residual Component\")\n",
        "axs[3].axhline(0, linestyle='--', color='gray')\n",
        "\n",
        "# Formatting\n",
        "plt.tight_layout()\n",
        "plt.show()"
      ]
    },
    {
      "cell_type": "code",
      "execution_count": null,
      "metadata": {
        "colab": {
          "base_uri": "https://localhost:8080/",
          "height": 826
        },
        "id": "BqC0NHalOykN",
        "outputId": "2ff289af-1c64-4283-a79a-106453302edf"
      },
      "outputs": [],
      "source": [
        "# ADF test function\n",
        "def adf_test(series, title=\"\"):\n",
        "    result = adfuller(series.dropna())  # Drop NaN values for differenced series\n",
        "    print(f\"ADF Test for {title}\")\n",
        "    print(f\"ADF Statistic: {result[0]}\")\n",
        "    print(f\"p-value: {result[1]}\")\n",
        "    print(\"Critical Values:\", result[4])\n",
        "    if result[1] <= 0.05:\n",
        "        print(\"The series is stationary (reject H0).\")\n",
        "    else:\n",
        "        print(\"The series is non-stationary (fail to reject H0).\")\n",
        "    print(\"-\" * 50)\n",
        "\n",
        "# Perform ADF test on original Close price\n",
        "adf_test(NVDA_data['Close'], title=\"Original Close Price\")\n",
        "\n",
        "# Apply first-order differencing\n",
        "NVDA_data['Close_diff'] = NVDA_data['Close'].diff()\n",
        "\n",
        "# Perform ADF test on differenced data\n",
        "adf_test(NVDA_data['Close_diff'], title=\"Differenced Close Price\")\n",
        "\n",
        "# Plot the original and differenced series\n",
        "fig, axs = plt.subplots(2, 1, figsize=(12, 6), sharex=True)\n",
        "\n",
        "axs[0].plot(NVDA_data.index, NVDA_data['Close'], color='black', label=\"Original Close Price\")\n",
        "axs[0].set_title(\"Original Close Price Time Series\")\n",
        "axs[0].legend()\n",
        "\n",
        "axs[1].plot(NVDA_data.index, NVDA_data['Close_diff'], color='blue', label=\"First-Order Differenced\")\n",
        "axs[1].set_title(\"Differenced Close Price Time Series\")\n",
        "axs[1].legend()\n",
        "\n",
        "plt.tight_layout()\n",
        "plt.show()"
      ]
    },
    {
      "cell_type": "code",
      "execution_count": null,
      "metadata": {
        "colab": {
          "base_uri": "https://localhost:8080/",
          "height": 1172
        },
        "id": "bL3yi8SuPCrk",
        "outputId": "69b54742-1006-4704-e595-51207f79fe92"
      },
      "outputs": [],
      "source": [
        "# First-order differencing to make the series stationary\n",
        "NVDA_data['Close_diff'] = NVDA_data['Close'].diff().dropna()\n",
        "\n",
        "# Calculate ACF and PACF values\n",
        "acf_values = acf(NVDA_data['Close_diff'].dropna(), nlags=50)\n",
        "pacf_values = pacf(NVDA_data['Close_diff'].dropna(), nlags=50)\n",
        "\n",
        "# Print ACF and PACF values\n",
        "print(\"ACF Values:\\n\", acf_values)\n",
        "print(\"\\nPACF Values:\\n\", pacf_values)\n",
        "\n",
        "# Plot ACF and PACF for the differenced data\n",
        "fig, axs = plt.subplots(2, 1, figsize=(12, 8))\n",
        "\n",
        "plot_acf(NVDA_data['Close_diff'].dropna(), lags=50, ax=axs[0])  # Autocorrelation function\n",
        "axs[0].set_title(\"Autocorrelation Function (ACF)\")\n",
        "\n",
        "plot_pacf(NVDA_data['Close_diff'].dropna(), lags=50, ax=axs[1])  # Partial autocorrelation function\n",
        "axs[1].set_title(\"Partial Autocorrelation Function (PACF)\")\n",
        "\n",
        "plt.tight_layout()\n",
        "plt.show()\n",
        "\n",
        "# Run Ljung-Box test on the differenced data (checking for autocorrelation)\n",
        "# ljung_box_results = acorr_ljungbox(market_data['Close_diff'].dropna(), lags=[10, 20, 30], return_df=True)\n",
        "# print(ljung_box_results)"
      ]
    },
    {
      "cell_type": "code",
      "execution_count": null,
      "metadata": {
        "id": "0RUK7ZZ1PUKx"
      },
      "outputs": [],
      "source": [
        "# Sort the DataFrame by date (in case it is not sorted)\n",
        "NVDA_data.sort_index(inplace=True)\n",
        "\n",
        "# Reindex the DataFrame with a complete date range\n",
        "# This will insert missing dates as NaN for close prices\n",
        "date_range = pd.date_range(start=NVDA_data.index.min(), end=NVDA_data.index.max(), freq='B')  # 'B' for business days\n",
        "NVDA_data_reindexed = NVDA_data.reindex(date_range)\n",
        "\n",
        "# Interpolate missing data points (if necessary)\n",
        "# Linear interpolation is a common approach for filling missing data\n",
        "NVDA_data_reindexed['Close'] = NVDA_data_reindexed['Close'].interpolate(method='linear')\n",
        "\n",
        "# Split the data: train = before 2024, test = from 2024 onward\n",
        "train = NVDA_data_reindexed[NVDA_data_reindexed.index < '2025-01-01']\n",
        "test = NVDA_data_reindexed[NVDA_data_reindexed.index >= '2025-01-01']"
      ]
    },
    {
      "cell_type": "code",
      "execution_count": null,
      "metadata": {
        "colab": {
          "base_uri": "https://localhost:8080/",
          "height": 0
        },
        "id": "SnPxaqZ6P4mq",
        "outputId": "3b6acd72-05ff-4d94-e3a9-e4aa4261702d"
      },
      "outputs": [],
      "source": [
        "test.shape[0]"
      ]
    },
    {
      "cell_type": "markdown",
      "metadata": {
        "id": "bYuuPlT-kHp9"
      },
      "source": [
        "Step 6. Prophet model below (using data from 2020 on)"
      ]
    },
    {
      "cell_type": "code",
      "execution_count": null,
      "metadata": {
        "colab": {
          "base_uri": "https://localhost:8080/",
          "height": 1529
        },
        "id": "5-XX0XP4jJTk",
        "outputId": "136dc2ac-c625-4635-90e6-e41ea3e66c3c"
      },
      "outputs": [],
      "source": [
        "# Prepare the train data for Prophet\n",
        "train_prophet = train.reset_index().rename(columns={'index': 'ds'})[['ds', 'Close']]\n",
        "train_prophet.columns = ['ds', 'y']  # Prophet requires 'ds' and 'y'\n",
        "\n",
        "# Initialize and fit Prophet model\n",
        "model = Prophet(daily_seasonality=True,\n",
        "                weekly_seasonality=True,  # Add weekly seasonality\n",
        "                yearly_seasonality=True,\n",
        "                changepoint_prior_scale=0.1)\n",
        "model.fit(train_prophet)\n",
        "\n",
        "# Create future dataframe for prediction (matching test period)\n",
        "future = pd.DataFrame(test.index, columns=['ds'])\n",
        "forecast = model.predict(future)\n",
        "\n",
        "# Extract predictions\n",
        "predictions = forecast['yhat'].values\n",
        "\n",
        "# Plot the actual vs predicted values\n",
        "plt.figure(figsize=(10, 6))\n",
        "plt.plot(test.index, test['Close'], label='Actual', color='blue')\n",
        "plt.plot(test.index, predictions, label='Predicted', color='red')\n",
        "plt.xlabel('Time')\n",
        "plt.ylabel('Price')\n",
        "plt.title('Actual vs Predicted Prices (Prophet Model)')\n",
        "plt.legend()\n",
        "plt.show()\n",
        "\n",
        "# Calculate MSE, MAE, and MAPE\n",
        "mse = mean_squared_error(test['Close'], predictions)\n",
        "mae = mean_absolute_error(test['Close'], predictions)\n",
        "mape = np.mean(np.abs((test['Close'] - predictions) / test['Close'])) * 100\n",
        "\n",
        "# Show evaluation metrics\n",
        "print(f'Mean Squared Error (MSE): {mse}')\n",
        "print(f'Mean Absolute Error (MAE): {mae}')\n",
        "print(f'Mean Absolute Percentage Error (MAPE): {mape:.2f}%')\n",
        "\n",
        "# Show model details\n",
        "model.plot_components(forecast)\n",
        "plt.show()\n"
      ]
    },
    {
      "cell_type": "markdown",
      "metadata": {
        "id": "BLV4c3EytrAo"
      },
      "source": [
        "Reran with train data starting from 2023 to match the excel model."
      ]
    },
    {
      "cell_type": "code",
      "execution_count": null,
      "metadata": {
        "id": "GzE2nDi-syYW"
      },
      "outputs": [],
      "source": [
        "# Sort the DataFrame by date (in case it is not sorted)\n",
        "NVDA_data.sort_index(inplace=True)\n",
        "\n",
        "# Reindex the DataFrame with a complete date range\n",
        "# This will insert missing dates as NaN for close prices\n",
        "date_range = pd.date_range(start=NVDA_data.index.min(), end=NVDA_data.index.max(), freq='B')  # 'B' for business days\n",
        "NVDA_data_reindexed = NVDA_data.reindex(date_range)\n",
        "\n",
        "# Interpolate missing data points (if necessary)\n",
        "# Linear interpolation is a common approach for filling missing data\n",
        "NVDA_data_reindexed['Close'] = NVDA_data_reindexed['Close'].interpolate(method='linear')\n",
        "\n",
        "# Split the data: train = before 2024, test = from 2024 onward\n",
        "train = NVDA_data_reindexed[(NVDA_data_reindexed.index < '2025-01-01') & (NVDA_data_reindexed.index >= '2023-01-01') ]\n",
        "test = NVDA_data_reindexed[NVDA_data_reindexed.index >= '2025-01-01']"
      ]
    },
    {
      "cell_type": "code",
      "execution_count": null,
      "metadata": {
        "colab": {
          "base_uri": "https://localhost:8080/",
          "height": 1544
        },
        "id": "spt3bGQctlht",
        "outputId": "c3dc9248-cd01-49f2-c9cf-90a98d12337f"
      },
      "outputs": [],
      "source": [
        "# Prepare the train data for Prophet\n",
        "train_prophet = train.reset_index().rename(columns={'index': 'ds'})[['ds', 'Close']]\n",
        "train_prophet.columns = ['ds', 'y']  # Prophet requires 'ds' and 'y'\n",
        "\n",
        "# Initialize and fit Prophet model\n",
        "model = Prophet(daily_seasonality=True,\n",
        "                weekly_seasonality=True,  # Add weekly seasonality\n",
        "                yearly_seasonality=True,\n",
        "                changepoint_prior_scale=0.1)\n",
        "model.fit(train_prophet)\n",
        "\n",
        "# Create future dataframe for prediction (matching test period)\n",
        "future = pd.DataFrame(test.index, columns=['ds'])\n",
        "forecast = model.predict(future)\n",
        "\n",
        "# Extract predictions\n",
        "predictions = forecast['yhat'].values\n",
        "\n",
        "# Plot the actual vs predicted values\n",
        "plt.figure(figsize=(10, 6))\n",
        "plt.plot(test.index, test['Close'], label='Actual', color='blue')\n",
        "plt.plot(test.index, predictions, label='Predicted', color='red')\n",
        "plt.xlabel('Time')\n",
        "plt.ylabel('Price')\n",
        "plt.title('Actual vs Predicted Prices (Prophet Model)')\n",
        "plt.legend()\n",
        "plt.show()\n",
        "\n",
        "# Calculate MSE, MAE, and MAPE\n",
        "mse = mean_squared_error(test['Close'], predictions)\n",
        "mae = mean_absolute_error(test['Close'], predictions)\n",
        "mape = np.mean(np.abs((test['Close'] - predictions) / test['Close'])) * 100\n",
        "\n",
        "# Show evaluation metrics\n",
        "print(f'Mean Squared Error (MSE): {mse}')\n",
        "print(f'Mean Absolute Error (MAE): {mae}')\n",
        "print(f'Mean Absolute Percentage Error (MAPE): {mape:.2f}%')\n",
        "\n",
        "# Show model details\n",
        "model.plot_components(forecast)\n",
        "plt.show()"
      ]
    },
    {
      "cell_type": "markdown",
      "metadata": {
        "id": "1z7HgNLyvumI"
      },
      "source": [
        "Step 7: Our MSE value for the prophet model is 447, which is much worse than the linear forecast model we made in Excel. Again, this model did not account for the Deep Seek announcement in January. Every point after that has a larger error in the prophet model than in the excel model. Looking at the time series trend data above in this notebook, we see a high increase in residual discrepancy starting in January 2025, so our model having a high MSE for this period of time makes sense. January and February 2025 have not followed the trend of NVDA stock prices over the last few years."
      ]
    }
  ],
  "metadata": {
    "colab": {
      "provenance": []
    },
    "kernelspec": {
      "display_name": "Python 3",
      "name": "python3"
    },
    "language_info": {
      "name": "python"
    }
  },
  "nbformat": 4,
  "nbformat_minor": 0
}
