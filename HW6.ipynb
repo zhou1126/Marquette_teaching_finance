{
 "cells": [
  {
   "cell_type": "markdown",
   "metadata": {},
   "source": [
    "# **HW 6: Understanding Transformers**\n",
    "\n",
    "## **Objective**\n",
    "\n",
    "Read *[The Annotated Transformer](http://nlp.seas.harvard.edu/2018/04/03/attention.html)* article from Harvard University and review the associated Jupyter Notebook:  \n",
    "[Annotated Transformer GitHub Notebook](https://github.com/harvardnlp/annotated-transformer/blob/master/AnnotatedTransformer.ipynb)\n",
    "\n",
    "This resource offers excellent insight into the foundation of transformers and how large language models operate.\n",
    "\n",
    "However, some parts of the code are outdated and may not run successfully as-is. Your task is to **update the code so that the entire notebook runs from start to finish**. You may modify and improve the code as needed.\n",
    "\n",
    "📌 **Deliverable:** Submit a fully functional Jupyter Notebook.  \n",
    "📝 **Note:** Please include your answers to the survey section in the same notebook (either as markdown cells or at the end of the notebook).\n",
    "\n",
    "---\n",
    "\n",
    "## **Survey**\n",
    "\n",
    "Please answer the following questions thoughtfully. Your feedback is valuable for improving the course.\n",
    "\n",
    "1. **Rate the guest speakers (group average):**  \n",
    "   - Nadia: /10  \n",
    "   - Jeff: /10  \n",
    "   - Sam: /10  \n",
    "   - Fei: /10\n",
    "\n",
    "2. **What are your thoughts on the presentations given by the four guest speakers?**  \n",
    "   *Please mention strengths and areas for improvement.*\n",
    "\n",
    "3. **Would you like to have more guest speakers in future AI classes?**  \n",
    "   *Why or why not?*\n",
    "\n",
    "4. **Final project vs. traditional final exam:**  \n",
    "   *What are the pros and cons of having a final project instead of a traditional exam? Should we continue using this format?*\n"
   ]
  }
 ],
 "metadata": {
  "language_info": {
   "name": "python"
  }
 },
 "nbformat": 4,
 "nbformat_minor": 2
}
