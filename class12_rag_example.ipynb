{
 "cells": [
  {
   "cell_type": "code",
   "execution_count": 36,
   "id": "3f0ff873",
   "metadata": {},
   "outputs": [],
   "source": [
    "import requests\n",
    "from bs4 import BeautifulSoup\n",
    "import numpy as np\n",
    "import pandas as pd\n",
    "from langchain.text_splitter import RecursiveCharacterTextSplitter\n",
    "from langchain.embeddings import OpenAIEmbeddings\n",
    "from langchain.vectorstores import FAISS\n",
    "from langchain.llms import OpenAI\n",
    "from langchain.chains import RetrievalQA\n",
    "from langchain.prompts import PromptTemplate\n",
    "import time\n",
    "from sklearn.decomposition import PCA\n",
    "import matplotlib.pyplot as plt"
   ]
  },
  {
   "cell_type": "markdown",
   "id": "f9dbe7ae",
   "metadata": {},
   "source": [
    "# Fetch data"
   ]
  },
  {
   "cell_type": "code",
   "execution_count": 4,
   "id": "fa942c3b",
   "metadata": {},
   "outputs": [],
   "source": [
    "def scrape_wikipedia_article(url):\n",
    "    response = requests.get(url)\n",
    "    soup = BeautifulSoup(response.text, 'html.parser')\n",
    "    article_text = ''\n",
    "    \n",
    "    # Get the main content\n",
    "    content_div = soup.find('div', {'id': 'mw-content-text'})\n",
    "    if content_div:\n",
    "        paragraphs = content_div.find_all('p')\n",
    "        for p in paragraphs:\n",
    "            article_text += p.get_text() + '\\n\\n'\n",
    "    \n",
    "    # Clean up the text\n",
    "    article_text = article_text.replace('\\n', ' ').replace('  ', ' ')\n",
    "    return article_text"
   ]
  },
  {
   "cell_type": "code",
   "execution_count": 5,
   "id": "ffc1f512",
   "metadata": {},
   "outputs": [],
   "source": [
    "finance_urls = [\n",
    "    \"https://en.wikipedia.org/wiki/Finance\",\n",
    "    \"https://en.wikipedia.org/wiki/Stock_market\",\n",
    "    \"https://en.wikipedia.org/wiki/Investment_banking\",\n",
    "    \"https://en.wikipedia.org/wiki/Hedge_fund\",\n",
    "    \"https://en.wikipedia.org/wiki/Risk_management\",\n",
    "    \"https://en.wikipedia.org/wiki/Corporate_finance\",\n",
    "    \"https://en.wikipedia.org/wiki/Financial_economics\",\n",
    "    \"https://en.wikipedia.org/wiki/Derivatives_(finance)\"\n",
    "]"
   ]
  },
  {
   "cell_type": "code",
   "execution_count": 6,
   "id": "686bdf29",
   "metadata": {},
   "outputs": [
    {
     "name": "stdout",
     "output_type": "stream",
     "text": [
      "  Scraping: Finance\n",
      "  Scraping: Stock market\n",
      "  Scraping: Investment banking\n",
      "  Scraping: Hedge fund\n",
      "  Scraping: Risk management\n",
      "  Scraping: Corporate finance\n",
      "  Scraping: Financial economics\n",
      "  Scraping: Derivatives (finance)\n"
     ]
    }
   ],
   "source": [
    "documents = []\n",
    "    \n",
    "# Collect text from each URL\n",
    "for url in finance_urls:\n",
    "    article_title = url.split('/')[-1].replace('_', ' ')\n",
    "    print(f\"  Scraping: {article_title}\")\n",
    "    article_text = scrape_wikipedia_article(url)\n",
    "    documents.append({\"title\": article_title, \"text\": article_text, \"source\": url})\n",
    "\n",
    "# Create a DataFrame for easier handling\n",
    "df = pd.DataFrame(documents)"
   ]
  },
  {
   "cell_type": "code",
   "execution_count": 9,
   "id": "004bf070",
   "metadata": {},
   "outputs": [
    {
     "name": "stdout",
     "output_type": "stream",
     "text": [
      "  Finance refers to monetary resources and to the study and discipline of money, currency, assets and liabilities.[a] As a subject of study, it is related to but distinct from economics, which is the study of the production, distribution, and consumption of goods and services.[b] Based on the scope of financial activities in financial systems, the discipline can be divided into personal, corporate, and public finance.  In these financial systems, assets are bought, sold, or traded as financial instruments, such as currencies, loans, bonds, shares, stocks, options, futures, etc. Assets can also be banked, invested, and insured to maximize value and minimize loss. In practice, risks are always present in any financial action and entities.  Due to its wide scope, a broad range of subfields exists within finance. Asset-, money-, risk- and investment management aim to maximize value and minimize volatility. Financial analysis assesses the viability, stability, and profitability of an action or entity. Some fields are multidisciplinary, such as mathematical finance, financial law, financial economics, financial engineering and financial technology. These fields are the foundation of business and accounting. In some cases, theories in finance can be tested using the scientific method, covered by experimental finance.  The early history of finance parallels the early history of money, which is prehistoric. Ancient and medieval civilizations incorporated basic functions of finance, such as banking, trading and accounting, into their economies. In the late 19th century, the global financial system was formed.  In the middle of the 20th century, finance emerged as a distinct academic discipline,[c] separate from economics.[1] The earliest doctoral programs in finance were established in the 1960s and 1970s.[2] Today, finance is also widely studied through career-focused undergraduate and master's level programs.[3][4]  As outlined, the financial system consists of the flows of capital that take place between individuals and households (personal finance), governments (public finance), and businesses (corporate finance). \"Finance\" thus studies the process of channeling money from savers and investors to entities that need it. [d] Savers and investors have money available which could earn interest or dividends if put to productive use. Individuals, companies and governments must obtain money from some external source, such as loans or credit, when they lack sufficient funds to run their operations.  In general, an entity whose income exceeds its expenditure can lend or invest the excess, intending to earn a fair return. Correspondingly, an entity where income is less than expenditure can raise capital usually in one of two ways: (i) by borrowing in the form of a loan (private individuals), or by selling government or corporate bonds; (ii) by a corporation selling equity, also called stock or shares (which may take various forms: preferred stock or common stock). The owners of both bonds and stock may be institutional investors—financial institutions such as investment banks and pension funds—or private individuals, called private investors or retail investors. (See Financial market participants.)  The lending is often indirect, through a financial intermediary such as a bank, or via the purchase of notes or bonds (corporate bonds, government bonds, or mutual bonds) in the bond market. The lender receives interest, the borrower pays a higher interest than the lender receives, and the financial intermediary earns the difference for arranging the loan.[6][7][8] A bank aggregates the activities of many borrowers and lenders. Banks accept deposits from individuals and businesses, paying interest on these funds. The bank then lends these deposits to borrowers. Banks facilitate transactions between borrowers and lenders of various sizes, enabling efficient financial coordination.  Investing typically entails the purchase of stock, either individual securities or via a mutual fund, for example. Stocks are usually sold by corporations to investors so as to raise required capital in the form of \"equity financing\", as distinct from the debt financing described above. The financial intermediaries here are the investment banks. The investment banks find the initial investors and facilitate the listing of the securities, typically shares and bonds. Additionally, they facilitate the securities exchanges, which allow their trade thereafter, as well as the various service providers which manage the performance or risk of these investments. These latter include mutual funds, pension funds, wealth managers, and stock brokers, typically servicing retail investors (private individuals).  Inter-institutional trade and investment, and fund-management at this scale, is referred to as \"wholesale finance\". Institutions here extend the products offered, with related trading, to include bespoke options, swaps, and structured products, as well as specialized financing; this \"financial engineering\" is inherently mathematical, and these institutions are then the major employers of \"quants\" (see below). In these institutions, risk management, regulatory capital, and compliance play major roles.  As outlined, finance comprises, broadly, the three areas of personal finance, corporate finance, and public finance. These, in turn, overlap and employ various activities and sub-disciplines—chiefly investments, risk management, and quantitative finance.  Personal finance refers to the practice of budgeting to ensure enough funds are available to meet basic needs, while ensuring there is only a reasonable level of risk to lose said capital. Personal finance may involve paying for education, financing durable goods such as real estate and cars, buying insurance, investing, and saving for retirement.[9] Personal finance may also involve paying for a loan or other debt obligations. The main areas of personal finance are considered to be income, spending, saving, investing, and protection. The following steps, as outlined by the Financial Planning Standards Board,[10] suggest that an individual will understand a potentially secure personal finance plan after:  Corporate finance deals with the actions that managers take to increase the value of the firm to the shareholders, the sources of funding and the capital structure of corporations, and the tools and analysis used to allocate financial resources. While corporate finance is in principle different from managerial finance, which studies the financial management of all firms rather than corporations alone, the concepts are applicable to the financial problems of all firms,[12] and this area is then often referred to as \"business finance\".  Typically, \"corporate finance\" relates to the long term objective of maximizing the value of the entity's assets, its stock, and its return to shareholders, while also balancing risk and profitability. This entails[13] three primary areas:  The latter creates the link with investment banking and securities trading, as above, in that the capital raised will generically comprise debt, i.e. corporate bonds, and equity, often listed shares. Re risk management within corporates, see below.  Financial managers—i.e. as distinct from corporate financiers—focus more on the short term elements of profitability, cash flow, and \"working capital management\" (inventory, credit and debtors), ensuring that the firm can safely and profitably carry out its financial and operational objectives; i.e. that it: (1) can service both maturing short-term debt repayments, and scheduled long-term debt payments, and (2) has sufficient cash flow for ongoing and upcoming operational expenses. (See Financial management and FP&A.)  Public finance describes finance as related to sovereign states, sub-national entities, and related public entities or agencies. It generally encompasses a long-term strategic perspective regarding investment decisions that affect public entities.[15] These long-term strategic periods typically encompass five or more years.[16] Public finance is primarily concerned with:[17]  Central banks, such as the Federal Reserve System banks in the United States and the Bank of England in the United Kingdom, are strong players in public finance. They act as lenders of last resort as well as strong influences on monetary and credit conditions in the economy.[18]  Development finance, which is related, concerns investment in economic development projects provided by a (quasi) governmental institution on a non-commercial basis; these projects would otherwise not be able to get financing. A public–private partnership is primarily used for infrastructure projects: a private sector corporate provides the financing up-front, and then draws profits from taxpayers or users. Climate finance, and the related Environmental finance, address the financial strategies, resources and instruments used in climate change mitigation.  Investment management[12] is the professional asset management of various securities—typically shares and bonds, but also other assets, such as real estate, commodities and alternative investments—in order to meet specified investment goals for the benefit of investors.  As above, investors may be institutions, such as insurance companies, pension funds, corporations, charities, educational establishments, or private investors, either directly via investment contracts or, more commonly, via collective investment schemes like mutual funds, exchange-traded funds, or real estate investment trusts.  At the heart of investment management[12] is asset allocation—diversifying the exposure among these asset classes, and among individual securities within each asset class—as appropriate to the client's investment policy, in turn, a function of risk profile, investment goals, and investment horizon (see Investor profile). Here:  Overlaid is the portfolio manager's investment style—broadly, active vs passive, value vs growth, and small cap vs. large cap—and investment strategy.  In a well-diversified portfolio, achieved investment performance will, in general, largely be a function of the asset mix selected, while the individual securities are less impactful. The specific approach or philosophy will also be significant, depending on the extent to which it is complementary with the market cycle.  Additional to this diversification, the fundamental risk mitigant employed, investment managers will apply various hedging techniques as appropriate,[12] these may relate to the portfolio as a whole or to individual stocks. Bond portfolios are often (instead) managed via cash flow matching or immunization, while for derivative portfolios and positions, traders use \"the Greeks\" to measure and then offset sensitivities. In parallel, managers – active and passive – will monitor tracking error, thereby minimizing and preempting any underperformance vs their \"benchmark\".  A quantitative fund is managed using computer-based mathematical techniques (increasingly, machine learning) instead of human judgment. The actual trading is typically automated via sophisticated algorithms.  Risk management, in general, is the study of how to control risks and balance the possibility of gains; it is the process of measuring risk and then developing and implementing strategies to manage that risk. Financial risk management[20][21] is the practice of protecting corporate value against financial risks, often by \"hedging\" exposure to these using financial instruments. The focus is particularly on credit and market risk, and in banks, through regulatory capital, includes operational risk.  Financial risk management is related to corporate finance[12] in two ways. Firstly, firm exposure to market risk is a direct result of previous capital investments and funding decisions; while credit risk arises from the business's credit policy and is often addressed through credit insurance and provisioning. Secondly, both disciplines share the goal of enhancing or at least preserving, the firm's economic value, and in this context[22] overlaps also enterprise risk management, typically the domain of strategic management. Here, businesses devote much time and effort to forecasting, analytics and performance monitoring. (See ALM and treasury management.)  For banks and other wholesale institutions,[23] risk management focuses on managing, and as necessary hedging, the various positions held by the institution—both trading positions and long term exposures—and on calculating and monitoring the resultant economic capital, and regulatory capital under Basel III. The calculations here are mathematically sophisticated, and within the domain of quantitative finance as below. Credit risk is inherent in the business of banking, but additionally, these institutions are exposed to counterparty credit risk. Banks typically employ Middle office \"Risk Groups\", whereas front office risk teams provide risk \"services\" (or \"solutions\") to customers.  Insurers [24] manage their own risks with a focus on solvency and the ability to pay claims: Life Insurers are concerned more with longevity risk and interest rate risk; Short-Term Insurers (Property, Health,Casualty) emphasize catastrophe- and claims volatility risks. For expected claims reserves are set aside periodically, while to absorb unexpected losses, a minimum level of capital is maintained.  Quantitative finance—also referred to as \"mathematical finance\"—includes those finance activities where a sophisticated mathematical model is required,[25] and thus overlaps several of the above.  As a specialized practice area, quantitative finance comprises primarily three sub-disciplines; the underlying theory and techniques are discussed in the next section:  DCF valuation formula widely applied in business and finance, since articulated in 1938. Here, to get the value of the firm, its forecasted free cash flows are discounted to the present using the weighted average cost of capital for the discount factor. For share valuation investors use the related dividend discount model.  Financial theory is studied and developed within the disciplines of management, (financial) economics, accountancy and applied mathematics. In the abstract,[12][26] finance is concerned with the investment and deployment of assets and liabilities over \"space and time\"; i.e., it is about performing valuation and asset allocation today, based on the risk and uncertainty of future outcomes while appropriately incorporating the time value of money. Determining the present value of these future values, \"discounting\", must be at the risk-appropriate discount rate, in turn, a major focus of finance-theory.[27]As financial theory has roots in many disciplines, including mathematics, statistics, economics, physics, and psychology, it can be considered a mix of an art and science,[1] and there are ongoing related efforts to organize a list of unsolved problems in finance.  Managerial finance [29] is the branch of finance that deals with the financial aspects of the management of a company, and the financial dimension of managerial decision-making more broadly. It provides the theoretical underpin for the practice described above, concerning itself with the managerial application of the various finance techniques. Academics working in this area are typically based in business school finance departments, in accounting, or in management science.  The tools addressed and developed relate in the main to managerial accounting and corporate finance: the former allow management to better understand, and hence act on, financial information relating to profitability and performance; the latter, as above, are about optimizing the overall financial structure, including its impact on working capital. Key aspects of managerial finance thus include:  The discussion, however, extends to business strategy more broadly, emphasizing alignment with the company's overall strategic objectives; and similarly incorporates the managerial perspectives of planning, directing, and controlling.  Financial economics[31] is the branch of economics that studies the interrelation of financial variables, such as prices, interest rates and shares, as opposed to real economic variables, i.e. goods and services. It thus centers on pricing, decision making, and risk management in the financial markets,[31][26] and produces many of the commonly employed financial models. (Financial econometrics is the branch of financial economics that uses econometric techniques to parameterize the relationships suggested.)  The discipline has two main areas of focus:[26] asset pricing and corporate finance; the first being the perspective of providers of capital, i.e. investors, and the second of users of capital; respectively:  Financial mathematics[33] is the field of applied mathematics concerned with financial markets; Louis Bachelier's doctoral thesis, defended in 1900, is considered to be the first scholarly work in this area. The field is largely focused on the modeling of derivatives—with much emphasis on interest rate- and credit risk modeling—while other important areas include insurance mathematics and quantitative portfolio management. Relatedly, the techniques developed are applied to pricing and hedging a wide range of asset-backed, government, and corporate-securities.  As above, in terms of practice, the field is referred to as quantitative finance and / or mathematical finance, and comprises primarily the three areas discussed. The main mathematical tools and techniques are, correspondingly:  Mathematically, these separate into two analytic branches: derivatives pricing uses risk-neutral probability (or arbitrage-pricing probability), denoted by \"Q\"; while risk and portfolio management generally use physical (or actual or actuarial) probability, denoted by \"P\". These are interrelated through the above \"Fundamental theorem of asset pricing\".  The subject has a close relationship with financial economics, which, as outlined, is concerned with much of the underlying theory that is involved in financial mathematics: generally, financial mathematics will derive and extend the mathematical models suggested. Computational finance is the branch of (applied) computer science that deals with problems of practical interest in finance, and especially[33] emphasizes the numerical methods applied here.  Experimental finance[36] aims to establish different market settings and environments to experimentally observe and provide a lens through which science can analyze agents' behavior and the resulting characteristics of trading flows, information diffusion, and aggregation, price setting mechanisms, and returns processes. Researchers in experimental finance can study to what extent existing financial economics theory makes valid predictions and therefore prove them, as well as attempt to discover new principles on which such theory can be extended and be applied to future financial decisions. Research may proceed by conducting trading simulations or by establishing and studying the behavior of people in artificial, competitive, market-like settings.  Behavioral finance studies how the psychology of investors or managers affects financial decisions and markets[37] and is relevant when making a decision that can impact either negatively or positively on one of their areas. With more in-depth research into behavioral finance, it is possible to bridge what actually happens in financial markets with analysis based on financial theory.[38] Behavioral finance has grown over the last few decades to become an integral aspect of finance.[39]  Behavioral finance includes such topics as:  A strand of behavioral finance has been dubbed quantitative behavioral finance, which uses mathematical and statistical methodology to understand behavioral biases in conjunction with valuation.  Quantum finance involves applying quantum mechanical approaches to financial theory, providing novel methods and perspectives in the field.[40] Quantum finance is an interdisciplinary field, in which theories and methods developed by quantum physicists and economists are applied to solve financial problems. It represents a branch known as econophysics. Although quantum computational methods have been around for quite some time and use the basic principles of physics to better understand the ways to implement and manage cash flows, it is mathematics that is actually important in this new scenario[41] Finance theory is heavily based on financial instrument pricing such as stock option pricing. Many of the problems facing the finance community have no known analytical solution. As a result, numerical methods and computer simulations for solving these problems have proliferated. This research area is known as computational finance. Many computational finance problems have a high degree of computational complexity and are slow to converge to a solution on classical computers. In particular, when it comes to option pricing, there is additional complexity resulting from the need to respond to quickly changing markets. For example, in order to take advantage of inaccurately priced stock options, the computation must complete before the next change in the almost continuously changing stock market. As a result, the finance community is always looking for ways to overcome the resulting performance issues that arise when pricing options. This has led to research that applies alternative computing techniques to finance. Most commonly used quantum financial models are quantum continuous model, quantum binomial model, multi-step quantum binomial model etc.  The origin of finance can be traced to the beginning of state formation and trade during the Bronze Age. The earliest historical evidence of finance is dated to around 3000 BCE. Banking originated in West Asia, where temples and palaces were used as safe places for the storage of valuables. Initially, the only valuable that could be deposited was grain, but cattle and precious materials were eventually included. During the same period, the Sumerian city of Uruk in Mesopotamia supported trade by lending as well as the use of interest. In Sumerian, \"interest\" was mas, which translates to \"calf\". In Greece and Egypt, the words used for interest, tokos and ms respectively, meant \"to give birth\". In these cultures, interest indicated a valuable increase, and seemed to consider it from the lender's point of view.[42] The Code of Hammurabi (1792–1750 BCE) included laws governing banking operations. The Babylonians were accustomed to charging interest at the rate of 20 percent per year. By 1200 BCE, cowrie shells were used as a form of money in China.  The use of coins as a means of representing money began in the years between 700 and 500 BCE.[43] Herodotus mentions the use of crude coins in Lydia around 687 BCE and, by 640 BCE, the Lydians had started to use coin money more widely and opened permanent retail shops.[44] Shortly after, cities in Classical Greece, such as Aegina, Athens, and Corinth, started minting their own coins between 595 and 570 BCE. During the Roman Republic, interest was outlawed by the Lex Genucia reforms in 342 BCE, though the provision went largely unenforced. Under Julius Caesar, a ceiling on interest rates of 12% was set, and much later under Justinian it was lowered even further to between 4% and 8%.[45]  The first stock exchange was opened in Antwerp in 1531.[46] Since then, popular exchanges such as the London Stock Exchange (founded in 1773) and the New York Stock Exchange (founded in 1793) were created.[47][48]   \n"
     ]
    }
   ],
   "source": [
    "print(df['text'][0])"
   ]
  },
  {
   "cell_type": "markdown",
   "id": "5a3375f9",
   "metadata": {},
   "source": [
    "# Create vector space"
   ]
  },
  {
   "cell_type": "code",
   "execution_count": 10,
   "id": "2d052204",
   "metadata": {},
   "outputs": [
    {
     "name": "stdout",
     "output_type": "stream",
     "text": [
      "  Created 345 text chunks from 8 documents\n"
     ]
    }
   ],
   "source": [
    "text_splitter = RecursiveCharacterTextSplitter(\n",
    "    chunk_size=1000,\n",
    "    chunk_overlap=200,\n",
    "    length_function=len\n",
    ")\n",
    "\n",
    "# Process each document into chunks\n",
    "all_chunks = []\n",
    "for _, row in df.iterrows():\n",
    "    chunks = text_splitter.split_text(row['text'])\n",
    "    for chunk in chunks:\n",
    "        all_chunks.append({\n",
    "            \"text\": chunk,\n",
    "            \"source\": row['source'],\n",
    "            \"title\": row['title']\n",
    "        })\n",
    "\n",
    "print(f\"  Created {len(all_chunks)} text chunks from {len(documents)} documents\")"
   ]
  },
  {
   "cell_type": "code",
   "execution_count": 12,
   "id": "301b33db",
   "metadata": {},
   "outputs": [
    {
     "data": {
      "text/plain": [
       "{'text': 'Finance refers to monetary resources and to the study and discipline of money, currency, assets and liabilities.[a] As a subject of study, it is related to but distinct from economics, which is the study of the production, distribution, and consumption of goods and services.[b] Based on the scope of financial activities in financial systems, the discipline can be divided into personal, corporate, and public finance.  In these financial systems, assets are bought, sold, or traded as financial instruments, such as currencies, loans, bonds, shares, stocks, options, futures, etc. Assets can also be banked, invested, and insured to maximize value and minimize loss. In practice, risks are always present in any financial action and entities.  Due to its wide scope, a broad range of subfields exists within finance. Asset-, money-, risk- and investment management aim to maximize value and minimize volatility. Financial analysis assesses the viability, stability, and profitability of an action',\n",
       " 'source': 'https://en.wikipedia.org/wiki/Finance',\n",
       " 'title': 'Finance'}"
      ]
     },
     "execution_count": 12,
     "metadata": {},
     "output_type": "execute_result"
    }
   ],
   "source": [
    "all_chunks[0]"
   ]
  },
  {
   "cell_type": "code",
   "execution_count": null,
   "id": "c8e317f4",
   "metadata": {},
   "outputs": [],
   "source": [
    "# Creating Embeddings and Vector Store\n",
    "openai_api_temp_key = \"API-key\"\n",
    "embeddings = OpenAIEmbeddings(openai_api_key=openai_api_temp_key)\n",
    "\n",
    "# Create a list of texts for embedding\n",
    "texts = [chunk[\"text\"] for chunk in all_chunks]\n",
    "metadatas = [{\"source\": chunk[\"source\"], \"title\": chunk[\"title\"]} for chunk in all_chunks]\n",
    "\n",
    "# Create the vector store\n",
    "vector_store = FAISS.from_texts(texts=texts, embedding=embeddings, metadatas=metadatas)"
   ]
  },
  {
   "cell_type": "code",
   "execution_count": 21,
   "id": "193bd84a",
   "metadata": {},
   "outputs": [
    {
     "data": {
      "text/plain": [
       "<langchain_community.vectorstores.faiss.FAISS at 0x72286e7f1ee0>"
      ]
     },
     "execution_count": 21,
     "metadata": {},
     "output_type": "execute_result"
    }
   ],
   "source": [
    "vector_store"
   ]
  },
  {
   "cell_type": "markdown",
   "id": "0a24774b",
   "metadata": {},
   "source": [
    "# Set up llm"
   ]
  },
  {
   "cell_type": "code",
   "execution_count": 39,
   "id": "7636faf6",
   "metadata": {},
   "outputs": [],
   "source": [
    "# Set up the LLM\n",
    "llm = OpenAI(temperature=0, openai_api_key=openai_api_temp_key)\n",
    "\n",
    "# Create a custom prompt template\n",
    "template = \"\"\"You are a financial expert assistant. Use the following pieces of retrieved context to answer the question. \n",
    "If you don't know the answer, just say that you don't know, don't try to make up an answer.\n",
    "\n",
    "Context:\n",
    "{context}\n",
    "\n",
    "Question: {question}\n",
    "\n",
    "Show your reasoning step by step before providing the final answer.\n",
    "\"\"\"\n",
    "QA_CHAIN_PROMPT = PromptTemplate(\n",
    "    input_variables=[\"context\", \"question\"],\n",
    "    template=template,\n",
    ")\n",
    "\n",
    "# Create the retrieval chain\n",
    "qa_chain = RetrievalQA.from_chain_type(\n",
    "    llm=llm,\n",
    "    chain_type=\"stuff\",\n",
    "    retriever=vector_store.as_retriever(search_kwargs={\"k\": 10}),\n",
    "    chain_type_kwargs={\"prompt\": QA_CHAIN_PROMPT},\n",
    "    return_source_documents=True\n",
    ")"
   ]
  },
  {
   "cell_type": "markdown",
   "id": "07eeb7a5",
   "metadata": {},
   "source": [
    "# Real RAG"
   ]
  },
  {
   "cell_type": "code",
   "execution_count": 40,
   "id": "b9324403",
   "metadata": {},
   "outputs": [],
   "source": [
    "# ask a question about finance\n",
    "finance_question = \"What are the primary types of risk in financial markets and how do hedge funds manage them?\"\n",
    "\n",
    "# Get the retriever\n",
    "retrieval_start = time.time()\n",
    "\n",
    "retriever = qa_chain.retriever\n",
    "\n",
    "# Get question embedding for similarity calculation\n",
    "question_embedding = embeddings.embed_query(finance_question)"
   ]
  },
  {
   "cell_type": "code",
   "execution_count": 41,
   "id": "cd7a66c0",
   "metadata": {},
   "outputs": [
    {
     "data": {
      "text/plain": [
       "1536"
      ]
     },
     "execution_count": 41,
     "metadata": {},
     "output_type": "execute_result"
    }
   ],
   "source": [
    "len(question_embedding)"
   ]
  },
  {
   "cell_type": "code",
   "execution_count": 42,
   "id": "0d45694f",
   "metadata": {},
   "outputs": [],
   "source": [
    "def cosine_similarity(vec1, vec2):\n",
    "    dot_product = np.dot(vec1, vec2)\n",
    "    norm_a = np.linalg.norm(vec1)\n",
    "    norm_b = np.linalg.norm(vec2)\n",
    "    return dot_product / (norm_a * norm_b)"
   ]
  },
  {
   "cell_type": "markdown",
   "id": "b4ecdbff",
   "metadata": {},
   "source": [
    "## Retrieve"
   ]
  },
  {
   "cell_type": "code",
   "execution_count": 43,
   "id": "68c7b858",
   "metadata": {},
   "outputs": [
    {
     "name": "stdout",
     "output_type": "stream",
     "text": [
      "  Retrieved 10 relevant documents in 6.73 seconds\n",
      "\n",
      "Retrieved Content with Similarity Scores:\n",
      "\n",
      "Document 1 - Source: Hedge fund\n",
      "  Similarity Score: 0.8543\n",
      "  Content: investment managers, and more prone to manager-specific idiosyncratic risks such as style drifts, faulty operations, or fraud.[86] New regulations int...\n",
      "\n",
      "Document 2 - Source: Hedge fund\n",
      "  Similarity Score: 0.8498\n",
      "  Content: relatively uncorrelated with market indices and are consistent with investors' desired level of risk.[78][79] While hedging can reduce some risks of a...\n",
      "\n",
      "Document 3 - Source: Finance\n",
      "  Similarity Score: 0.8493\n",
      "  Content: Additional to this diversification, the fundamental risk mitigant employed, investment managers will apply various hedging techniques as appropriate,[...\n",
      "\n",
      "Document 4 - Source: Hedge fund\n",
      "  Similarity Score: 0.8441\n",
      "  Content: Hedge fund strategies are generally classified among four major categories: global macro, directional, event-driven, and relative value (arbitrage).[5...\n",
      "\n",
      "Document 5 - Source: Hedge fund\n",
      "  Similarity Score: 0.8387\n",
      "  Content: A hedge fund is a pooled investment fund that holds liquid assets and that makes use of complex trading and risk management techniques to aim to impro...\n",
      "\n",
      "Document 6 - Source: Hedge fund\n",
      "  Similarity Score: 0.8385\n",
      "  Content: funds have some of the most sophisticated and exacting risk management practices anywhere in asset management.\"[78] Hedge fund managers that hold a la...\n",
      "\n",
      "Document 7 - Source: Hedge fund\n",
      "  Similarity Score: 0.8360\n",
      "  Content: and concentration risk may arise if a fund has too much exposure to a particular investment, sector, trading strategy, or group of correlated funds.[9...\n",
      "\n",
      "Document 8 - Source: Hedge fund\n",
      "  Similarity Score: 0.8352\n",
      "  Content: leverage is relatively low; according to a National Bureau of Economic Research working paper, the average leverage for investment banks is 14.2, comp...\n",
      "\n",
      "Document 9 - Source: Hedge fund\n",
      "  Similarity Score: 0.8334\n",
      "  Content: risk and manager risk.[86] Liquidity refers to the degree to which an asset can be bought and sold or converted to cash; similar to private-equity fun...\n",
      "\n",
      "Document 10 - Source: Hedge fund\n",
      "  Similarity Score: 0.8325\n",
      "  Content: funds as hedge funds generally invest in relatively liquid assets and are usually open-ended. This means they typically allow investors to invest and ...\n"
     ]
    }
   ],
   "source": [
    "# Get relevant documents\n",
    "retrieved_docs = retriever.get_relevant_documents(query=finance_question)\n",
    "\n",
    "# Get embeddings for each retrieved document\n",
    "doc_embeddings = []\n",
    "for doc in retrieved_docs:\n",
    "    doc_embedding = embeddings.embed_query(doc.page_content)\n",
    "    doc_embeddings.append(doc_embedding)\n",
    "\n",
    "retrieval_end = time.time()\n",
    "print(f\"  Retrieved {len(retrieved_docs)} relevant documents in {retrieval_end - retrieval_start:.2f} seconds\")\n",
    "\n",
    "# Display retrieved content with similarity scores\n",
    "print(\"\\nRetrieved Content with Similarity Scores:\")\n",
    "for i, doc in enumerate(retrieved_docs):\n",
    "    similarity = cosine_similarity(question_embedding, doc_embeddings[i])\n",
    "    print(f\"\\nDocument {i+1} - Source: {doc.metadata['title']}\")\n",
    "    print(f\"  Similarity Score: {similarity:.4f}\")\n",
    "    print(f\"  Content: {doc.page_content[:150]}...\")"
   ]
  },
  {
   "cell_type": "code",
   "execution_count": 44,
   "id": "9b314776",
   "metadata": {},
   "outputs": [
    {
     "data": {
      "text/plain": [
       "1536"
      ]
     },
     "execution_count": 44,
     "metadata": {},
     "output_type": "execute_result"
    }
   ],
   "source": [
    "len(doc_embeddings[0])"
   ]
  },
  {
   "cell_type": "code",
   "execution_count": 45,
   "id": "09d4b932",
   "metadata": {},
   "outputs": [
    {
     "data": {
      "image/png": "[encoded data removed]",
      "text/plain": [
       "<Figure size 800x600 with 1 Axes>"
      ]
     },
     "metadata": {},
     "output_type": "display_data"
    }
   ],
   "source": [
    "all_embeddings = [question_embedding] + doc_embeddings\n",
    "all_embeddings = np.array(all_embeddings)\n",
    "\n",
    "# Run PCA to reduce to 2D\n",
    "pca = PCA(n_components=2)\n",
    "reduced = pca.fit_transform(all_embeddings)\n",
    "\n",
    "# Plot\n",
    "plt.figure(figsize=(8, 6))\n",
    "plt.scatter(reduced[0, 0], reduced[0, 1], color='red', label='Query', s=100, marker='*')  # Query\n",
    "for i in range(1, len(reduced)):\n",
    "    plt.scatter(reduced[i, 0], reduced[i, 1], color='blue')\n",
    "    plt.text(reduced[i, 0]+0.01, reduced[i, 1]+0.01, f'Doc {i}', fontsize=9)\n",
    "\n",
    "plt.title(\"PCA Projection of Query and Retrieved Document Embeddings\")\n",
    "plt.xlabel(\"PCA Component 1\")\n",
    "plt.ylabel(\"PCA Component 2\")\n",
    "plt.legend()\n",
    "plt.grid(True)\n",
    "plt.show()"
   ]
  },
  {
   "cell_type": "markdown",
   "id": "41cf3349",
   "metadata": {},
   "source": [
    "## Augmentation"
   ]
  },
  {
   "cell_type": "code",
   "execution_count": 46,
   "id": "fb5876c3",
   "metadata": {},
   "outputs": [],
   "source": [
    "# This is the simplified augmentation step by just concatenate related content together\n",
    "augmented_context = \"\\n\\n\".join([doc.page_content for doc in retrieved_docs])"
   ]
  },
  {
   "cell_type": "code",
   "execution_count": 47,
   "id": "75e05a77",
   "metadata": {},
   "outputs": [
    {
     "data": {
      "text/plain": [
       "'investment managers, and more prone to manager-specific idiosyncratic risks such as style drifts, faulty operations, or fraud.[86] New regulations introduced in the US and the EU as of 2010 required hedge fund managers to report more information, leading to greater transparency.[87] In addition, investors, particularly institutional investors, are encouraging further developments in hedge fund risk management, both through internal practices and external regulatory requirements.[78] The increasing influence of institutional investors has led to greater transparency: hedge funds increasingly provide information to investors including valuation methodology, positions, and leverage exposure.[88]  Hedge funds share many of the same types of risk as other investment classes, including liquidity risk and manager risk.[86] Liquidity refers to the degree to which an asset can be bought and sold or converted to cash; similar to private-equity funds, hedge funds employ a lock-up period during\\n\\nrelatively uncorrelated with market indices and are consistent with investors\\' desired level of risk.[78][79] While hedging can reduce some risks of an investment it usually increases others, such as operational risk and model risk, so overall risk is reduced but cannot be eliminated. According to a report by the Hennessee Group, hedge funds were approximately one-third less volatile than the S&P 500 between 1993 and 2010.[80]  Investors in hedge funds are, in most countries, required to be qualified investors who are assumed to be aware of the investment risks, and accept these risks because of the potential returns relative to those risks. Fund managers may employ extensive risk management strategies in order to protect the fund and investors. According to the Financial Times, \"big hedge funds have some of the most sophisticated and exacting risk management practices anywhere in asset management.\"[78] Hedge fund managers that hold a large number of investment positions for short\\n\\nAdditional to this diversification, the fundamental risk mitigant employed, investment managers will apply various hedging techniques as appropriate,[12] these may relate to the portfolio as a whole or to individual stocks. Bond portfolios are often (instead) managed via cash flow matching or immunization, while for derivative portfolios and positions, traders use \"the Greeks\" to measure and then offset sensitivities. In parallel, managers – active and passive – will monitor tracking error, thereby minimizing and preempting any underperformance vs their \"benchmark\".  A quantitative fund is managed using computer-based mathematical techniques (increasingly, machine learning) instead of human judgment. The actual trading is typically automated via sophisticated algorithms.  Risk management, in general, is the study of how to control risks and balance the possibility of gains; it is the process of measuring risk and then developing and implementing strategies to manage that risk.\\n\\nHedge fund strategies are generally classified among four major categories: global macro, directional, event-driven, and relative value (arbitrage).[59] Strategies within these categories each entail characteristic risk and return profiles. A fund may employ a single strategy or multiple strategies for flexibility, risk management, or diversification.[60] The hedge fund\\'s prospectus, also known as an offering memorandum, offers potential investors information about key aspects of the fund, including the fund\\'s investment strategy, investment type, and leverage limit.[61]  The elements contributing to a hedge fund strategy include the hedge fund\\'s approach to the market, the particular instrument use, the market sector the fund specializes in (e.g., healthcare), the method used to select investments, and the amount of diversification within the fund. There are a variety of market approaches to different asset classes, including equity, fixed income, commodity, and currency. Instruments\\n\\nA hedge fund is a pooled investment fund that holds liquid assets and that makes use of complex trading and risk management techniques to aim to improve investment performance and insulate returns from market risk. Among these portfolio techniques are short selling and the use of leverage and derivative instruments.[1] In the United States, financial regulations require that hedge funds be marketed only to institutional investors and high-net-worth individuals.  Hedge funds are considered alternative investments. Their ability to use leverage and more complex investment techniques distinguishes them from regulated investment funds available to the retail market, commonly known as mutual funds and ETFs. They are also considered distinct from private equity funds and other similar closed-end funds as hedge funds generally invest in relatively liquid assets and are usually open-ended. This means they typically allow investors to invest and withdraw capital periodically based on the\\n\\nfunds have some of the most sophisticated and exacting risk management practices anywhere in asset management.\"[78] Hedge fund managers that hold a large number of investment positions for short periods are likely to have a particularly comprehensive risk management system in place, and it has become usual for funds to have independent risk officers who assess and manage risks but are not otherwise involved in trading.[81] A variety of different measurement techniques and models are used to estimate risk according to the fund\\'s leverage, liquidity, and investment strategy.[79][82] Non-normality of returns, volatility clustering and trends are not always accounted for by conventional risk measurement methodologies and so in addition to value at risk and similar measurements, funds may use integrated measures such as drawdowns.[83]  In addition to assessing the market-related risks that may arise from an investment, investors commonly employ operational due diligence to assess the risk\\n\\nand concentration risk may arise if a fund has too much exposure to a particular investment, sector, trading strategy, or group of correlated funds.[92] These risks may be managed through defined controls over conflict of interest,[90] restrictions on allocation of funds,[91] and set exposure limits for strategies.[92]  Many investment funds use leverage, the practice of borrowing money, trading on margin, or using derivatives to obtain market exposure in excess of that provided by investors\\' capital. Although leverage can increase potential returns, the opportunity for larger gains is weighed against the possibility of greater losses.[89] Hedge funds employing leverage are likely to engage in extensive risk management practices.[81][85] In comparison with investment banks, hedge fund leverage is relatively low; according to a National Bureau of Economic Research working paper, the average leverage for investment banks is 14.2, compared to between 1.5 and 2.5 for hedge funds.[93]\\n\\nleverage is relatively low; according to a National Bureau of Economic Research working paper, the average leverage for investment banks is 14.2, compared to between 1.5 and 2.5 for hedge funds.[93]  Some types of funds, including hedge funds, are perceived as having a greater appetite for risk, with the intention of maximizing returns,[89] subject to the risk tolerance of investors and the fund manager. Managers will have an additional incentive to increase risk oversight when their own capital is invested in the fund.[81]  Hedge fund management firms typically charge their funds both a management fee and a performance fee.  Management fees are calculated as a percentage of the fund\\'s net asset value and typically range from 1% to 4% per annum, with 2% being standard.[94][95][96] They are usually expressed as an annual percentage, but calculated and paid monthly or quarterly. Management fees for hedge funds are designed to cover the operating costs of the manager, whereas the\\n\\nrisk and manager risk.[86] Liquidity refers to the degree to which an asset can be bought and sold or converted to cash; similar to private-equity funds, hedge funds employ a lock-up period during which an investor cannot remove money.[63][89] Manager risk refers to those risks which arise from the management of funds. As well as specific risks such as style drift, which refers to a fund manager \"drifting\" away from an area of specific expertise, manager risk factors include valuation risk, capacity risk, concentration risk, and leverage risk.[85] Valuation risk refers to the concern that the net asset value (NAV) of investments may be inaccurate;[90] capacity risk can arise from placing too much money into one particular strategy, which may lead to fund performance deterioration;[91] and concentration risk may arise if a fund has too much exposure to a particular investment, sector, trading strategy, or group of correlated funds.[92] These risks may be managed through defined\\n\\nfunds as hedge funds generally invest in relatively liquid assets and are usually open-ended. This means they typically allow investors to invest and withdraw capital periodically based on the fund\\'s net asset value, whereas private-equity funds generally invest in illiquid assets and return capital only after a number of years.[2][3] Other than a fund\\'s regulatory status, there are no formal or fixed definitions of fund types, and so there are different views of what can constitute a \"hedge fund\".  Although hedge funds are not subject to the many restrictions applicable to regulated funds, regulations were passed in the United States and Europe following the 2008 financial crisis with the intention of increasing government oversight of hedge funds and eliminating certain regulatory gaps.[4] While most modern hedge funds are able to employ a wide variety of financial instruments and risk management techniques,[5] they can be very different from each other with respect to their'"
      ]
     },
     "execution_count": 47,
     "metadata": {},
     "output_type": "execute_result"
    }
   ],
   "source": [
    "augmented_context"
   ]
  },
  {
   "cell_type": "code",
   "execution_count": 49,
   "id": "c4bfdfed",
   "metadata": {},
   "outputs": [
    {
     "name": "stdout",
     "output_type": "stream",
     "text": [
      "\n",
      "==================== Document 1 ====================\n",
      "investment managers, and more prone to manager-specific idiosyncratic risks such as style drifts, faulty operations, or fraud.[86] New regulations introduced in the US and the EU as of 2010 required hedge fund managers to report more information, leading to greater transparency.[87] In addition, investors, particularly institutional investors, are encouraging further developments in hedge fund risk management, both through internal practices and external regulatory requirements.[78] The increasing influence of institutional investors has led to greater transparency: hedge funds increasingly provide information to investors including valuation methodology, positions, and leverage exposure.[88]  Hedge funds share many of the same types of risk as other investment classes, including liquidity risk and manager risk.[86] Liquidity refers to the degree to which an asset can be bought and sold or converted to cash; similar to private-equity funds, hedge funds employ a lock-up period during\n",
      "\n",
      "==================== Document 2 ====================\n",
      "relatively uncorrelated with market indices and are consistent with investors' desired level of risk.[78][79] While hedging can reduce some risks of an investment it usually increases others, such as operational risk and model risk, so overall risk is reduced but cannot be eliminated. According to a report by the Hennessee Group, hedge funds were approximately one-third less volatile than the S&P 500 between 1993 and 2010.[80]  Investors in hedge funds are, in most countries, required to be qualified investors who are assumed to be aware of the investment risks, and accept these risks because of the potential returns relative to those risks. Fund managers may employ extensive risk management strategies in order to protect the fund and investors. According to the Financial Times, \"big hedge funds have some of the most sophisticated and exacting risk management practices anywhere in asset management.\"[78] Hedge fund managers that hold a large number of investment positions for short\n",
      "\n",
      "==================== Document 3 ====================\n",
      "Additional to this diversification, the fundamental risk mitigant employed, investment managers will apply various hedging techniques as appropriate,[12] these may relate to the portfolio as a whole or to individual stocks. Bond portfolios are often (instead) managed via cash flow matching or immunization, while for derivative portfolios and positions, traders use \"the Greeks\" to measure and then offset sensitivities. In parallel, managers – active and passive – will monitor tracking error, thereby minimizing and preempting any underperformance vs their \"benchmark\".  A quantitative fund is managed using computer-based mathematical techniques (increasingly, machine learning) instead of human judgment. The actual trading is typically automated via sophisticated algorithms.  Risk management, in general, is the study of how to control risks and balance the possibility of gains; it is the process of measuring risk and then developing and implementing strategies to manage that risk.\n",
      "\n",
      "==================== Document 4 ====================\n",
      "Hedge fund strategies are generally classified among four major categories: global macro, directional, event-driven, and relative value (arbitrage).[59] Strategies within these categories each entail characteristic risk and return profiles. A fund may employ a single strategy or multiple strategies for flexibility, risk management, or diversification.[60] The hedge fund's prospectus, also known as an offering memorandum, offers potential investors information about key aspects of the fund, including the fund's investment strategy, investment type, and leverage limit.[61]  The elements contributing to a hedge fund strategy include the hedge fund's approach to the market, the particular instrument use, the market sector the fund specializes in (e.g., healthcare), the method used to select investments, and the amount of diversification within the fund. There are a variety of market approaches to different asset classes, including equity, fixed income, commodity, and currency. Instruments\n",
      "\n",
      "==================== Document 5 ====================\n",
      "A hedge fund is a pooled investment fund that holds liquid assets and that makes use of complex trading and risk management techniques to aim to improve investment performance and insulate returns from market risk. Among these portfolio techniques are short selling and the use of leverage and derivative instruments.[1] In the United States, financial regulations require that hedge funds be marketed only to institutional investors and high-net-worth individuals.  Hedge funds are considered alternative investments. Their ability to use leverage and more complex investment techniques distinguishes them from regulated investment funds available to the retail market, commonly known as mutual funds and ETFs. They are also considered distinct from private equity funds and other similar closed-end funds as hedge funds generally invest in relatively liquid assets and are usually open-ended. This means they typically allow investors to invest and withdraw capital periodically based on the\n",
      "\n",
      "==================== Document 6 ====================\n",
      "funds have some of the most sophisticated and exacting risk management practices anywhere in asset management.\"[78] Hedge fund managers that hold a large number of investment positions for short periods are likely to have a particularly comprehensive risk management system in place, and it has become usual for funds to have independent risk officers who assess and manage risks but are not otherwise involved in trading.[81] A variety of different measurement techniques and models are used to estimate risk according to the fund's leverage, liquidity, and investment strategy.[79][82] Non-normality of returns, volatility clustering and trends are not always accounted for by conventional risk measurement methodologies and so in addition to value at risk and similar measurements, funds may use integrated measures such as drawdowns.[83]  In addition to assessing the market-related risks that may arise from an investment, investors commonly employ operational due diligence to assess the risk\n",
      "\n",
      "==================== Document 7 ====================\n",
      "and concentration risk may arise if a fund has too much exposure to a particular investment, sector, trading strategy, or group of correlated funds.[92] These risks may be managed through defined controls over conflict of interest,[90] restrictions on allocation of funds,[91] and set exposure limits for strategies.[92]  Many investment funds use leverage, the practice of borrowing money, trading on margin, or using derivatives to obtain market exposure in excess of that provided by investors' capital. Although leverage can increase potential returns, the opportunity for larger gains is weighed against the possibility of greater losses.[89] Hedge funds employing leverage are likely to engage in extensive risk management practices.[81][85] In comparison with investment banks, hedge fund leverage is relatively low; according to a National Bureau of Economic Research working paper, the average leverage for investment banks is 14.2, compared to between 1.5 and 2.5 for hedge funds.[93]\n",
      "\n",
      "==================== Document 8 ====================\n",
      "leverage is relatively low; according to a National Bureau of Economic Research working paper, the average leverage for investment banks is 14.2, compared to between 1.5 and 2.5 for hedge funds.[93]  Some types of funds, including hedge funds, are perceived as having a greater appetite for risk, with the intention of maximizing returns,[89] subject to the risk tolerance of investors and the fund manager. Managers will have an additional incentive to increase risk oversight when their own capital is invested in the fund.[81]  Hedge fund management firms typically charge their funds both a management fee and a performance fee.  Management fees are calculated as a percentage of the fund's net asset value and typically range from 1% to 4% per annum, with 2% being standard.[94][95][96] They are usually expressed as an annual percentage, but calculated and paid monthly or quarterly. Management fees for hedge funds are designed to cover the operating costs of the manager, whereas the\n",
      "\n",
      "==================== Document 9 ====================\n",
      "risk and manager risk.[86] Liquidity refers to the degree to which an asset can be bought and sold or converted to cash; similar to private-equity funds, hedge funds employ a lock-up period during which an investor cannot remove money.[63][89] Manager risk refers to those risks which arise from the management of funds. As well as specific risks such as style drift, which refers to a fund manager \"drifting\" away from an area of specific expertise, manager risk factors include valuation risk, capacity risk, concentration risk, and leverage risk.[85] Valuation risk refers to the concern that the net asset value (NAV) of investments may be inaccurate;[90] capacity risk can arise from placing too much money into one particular strategy, which may lead to fund performance deterioration;[91] and concentration risk may arise if a fund has too much exposure to a particular investment, sector, trading strategy, or group of correlated funds.[92] These risks may be managed through defined\n",
      "\n",
      "==================== Document 10 ====================\n",
      "funds as hedge funds generally invest in relatively liquid assets and are usually open-ended. This means they typically allow investors to invest and withdraw capital periodically based on the fund's net asset value, whereas private-equity funds generally invest in illiquid assets and return capital only after a number of years.[2][3] Other than a fund's regulatory status, there are no formal or fixed definitions of fund types, and so there are different views of what can constitute a \"hedge fund\".  Although hedge funds are not subject to the many restrictions applicable to regulated funds, regulations were passed in the United States and Europe following the 2008 financial crisis with the intention of increasing government oversight of hedge funds and eliminating certain regulatory gaps.[4] While most modern hedge funds are able to employ a wide variety of financial instruments and risk management techniques,[5] they can be very different from each other with respect to their\n"
     ]
    }
   ],
   "source": [
    "for i, doc in enumerate(retrieved_docs):\n",
    "    print(f\"\\n{'='*20} Document {i+1} {'='*20}\")\n",
    "    print(doc.page_content.strip())"
   ]
  },
  {
   "cell_type": "markdown",
   "id": "eb9b0fed",
   "metadata": {},
   "source": [
    "## Generation"
   ]
  },
  {
   "cell_type": "code",
   "execution_count": 48,
   "id": "95be2376",
   "metadata": {},
   "outputs": [
    {
     "name": "stdout",
     "output_type": "stream",
     "text": [
      "  Answer generated in 3.34 seconds\n",
      "\n",
      "Final Answer:\n",
      "\n",
      "Step 1: Identify the primary types of risk in financial markets.\n",
      "The primary types of risk in financial markets include market risk, liquidity risk, operational risk, model risk, and concentration risk.\n",
      "\n",
      "Step 2: Understand how hedge funds manage these risks.\n",
      "Hedge funds manage these risks through various risk management strategies, such as diversification, hedging techniques, and risk monitoring. They also employ risk officers who assess and manage risks, and use different measurement techniques and models to estimate risk.\n",
      "\n",
      "Step 3: Identify the specific risks that hedge funds face.\n",
      "Hedge funds face market risk, which refers to the potential losses due to changes in market conditions. They also face liquidity risk, which refers to the degree to which an asset can be bought and sold or converted to cash. Operational risk, which includes risks such as style drifts, faulty operations, or fraud, is also a concern for hedge funds. Model risk, which arises from the use of mathematical models to make investment decisions, is another risk that hedge funds face. Lastly, concentration risk may arise if a fund has too much exposure to a particular investment, sector, trading strategy, or group of correlated funds.\n",
      "\n",
      "Step 4: Understand how hedge funds manage market risk.\n",
      "Hedge funds manage market risk by divers\n"
     ]
    }
   ],
   "source": [
    "generation_start = time.time()\n",
    "    \n",
    "# Generate the answer using the LLM and augmented context\n",
    "result = qa_chain({\"query\": finance_question})\n",
    "answer = result[\"result\"]\n",
    "\n",
    "generation_end = time.time()\n",
    "overall_end = time.time()\n",
    "\n",
    "print(f\"  Answer generated in {generation_end - generation_start:.2f} seconds\")\n",
    "\n",
    "# Final Answer\n",
    "print(\"\\nFinal Answer:\")\n",
    "print(answer)"
   ]
  },
  {
   "cell_type": "code",
   "execution_count": null,
   "id": "31d52c92",
   "metadata": {},
   "outputs": [],
   "source": []
  }
 ],
 "metadata": {
  "kernelspec": {
   "display_name": "Python 3",
   "language": "python",
   "name": "python3"
  },
  "language_info": {
   "codemirror_mode": {
    "name": "ipython",
    "version": 3
   },
   "file_extension": ".py",
   "mimetype": "text/x-python",
   "name": "python",
   "nbconvert_exporter": "python",
   "pygments_lexer": "ipython3",
   "version": "3.12.1"
  }
 },
 "nbformat": 4,
 "nbformat_minor": 5
}
