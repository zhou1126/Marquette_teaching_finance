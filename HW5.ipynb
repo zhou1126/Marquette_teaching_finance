{
 "cells": [
  {
   "cell_type": "markdown",
   "metadata": {},
   "source": [
    "# **HW 5: Comparative Analysis of LeNet, AlexNet, VGGNet, and GoogleNet**\n",
    "\n",
    "## **Objective**  \n",
    "In this assignment, you will compare four foundational Convolutional Neural Networks (CNNs) – **LeNet, AlexNet, VGGNet, and GoogleNet** – by reading their original research papers and analyzing their differences in architecture, performance, and impact on deep learning.\n",
    "\n",
    "## **Instructions**  \n",
    "1. Read the following research papers:\n",
    "   - **LeNet (1998)** – Yann LeCun et al., *\"Gradient Based Learning Applied to Document Recognition\"* ([Paper](http://vision.stanford.edu/cs598_spring07/papers/Lecun98.pdf))\n",
    "   - **AlexNet (2012)** – Alex Krizhevsky et al., *\"ImageNet Classification with Deep Convolutional Neural Networks\"* ([Paper](https://proceedings.neurips.cc/paper_files/paper/2012/file/c399862d3b9d6b76c8436e924a68c45b-Paper.pdf))\n",
    "   - **VGGNet (2014)** – Karen Simonyan & Andrew Zisserman, *\"Very Deep Convolutional Networks for Large-Scale Image Recognition\"* ([Paper](https://arxiv.org/abs/1409.1556))\n",
    "   - **GoogleNet (2014)** – Christian Szegedy et al., *\"Going Deeper with Convolutions\"* ([Paper](https://arxiv.org/abs/1409.4842))\n",
    "\n",
    "2. Compare the four architectures based on the following aspects:\n",
    "   - **Network Depth**: Number of layers and overall complexity\n",
    "   - **Convolutional Layers**: Filter sizes, number of filters, and design choices\n",
    "   - **Activation Functions**: Type and impact on training\n",
    "   - **Pooling Strategies**: Max pooling vs. average pooling\n",
    "   - **Regularization Techniques**: Dropout, batch normalization, auxiliary classifiers\n",
    "   - **Parameter Efficiency**: Number of parameters and computational requirements\n",
    "   - **Performance**: Accuracy improvements and impact on benchmarks\n",
    "   - **Key Innovations**: Unique contributions of each model to deep learning\n",
    "\n",
    "3. Write a **comparative report** discussing how each model evolved over time and how they influenced modern architectures like ResNet and EfficientNet.\n",
    "\n",
    "## **Submission Guidelines**  \n",
    "- Submit a **Jupyter Notebook** or a **Word Document** summarizing your findings.\n",
    "- Include **figures, tables, and visualizations** to support your analysis.\n",
    "- Ensure proper citation of all references used.\n"
   ]
  },
  {
   "cell_type": "markdown",
   "metadata": {},
   "source": []
  }
 ],
 "metadata": {
  "language_info": {
   "name": "python"
  }
 },
 "nbformat": 4,
 "nbformat_minor": 2
}
