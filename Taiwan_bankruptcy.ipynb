{
  "metadata": {
    "kernelspec": {
      "language": "python",
      "display_name": "Python 3",
      "name": "python3"
    },
    "language_info": {
      "name": "python",
      "version": "3.10.12",
      "mimetype": "text/x-python",
      "codemirror_mode": {
        "name": "ipython",
        "version": 3
      },
      "pygments_lexer": "ipython3",
      "nbconvert_exporter": "python",
      "file_extension": ".py"
    },
    "kaggle": {
      "accelerator": "none",
      "dataSources": [
        {
          "sourceId": 1938459,
          "sourceType": "datasetVersion",
          "datasetId": 1111894
        }
      ],
      "dockerImageVersionId": 30822,
      "isInternetEnabled": true,
      "language": "python",
      "sourceType": "notebook",
      "isGpuEnabled": false
    },
    "colab": {
      "name": "Taiwan_bankruptcy",
      "provenance": [],
      "include_colab_link": true
    }
  },
  "nbformat_minor": 0,
  "nbformat": 4,
  "cells": [
    {
      "cell_type": "markdown",
      "metadata": {
        "id": "view-in-github",
        "colab_type": "text"
      },
      "source": [
        "<a href=\"https://colab.research.google.com/github/zhou1126/Marquette_teaching_finance/blob/main/Taiwan_bankruptcy.ipynb\" target=\"_parent\"><img src=\"https://colab.research.google.com/assets/colab-badge.svg\" alt=\"Open In Colab\"/></a>"
      ]
    },
    {
      "source": [
        "# IMPORTANT: RUN THIS CELL IN ORDER TO IMPORT YOUR KAGGLE DATA SOURCES,\n",
        "# THEN FEEL FREE TO DELETE THIS CELL.\n",
        "# NOTE: THIS NOTEBOOK ENVIRONMENT DIFFERS FROM KAGGLE'S PYTHON\n",
        "# ENVIRONMENT SO THERE MAY BE MISSING LIBRARIES USED BY YOUR\n",
        "# NOTEBOOK.\n",
        "import kagglehub\n",
        "fedesoriano_company_bankruptcy_prediction_path = kagglehub.dataset_download('fedesoriano/company-bankruptcy-prediction')\n",
        "\n",
        "print('Data source import complete.')\n"
      ],
      "metadata": {
        "id": "lwE984_uv7dd"
      },
      "cell_type": "code",
      "outputs": [],
      "execution_count": null
    },
    {
      "cell_type": "code",
      "source": [
        "# This Python 3 environment comes with many helpful analytics libraries installed\n",
        "# It is defined by the kaggle/python Docker image: https://github.com/kaggle/docker-python\n",
        "# For example, here's several helpful packages to load\n",
        "\n",
        "import numpy as np # linear algebra\n",
        "import pandas as pd # data processing, CSV file I/O (e.g. pd.read_csv)\n",
        "\n",
        "pd.set_option('display.max_rows', None)\n",
        "pd.set_option('display.max_columns', None)\n",
        "\n",
        "# Input data files are available in the read-only \"../input/\" directory\n",
        "# For example, running this (by clicking run or pressing Shift+Enter) will list all files under the input directory\n",
        "\n",
        "import os\n",
        "for dirname, _, filenames in os.walk('/kaggle/input'):\n",
        "    for filename in filenames:\n",
        "        print(os.path.join(dirname, filename))\n",
        "\n",
        "import matplotlib.pyplot as plt\n",
        "\n",
        "# You can write up to 20GB to the current directory (/kaggle/working/) that gets preserved as output when you create a version using \"Save & Run All\"\n",
        "# You can also write temporary files to /kaggle/temp/, but they won't be saved outside of the current session"
      ],
      "metadata": {
        "_uuid": "8f2839f25d086af736a60e9eeb907d3b93b6e0e5",
        "_cell_guid": "b1076dfc-b9ad-4769-8c92-a6c4dae69d19",
        "trusted": true,
        "execution": {
          "iopub.status.busy": "2025-01-24T23:31:58.092361Z",
          "iopub.execute_input": "2025-01-24T23:31:58.092832Z",
          "iopub.status.idle": "2025-01-24T23:31:58.100763Z",
          "shell.execute_reply.started": "2025-01-24T23:31:58.092801Z",
          "shell.execute_reply": "2025-01-24T23:31:58.099427Z"
        },
        "id": "l-s4TJTkv7df"
      },
      "outputs": [],
      "execution_count": null
    },
    {
      "cell_type": "code",
      "source": [
        "df = pd.read_csv('/kaggle/input/company-bankruptcy-prediction/data.csv')\n",
        "# Remove leading and trailing spaces from column names\n",
        "df.columns = df.columns.str.strip()\n",
        "df.head()\n",
        "\n",
        "# Profitability: Operating Gross Margin\n",
        "# Liquidity: Current Ratio\n",
        "# Leverage: 'Total debt/Total net worth'\n",
        "# Efficiency: 'Total Asset Turnover'\n",
        "# Cash flow: 'Cash Flow to Total Assets'\n",
        "# Growth: 'Operating Profit Growth Rate'\n",
        "\n",
        "df = df[['Bankrupt?', 'Operating Gross Margin', 'Current Ratio', 'Total debt/Total net worth', 'Total Asset Turnover', 'Cash Flow to Total Assets', 'Operating Profit Growth Rate']]\n",
        "df = df.dropna()\n",
        "print(f'df has {df.shape[0]} rows')\n",
        "\n",
        "\n",
        "percentile_10 = df[['Operating Gross Margin', 'Current Ratio', 'Total debt/Total net worth', 'Total Asset Turnover', 'Cash Flow to Total Assets', 'Operating Profit Growth Rate']].quantile(0.1)\n",
        "percentile_90 = df[['Operating Gross Margin', 'Current Ratio', 'Total debt/Total net worth', 'Total Asset Turnover', 'Cash Flow to Total Assets', 'Operating Profit Growth Rate']].quantile(0.9)\n",
        "\n",
        "# Filter data to keep values within 10th and 90th percentiles for each column\n",
        "filtered_df = df[\n",
        "    (df[['Operating Gross Margin', 'Current Ratio', 'Total debt/Total net worth', 'Total Asset Turnover', 'Cash Flow to Total Assets', 'Operating Profit Growth Rate']] >= percentile_10).all(axis=1) &\n",
        "    (df[['Operating Gross Margin', 'Current Ratio', 'Total debt/Total net worth', 'Total Asset Turnover', 'Cash Flow to Total Assets', 'Operating Profit Growth Rate']] <= percentile_90).all(axis=1)\n",
        "]\n",
        "\n",
        "print(f'filtered_df has {filtered_df.shape[0]} rows')\n"
      ],
      "metadata": {
        "trusted": true,
        "execution": {
          "iopub.status.busy": "2025-01-24T23:38:54.348899Z",
          "iopub.execute_input": "2025-01-24T23:38:54.349271Z",
          "iopub.status.idle": "2025-01-24T23:38:54.587223Z",
          "shell.execute_reply.started": "2025-01-24T23:38:54.349243Z",
          "shell.execute_reply": "2025-01-24T23:38:54.585867Z"
        },
        "id": "-QDUwSPSv7dg"
      },
      "outputs": [],
      "execution_count": null
    },
    {
      "cell_type": "code",
      "source": [
        "filtered_df.head()"
      ],
      "metadata": {
        "trusted": true,
        "execution": {
          "iopub.status.busy": "2025-01-24T23:39:02.768934Z",
          "iopub.execute_input": "2025-01-24T23:39:02.769292Z",
          "iopub.status.idle": "2025-01-24T23:39:02.783388Z",
          "shell.execute_reply.started": "2025-01-24T23:39:02.769265Z",
          "shell.execute_reply": "2025-01-24T23:39:02.781975Z"
        },
        "id": "6CPgxpnmv7dg"
      },
      "outputs": [],
      "execution_count": null
    },
    {
      "cell_type": "code",
      "source": [
        "percentile_10, percentile_90"
      ],
      "metadata": {
        "trusted": true,
        "execution": {
          "iopub.status.busy": "2025-01-24T23:39:08.240584Z",
          "iopub.execute_input": "2025-01-24T23:39:08.241042Z",
          "iopub.status.idle": "2025-01-24T23:39:08.249343Z",
          "shell.execute_reply.started": "2025-01-24T23:39:08.241009Z",
          "shell.execute_reply": "2025-01-24T23:39:08.248141Z"
        },
        "id": "PPUi8FJ8v7dg"
      },
      "outputs": [],
      "execution_count": null
    },
    {
      "cell_type": "code",
      "source": [
        "grouped_averages = filtered_df.groupby(\"Bankrupt?\").median()\n",
        "\n",
        "# Display the grouped averages\n",
        "grouped_averages.head()"
      ],
      "metadata": {
        "trusted": true,
        "execution": {
          "iopub.status.busy": "2025-01-24T23:39:11.715633Z",
          "iopub.execute_input": "2025-01-24T23:39:11.716115Z",
          "iopub.status.idle": "2025-01-24T23:39:11.730886Z",
          "shell.execute_reply.started": "2025-01-24T23:39:11.71608Z",
          "shell.execute_reply": "2025-01-24T23:39:11.729756Z"
        },
        "id": "YLBjCj9fv7dh"
      },
      "outputs": [],
      "execution_count": null
    },
    {
      "cell_type": "code",
      "source": [
        "filtered_df.info()"
      ],
      "metadata": {
        "trusted": true,
        "execution": {
          "iopub.status.busy": "2025-01-24T23:39:18.864182Z",
          "iopub.execute_input": "2025-01-24T23:39:18.864546Z",
          "iopub.status.idle": "2025-01-24T23:39:18.877665Z",
          "shell.execute_reply.started": "2025-01-24T23:39:18.864517Z",
          "shell.execute_reply": "2025-01-24T23:39:18.87637Z"
        },
        "id": "qaC7f3Djv7dh"
      },
      "outputs": [],
      "execution_count": null
    },
    {
      "cell_type": "code",
      "source": [
        "filtered_df.columns"
      ],
      "metadata": {
        "trusted": true,
        "execution": {
          "iopub.status.busy": "2025-01-24T23:39:21.533233Z",
          "iopub.execute_input": "2025-01-24T23:39:21.533749Z",
          "iopub.status.idle": "2025-01-24T23:39:21.54228Z",
          "shell.execute_reply.started": "2025-01-24T23:39:21.533683Z",
          "shell.execute_reply": "2025-01-24T23:39:21.540901Z"
        },
        "id": "5QerjxFOv7dh"
      },
      "outputs": [],
      "execution_count": null
    },
    {
      "cell_type": "markdown",
      "source": [
        "# Cluster Analysis"
      ],
      "metadata": {
        "id": "Od-NYvf5v7dh"
      }
    },
    {
      "cell_type": "code",
      "source": [
        "from sklearn.cluster import KMeans\n",
        "from sklearn.metrics import silhouette_score\n",
        "import matplotlib.pyplot as plt\n",
        "\n",
        "columns_for_clustering = ['Operating Gross Margin', 'Current Ratio', 'Total debt/Total net worth', 'Total Asset Turnover', 'Cash Flow to Total Assets', 'Operating Profit Growth Rate']\n",
        "X = filtered_df[columns_for_clustering]\n"
      ],
      "metadata": {
        "trusted": true,
        "execution": {
          "iopub.status.busy": "2025-01-24T23:39:25.297185Z",
          "iopub.execute_input": "2025-01-24T23:39:25.297543Z",
          "iopub.status.idle": "2025-01-24T23:39:25.304322Z",
          "shell.execute_reply.started": "2025-01-24T23:39:25.297517Z",
          "shell.execute_reply": "2025-01-24T23:39:25.302662Z"
        },
        "id": "9tIGKDFev7di"
      },
      "outputs": [],
      "execution_count": null
    },
    {
      "cell_type": "code",
      "source": [
        "X.head()"
      ],
      "metadata": {
        "trusted": true,
        "execution": {
          "iopub.status.busy": "2025-01-24T23:39:25.935483Z",
          "iopub.execute_input": "2025-01-24T23:39:25.935859Z",
          "iopub.status.idle": "2025-01-24T23:39:25.949988Z",
          "shell.execute_reply.started": "2025-01-24T23:39:25.935829Z",
          "shell.execute_reply": "2025-01-24T23:39:25.948041Z"
        },
        "id": "vnGftdzqv7di"
      },
      "outputs": [],
      "execution_count": null
    },
    {
      "cell_type": "code",
      "source": [
        "# Elbow Method\n",
        "inertia = []\n",
        "silhouette_scores = []\n",
        "range_n_clusters = range(2, 11)  # Test for 2 to 10 clusters\n",
        "\n",
        "for k in range_n_clusters:\n",
        "    kmeans = KMeans(n_clusters=k, random_state=20).fit(X)\n",
        "    inertia.append(kmeans.inertia_)\n",
        "    silhouette_scores.append(silhouette_score(X, kmeans.labels_))\n",
        "\n",
        "# Plot Inertia and Silhouette Score\n",
        "plt.figure(figsize=(12, 5))\n",
        "\n",
        "plt.subplot(1, 2, 1)\n",
        "plt.plot(range_n_clusters, inertia, marker='o')\n",
        "plt.title('Elbow Method')\n",
        "plt.xlabel('Number of Clusters')\n",
        "plt.ylabel('Inertia')\n",
        "\n",
        "plt.subplot(1, 2, 2)\n",
        "plt.plot(range_n_clusters, silhouette_scores, marker='o', color='green')\n",
        "plt.title('Silhouette Score')\n",
        "plt.xlabel('Number of Clusters')\n",
        "plt.ylabel('Silhouette Score')\n",
        "\n",
        "plt.tight_layout()\n",
        "plt.show()\n",
        "\n",
        "# Elbow Method Plot (Inertia vs. Number of Clusters):\n",
        "# Look for the \"elbow,\" which is the point where the decrease in inertia slows down significantly. This suggests the optimal number of clusters.\n",
        "\n",
        "# Silhouette Score Plot (Silhouette Score vs. Number of Clusters):\n",
        "# The peak value of the Silhouette Score indicates the best number of clusters, as it represents the best separation and compactness of the clusters.\n",
        "\n",
        "# Looks 6 is a good number of clusters"
      ],
      "metadata": {
        "trusted": true,
        "execution": {
          "iopub.status.busy": "2025-01-24T23:39:34.166329Z",
          "iopub.execute_input": "2025-01-24T23:39:34.166681Z",
          "iopub.status.idle": "2025-01-24T23:39:48.240226Z",
          "shell.execute_reply.started": "2025-01-24T23:39:34.166653Z",
          "shell.execute_reply": "2025-01-24T23:39:48.23912Z"
        },
        "id": "P_Oy-0ZHv7di"
      },
      "outputs": [],
      "execution_count": null
    },
    {
      "cell_type": "code",
      "source": [
        "optimal_clusters = 3\n",
        "\n",
        "# K-Means Clustering\n",
        "kmeans = KMeans(n_clusters=optimal_clusters, random_state=20).fit(X)\n",
        "X['Cluster'] = kmeans.labels_\n",
        "\n",
        "# Append \"Bankrupt?\" column to analyze\n",
        "X['Bankrupt?'] = df['Bankrupt?']\n",
        "\n",
        "# Analyze each cluster\n",
        "cluster_analysis = X.groupby('Cluster').mean()\n",
        "cluster_analysis['Record Count'] = X['Cluster'].value_counts().sort_index()\n",
        "\n",
        "print(\"Cluster Analysis (Means and Record Counts):\\n\", cluster_analysis)"
      ],
      "metadata": {
        "trusted": true,
        "execution": {
          "iopub.status.busy": "2025-01-24T23:42:26.389806Z",
          "iopub.execute_input": "2025-01-24T23:42:26.39026Z",
          "iopub.status.idle": "2025-01-24T23:42:27.074273Z",
          "shell.execute_reply.started": "2025-01-24T23:42:26.390225Z",
          "shell.execute_reply": "2025-01-24T23:42:27.070695Z"
        },
        "id": "UARgZC9sv7di"
      },
      "outputs": [],
      "execution_count": null
    },
    {
      "cell_type": "code",
      "source": [
        "cluster_analysis"
      ],
      "metadata": {
        "trusted": true,
        "execution": {
          "iopub.status.busy": "2025-01-24T23:40:16.055226Z",
          "iopub.execute_input": "2025-01-24T23:40:16.055562Z",
          "iopub.status.idle": "2025-01-24T23:40:16.070348Z",
          "shell.execute_reply.started": "2025-01-24T23:40:16.055536Z",
          "shell.execute_reply": "2025-01-24T23:40:16.068208Z"
        },
        "id": "1cARadWMv7dj"
      },
      "outputs": [],
      "execution_count": null
    },
    {
      "cell_type": "code",
      "source": [
        "cluster_analysis"
      ],
      "metadata": {
        "trusted": true,
        "execution": {
          "iopub.status.busy": "2025-01-24T23:42:34.244362Z",
          "iopub.execute_input": "2025-01-24T23:42:34.244774Z",
          "iopub.status.idle": "2025-01-24T23:42:34.259273Z",
          "shell.execute_reply.started": "2025-01-24T23:42:34.24473Z",
          "shell.execute_reply": "2025-01-24T23:42:34.257353Z"
        },
        "id": "LD4iUaMPv7dj"
      },
      "outputs": [],
      "execution_count": null
    },
    {
      "cell_type": "code",
      "source": [
        "from sklearn.decomposition import PCA\n",
        "import matplotlib.pyplot as plt\n",
        "\n",
        "# Columns to use for PCA\n",
        "pca_columns = ['Operating Gross Margin', 'Current Ratio', 'Total debt/Total net worth',\n",
        "               'Total Asset Turnover', 'Cash Flow to Total Assets', 'Operating Profit Growth Rate']\n",
        "\n",
        "# Perform PCA\n",
        "pca = PCA(n_components=2, random_state=42)  # Reduce to 2 components for visualization\n",
        "pca_result = pca.fit_transform(X[pca_columns])\n",
        "\n",
        "# Add PCA results and cluster labels to the DataFrame\n",
        "X['PCA1'] = pca_result[:, 0]\n",
        "X['PCA2'] = pca_result[:, 1]\n",
        "\n",
        "# Plot the PCA results, colored by cluster\n",
        "plt.figure(figsize=(10, 7))\n",
        "for cluster_label in X['Cluster'].unique():\n",
        "    cluster_data = X[X['Cluster'] == cluster_label]\n",
        "    plt.scatter(cluster_data['PCA1'], cluster_data['PCA2'], label=f'Cluster {cluster_label}', s=50, alpha=0.7)\n",
        "\n",
        "# Add labels and title\n",
        "plt.title('PCA Visualization of Clusters', fontsize=16)\n",
        "plt.xlabel('PCA Component 1', fontsize=12)\n",
        "plt.ylabel('PCA Component 2', fontsize=12)\n",
        "plt.legend(title='Clusters')\n",
        "plt.grid(alpha=0.5)\n",
        "plt.tight_layout()\n",
        "plt.show()\n"
      ],
      "metadata": {
        "trusted": true,
        "execution": {
          "iopub.status.busy": "2025-01-24T23:49:54.173275Z",
          "iopub.execute_input": "2025-01-24T23:49:54.173676Z",
          "iopub.status.idle": "2025-01-24T23:49:54.816304Z",
          "shell.execute_reply.started": "2025-01-24T23:49:54.173631Z",
          "shell.execute_reply": "2025-01-24T23:49:54.815167Z"
        },
        "id": "VfC3Q1-Rv7dj"
      },
      "outputs": [],
      "execution_count": null
    },
    {
      "cell_type": "code",
      "source": [
        "X"
      ],
      "metadata": {
        "trusted": true,
        "execution": {
          "iopub.status.busy": "2025-01-24T23:44:30.411416Z",
          "iopub.execute_input": "2025-01-24T23:44:30.411825Z",
          "iopub.status.idle": "2025-01-24T23:44:30.943175Z",
          "shell.execute_reply.started": "2025-01-24T23:44:30.41179Z",
          "shell.execute_reply": "2025-01-24T23:44:30.941836Z"
        },
        "id": "Dj-UyLKGv7dj"
      },
      "outputs": [],
      "execution_count": null
    },
    {
      "cell_type": "markdown",
      "source": [
        "## Run EDA"
      ],
      "metadata": {
        "execution": {
          "iopub.status.busy": "2025-01-04T23:39:35.339344Z",
          "iopub.execute_input": "2025-01-04T23:39:35.339718Z",
          "iopub.status.idle": "2025-01-04T23:39:35.344025Z",
          "shell.execute_reply.started": "2025-01-04T23:39:35.339694Z",
          "shell.execute_reply": "2025-01-04T23:39:35.34277Z"
        },
        "id": "DVkDHRTWv7dj"
      }
    },
    {
      "cell_type": "code",
      "source": [],
      "metadata": {
        "trusted": true,
        "id": "0PqH3-F0v7dj"
      },
      "outputs": [],
      "execution_count": null
    },
    {
      "cell_type": "code",
      "source": [
        "col = ' Quick Ratio'\n",
        "\n",
        "plt.figure(figsize=(10, 6))\n",
        "\n",
        "# Create the box plot\n",
        "boxplot = df[df[col]<0.05].boxplot(column=col, by=\"Bankrupt?\", grid=False, showfliers=True, patch_artist=True, widths=0.6)\n",
        "\n",
        "# Get positions of the boxes\n",
        "positions = range(1, len(df[\"Bankrupt?\"].unique()) + 1)\n",
        "\n",
        "# # Add mean points to the box plot\n",
        "# for i, category in enumerate(sorted(df[\"Bankrupt?\"].unique())):\n",
        "#     category_values = df[df[\"Bankrupt?\"] == category][col].dropna()\n",
        "#     mean_value = category_values.mean()\n",
        "\n",
        "#     # Plot the mean at the corresponding box position\n",
        "#     plt.scatter(positions[i], mean_value, color='red', zorder=3, label=\"Mean\" if i == 0 else None)\n",
        "\n",
        "# Customize the plot\n",
        "plt.title(f\"Distribution of {col} by Bankruptcy Status\")\n",
        "plt.suptitle(\"\")  # Remove default 'Boxplot grouped by...' title\n",
        "plt.xlabel(\"Bankruptcy Status (0 = No, 1 = Yes)\")\n",
        "plt.ylabel(col)\n",
        "\n",
        "# Add a legend for the mean\n",
        "plt.legend(loc=\"best\")\n",
        "\n",
        "# Show grid for better readability\n",
        "plt.grid(axis='y', linestyle='--', alpha=0.7)\n",
        "\n",
        "# Show the plot\n",
        "plt.show()"
      ],
      "metadata": {
        "trusted": true,
        "id": "PGCMaxnHv7dj"
      },
      "outputs": [],
      "execution_count": null
    },
    {
      "cell_type": "code",
      "source": [
        "# List all columns except \"Bankrupt?\" for comparison\n",
        "columns_to_compare = [col for col in df.columns if col != \"Bankrupt?\"]\n",
        "\n",
        "for col in columns_to_compare[0:]:\n",
        "    plt.figure(figsize=(10, 6))\n",
        "\n",
        "    # Create the box plot\n",
        "    boxplot = df.boxplot(column=col, by=\"Bankrupt?\", grid=False, showfliers=True, patch_artist=True, widths=0.6)\n",
        "\n",
        "    # Get positions of the boxes\n",
        "    positions = range(1, len(df[\"Bankrupt?\"].unique()) + 1)\n",
        "\n",
        "    # Add mean points to the box plot\n",
        "    for i, category in enumerate(sorted(df[\"Bankrupt?\"].unique())):\n",
        "        category_values = df[df[\"Bankrupt?\"] == category][col].dropna()\n",
        "        mean_value = category_values.mean()\n",
        "\n",
        "        # Plot the mean at the corresponding box position\n",
        "        plt.scatter(positions[i], mean_value, color='red', zorder=3, label=\"Mean\" if i == 0 else None)\n",
        "\n",
        "    # Customize the plot\n",
        "    plt.title(f\"Distribution of {col} by Bankruptcy Status\")\n",
        "    plt.suptitle(\"\")  # Remove default 'Boxplot grouped by...' title\n",
        "    plt.xlabel(\"Bankruptcy Status (0 = No, 1 = Yes)\")\n",
        "    plt.ylabel(col)\n",
        "\n",
        "    # Add a legend for the mean\n",
        "    plt.legend(loc=\"best\")\n",
        "\n",
        "    # Show grid for better readability\n",
        "    plt.grid(axis='y', linestyle='--', alpha=0.7)\n",
        "\n",
        "    # Show the plot\n",
        "    plt.show()"
      ],
      "metadata": {
        "trusted": true,
        "id": "8ZfxdihTv7dj"
      },
      "outputs": [],
      "execution_count": null
    },
    {
      "cell_type": "markdown",
      "source": [
        "### Try a Logistic Regression Model"
      ],
      "metadata": {
        "id": "13USgIJ_v7dj"
      }
    },
    {
      "cell_type": "code",
      "source": [
        "df.columns"
      ],
      "metadata": {
        "trusted": true,
        "id": "5Y5wmXkKv7dj"
      },
      "outputs": [],
      "execution_count": null
    },
    {
      "cell_type": "code",
      "source": [
        "from sklearn.model_selection import train_test_split\n",
        "from sklearn.linear_model import LogisticRegression\n",
        "from sklearn.metrics import (\n",
        "    confusion_matrix,\n",
        "    classification_report,\n",
        "    roc_auc_score,\n",
        "    roc_curve,\n",
        "    accuracy_score\n",
        ")\n",
        "import matplotlib.pyplot as plt\n",
        "import seaborn as sns\n",
        "\n",
        "# selected_features = [\" Current Liability to Current Assets\"]\n",
        "selected_features = df.columns.drop(\"Bankrupt?\")\n",
        "target = \"Bankrupt?\"\n",
        "\n",
        "# Features and target\n",
        "X = df[selected_features]\n",
        "y = df[target]\n",
        "\n",
        "# Split data into training and testing sets (75% training, 25% testing)\n",
        "X_train, X_test, y_train, y_test = train_test_split(X, y, test_size=0.25, random_state=42, stratify=y)\n",
        "\n",
        "# Initialize logistic regression model\n",
        "log_reg = LogisticRegression()\n",
        "\n",
        "# Train the model\n",
        "log_reg.fit(X_train, y_train)\n",
        "\n",
        "# Generate predictions and probabilities\n",
        "y_pred = log_reg.predict(X_test)\n",
        "y_pred_prob = log_reg.predict_proba(X_test)[:, 1]\n",
        "\n",
        "# Confusion Matrix\n",
        "cm = confusion_matrix(y_test, y_pred)\n",
        "sns.heatmap(cm, annot=True, fmt='d', cmap='Blues', xticklabels=[\"Not Bankrupt\", \"Bankrupt\"], yticklabels=[\"Not Bankrupt\", \"Bankrupt\"])\n",
        "plt.title(\"Confusion Matrix\")\n",
        "plt.xlabel(\"Predicted\")\n",
        "plt.ylabel(\"Actual\")\n",
        "plt.show()\n",
        "\n",
        "# Classification Report for precision, recall, F1-score\n",
        "print(\"Classification Report:\\n\", classification_report(y_test, y_pred))\n",
        "\n",
        "# Accuracy\n",
        "accuracy = accuracy_score(y_test, y_pred)\n",
        "print(\"Accuracy:\", accuracy)\n",
        "\n",
        "# AUC (Area Under the Curve)\n",
        "auc_score = roc_auc_score(y_test, y_pred_prob)\n",
        "print(\"AUC:\", auc_score)\n",
        "\n",
        "# Plot ROC Curve\n",
        "fpr, tpr, thresholds = roc_curve(y_test, y_pred_prob)\n",
        "plt.figure(figsize=(8, 6))\n",
        "plt.plot(fpr, tpr, label=f\"ROC Curve (AUC = {auc_score:.2f})\", color=\"blue\")\n",
        "plt.plot([0, 1], [0, 1], \"k--\", label=\"Random Classifier\")\n",
        "plt.xlabel(\"False Positive Rate\")\n",
        "plt.ylabel(\"True Positive Rate\")\n",
        "plt.title(\"ROC Curve\")\n",
        "plt.legend(loc=\"best\")\n",
        "plt.grid()\n",
        "plt.show()\n"
      ],
      "metadata": {
        "trusted": true,
        "id": "cJanhatAv7dj"
      },
      "outputs": [],
      "execution_count": null
    },
    {
      "cell_type": "code",
      "source": [
        "print(df[target].mean())\n",
        "\n",
        "### Bankrupted companies are too few. The data is biased."
      ],
      "metadata": {
        "trusted": true,
        "id": "Oz22W1AFv7dj"
      },
      "outputs": [],
      "execution_count": null
    },
    {
      "cell_type": "code",
      "source": [
        "from sklearn.model_selection import train_test_split\n",
        "from sklearn.linear_model import LogisticRegression\n",
        "from sklearn.metrics import (\n",
        "    confusion_matrix,\n",
        "    classification_report,\n",
        "    roc_auc_score,\n",
        "    roc_curve,\n",
        "    accuracy_score\n",
        ")\n",
        "import matplotlib.pyplot as plt\n",
        "import seaborn as sns\n",
        "\n",
        "# selected_features = [\" Current Liability to Current Assets\"]\n",
        "selected_features = df.columns.drop(\"Bankrupt?\")\n",
        "target = \"Bankrupt?\"\n",
        "\n",
        "# Features and target\n",
        "X = df[selected_features]\n",
        "y = df[target]\n",
        "\n",
        "# Split data into training and testing sets (75% training, 25% testing)\n",
        "X_train, X_test, y_train, y_test = train_test_split(X, y, test_size=0.25, random_state=42, stratify=y)\n",
        "\n",
        "# Initialize logistic regression model\n",
        "# log_reg = LogisticRegression()\n",
        "log_reg = LogisticRegression(class_weight='balanced', random_state=42)\n",
        "\n",
        "\n",
        "# Train the model\n",
        "log_reg.fit(X_train, y_train)\n",
        "\n",
        "# Generate predictions and probabilities\n",
        "y_pred = log_reg.predict(X_test)\n",
        "y_pred_prob = log_reg.predict_proba(X_test)[:, 1]\n",
        "\n",
        "# Confusion Matrix\n",
        "cm = confusion_matrix(y_test, y_pred)\n",
        "sns.heatmap(cm, annot=True, fmt='d', cmap='Blues', xticklabels=[\"Not Bankrupt\", \"Bankrupt\"], yticklabels=[\"Not Bankrupt\", \"Bankrupt\"])\n",
        "plt.title(\"Confusion Matrix\")\n",
        "plt.xlabel(\"Predicted\")\n",
        "plt.ylabel(\"Actual\")\n",
        "plt.show()\n",
        "\n",
        "# Classification Report for precision, recall, F1-score\n",
        "print(\"Classification Report:\\n\", classification_report(y_test, y_pred))\n",
        "\n",
        "# Accuracy\n",
        "accuracy = accuracy_score(y_test, y_pred)\n",
        "print(\"Accuracy:\", accuracy)\n",
        "\n",
        "# AUC (Area Under the Curve)\n",
        "auc_score = roc_auc_score(y_test, y_pred_prob)\n",
        "print(\"AUC:\", auc_score)\n",
        "\n",
        "# Plot ROC Curve\n",
        "fpr, tpr, thresholds = roc_curve(y_test, y_pred_prob)\n",
        "plt.figure(figsize=(8, 6))\n",
        "plt.plot(fpr, tpr, label=f\"ROC Curve (AUC = {auc_score:.2f})\", color=\"blue\")\n",
        "plt.plot([0, 1], [0, 1], \"k--\", label=\"Random Classifier\")\n",
        "plt.xlabel(\"False Positive Rate\")\n",
        "plt.ylabel(\"True Positive Rate\")\n",
        "plt.title(\"ROC Curve\")\n",
        "plt.legend(loc=\"best\")\n",
        "plt.grid()\n",
        "plt.show()\n"
      ],
      "metadata": {
        "trusted": true,
        "id": "9hyOv8QUv7dj"
      },
      "outputs": [],
      "execution_count": null
    },
    {
      "cell_type": "markdown",
      "source": [
        "## Variable Selection"
      ],
      "metadata": {
        "id": "2YifFZCgv7dj"
      }
    },
    {
      "cell_type": "code",
      "source": [
        "# Get the absolute values of the coefficients\n",
        "coefficients = pd.DataFrame(log_reg.coef_[0], X.columns, columns=[\"Coefficient\"])\n",
        "\n",
        "# Sort by absolute coefficient value\n",
        "coefficients['abs_coeff'] = coefficients['Coefficient'].abs()\n",
        "coefficients = coefficients.sort_values(by=\"abs_coeff\", ascending=False)\n",
        "\n",
        "# Display the most significant features\n",
        "print(coefficients[['Coefficient', 'abs_coeff']])"
      ],
      "metadata": {
        "trusted": true,
        "id": "Md_fJGg6v7dk"
      },
      "outputs": [],
      "execution_count": null
    },
    {
      "cell_type": "code",
      "source": [
        "from sklearn.linear_model import LogisticRegressionCV\n",
        "\n",
        "# Use Logistic Regression with L1 regularization\n",
        "lasso_log_reg = LogisticRegressionCV(penalty='l1', solver='liblinear', max_iter=1000)\n",
        "lasso_log_reg.fit(X_train, y_train)\n",
        "\n",
        "# Get the non-zero coefficients\n",
        "selected_features_lasso = X.columns[(lasso_log_reg.coef_ != 0).flatten()]\n",
        "print(\"Selected Features by Lasso:\", selected_features_lasso)"
      ],
      "metadata": {
        "trusted": true,
        "id": "Xu627lWBv7dk"
      },
      "outputs": [],
      "execution_count": null
    },
    {
      "cell_type": "code",
      "source": [],
      "metadata": {
        "trusted": true,
        "id": "ZOGLEuSJv7dk"
      },
      "outputs": [],
      "execution_count": null
    }
  ]
}