{
 "cells": [
  {
   "cell_type": "code",
   "execution_count": 2,
   "metadata": {},
   "outputs": [
    {
     "name": "stderr",
     "output_type": "stream",
     "text": [
      "[*********************100%***********************]  1 of 1 completed\n",
      "[*********************100%***********************]  1 of 1 completed\n",
      "[*********************100%***********************]  3 of 3 completed\n"
     ]
    }
   ],
   "source": [
    "import yfinance as yf\n",
    "import pandas as pd\n",
    "import numpy as np\n",
    "import statsmodels.api as sm\n",
    "from datetime import datetime\n",
    "\n",
    "# Step 1: Fetch Data\n",
    "start_date = \"2010-01-01\"\n",
    "end_date = \"2024-12-31\"\n",
    "risk_free_ticker = \"^IRX\"  # Use the 13-week Treasury yield as a proxy for risk-free rate\n",
    "market_index_ticker = \"^GSPC\"  # S&P 500 index\n",
    "equity_tickers = [\"AAPL\", \"MSFT\", \"GOOGL\"]  # Replace with desired stock tickers\n",
    "\n",
    "# Fetch data\n",
    "risk_free_data = yf.download(risk_free_ticker, start=start_date, end=end_date)[\"Close\"]\n",
    "market_data = yf.download(market_index_ticker, start=start_date, end=end_date)[\"Close\"]\n",
    "stock_data = yf.download(equity_tickers, start=start_date, end=end_date)[\"Close\"]"
   ]
  },
  {
   "cell_type": "code",
   "execution_count": 3,
   "metadata": {},
   "outputs": [],
   "source": [
    "# Step 2: Prepare Data\n",
    "# Calculate daily returns\n",
    "market_returns = market_data.pct_change().dropna()\n",
    "stock_returns = stock_data.pct_change().dropna()\n",
    "\n",
    "# Calculate SMB and HML\n",
    "# For simplicity, create synthetic SMB and HML factors\n",
    "smb = stock_returns.mean(axis=1)  # Proxy for SMB\n",
    "top_50 = stock_returns.quantile(0.5, axis=1)\n",
    "hml = top_50 - stock_returns.mean(axis=1)  # Proxy for HML"
   ]
  },
  {
   "cell_type": "code",
   "execution_count": 4,
   "metadata": {},
   "outputs": [
    {
     "data": {
      "text/plain": [
       "Date\n",
       "2010-01-05    0.001107\n",
       "2010-01-06   -0.000156\n",
       "2010-01-07    0.001443\n",
       "2010-01-08   -0.002062\n",
       "2010-01-11   -0.001137\n",
       "                ...   \n",
       "2024-12-23   -0.002534\n",
       "2024-12-24   -0.000111\n",
       "2024-12-26   -0.001867\n",
       "2024-12-27    0.000502\n",
       "2024-12-30   -0.001777\n",
       "Length: 3772, dtype: float64"
      ]
     },
     "execution_count": 4,
     "metadata": {},
     "output_type": "execute_result"
    }
   ],
   "source": [
    "hml"
   ]
  },
  {
   "cell_type": "code",
   "execution_count": 5,
   "metadata": {},
   "outputs": [
    {
     "data": {
      "text/plain": [
       "Date\n",
       "2010-01-05   -0.000784\n",
       "2010-01-06   -0.015751\n",
       "2010-01-07   -0.011843\n",
       "2010-01-08    0.008959\n",
       "2010-01-11   -0.007684\n",
       "                ...   \n",
       "2024-12-23    0.005598\n",
       "2024-12-24    0.009485\n",
       "2024-12-26   -0.000734\n",
       "2024-12-27   -0.015021\n",
       "2024-12-30   -0.011463\n",
       "Length: 3772, dtype: float64"
      ]
     },
     "execution_count": 5,
     "metadata": {},
     "output_type": "execute_result"
    }
   ],
   "source": [
    "smb"
   ]
  },
  {
   "cell_type": "code",
   "execution_count": 6,
   "metadata": {},
   "outputs": [],
   "source": [
    "# convert to pandas dataframe\n",
    "market_returns = pd.DataFrame(market_returns).dropna()\n",
    "stock_returns = pd.DataFrame(stock_returns).dropna()\n",
    "\n",
    "# Calculate SMB\n",
    "# SMB is typically calculated as the return of small-cap stocks minus large-cap stocks.\n",
    "# For simplicity, we'll proxy SMB as the average return of stocks.\n",
    "smb = stock_returns.mean(axis=1)  # Average return of all stocks, as a simple SMB proxy\n",
    "\n",
    "# Calculate HML\n",
    "# HML is the return of high book-to-market (value) stocks minus low book-to-market (growth) stocks.\n",
    "# For simplicity, we'll use the top 50th percentile return as a proxy for high and average return for the mean.\n",
    "top_50 = stock_returns.quantile(0.5, axis=1)  # Median return as a simple high proxy\n",
    "hml = top_50 - stock_returns.mean(axis=1)  # Proxy for HML\n",
    "\n",
    "stock_returns['smb'] = smb.values\n",
    "stock_returns['top_50'] = top_50.values\n",
    "stock_returns['hml'] = hml.values"
   ]
  },
  {
   "cell_type": "code",
   "execution_count": 7,
   "metadata": {},
   "outputs": [],
   "source": [
    "# Convert risk-free rate from percentage to daily rate\n",
    "risk_free_rate = risk_free_data / 100 / 252\n",
    "risk_free_rate = risk_free_rate.reindex(market_returns.index, method=\"ffill\")\n",
    "\n",
    "# convert to pandas dataframe\n",
    "risk_free_rate = pd.DataFrame(risk_free_rate).dropna()"
   ]
  },
  {
   "cell_type": "code",
   "execution_count": 8,
   "metadata": {},
   "outputs": [],
   "source": [
    "# Merge All data together\n",
    "merged_df = pd.merge(stock_returns, \n",
    "                    pd.merge(market_returns, risk_free_rate,  \n",
    "                            left_index=True, right_index=True),\n",
    "                    left_index=True, right_index=True)"
   ]
  },
  {
   "cell_type": "code",
   "execution_count": 9,
   "metadata": {},
   "outputs": [],
   "source": [
    "# Calculate market excess return\n",
    "merged_df['market_excess_return'] = merged_df['^GSPC'] - merged_df['^IRX']\n",
    "merged_df['dt'] = merged_df.index"
   ]
  },
  {
   "cell_type": "code",
   "execution_count": 10,
   "metadata": {},
   "outputs": [
    {
     "data": {
      "text/plain": [
       "Ticker\n",
       "AAPL                           float64\n",
       "GOOGL                          float64\n",
       "MSFT                           float64\n",
       "smb                            float64\n",
       "top_50                         float64\n",
       "hml                            float64\n",
       "^GSPC                          float64\n",
       "^IRX                           float64\n",
       "market_excess_return           float64\n",
       "dt                      datetime64[ns]\n",
       "dtype: object"
      ]
     },
     "execution_count": 10,
     "metadata": {},
     "output_type": "execute_result"
    }
   ],
   "source": [
    "merged_df.dtypes"
   ]
  },
  {
   "cell_type": "code",
   "execution_count": 11,
   "metadata": {},
   "outputs": [
    {
     "data": {
      "text/plain": [
       "Timestamp('2024-12-30 00:00:00')"
      ]
     },
     "execution_count": 11,
     "metadata": {},
     "output_type": "execute_result"
    }
   ],
   "source": [
    "merged_df['dt'].max()"
   ]
  },
  {
   "cell_type": "code",
   "execution_count": 12,
   "metadata": {},
   "outputs": [
    {
     "name": "stdout",
     "output_type": "stream",
     "text": [
      "2023-12-29 00:00:00 2010-01-05 00:00:00\n",
      "2024-12-30 00:00:00 2024-01-02 00:00:00\n"
     ]
    }
   ],
   "source": [
    "# Train / Test Split\n",
    "\n",
    "TRAIN_df = merged_df[merged_df['dt'] <= '2023-12-31']\n",
    "TEST_df = merged_df[merged_df['dt'] > '2023-12-31']\n",
    "\n",
    "print(TRAIN_df['dt'].max(), TRAIN_df['dt'].min())\n",
    "print(TEST_df['dt'].max(), TEST_df['dt'].min())"
   ]
  },
  {
   "cell_type": "code",
   "execution_count": 19,
   "metadata": {},
   "outputs": [
    {
     "name": "stdout",
     "output_type": "stream",
     "text": [
      "Regression Results for AAPL:\n",
      "market_excess_return    1.114707\n",
      "dtype: float64\n",
      "for AAPL, actual average return is 0.0011970940538656015, and CAPM expected return is 0.0009628192549331767\n",
      "\n",
      "\n",
      "Regression Results for MSFT:\n",
      "market_excess_return    1.121697\n",
      "dtype: float64\n",
      "for MSFT, actual average return is 0.0005874097312781221, and CAPM expected return is 0.0009676236912907859\n",
      "\n",
      "\n",
      "Regression Results for GOOGL:\n",
      "market_excess_return    1.08826\n",
      "dtype: float64\n",
      "for GOOGL, actual average return is 0.001422002213398059, and CAPM expected return is 0.0009446430097880882\n",
      "\n",
      "\n"
     ]
    },
    {
     "name": "stderr",
     "output_type": "stream",
     "text": [
      "/tmp/ipykernel_2386/374020102.py:19: FutureWarning: Series.__getitem__ treating keys as positions is deprecated. In a future version, integer keys will always be treated as labels (consistent with DataFrame behavior). To access a value by position, use `ser.iloc[pos]`\n",
      "  CAPM_expected = test_rf + model.params[0] * test_market_excess_return\n"
     ]
    }
   ],
   "source": [
    "# CAPM\n",
    "factors = ['market_excess_return']\n",
    "results = {}\n",
    "\n",
    "for stock in equity_tickers:\n",
    "    y = TRAIN_df[stock] - TRAIN_df['^IRX']\n",
    "    x = TRAIN_df[factors]\n",
    "    model = sm.OLS(y, x).fit()\n",
    "    results[stock] = model\n",
    "\n",
    "test_rf = TEST_df['^IRX'].mean()\n",
    "test_market_excess_return = TEST_df['market_excess_return'].mean()\n",
    "\n",
    "# Output results\n",
    "for stock, model in results.items():\n",
    "    print(f\"Regression Results for {stock}:\")\n",
    "    # print(model.summary())\n",
    "    print(model.params)\n",
    "    CAPM_expected = test_rf + model.params[0] * test_market_excess_return\n",
    "    stock_actual_mean = TEST_df[stock].mean()\n",
    "    print(f\"for {stock}, actual average return is {stock_actual_mean}, and CAPM expected return is {CAPM_expected}\")\n",
    "    print(\"\\n\")"
   ]
  },
  {
   "cell_type": "code",
   "execution_count": 20,
   "metadata": {},
   "outputs": [
    {
     "name": "stdout",
     "output_type": "stream",
     "text": [
      "Regression Results for AAPL:\n",
      "market_excess_return   -0.002129\n",
      "smb                     1.004474\n",
      "hml                    -0.491987\n",
      "dtype: float64\n",
      "for AAPL, actual average return is 0.001422002213398059, and CAPM expected return is 0.0013350220281672937\n",
      "\n",
      "\n",
      "Regression Results for MSFT:\n",
      "market_excess_return    0.103845\n",
      "smb                     0.921136\n",
      "hml                     0.424937\n",
      "dtype: float64\n",
      "for MSFT, actual average return is 0.001422002213398059, and CAPM expected return is 0.0011954900265198575\n",
      "\n",
      "\n",
      "Regression Results for GOOGL:\n",
      "market_excess_return   -0.100825\n",
      "smb                     1.073300\n",
      "hml                     0.066674\n",
      "dtype: float64\n",
      "for GOOGL, actual average return is 0.001422002213398059, and CAPM expected return is 0.0012656365197047494\n",
      "\n",
      "\n"
     ]
    },
    {
     "name": "stderr",
     "output_type": "stream",
     "text": [
      "/tmp/ipykernel_2386/3211501656.py:22: FutureWarning: Series.__getitem__ treating keys as positions is deprecated. In a future version, integer keys will always be treated as labels (consistent with DataFrame behavior). To access a value by position, use `ser.iloc[pos]`\n",
      "  Three_model_expected = test_rf + model.params[0] * test_market_excess_return + + model.params[1] * test_smb + + model.params[2] * test_hml\n"
     ]
    }
   ],
   "source": [
    "# Three-factor\n",
    "factors = ['market_excess_return', 'smb', 'hml']\n",
    "results = {}\n",
    "\n",
    "for stock in equity_tickers:\n",
    "    y = TRAIN_df[stock] - TRAIN_df['^IRX']\n",
    "    x = TRAIN_df[factors]\n",
    "    model = sm.OLS(y, x).fit()\n",
    "    results[stock] = model\n",
    "\n",
    "test_rf = TEST_df['^IRX'].mean()\n",
    "test_market_excess_return = TEST_df['market_excess_return'].mean()\n",
    "test_smb = TEST_df['smb'].mean()\n",
    "test_hml = TEST_df['hml'].mean()\n",
    "\n",
    "\n",
    "# Output results\n",
    "for stock, model in results.items():\n",
    "    print(f\"Regression Results for {stock}:\")\n",
    "    # print(model.summary())\n",
    "    print(model.params)\n",
    "    Three_model_expected = test_rf + model.params[0] * test_market_excess_return + + model.params[1] * test_smb + + model.params[2] * test_hml\n",
    "    print(f\"for {stock}, actual average return is {stock_actual_mean}, and CAPM expected return is {Three_model_expected}\")\n",
    "    print(\"\\n\")"
   ]
  },
  {
   "cell_type": "code",
   "execution_count": 17,
   "metadata": {},
   "outputs": [
    {
     "name": "stdout",
     "output_type": "stream",
     "text": [
      "1.0882598082971544\n"
     ]
    },
    {
     "name": "stderr",
     "output_type": "stream",
     "text": [
      "/tmp/ipykernel_2386/2133321700.py:1: FutureWarning: Series.__getitem__ treating keys as positions is deprecated. In a future version, integer keys will always be treated as labels (consistent with DataFrame behavior). To access a value by position, use `ser.iloc[pos]`\n",
      "  alpha = model.params[0]\n"
     ]
    }
   ],
   "source": [
    "alpha = model.params[0]\n",
    "print(alpha)"
   ]
  },
  {
   "cell_type": "code",
   "execution_count": null,
   "metadata": {},
   "outputs": [],
   "source": [
    "# Step 3: Run Regression for Each Stock and Test\n",
    "\n",
    "results = {}\n",
    "factors = ['smb', 'hml', 'market_excess_return']\n",
    "for stock in equity_tickers:\n",
    "    y = merged_df[stock] - merged_df['^IRX']\n",
    "    x = sm.add_constant(merged_df[factors])\n",
    "    model = sm.OLS(y, x).fit()\n",
    "    results[stock] = model\n",
    "\n",
    "# Output results\n",
    "for stock, model in results.items():\n",
    "    print(f\"Regression Results for {stock}:\")\n",
    "    print(model.summary())\n",
    "    print(\"\\n\")"
   ]
  },
  {
   "cell_type": "code",
   "execution_count": 16,
   "metadata": {},
   "outputs": [],
   "source": [
    "all_data = pd.DataFrame(stock_returns).dropna()"
   ]
  },
  {
   "cell_type": "code",
   "execution_count": null,
   "metadata": {},
   "outputs": [],
   "source": [
    "all_data.columns"
   ]
  },
  {
   "cell_type": "code",
   "execution_count": 7,
   "metadata": {},
   "outputs": [],
   "source": [
    "# Calculate market excess return\n",
    "market_excess_return = market_returns - risk_free_rate"
   ]
  },
  {
   "cell_type": "code",
   "execution_count": null,
   "metadata": {},
   "outputs": [],
   "source": [
    "market_excess_return"
   ]
  },
  {
   "cell_type": "code",
   "execution_count": null,
   "metadata": {},
   "outputs": [],
   "source": [
    "risk_free_rate = risk_free_data / 100 / 252\n"
   ]
  },
  {
   "cell_type": "code",
   "execution_count": null,
   "metadata": {},
   "outputs": [],
   "source": [
    "yf.download(['TSLA'], start=start_date, end=end_date)"
   ]
  },
  {
   "cell_type": "code",
   "execution_count": null,
   "metadata": {},
   "outputs": [],
   "source": [
    "IRX"
   ]
  }
 ],
 "metadata": {
  "kernelspec": {
   "display_name": "Python 3",
   "language": "python",
   "name": "python3"
  },
  "language_info": {
   "codemirror_mode": {
    "name": "ipython",
    "version": 3
   },
   "file_extension": ".py",
   "mimetype": "text/x-python",
   "name": "python",
   "nbconvert_exporter": "python",
   "pygments_lexer": "ipython3",
   "version": "3.12.1"
  }
 },
 "nbformat": 4,
 "nbformat_minor": 2
}
