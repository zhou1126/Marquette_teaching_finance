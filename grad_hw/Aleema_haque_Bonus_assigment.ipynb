{
  "metadata": {
    "kernelspec": {
      "name": "python",
      "display_name": "Python (Pyodide)",
      "language": "python"
    },
    "language_info": {
      "codemirror_mode": {
        "name": "python",
        "version": 3
      },
      "file_extension": ".py",
      "mimetype": "text/x-python",
      "name": "python",
      "nbconvert_exporter": "python",
      "pygments_lexer": "ipython3",
      "version": "3.8"
    }
  },
  "nbformat_minor": 5,
  "nbformat": 4,
  "cells": [
    {
      "id": "317a0808-7a4c-474e-8725-c67bc1703811",
      "cell_type": "code",
      "source": "# Step 1:\nimport requests\n\ndef get_cik(ticker):\n    url = f'https://www.sec.gov/files/company_tickers.json'\n    response = requests.get(url)\n    data = response.json()\n    \n    for key, value in data.items():\n        if value['ticker'].lower() == ticker.lower():\n            return str(value['cik_str']).zfill(10)\n\nnvda_cik = get_cik(\"NVDA\")\nintc_cik = get_cik(\"INTC\")\nprint(\"NVDA CIK:\", nvda_cik)\nprint(\"INTC CIK:\", intc_cik)\n\ndef get_10q_links(cik, company_name):\n    headers = {'User-Agent': 'aleema.haque@marquette.edu'}  # Replace with your email\n    url = f'https://data.sec.gov/submissions/CIK{cik}.json'\n    response = requests.get(url, headers=headers)\n    data = response.json()\n\n    forms = data['filings']['recent']\n    links = []\n\n    for i in range(len(forms['form'])):\n        if forms['form'][i] == '10-Q':\n            accession = forms['accessionNumber'][i].replace('-', '')\n            link = f\"https://www.sec.gov/Archives/edgar/data/{int(cik)}/{accession}/index.json\"\n            links.append(link)\n\n    print(f\"\\n{company_name} 10-Q links:\")\n    for l in links:\n        print(l)\n\nget_10q_links(nvda_cik, \"NVIDIA\")\nget_10q_links(intc_cik, \"INTEL\")\n\n",
      "metadata": {
        "trusted": true
      },
      "outputs": [],
      "execution_count": null
    },
    {
      "id": "01461fa7-4cec-4056-806b-9901b6c2ff61",
      "cell_type": "code",
      "source": "# STEP 2/3\nfrom bs4 import BeautifulSoup\n\ndef extract_sections_from_edgar(base_url):\n    index_url = base_url + \"index.json\"\n    index = requests.get(index_url, headers=headers).json()\n\n    html_file = ''\n    for item in index['directory']['item']:\n        if item['name'].endswith('.htm') and '10q' in item['name'].lower():\n            html_file = item['name']\n            break\n    if not html_file:\n        return \"Not found\", \"Not found\"\n\n    html = requests.get(base_url + html_file, headers=headers).text\n    soup = BeautifulSoup(html, 'html.parser')\n    text = soup.get_text().lower()\n\n    # Try to extract by keyword (very basic)\n    mda_start = text.find(\"management’s discussion and analysis\")\n    risk_start = text.find(\"risk factors\")\n\n    mda = text[mda_start:mda_start+3000] if mda_start != -1 else \"Not found\"\n    risk = text[risk_start:risk_start+3000] if risk_start != -1 else \"Not found\"\n\n    return mda, risk\n\n# Use the first recent filing for each company\nnvda_mda, nvda_risk = extract_sections_from_edgar(nvda_links[0])\nintc_mda, intc_risk = extract_sections_from_edgar(intc_links[0])\n\n",
      "metadata": {
        "trusted": true
      },
      "outputs": [
        {
          "ename": "<class 'NameError'>",
          "evalue": "name 'nvda_links' is not defined",
          "traceback": [
            "\u001b[0;31m---------------------------------------------------------------------------\u001b[0m",
            "\u001b[0;31mNameError\u001b[0m                                 Traceback (most recent call last)",
            "Cell \u001b[0;32mIn[4], line 30\u001b[0m\n\u001b[1;32m     27\u001b[0m     \u001b[38;5;28;01mreturn\u001b[39;00m mda, risk\n\u001b[1;32m     29\u001b[0m \u001b[38;5;66;03m# Use the first recent filing for each company\u001b[39;00m\n\u001b[0;32m---> 30\u001b[0m nvda_mda, nvda_risk \u001b[38;5;241m=\u001b[39m extract_sections_from_edgar(\u001b[43mnvda_links\u001b[49m[\u001b[38;5;241m0\u001b[39m])\n\u001b[1;32m     31\u001b[0m intc_mda, intc_risk \u001b[38;5;241m=\u001b[39m extract_sections_from_edgar(intc_links[\u001b[38;5;241m0\u001b[39m])\n",
            "\u001b[0;31mNameError\u001b[0m: name 'nvda_links' is not defined"
          ],
          "output_type": "error"
        }
      ],
      "execution_count": 4
    },
    {
      "id": "7d605dd9-dd55-4e72-8c82-c065c611a45b",
      "cell_type": "code",
      "source": "# STEP 4\nimport openai\n\nopenai.api_key = \"your-openai-api-key\"  # Replace with your OpenAI key\n\ndef summarize_and_analyze(text):\n    prompt = f\"Summarize the following SEC filing text and describe the tone (positive, negative, or neutral):\\n\\n{text}\"\n    \n    response = openai.ChatCompletion.create(\n        model=\"gpt-3.5-turbo\",\n        messages=[{\"role\": \"user\", \"content\": prompt}]\n    )\n    return response['choices'][0]['message']['content']\n\n# Summarize and get tone\nprint(\"🔍 NVIDIA MD&A Summary:\\n\", summarize_and_analyze(nvda_mda))\nprint(\"\\n🔍 Intel MD&A Summary:\\n\", summarize_and_analyze(intc_mda))\n",
      "metadata": {
        "trusted": true
      },
      "outputs": [],
      "execution_count": null
    },
    {
      "id": "36b9bc97-b9f8-4608-bc6d-12523067d280",
      "cell_type": "code",
      "source": "# STEP 5\nimport yfinance as yf\nimport matplotlib.pyplot as plt\n\nnvda = yf.download(\"NVDA\", start=\"2020-01-01\")\nintc = yf.download(\"INTC\", start=\"2020-01-01\")\n\nplt.figure(figsize=(12, 5))\nplt.plot(nvda['Close'], label=\"NVIDIA\", linewidth=2)\nplt.plot(intc['Close'], label=\"Intel\", linewidth=2)\nplt.title(\"Stock Price Comparison (2020–Present)\")\nplt.xlabel(\"Date\")\nplt.ylabel(\"Price (USD)\")\nplt.legend()\nplt.grid(True)\nplt.show()\n",
      "metadata": {
        "trusted": true
      },
      "outputs": [],
      "execution_count": null
    },
    {
      "id": "c87d65e4-d2c1-48a8-88c9-c1b61fa51d66",
      "cell_type": "code",
      "source": "",
      "metadata": {
        "trusted": true
      },
      "outputs": [],
      "execution_count": null
    }
  ]
}