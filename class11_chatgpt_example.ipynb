{
 "cells": [
  {
   "cell_type": "code",
   "execution_count": null,
   "id": "0dfac1a6",
   "metadata": {},
   "outputs": [],
   "source": [
    "from openai import OpenAI\n",
    "\n",
    "# Replace with your actual API key\n",
    "api_key = \"YOUR API KEY\"\n",
    "\n",
    "client = OpenAI(api_key = api_key)\n",
    "\n",
    "response = client.responses.create(\n",
    "    model=\"gpt-4o-mini-2024-07-18\",\n",
    "    input=\"can you explain what an api is?\"\n",
    ")\n",
    "\n",
    "# print(response.output_text)"
   ]
  },
  {
   "cell_type": "code",
   "execution_count": 2,
   "id": "97194950",
   "metadata": {},
   "outputs": [
    {
     "data": {
      "text/plain": [
       "Response(id='resp_67fda3b566148191ba05b7fed549dad602a4b1fde9040eee', created_at=1744675765.0, error=None, incomplete_details=None, instructions=None, metadata={}, model='gpt-4o-mini-2024-07-18', object='response', output=[ResponseOutputMessage(id='msg_67fda3b5bb908191b3be7eb78f366e8e02a4b1fde9040eee', content=[ResponseOutputText(annotations=[], text='Sure! An API, or Application Programming Interface, is a set of rules and protocols that allows different software applications to communicate with each other. Here are some key points to understand about APIs:\\n\\n1. **Interface for Interaction**: APIs define the methods and data formats that applications can use to request and exchange information.\\n\\n2. **Types of APIs**:\\n   - **Web APIs**: Typically used for web applications to communicate over the internet, often using HTTP requests.\\n   - **Library/API Frameworks**: Allow developers to interact with programming libraries.\\n   - **Operating System APIs**: Enable applications to communicate with the operating system functions.\\n\\n3. **Components**:\\n   - **Endpoints**: The specific paths in an API that represent resources or functionalities (e.g., `GET /users` to get a list of users).\\n   - **Requests and Responses**: The way data is sent to and received from the API, usually in formats like JSON or XML.\\n\\n4. **Use Cases**: APIs are used for various purposes, such as accessing data from a database, integrating third-party services (like payment processing), or enabling functionality between different software applications.\\n\\n5. **Benefits**:\\n   - **Modularity**: Encourages a more modular approach to software development.\\n   - **Reusability**: Developers can reuse APIs across different projects, saving time and effort.\\n   - **Scalability**: APIs allow applications to grow and evolve without having to redesign the entire system.\\n\\nIn essence, APIs serve as a bridge that enables different software systems to work together seamlessly.', type='output_text')], role='assistant', status='completed', type='message')], parallel_tool_calls=True, temperature=1.0, tool_choice='auto', tools=[], top_p=1.0, max_output_tokens=None, previous_response_id=None, reasoning=Reasoning(effort=None, generate_summary=None), status='completed', text=ResponseTextConfig(format=ResponseFormatText(type='text')), truncation='disabled', usage=ResponseUsage(input_tokens=15, input_tokens_details=InputTokensDetails(cached_tokens=0), output_tokens=321, output_tokens_details=OutputTokensDetails(reasoning_tokens=0), total_tokens=336), user=None, store=True)"
      ]
     },
     "execution_count": 2,
     "metadata": {},
     "output_type": "execute_result"
    }
   ],
   "source": [
    "response"
   ]
  },
  {
   "cell_type": "code",
   "execution_count": 3,
   "id": "1336f389",
   "metadata": {},
   "outputs": [],
   "source": [
    "output = response.output_text"
   ]
  },
  {
   "cell_type": "code",
   "execution_count": 4,
   "id": "19179a21",
   "metadata": {},
   "outputs": [
    {
     "name": "stdout",
     "output_type": "stream",
     "text": [
      "Sure! An API, or Application Programming Interface, is a set of rules and protocols that allows different software applications to communicate with each other. Here are some key points to understand about APIs:\n",
      "\n",
      "1. **Interface for Interaction**: APIs define the methods and data formats that applications can use to request and exchange information.\n",
      "\n",
      "2. **Types of APIs**:\n",
      "   - **Web APIs**: Typically used for web applications to communicate over the internet, often using HTTP requests.\n",
      "   - **Library/API Frameworks**: Allow developers to interact with programming libraries.\n",
      "   - **Operating System APIs**: Enable applications to communicate with the operating system functions.\n",
      "\n",
      "3. **Components**:\n",
      "   - **Endpoints**: The specific paths in an API that represent resources or functionalities (e.g., `GET /users` to get a list of users).\n",
      "   - **Requests and Responses**: The way data is sent to and received from the API, usually in formats like JSON or XML.\n",
      "\n",
      "4. **Use Cases**: APIs are used for various purposes, such as accessing data from a database, integrating third-party services (like payment processing), or enabling functionality between different software applications.\n",
      "\n",
      "5. **Benefits**:\n",
      "   - **Modularity**: Encourages a more modular approach to software development.\n",
      "   - **Reusability**: Developers can reuse APIs across different projects, saving time and effort.\n",
      "   - **Scalability**: APIs allow applications to grow and evolve without having to redesign the entire system.\n",
      "\n",
      "In essence, APIs serve as a bridge that enables different software systems to work together seamlessly.\n"
     ]
    }
   ],
   "source": [
    "print(output)"
   ]
  },
  {
   "cell_type": "code",
   "execution_count": null,
   "id": "732df584",
   "metadata": {},
   "outputs": [],
   "source": []
  }
 ],
 "metadata": {
  "kernelspec": {
   "display_name": "Python 3",
   "language": "python",
   "name": "python3"
  },
  "language_info": {
   "codemirror_mode": {
    "name": "ipython",
    "version": 3
   },
   "file_extension": ".py",
   "mimetype": "text/x-python",
   "name": "python",
   "nbconvert_exporter": "python",
   "pygments_lexer": "ipython3",
   "version": "3.12.1"
  }
 },
 "nbformat": 4,
 "nbformat_minor": 5
}
