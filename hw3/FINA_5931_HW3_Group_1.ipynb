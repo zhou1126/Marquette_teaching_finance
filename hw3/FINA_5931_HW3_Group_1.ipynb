{
  "cells": [
    {
      "cell_type": "markdown",
      "metadata": {
        "id": "orpF8RSTdnMr"
      },
      "source": [
        "**Group 1:Jay Capozzoli, Sufyan Haroon, Noah Severin**"
      ]
    },
    {
      "cell_type": "markdown",
      "metadata": {
        "id": "8XOUKaeK3YZs"
      },
      "source": [
        "\n",
        "\n",
        "Objective\n",
        "In this assignment, you will work with the \"used car\" dataset, applying data cleansing, linear regression, and K-Nearest Neighbors (KNN) regression to predict car prices.\n",
        "\n",
        "**Part 1**\n",
        "\n",
        "Tasks:\n",
        "\n",
        "1. Fix Data Issues\n",
        "    \n",
        "    Correct the typo: rename the column \"milage\" to \"mileage\".\n",
        "2. Convert Numerical Variables\n",
        "      \n",
        "    Ensure \"mileage\" and \"model_year\" are treated as numerical variables.\n",
        "3. Encode Categorical Variables\n",
        "    \n",
        "    Apply one-hot encoding to the categorical columns:    \n",
        "      1. \"fuel_type\"\n",
        "      2. \"clean_title\"\n",
        "      3. \"engine\"\n",
        "      4. \"transmission\"\n",
        "      5. \"ext_col\" (exterior color)\n",
        "      6. \"int_col\" (interior color)\n",
        "4. Remove Anomalies\n",
        "    \n",
        "    Identify and handle any anomalies or outliers in the dataset."
      ]
    },
    {
      "cell_type": "code",
      "execution_count": null,
      "metadata": {
        "colab": {
          "base_uri": "https://localhost:8080/"
        },
        "id": "YyfaJRB-Y0uS",
        "outputId": "f15afe9b-11d9-450f-f014-02d33c717b3a"
      },
      "outputs": [],
      "source": [
        "import pandas as pd\n",
        "import numpy as np\n",
        "\n",
        "# Load dataset\n",
        "used_car_df = pd.read_csv('used_cars.csv')\n",
        "\n",
        "# Fix column name (Correcting typo)\n",
        "used_car_df.rename(columns={\"milage\": \"mileage\"}, inplace=True)\n",
        "\n",
        "# Convert numerical columns\n",
        "used_car_df[\"mileage\"] = used_car_df[\"mileage\"].str.replace(',', '').str.replace(' mi.', '').astype(int)\n",
        "used_car_df[\"price\"] = used_car_df[\"price\"].str.replace(',', '').str.replace('$', '').astype(int)\n",
        "used_car_df[\"model_year\"] = used_car_df[\"model_year\"].astype(int)\n",
        "\n",
        "# Define categorical columns to encode explicitly\n",
        "categorical_cols = [\"fuel_type\", \"clean_title\", \"engine\", \"transmission\", \"ext_col\", \"int_col\"]\n",
        "\n",
        "# Apply one-hot encoding to specific categorical columns\n",
        "used_car_df = pd.get_dummies(used_car_df, columns=categorical_cols, drop_first=True)\n",
        "\n",
        "# Remove anomalies (outliers)\n",
        "used_car_df = used_car_df[(used_car_df['price'] > 0) & (used_car_df['price'] < 300000)]\n",
        "used_car_df = used_car_df[(used_car_df['mileage'] > 0) & (used_car_df['mileage'] < 250000)]\n",
        "\n",
        "print(f\"Dataset size after preprocessing: {used_car_df.shape[0]} rows\")"
      ]
    },
    {
      "cell_type": "markdown",
      "metadata": {
        "id": "p7gUP4hcd9OK"
      },
      "source": [
        "**Part 2: Linear Regression Model**\n",
        "\n",
        "Tasks:\n",
        "1. Feature Selection\n",
        "  1. Use \"mileage\", \"model_year\", and all one-hot encoded features as independent variables.\n",
        "  2. The dependent variable is \"price\".\n",
        "\n",
        "2. Train-Test Split\n",
        "  1. Split the dataset into 80% training and 20% testing.\n",
        "\n",
        "3. Train Linear Regression Model\n",
        "  1. Fit a linear regression model using the training data.\n",
        "\n",
        "4. Evaluate the Model\n",
        "  1. Calculate and report the Root Mean Squared Error (RMSE) on the test data.\n",
        "\n",
        "5. Visualization\n",
        "  1. Plot a scatter chart with:\n",
        "\n",
        "    A. X-axis: \"mileage\"\n",
        "\n",
        "    B. Y-axis: \"price\"\n",
        "\n",
        "    C. Differentiate actual vs. predicted prices."
      ]
    },
    {
      "cell_type": "code",
      "execution_count": null,
      "metadata": {
        "colab": {
          "base_uri": "https://localhost:8080/",
          "height": 562
        },
        "id": "hb5NRCycZRNU",
        "outputId": "6b8519c1-1f44-4d23-8e2b-4a14634791c2"
      },
      "outputs": [],
      "source": [
        "from sklearn.model_selection import train_test_split\n",
        "from sklearn.linear_model import LinearRegression\n",
        "from sklearn.metrics import mean_squared_error\n",
        "import matplotlib.pyplot as plt\n",
        "\n",
        "# Feature Selection: Exclude \"price\" and drop any non-numeric columns\n",
        "X = used_car_df.drop(columns=[\"price\"]).select_dtypes(include=[np.number])\n",
        "y = used_car_df[\"price\"]\n",
        "\n",
        "# Train-Test Split (80% train, 20% test)\n",
        "X_train, X_test, y_train, y_test = train_test_split(X, y, test_size=0.2, random_state=42)\n",
        "\n",
        "# Train Linear Regression Model\n",
        "model = LinearRegression()\n",
        "model.fit(X_train, y_train)\n",
        "\n",
        "# Predict and Evaluate the Model\n",
        "y_pred = model.predict(X_test)\n",
        "rmse = np.sqrt(mean_squared_error(y_test, y_pred))\n",
        "print(f\"Linear Regression Root Mean Squared Error (RMSE): {rmse:.2f}\")\n",
        "\n",
        "# Visualization (Actual vs. Predicted Prices for Linear Regression)\n",
        "plt.figure(figsize=(10, 6))\n",
        "\n",
        "# Actual Prices\n",
        "plt.scatter(X_test[\"mileage\"], y_test, color=\"blue\", label=\"Actual Prices\", alpha=0.5, edgecolors='k')\n",
        "\n",
        "# Predicted Prices\n",
        "plt.scatter(X_test[\"mileage\"], y_pred, color=\"red\", label=\"Predicted Prices\", alpha=0.5, edgecolors='k')\n",
        "\n",
        "plt.xlabel(\"Mileage\")\n",
        "plt.ylabel(\"Price\")\n",
        "plt.title(\"Actual vs Predicted Prices (Linear Regression)\")\n",
        "plt.legend()\n",
        "plt.grid(True, linestyle=\"--\", alpha=0.7)\n",
        "plt.show()"
      ]
    },
    {
      "cell_type": "markdown",
      "metadata": {
        "id": "RE-qk2C43D48"
      },
      "source": [
        "**Part 3: K-Nearest Neighbors (KNN) Regression**\n",
        "Tasks:\n",
        "1. Train KNN Model\n",
        "  1. Use the same independent variables as in Part 2\n",
        "  2. Choose an appropriate value for k (e.g., 3, 5, or 7).\n",
        "\n",
        "2. Evaluate the Model\n",
        "  1. Calculate and report the RMSE on the test data.\n",
        "\n",
        "3. Visualization\n",
        "  1. Plot a scatter chart with:\n",
        "\n",
        "    A. X-axis: \"mileage\"\n",
        "\n",
        "    B. Y-axis: \"price\"\n",
        "    \n",
        "    C. Differentiate actual vs. predicted prices."
      ]
    },
    {
      "cell_type": "code",
      "execution_count": null,
      "metadata": {
        "colab": {
          "base_uri": "https://localhost:8080/",
          "height": 563
        },
        "id": "Ep9TOxGyZaIO",
        "outputId": "39a9d0d2-cdfd-4994-9533-009711ca56ed"
      },
      "outputs": [],
      "source": [
        "from sklearn.preprocessing import StandardScaler\n",
        "from sklearn.neighbors import KNeighborsRegressor\n",
        "\n",
        "# Feature Scaling for KNN\n",
        "scaler = StandardScaler()\n",
        "X_train_scaled = scaler.fit_transform(X_train)\n",
        "X_test_scaled = scaler.transform(X_test)\n",
        "\n",
        "# Train KNN Model (Choose k = 7 as default, but can change to 3, 5, 7, etc.)\n",
        "k = 7\n",
        "knn = KNeighborsRegressor(n_neighbors=k)\n",
        "knn.fit(X_train_scaled, y_train)\n",
        "\n",
        "# Predict and Evaluate the Model\n",
        "y_pred_knn = knn.predict(X_test_scaled)\n",
        "rmse_knn = np.sqrt(mean_squared_error(y_test, y_pred_knn))\n",
        "print(f\"KNN Root Mean Squared Error (RMSE): {rmse_knn:.2f}\")\n",
        "\n",
        "# Visualization (Actual vs. Predicted Prices for KNN)\n",
        "plt.figure(figsize=(10, 6))\n",
        "\n",
        "# Actual Prices\n",
        "plt.scatter(X_test[\"mileage\"], y_test, color=\"blue\", label=\"Actual Prices\", alpha=0.5, edgecolors='k')\n",
        "\n",
        "# Predicted Prices\n",
        "plt.scatter(X_test[\"mileage\"], y_pred_knn, color=\"green\", label=\"Predicted Prices (KNN)\", alpha=0.5, edgecolors='k')\n",
        "\n",
        "plt.xlabel(\"Mileage\")\n",
        "plt.ylabel(\"Price\")\n",
        "plt.title(f\"Actual vs Predicted Prices (KNN, k={k})\")\n",
        "plt.legend()\n",
        "plt.grid(True, linestyle=\"--\", alpha=0.7)\n",
        "plt.show()"
      ]
    }
  ],
  "metadata": {
    "colab": {
      "provenance": []
    },
    "kernelspec": {
      "display_name": "Python 3",
      "name": "python3"
    },
    "language_info": {
      "name": "python"
    }
  },
  "nbformat": 4,
  "nbformat_minor": 0
}
