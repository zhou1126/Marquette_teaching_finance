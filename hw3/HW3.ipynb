{
  "cells": [
    {
      "cell_type": "markdown",
      "metadata": {
        "id": "RCwaGrDtOKAR"
      },
      "source": [
        "Patrick Hollenbach & William Halm\n",
        "Finance 4931/5931 HW3"
      ]
    },
    {
      "cell_type": "code",
      "execution_count": null,
      "metadata": {
        "id": "7pE9RKhZODLd"
      },
      "outputs": [],
      "source": [
        "import pandas as pd\n",
        "import matplotlib.pyplot as plt\n",
        "import seaborn as sns\n",
        "import numpy as np\n",
        "from sklearn.linear_model import LinearRegression\n",
        "from sklearn.neighbors import KNeighborsRegressor\n",
        "from sklearn.model_selection import train_test_split\n",
        "from sklearn.metrics import mean_squared_error\n",
        "import math\n"
      ]
    },
    {
      "cell_type": "code",
      "execution_count": null,
      "metadata": {
        "id": "B0HgdAOlOpoz"
      },
      "outputs": [],
      "source": [
        "used_car_df = pd.read_csv('used_cars.csv')"
      ]
    },
    {
      "cell_type": "code",
      "execution_count": null,
      "metadata": {
        "colab": {
          "base_uri": "https://localhost:8080/",
          "height": 538
        },
        "id": "wtv5mtA0Oql_",
        "outputId": "dc4528d7-5f94-4293-b309-ebd33909cc34"
      },
      "outputs": [],
      "source": [
        "used_car_df.head()"
      ]
    },
    {
      "cell_type": "code",
      "execution_count": null,
      "metadata": {
        "colab": {
          "base_uri": "https://localhost:8080/"
        },
        "id": "tqNs6zluOs0j",
        "outputId": "80488864-3171-44cb-c7d7-429429946f1e"
      },
      "outputs": [],
      "source": [
        "#1.1 Correct typo\n",
        "#lowercase and remove spaces\n",
        "used_car_df.columns = [col.strip().lower() for col in used_car_df.columns]\n",
        "#rename to mileage\n",
        "used_car_df.rename(columns={'milage': 'mileage'}, inplace=True)\n",
        "#verify\n",
        "print(used_car_df.columns.tolist())"
      ]
    },
    {
      "cell_type": "code",
      "execution_count": null,
      "metadata": {
        "id": "qLAVuWa2PYli"
      },
      "outputs": [],
      "source": [
        "#1.2 Treat mileage and model_year as numbers\n",
        "used_car_df['mileage_num'] = used_car_df['mileage'].str.extract(r'([\\d,]+)')[0].str.replace(',', '').astype(float)\n",
        "used_car_df['price_num'] = used_car_df['price'].str.extract(r'([\\d,]+)')[0].str.replace(',', '').astype(float)"
      ]
    },
    {
      "cell_type": "code",
      "execution_count": null,
      "metadata": {
        "id": "3geHOdugPn_n"
      },
      "outputs": [],
      "source": [
        "#1.3 Encode categorical variables\n",
        "categorical_columns = ['fuel_type', 'clean_title', 'engine', 'transmission', 'ext_col', 'int_col']\n",
        "used_car_df = pd.get_dummies(used_car_df, columns=categorical_columns, drop_first=True)"
      ]
    },
    {
      "cell_type": "code",
      "execution_count": null,
      "metadata": {
        "colab": {
          "base_uri": "https://localhost:8080/"
        },
        "id": "JpZHGnetP4fF",
        "outputId": "1605ac9f-3a47-4398-f5bf-494131452cfc"
      },
      "outputs": [],
      "source": [
        "#1.4 Remove anomolies\n",
        "print(f'before getting rid of anomalies, there are {used_car_df.shape[0]} rows')\n",
        "used_car_df = used_car_df[(used_car_df['price_num'] < 300000) & (used_car_df['mileage_num'] < 250000) ]\n",
        "used_car_df = used_car_df[(used_car_df['price_num'] > 0) & (used_car_df['mileage_num'] > 0) ]\n",
        "print(f'after getting rid of anomalies, there are {used_car_df.shape[0]} rows')"
      ]
    },
    {
      "cell_type": "code",
      "execution_count": null,
      "metadata": {
        "id": "L1nrd7NzQMMv"
      },
      "outputs": [],
      "source": [
        "#2.1 Linear Regression Model - Feature Selection\n",
        "X = used_car_df[['mileage_num', 'model_year']+ [col for col in used_car_df.columns if col.startswith(tuple(categorical_columns))]]\n",
        "y = used_car_df['price_num']"
      ]
    },
    {
      "cell_type": "code",
      "execution_count": null,
      "metadata": {
        "id": "31P47jmJQdPA"
      },
      "outputs": [],
      "source": [
        "#2.2 Split data set - 80% training 20% testing\n",
        "X_train, X_test, y_train, y_test = train_test_split(X, y, test_size=0.2, random_state=42)\n"
      ]
    },
    {
      "cell_type": "code",
      "execution_count": null,
      "metadata": {
        "colab": {
          "base_uri": "https://localhost:8080/",
          "height": 80
        },
        "id": "56b_7zziQpWN",
        "outputId": "43e725d4-f794-4c8b-bca7-dc42d0a19bc5"
      },
      "outputs": [],
      "source": [
        "#2.3 Train linear regression model\n",
        "model = LinearRegression()\n",
        "model.fit(X_train, y_train)"
      ]
    },
    {
      "cell_type": "code",
      "execution_count": null,
      "metadata": {
        "colab": {
          "base_uri": "https://localhost:8080/"
        },
        "id": "Cg2ybXo0Rn8R",
        "outputId": "78ff2546-d00c-4963-f94d-12e49b4b48f9"
      },
      "outputs": [],
      "source": [
        "#2.4 Evaluate the model -RMSE\n",
        "y_pred = model.predict(X_test)\n",
        "rmse = math.sqrt(mean_squared_error(y_test, y_pred))\n",
        "print(f'RMSE: {rmse}')\n"
      ]
    },
    {
      "cell_type": "code",
      "execution_count": null,
      "metadata": {
        "colab": {
          "base_uri": "https://localhost:8080/",
          "height": 539
        },
        "id": "ZT-LE8udR1us",
        "outputId": "3d364952-73d4-4989-967c-c0dc6ff2e402"
      },
      "outputs": [],
      "source": [
        "#2.5 Visualization\n",
        "plt.figure(figsize=(8, 6))\n",
        "\n",
        "plt.scatter(X_test['mileage_num'], y_test, label=\"Actual Price\", color='blue', alpha=0.6)\n",
        "plt.scatter(X_test['mileage_num'], y_pred, label=\"Predicted Price\", color='red', alpha=0.6)\n",
        "\n",
        "plt.xlabel('Mileage')\n",
        "plt.ylabel('Price')\n",
        "plt.title('Actual vs Predicted Prices')\n",
        "plt.legend()\n",
        "plt.grid(True)\n",
        "plt.show()"
      ]
    },
    {
      "cell_type": "code",
      "execution_count": null,
      "metadata": {
        "colab": {
          "base_uri": "https://localhost:8080/",
          "height": 489
        },
        "id": "Sdjy17EOUeLM",
        "outputId": "f912772f-ef06-4797-af55-ed1bd308d00b"
      },
      "outputs": [],
      "source": [
        "#3.1 KNN Regression\n",
        "# Choose a k\n",
        "k = 5\n",
        "\n",
        "# Create and train KNN model\n",
        "knn = KNeighborsRegressor(n_neighbors=k)\n",
        "knn.fit(X_train, y_train)\n",
        "\n",
        "# Generate predictions\n",
        "mileage_range = np.linspace(X.min(), X.max(), 100).reshape(-1, 1)\n",
        "y_knn_pred = knn.predict(X_test)\n",
        "\n",
        "#3.2 RMSE\n",
        "knn_rmse = math.sqrt(mean_squared_error(y_test, y_knn_pred))\n",
        "print(f'KNN RMSE: {knn_rmse}')\n",
        "\n",
        "#3.3 Visualization\n",
        "plt.scatter(X_test['mileage_num'], y_test, label=\"Actual Price\", color='blue', alpha=0.6)\n",
        "plt.scatter(X_test['mileage_num'], y_knn_pred, label=f\"KNN Predicted Price (k={k})\", color='red', alpha=0.6)\n",
        "\n",
        "plt.xlabel('Mileage')\n",
        "plt.ylabel('Price')\n",
        "plt.title('Actual vs Predicted Prices')\n",
        "plt.legend()\n",
        "plt.grid(True)\n",
        "plt.show()"
      ]
    }
  ],
  "metadata": {
    "colab": {
      "provenance": []
    },
    "kernelspec": {
      "display_name": "Python 3",
      "name": "python3"
    },
    "language_info": {
      "name": "python"
    }
  },
  "nbformat": 4,
  "nbformat_minor": 0
}
