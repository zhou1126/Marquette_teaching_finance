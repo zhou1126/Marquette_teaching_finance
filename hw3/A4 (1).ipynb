{
 "cells": [
  {
   "cell_type": "code",
   "execution_count": 27,
   "metadata": {},
   "outputs": [],
   "source": [
    "import yfinance as yf\n",
    "import pandas as pd\n",
    "\n",
    "# Define the ticker symbol for NVDA\n",
    "ticker_symbol = 'NVDA'\n",
    "\n",
    "# Download the data using yfinance\n",
    "nvda_data = yf.download(ticker_symbol, start='2024-01-01', end='2024-12-31')\n",
    "\n",
    "# Display the first few rows\n",
    "print(nvda_data.head())\n",
    "\n",
    "# Save to CSV\n",
    "nvda_data.to_csv('nvda_data.csv')\n",
    "print(\"NVDA daily price data saved to 'nvda_data.csv'.\")"
   ]
  },
  {
   "cell_type": "code",
   "execution_count": 28,
   "metadata": {},
   "outputs": [],
   "source": [
    "!pip install prophet\n"
   ]
  },
  {
   "cell_type": "code",
   "execution_count": 29,
   "metadata": {},
   "outputs": [],
   "source": [
    "import pandas as pd\n",
    "from prophet import Prophet\n",
    "import matplotlib.pyplot as plt\n"
   ]
  },
  {
   "cell_type": "code",
   "execution_count": 30,
   "metadata": {},
   "outputs": [],
   "source": [
    "# Assuming you have the data stored in a CSV\n",
    "# df = pd.read_csv('nvda_data.csv')\n",
    "\n",
    "# Sample data preparation (assuming you have a dataframe with 'Date' and 'Close')\n",
    "df = pd.DataFrame({\n",
    "    'ds': ['2024-01-01', '2024-01-02', '2024-01-03'],  # Replace with your dates\n",
    "    'y': [160.45, 162.33, 163.20]  # Replace with your stock prices\n",
    "})\n",
    "\n",
    "# Ensure the 'ds' column is of datetime type\n",
    "df['ds'] = pd.to_datetime(df['ds'])\n"
   ]
  },
  {
   "cell_type": "code",
   "execution_count": 31,
   "metadata": {},
   "outputs": [],
   "source": [
    "# Initialize the Prophet model\n",
    "model = Prophet()\n",
    "\n",
    "# Fit the model on the data\n",
    "model.fit(df)\n"
   ]
  },
  {
   "cell_type": "code",
   "execution_count": 32,
   "metadata": {},
   "outputs": [],
   "source": [
    "!pip install yfinance prophet matplotlib\n"
   ]
  },
  {
   "cell_type": "code",
   "execution_count": 33,
   "metadata": {},
   "outputs": [],
   "source": [
    "import yfinance as yf\n",
    "import pandas as pd\n",
    "from prophet import Prophet\n",
    "import matplotlib.pyplot as plt\n"
   ]
  },
  {
   "cell_type": "code",
   "execution_count": 34,
   "metadata": {},
   "outputs": [],
   "source": [
    "# Download historical stock data for NVDA\n",
    "df = yf.download('NVDA', start='2010-01-01', end='2024-12-31')\n",
    "df = df[['Close']].reset_index()\n",
    "df.columns = ['ds', 'y']  # Rename columns for Prophet\n"
   ]
  },
  {
   "cell_type": "code",
   "execution_count": 35,
   "metadata": {},
   "outputs": [],
   "source": [
    "# Initialize the Prophet model\n",
    "model = Prophet(daily_seasonality=True)\n",
    "\n",
    "# Fit the model to the historical data\n",
    "model.fit(df)\n"
   ]
  },
  {
   "cell_type": "code",
   "execution_count": 36,
   "metadata": {},
   "outputs": [],
   "source": [
    "import prophet\n",
    "print(prophet.__version__)\n"
   ]
  },
  {
   "cell_type": "code",
   "execution_count": 37,
   "metadata": {},
   "outputs": [],
   "source": [
    "future = model.make_future_dataframe(df, periods=60, freq='D', include_history=False)\n"
   ]
  },
  {
   "cell_type": "code",
   "execution_count": 38,
   "metadata": {},
   "outputs": [],
   "source": [
    "import pandas as pd\n",
    "\n",
    "# Define the period for forecasting\n",
    "forecast_periods = 60\n",
    "\n",
    "# Generate future dates\n",
    "last_date = df['ds'].max()\n",
    "future_dates = pd.date_range(start=last_date, periods=forecast_periods + 1, freq='D')[1:]\n",
    "\n",
    "# Create a DataFrame with future dates\n",
    "future = pd.DataFrame({'ds': future_dates})\n"
   ]
  },
  {
   "cell_type": "code",
   "execution_count": 39,
   "metadata": {},
   "outputs": [],
   "source": [
    "forecast = model.predict(future)\n"
   ]
  },
  {
   "cell_type": "code",
   "execution_count": 40,
   "metadata": {},
   "outputs": [],
   "source": [
    "fig = model.plot(forecast)\n",
    "plt.xlabel('Date')\n",
    "plt.ylabel('Predicted Closing Price (USD)')\n",
    "plt.title('NVDA Stock Price Forecast for Jan-Feb 2025')\n",
    "plt.show()\n"
   ]
  },
  {
   "cell_type": "code",
   "execution_count": 43,
   "metadata": {},
   "outputs": [],
   "source": [
    "import pandas as pd\n",
    "from sklearn.metrics import mean_squared_error\n"
   ]
  },
  {
   "cell_type": "code",
   "execution_count": 44,
   "metadata": {},
   "outputs": [],
   "source": [
    "# Ensure 'ds' is datetime type\n",
    "df['ds'] = pd.to_datetime(df['ds'])\n"
   ]
  },
  {
   "cell_type": "code",
   "execution_count": 45,
   "metadata": {},
   "outputs": [],
   "source": [
    "forecast = model.predict(df)\n"
   ]
  },
  {
   "cell_type": "code",
   "execution_count": 46,
   "metadata": {},
   "outputs": [],
   "source": [
    "mse = mean_squared_error(df['y'], forecast['yhat'])\n",
    "print(f'Mean Squared Error: {mse}')\n"
   ]
  }
 ],
 "metadata": {
  "kernelspec": {
   "display_name": "Python 3 (ipykernel)",
   "language": "python",
   "name": "python3"
  }
 },
 "nbformat": 4,
 "nbformat_minor": 2
}
