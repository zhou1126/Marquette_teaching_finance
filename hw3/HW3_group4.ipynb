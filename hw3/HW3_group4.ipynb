{
 "cells": [
  {
   "cell_type": "code",
   "execution_count": null,
   "metadata": {},
   "outputs": [],
   "source": [
    "import pandas as pd\n",
    "import numpy as np\n",
    "import matplotlib.pyplot as plt\n",
    "\n",
    "from sklearn.model_selection import train_test_split\n",
    "from sklearn.preprocessing import StandardScaler\n",
    "from sklearn.linear_model import Ridge\n",
    "from sklearn.neighbors import KNeighborsRegressor\n",
    "from sklearn.metrics import mean_squared_error\n",
    "\n",
    "df = pd.read_csv(r\"C:\\Users\\jaden\\Downloads\\used_cars.csv\") \n",
    "\n",
    "\n",
    "\n"
   ]
  },
  {
   "cell_type": "code",
   "execution_count": null,
   "metadata": {},
   "outputs": [],
   "source": [
    "df['milage'] = df['milage'].str.replace(\",\", \"\", regex=False)\n",
    "df['milage'] = df['milage'].str.replace(r\"\\s*mi\\.?\", \"\", regex=True)\n",
    "df['milage'] = pd.to_numeric(df['milage'], errors='coerce')\n"
   ]
  },
  {
   "cell_type": "code",
   "execution_count": null,
   "metadata": {},
   "outputs": [],
   "source": [
    "df['price'] = df['price'].str.replace(\"$\", \"\", regex=False)\n",
    "df['price'] = df['price'].str.replace(\",\", \"\", regex=False)\n",
    "df['price'] = pd.to_numeric(df['price'], errors='coerce')"
   ]
  },
  {
   "cell_type": "code",
   "execution_count": null,
   "metadata": {},
   "outputs": [],
   "source": [
    "df['model_year'] = pd.to_numeric(df['model_year'], errors='coerce')"
   ]
  },
  {
   "cell_type": "code",
   "execution_count": null,
   "metadata": {},
   "outputs": [],
   "source": [
    "df.dropna(subset=['milage', 'model_year', 'price'], inplace=True)\n",
    "print(\"Data shape after dropping NaNs:\", df.shape)"
   ]
  },
  {
   "cell_type": "code",
   "execution_count": null,
   "metadata": {},
   "outputs": [],
   "source": [
    "top_brands = df['brand'].value_counts().nlargest(10).index\n",
    "df.loc[~df['brand'].isin(top_brands), 'brand'] = 'Other'"
   ]
  },
  {
   "cell_type": "code",
   "execution_count": null,
   "metadata": {},
   "outputs": [],
   "source": [
    "if 'engine' in df.columns:\n",
    "    df.drop(columns=['engine'], inplace=True)"
   ]
  },
  {
   "cell_type": "code",
   "execution_count": null,
   "metadata": {},
   "outputs": [],
   "source": [
    "categorical_cols = ['brand', 'fuel_type', 'clean_title', 'transmission', 'ext_col', 'int_col']\n",
    "cols_to_encode = [col for col in categorical_cols if col in df.columns]\n",
    "df = pd.get_dummies(df, columns=cols_to_encode, drop_first=False)\n",
    "print(\"Data shape after one-hot encoding:\", df.shape)"
   ]
  },
  {
   "cell_type": "code",
   "execution_count": null,
   "metadata": {},
   "outputs": [],
   "source": [
    "Q1 = df['price'].quantile(0.25)\n",
    "Q3 = df['price'].quantile(0.75)\n",
    "IQR = Q3 - Q1\n",
    "multiplier = 1.5\n",
    "lower_bound = Q1 - multiplier * IQR\n",
    "upper_bound = Q3 + multiplier * IQR\n",
    "\n",
    "df = df[(df['price'] >= lower_bound) & (df['price'] <= upper_bound)]\n",
    "print(\"Data shape after removing outliers:\", df.shape)"
   ]
  },
  {
   "cell_type": "code",
   "execution_count": null,
   "metadata": {},
   "outputs": [],
   "source": [
    "y = df['price']\n",
    "\n",
    "\n",
    "excluded_cols = ['price', 'model', 'accident']\n",
    "feature_cols = [col for col in df.columns if col not in excluded_cols]\n",
    "\n",
    "X = df[feature_cols]\n",
    "print(\"Final feature count:\", len(feature_cols))"
   ]
  },
  {
   "cell_type": "code",
   "execution_count": null,
   "metadata": {},
   "outputs": [],
   "source": [
    "X_train, X_test, y_train, y_test = train_test_split(\n",
    "    X, y,\n",
    "    test_size=0.2,\n",
    "    random_state=42\n",
    ")\n",
    "print(\"Train shape:\", X_train.shape, \"Test shape:\", X_test.shape)"
   ]
  },
  {
   "cell_type": "code",
   "execution_count": null,
   "metadata": {},
   "outputs": [],
   "source": [
    "scaler = StandardScaler()\n",
    "X_train_scaled = scaler.fit_transform(X_train)\n",
    "X_test_scaled = scaler.transform(X_test)"
   ]
  },
  {
   "cell_type": "code",
   "execution_count": null,
   "metadata": {},
   "outputs": [],
   "source": [
    "ridge_reg = Ridge(alpha=1.0) \n",
    "ridge_reg.fit(X_train_scaled, y_train)\n",
    "\n",
    "y_pred_ridge = ridge_reg.predict(X_test_scaled)\n",
    "mse_ridge = mean_squared_error(y_test, y_pred_ridge)\n",
    "rmse_ridge = np.sqrt(mse_ridge)\n",
    "print(f\"Ridge Regression RMSE: {rmse_ridge:.2f}\")\n",
    "\n",
    "plt.figure(figsize=(8,6))\n",
    "plt.scatter(X_test['milage'], y_test, alpha=0.5, label='Actual Price')\n",
    "plt.scatter(X_test['milage'], y_pred_ridge, alpha=0.5, label='Predicted (Ridge)')\n",
    "plt.xlabel('Mileage')\n",
    "plt.ylabel('Price')\n",
    "plt.title('Ridge Regression: Actual vs. Predicted')\n",
    "plt.legend()\n",
    "plt.show()"
   ]
  },
  {
   "cell_type": "code",
   "execution_count": null,
   "metadata": {},
   "outputs": [],
   "source": [
    "knn_reg = KNeighborsRegressor(n_neighbors=5)\n",
    "knn_reg.fit(X_train_scaled, y_train)\n",
    "\n",
    "y_pred_knn = knn_reg.predict(X_test_scaled)\n",
    "mse_knn = mean_squared_error(y_test, y_pred_knn)\n",
    "rmse_knn = np.sqrt(mse_knn)\n",
    "print(f\"KNN Regression RMSE: {rmse_knn:.2f}\")\n",
    "\n",
    "# Visualize\n",
    "plt.figure(figsize=(8,6))\n",
    "plt.scatter(X_test['milage'], y_test, alpha=0.5, label='Actual Price')\n",
    "plt.scatter(X_test['milage'], y_pred_knn, alpha=0.5, label='Predicted (KNN)')\n",
    "plt.xlabel('Mileage')\n",
    "plt.ylabel('Price')\n",
    "plt.title('KNN Regression: Actual vs. Predicted')\n",
    "plt.legend()\n",
    "plt.show()"
   ]
  }
 ],
 "metadata": {
  "kernelspec": {
   "display_name": "base",
   "language": "python",
   "name": "python3"
  },
  "language_info": {
   "codemirror_mode": {
    "name": "ipython",
    "version": 3
   },
   "file_extension": ".py",
   "mimetype": "text/x-python",
   "name": "python",
   "nbconvert_exporter": "python",
   "pygments_lexer": "ipython3",
   "version": "3.11.5"
  }
 },
 "nbformat": 4,
 "nbformat_minor": 2
}
