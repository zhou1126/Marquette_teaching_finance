{
  "cells": [
    {
      "cell_type": "markdown",
      "metadata": {
        "id": "3FepeIRuAJd6"
      },
      "source": [
        "# Task\n",
        " In this assignment, we will work with the used car dataset, applying data\n",
        " cleansing, linear regression, and K-Nearest Neighbors regression to\n",
        " predict car prices."
      ]
    },
    {
      "cell_type": "markdown",
      "metadata": {
        "id": "B9Ge7V4iAJtx"
      },
      "source": [
        "## Data loading\n"
      ]
    },
    {
      "cell_type": "code",
      "execution_count": null,
      "metadata": {
        "colab": {
          "base_uri": "https://localhost:8080/",
          "height": 293
        },
        "id": "-jvdCTv0AKNf",
        "outputId": "cdb81b8f-be30-4e58-e205-69be45170ec6"
      },
      "outputs": [],
      "source": [
        "import pandas as pd\n",
        "\n",
        "try:\n",
        "    df = pd.read_csv('used_cars.csv')\n",
        "    display(df.head())\n",
        "except FileNotFoundError:\n",
        "    print(\"Error: 'used_cars.csv' not found.\")\n",
        "    df = None"
      ]
    },
    {
      "cell_type": "markdown",
      "metadata": {
        "id": "qLLi9ca7ANr7"
      },
      "source": [
        "## Data cleaning\n"
      ]
    },
    {
      "cell_type": "code",
      "execution_count": null,
      "metadata": {
        "colab": {
          "base_uri": "https://localhost:8080/",
          "height": 276
        },
        "id": "OVG700wvAOvv",
        "outputId": "14589273-5ee4-4a5d-8229-556efcae8a80"
      },
      "outputs": [],
      "source": [
        "import numpy as np\n",
        "\n",
        "# Rename the 'milage' column to 'mileage'\n",
        "df = df.rename(columns={'milage': 'mileage'})\n",
        "\n",
        "# Convert 'mileage' and 'model_year' to numeric, handling errors\n",
        "for col in ['mileage', 'model_year']:\n",
        "    df[col] = pd.to_numeric(df[col].astype(str).str.replace(r'[^\\d.]', '', regex=True), errors='coerce')\n",
        "\n",
        "# Fill NaN values in 'mileage' and 'model_year' with the median\n",
        "for col in ['mileage', 'model_year']:\n",
        "    median_value = df[col].median()\n",
        "    df[col] = df[col].fillna(median_value)\n",
        "\n",
        "# Handle missing values in other columns (simple imputation for demonstration)\n",
        "for col in df.columns:\n",
        "    if df[col].isnull().any():\n",
        "        if df[col].dtype == 'object':\n",
        "            df[col] = df[col].fillna(df[col].mode()[0])\n",
        "        else:\n",
        "            df[col] = df[col].fillna(df[col].mean())\n",
        "\n",
        "# Remove duplicate rows\n",
        "df = df.drop_duplicates()\n",
        "\n",
        "display(df.head())"
      ]
    },
    {
      "cell_type": "code",
      "execution_count": null,
      "metadata": {
        "colab": {
          "base_uri": "https://localhost:8080/",
          "height": 533
        },
        "id": "eULWsiY4ATBc",
        "outputId": "c9bc24dd-f665-46c2-9384-b3267605d04f"
      },
      "outputs": [],
      "source": [
        "categorical_cols = [\"fuel_type\", \"clean_title\", \"engine\", \"transmission\", \"ext_col\", \"int_col\"]\n",
        "try:\n",
        "    df = pd.get_dummies(df, columns=categorical_cols, drop_first=True)\n",
        "    display(df.head())\n",
        "except Exception as e:\n",
        "    print(f\"An error occurred during one-hot encoding: {e}\")\n",
        "    df = None"
      ]
    },
    {
      "cell_type": "markdown",
      "metadata": {
        "id": "avdeusCrAVxI"
      },
      "source": [
        "## Data exploration\n"
      ]
    },
    {
      "cell_type": "code",
      "execution_count": null,
      "metadata": {
        "colab": {
          "base_uri": "https://localhost:8080/",
          "height": 1000
        },
        "id": "g_UXYW5OAW10",
        "outputId": "002f4636-a93e-4277-9a5f-6e69a0e5e61f"
      },
      "outputs": [],
      "source": [
        "import matplotlib.pyplot as plt\n",
        "import seaborn as sns\n",
        "\n",
        "# Convert 'price' to numeric, handling errors\n",
        "df['price'] = pd.to_numeric(df['price'].astype(str).str.replace(r'[^\\d.]', '', regex=True), errors='coerce')\n",
        "\n",
        "# Analyze distributions\n",
        "plt.figure(figsize=(12, 5))\n",
        "plt.subplot(1, 2, 1)\n",
        "sns.histplot(df['price'], kde=True)\n",
        "plt.title('Price Distribution')\n",
        "plt.xlabel('Price')\n",
        "plt.ylabel('Frequency')\n",
        "\n",
        "plt.subplot(1, 2, 2)\n",
        "sns.histplot(df['mileage'], kde=True)\n",
        "plt.title('Mileage Distribution')\n",
        "plt.xlabel('Mileage')\n",
        "plt.ylabel('Frequency')\n",
        "\n",
        "plt.tight_layout()\n",
        "plt.show()\n",
        "\n",
        "# Boxplots\n",
        "plt.figure(figsize=(12, 5))\n",
        "plt.subplot(1, 2, 1)\n",
        "sns.boxplot(y=df['price'])\n",
        "plt.title('Price Boxplot')\n",
        "\n",
        "plt.subplot(1, 2, 2)\n",
        "sns.boxplot(y=df['mileage'])\n",
        "plt.title('Mileage Boxplot')\n",
        "\n",
        "plt.tight_layout()\n",
        "plt.show()\n",
        "\n",
        "# Descriptive statistics\n",
        "print(df[['price', 'mileage']].describe())\n",
        "\n",
        "# Relationship between price and mileage\n",
        "plt.figure(figsize=(8, 6))\n",
        "sns.scatterplot(x='mileage', y='price', data=df)\n",
        "plt.title('Price vs. Mileage')\n",
        "plt.xlabel('Mileage')\n",
        "plt.ylabel('Price')\n",
        "plt.show()\n",
        "\n",
        "# Explore correlations with other features (example with model_year)\n",
        "plt.figure(figsize=(8, 6))\n",
        "sns.scatterplot(x='model_year', y='price', data=df)\n",
        "plt.title('Price vs. Model Year')\n",
        "plt.xlabel('Model Year')\n",
        "plt.ylabel('Price')\n",
        "plt.show()"
      ]
    },
    {
      "cell_type": "markdown",
      "metadata": {
        "id": "pD3Pyd8uAbtA"
      },
      "source": [
        "## Data cleaning"
      ]
    },
    {
      "cell_type": "code",
      "execution_count": null,
      "metadata": {
        "colab": {
          "base_uri": "https://localhost:8080/",
          "height": 1000
        },
        "id": "mrAJC-3-AdUY",
        "outputId": "6af5111b-9441-4016-8c01-30d7202d4ec7"
      },
      "outputs": [],
      "source": [
        "import matplotlib.pyplot as plt\n",
        "import seaborn as sns\n",
        "\n",
        "# Calculate the 1st and 99th percentiles for 'price' and 'mileage'\n",
        "price_lower_bound = df['price'].quantile(0.05)\n",
        "price_upper_bound = df['price'].quantile(0.95)\n",
        "mileage_lower_bound = df['mileage'].quantile(0.01)\n",
        "mileage_upper_bound = df['mileage'].quantile(0.99)\n",
        "\n",
        "# Filter out outliers\n",
        "filtered_df = df[\n",
        "    (df['price'] >= price_lower_bound) & (df['price'] <= price_upper_bound) &\n",
        "    (df['mileage'] >= mileage_lower_bound) & (df['mileage'] <= mileage_upper_bound)\n",
        "]\n",
        "\n",
        "# Plot histograms of the filtered data\n",
        "plt.figure(figsize=(12, 5))\n",
        "plt.subplot(1, 2, 1)\n",
        "sns.histplot(filtered_df['price'], kde=True)\n",
        "plt.title('Price Distribution (Filtered)')\n",
        "\n",
        "plt.subplot(1, 2, 2)\n",
        "sns.histplot(filtered_df['mileage'], kde=True)\n",
        "plt.title('Mileage Distribution (Filtered)')\n",
        "plt.tight_layout()\n",
        "plt.show()\n",
        "\n",
        "# Plot boxplots of the filtered data\n",
        "plt.figure(figsize=(12, 5))\n",
        "plt.subplot(1, 2, 1)\n",
        "sns.boxplot(y=filtered_df['price'])\n",
        "plt.title('Price Boxplot (Filtered)')\n",
        "\n",
        "plt.subplot(1, 2, 2)\n",
        "sns.boxplot(y=filtered_df['mileage'])\n",
        "plt.title('Mileage Boxplot (Filtered)')\n",
        "plt.tight_layout()\n",
        "plt.show()\n",
        "\n",
        "# Print some info on the filtered data\n",
        "print(f\"Original df shape: {df.shape}\")\n",
        "print(f\"Filtered df shape: {filtered_df.shape}\")"
      ]
    },
    {
      "cell_type": "markdown",
      "metadata": {
        "id": "1OnKgTfLAgt8"
      },
      "source": [
        "## Data preparation\n"
      ]
    },
    {
      "cell_type": "code",
      "execution_count": null,
      "metadata": {
        "colab": {
          "base_uri": "https://localhost:8080/"
        },
        "id": "sjhErECMAhxm",
        "outputId": "5465a96f-a84f-402b-959b-31c065e8ffcc"
      },
      "outputs": [],
      "source": [
        "# Select features (independent variables)\n",
        "features = ['mileage', 'model_year']\n",
        "one_hot_encoded_cols = [col for col in filtered_df.columns if col.startswith(('fuel_type_', 'clean_title_', 'engine_', 'transmission_', 'ext_col_', 'int_col_'))]\n",
        "features.extend(one_hot_encoded_cols)\n",
        "X = filtered_df[features]\n",
        "\n",
        "# Select target variable (dependent variable)\n",
        "y = filtered_df['price']\n",
        "\n",
        "# Ensure correct data types for scikit-learn\n",
        "X = X.values\n",
        "y = y.values\n",
        "\n",
        "print(f\"Shape of X: {X.shape}\")\n",
        "print(f\"Shape of y: {y.shape}\")"
      ]
    },
    {
      "cell_type": "markdown",
      "metadata": {
        "id": "4WViKxPKAk5J"
      },
      "source": [
        "## Data splitting"
      ]
    },
    {
      "cell_type": "code",
      "execution_count": null,
      "metadata": {
        "colab": {
          "base_uri": "https://localhost:8080/"
        },
        "id": "AmPBWWLGAl6Q",
        "outputId": "82d72b8f-637b-41a4-f40b-733112f07902"
      },
      "outputs": [],
      "source": [
        "from sklearn.model_selection import train_test_split\n",
        "\n",
        "X_train, X_test, y_train, y_test = train_test_split(X, y, test_size=0.2, random_state=42)\n",
        "\n",
        "print(f\"X_train shape: {X_train.shape}\")\n",
        "print(f\"y_train shape: {y_train.shape}\")\n",
        "print(f\"X_test shape: {X_test.shape}\")\n",
        "print(f\"y_test shape: {y_test.shape}\")"
      ]
    },
    {
      "cell_type": "markdown",
      "metadata": {
        "id": "eSBiAbTzApfG"
      },
      "source": [
        "## Model training\n",
        "\n",
        "### Subtask:\n",
        "Train a linear regression model.\n"
      ]
    },
    {
      "cell_type": "code",
      "execution_count": null,
      "metadata": {
        "id": "9HYok3APAp-s"
      },
      "outputs": [],
      "source": [
        "from sklearn.linear_model import LinearRegression\n",
        "\n",
        "# Instantiate a LinearRegression object\n",
        "lr_model = LinearRegression()\n",
        "\n",
        "# Train the model\n",
        "lr_model.fit(X_train, y_train)\n",
        "\n",
        "# Make predictions on the test data\n",
        "y_pred_lr = lr_model.predict(X_test)\n",
        "y_pred_lr = np.clip(y_pred_lr, 7500, None)"
      ]
    },
    {
      "cell_type": "markdown",
      "metadata": {
        "id": "1TuYGRW9AuhR"
      },
      "source": [
        "## Model evaluation\n"
      ]
    },
    {
      "cell_type": "code",
      "execution_count": null,
      "metadata": {
        "colab": {
          "base_uri": "https://localhost:8080/"
        },
        "id": "Kg9lo-1iAvlt",
        "outputId": "2af7178a-e151-42c1-95c8-6b084eb428ca"
      },
      "outputs": [],
      "source": [
        "from sklearn.metrics import mean_squared_error\n",
        "import numpy as np\n",
        "\n",
        "# Calculate the mean squared error (MSE)\n",
        "mse = mean_squared_error(y_test, y_pred_lr)\n",
        "\n",
        "# Calculate the root mean squared error (RMSE)\n",
        "rmse = np.sqrt(mse)\n",
        "\n",
        "# Print the RMSE value\n",
        "print(f\"Root Mean Squared Error (RMSE): {rmse}\")"
      ]
    },
    {
      "cell_type": "markdown",
      "metadata": {
        "id": "CgA14cEUAyRM"
      },
      "source": [
        "## Data visualization\n"
      ]
    },
    {
      "cell_type": "code",
      "execution_count": null,
      "metadata": {
        "colab": {
          "base_uri": "https://localhost:8080/",
          "height": 564
        },
        "id": "gnzHczNLAzSW",
        "outputId": "d34261f7-8c20-436c-c0f6-b956c1426e5a"
      },
      "outputs": [],
      "source": [
        "import matplotlib.pyplot as plt\n",
        "\n",
        "plt.figure(figsize=(10, 6))\n",
        "plt.scatter(X_test[:, 0], y_test, color='blue', label='Actual Prices')\n",
        "plt.scatter(X_test[:, 0], y_pred_lr, color='red', label='Predicted Prices')\n",
        "plt.xlabel('Mileage')\n",
        "plt.ylabel('Price')\n",
        "plt.title('Actual vs. Predicted Prices')\n",
        "plt.legend()\n",
        "plt.show()"
      ]
    },
    {
      "cell_type": "markdown",
      "metadata": {
        "id": "DjCw5VbuA2RN"
      },
      "source": [
        "## Model training\n",
        "\n",
        "Train a K-Nearest Neighbors (KNN) regression model.\n"
      ]
    },
    {
      "cell_type": "code",
      "execution_count": null,
      "metadata": {
        "colab": {
          "base_uri": "https://localhost:8080/"
        },
        "id": "hmr8YKjrA3Yn",
        "outputId": "0f8463b8-b452-49c1-c9b6-a270e6b2b314"
      },
      "outputs": [],
      "source": [
        "from sklearn.neighbors import KNeighborsRegressor\n",
        "from sklearn.metrics import mean_squared_error\n",
        "import numpy as np\n",
        "\n",
        "\n",
        "n_neighbors_values = [3, 5, 7]\n",
        "rmse_values = []\n",
        "y_pred_knn_values = []\n",
        "\n",
        "for n_neighbors in n_neighbors_values:\n",
        "    # Instantiate a KNeighborsRegressor object\n",
        "    knn_model = KNeighborsRegressor(n_neighbors=n_neighbors)\n",
        "\n",
        "    # Train the model\n",
        "    knn_model.fit(X_train, y_train)\n",
        "\n",
        "    # Generate predictions\n",
        "    y_pred_knn = knn_model.predict(X_test)\n",
        "    y_pred_knn = np.clip(y_pred_knn, 0, None)\n",
        "    y_pred_knn_values.append(y_pred_knn)\n",
        "\n",
        "    # Evaluate the model\n",
        "    mse = mean_squared_error(y_test, y_pred_knn)\n",
        "    rmse = np.sqrt(mse)\n",
        "    rmse_values.append(rmse)\n",
        "\n",
        "    print(f\"For n_neighbors = {n_neighbors}: RMSE = {rmse}\")"
      ]
    },
    {
      "cell_type": "markdown",
      "metadata": {
        "id": "5hF2GNiyA7ei"
      },
      "source": [
        "## Model evaluation\n",
        "\n",
        "Evaluate the KNN regression model's performance using Root Mean Squared Error (RMSE).\n"
      ]
    },
    {
      "cell_type": "code",
      "execution_count": null,
      "metadata": {
        "colab": {
          "base_uri": "https://localhost:8080/"
        },
        "id": "B8gjkKjIA8f1",
        "outputId": "c91f38e3-d1a9-40dc-8cca-169c42ed67b7"
      },
      "outputs": [],
      "source": [
        "from sklearn.metrics import mean_squared_error\n",
        "import numpy as np\n",
        "\n",
        "# Calculate the mean squared error (MSE)\n",
        "mse = mean_squared_error(y_test, y_pred_knn_values[2])\n",
        "\n",
        "# Calculate the root mean squared error (RMSE)\n",
        "rmse = np.sqrt(mse)\n",
        "\n",
        "# Print the RMSE value\n",
        "print(f\"Root Mean Squared Error (RMSE) for KNN (n_neighbors=7): {rmse}\")"
      ]
    },
    {
      "cell_type": "markdown",
      "metadata": {
        "id": "XA5YWRtCA_ZG"
      },
      "source": [
        "## Data visualization\n",
        "\n",
        "Visualize actual vs. predicted prices for the KNN model.\n"
      ]
    },
    {
      "cell_type": "code",
      "execution_count": null,
      "metadata": {
        "colab": {
          "base_uri": "https://localhost:8080/",
          "height": 564
        },
        "id": "tNIbwgCjBAdL",
        "outputId": "686cc1b1-526f-45c3-f5c2-8880053bda8c"
      },
      "outputs": [],
      "source": [
        "import matplotlib.pyplot as plt\n",
        "\n",
        "plt.figure(figsize=(10, 6))\n",
        "plt.scatter(X_test[:, 0], y_test, color='blue', label='Actual Prices')\n",
        "plt.scatter(X_test[:, 0], y_pred_knn_values[2], color='red', label='Predicted Prices')\n",
        "plt.xlabel('Mileage')\n",
        "plt.ylabel('Price')\n",
        "plt.title('Actual vs. Predicted Prices (KNN, k=7)')\n",
        "plt.legend()\n",
        "plt.show()"
      ]
    },
    {
      "cell_type": "markdown",
      "metadata": {
        "id": "4bgE0lFdBEo7"
      },
      "source": [
        "## Summary:\n",
        "\n",
        "### 1. Q&A\n",
        "\n",
        "* **What is the RMSE of the linear regression model?** 11911\n",
        "* **What is the RMSE of the KNN model with 7 neighbors?** 18015\n",
        "* **Which model performed better based on RMSE?**  The linear regression model (RMSE = 11911) performed better than the KNN model with 7 neighbors (RMSE = 18015).\n",
        "\n",
        "** A floor of 7,500 was set since this model began predicting $0 car worth for some data points\n",
        "\n",
        "### 2. Data Analysis Key Findings\n",
        "\n",
        "* **Outlier Handling:** Outliers in 'price' were removed using the 5th and 95th percentiles and 'Mileage' was removed using the 1st and 99th percentiles, reducing the dataset size from 4009 to 2844 rows.\n",
        "\n",
        "** The inital model produced an RMSE of 20247 so we increased the parameter usage to decrease the RMSE                                                       \n",
        "                **Google Gemini was used to help produce code**"
      ]
    }
  ],
  "metadata": {
    "colab": {
      "provenance": []
    },
    "kernelspec": {
      "display_name": "Python 3",
      "name": "python3"
    },
    "language_info": {
      "name": "python"
    }
  },
  "nbformat": 4,
  "nbformat_minor": 0
}
