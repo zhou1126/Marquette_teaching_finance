{
 "cells": [
  {
   "cell_type": "code",
   "execution_count": 68,
   "metadata": {},
   "outputs": [],
   "source": [
    "import pandas as pd\n",
    "import numpy as np\n",
    "import matplotlib.pyplot as plt\n",
    "from sklearn.model_selection import train_test_split\n",
    "from sklearn.linear_model import LinearRegression\n",
    "from sklearn.neighbors import KNeighborsRegressor\n",
    "from sklearn.metrics import mean_squared_error"
   ]
  },
  {
   "cell_type": "markdown",
   "metadata": {},
   "source": [
    "PART 1:"
   ]
  },
  {
   "cell_type": "code",
   "execution_count": 69,
   "metadata": {},
   "outputs": [],
   "source": [
    "df = pd.read_csv('/workspaces/Marquette_teaching_finance/used_cars.csv')"
   ]
  },
  {
   "cell_type": "code",
   "execution_count": 70,
   "metadata": {},
   "outputs": [
    {
     "data": {
      "text/html": [
       "<div>\n",
       "<style scoped>\n",
       "    .dataframe tbody tr th:only-of-type {\n",
       "        vertical-align: middle;\n",
       "    }\n",
       "\n",
       "    .dataframe tbody tr th {\n",
       "        vertical-align: top;\n",
       "    }\n",
       "\n",
       "    .dataframe thead th {\n",
       "        text-align: right;\n",
       "    }\n",
       "</style>\n",
       "<table border=\"1\" class=\"dataframe\">\n",
       "  <thead>\n",
       "    <tr style=\"text-align: right;\">\n",
       "      <th></th>\n",
       "      <th>price</th>\n",
       "    </tr>\n",
       "  </thead>\n",
       "  <tbody>\n",
       "    <tr>\n",
       "      <th>0</th>\n",
       "      <td>$10,300</td>\n",
       "    </tr>\n",
       "    <tr>\n",
       "      <th>1</th>\n",
       "      <td>$38,005</td>\n",
       "    </tr>\n",
       "    <tr>\n",
       "      <th>2</th>\n",
       "      <td>$54,598</td>\n",
       "    </tr>\n",
       "    <tr>\n",
       "      <th>3</th>\n",
       "      <td>$15,500</td>\n",
       "    </tr>\n",
       "    <tr>\n",
       "      <th>4</th>\n",
       "      <td>$34,999</td>\n",
       "    </tr>\n",
       "  </tbody>\n",
       "</table>\n",
       "</div>"
      ],
      "text/plain": [
       "     price\n",
       "0  $10,300\n",
       "1  $38,005\n",
       "2  $54,598\n",
       "3  $15,500\n",
       "4  $34,999"
      ]
     },
     "execution_count": 70,
     "metadata": {},
     "output_type": "execute_result"
    }
   ],
   "source": [
    "df[['price']].head()"
   ]
  },
  {
   "cell_type": "code",
   "execution_count": 71,
   "metadata": {},
   "outputs": [
    {
     "name": "stdout",
     "output_type": "stream",
     "text": [
      "Initial data shape: (4009, 12)\n"
     ]
    }
   ],
   "source": [
    "print(\"Initial data shape:\", df.shape)"
   ]
  },
  {
   "cell_type": "code",
   "execution_count": 72,
   "metadata": {},
   "outputs": [
    {
     "name": "stdout",
     "output_type": "stream",
     "text": [
      "Columns in dataset: ['brand', 'model', 'model_year', 'milage', 'fuel_type', 'engine', 'transmission', 'ext_col', 'int_col', 'accident', 'clean_title', 'price']\n"
     ]
    }
   ],
   "source": [
    "print(\"Columns in dataset:\", df.columns.tolist())"
   ]
  },
  {
   "cell_type": "code",
   "execution_count": 73,
   "metadata": {},
   "outputs": [],
   "source": [
    "if 'milage' in df.columns:\n",
    "    df.rename(columns={'milage': 'mileage'}, inplace=True)\n"
   ]
  },
  {
   "cell_type": "code",
   "execution_count": 74,
   "metadata": {},
   "outputs": [],
   "source": [
    "for col in ['mileage', 'model_year', 'price']:\n",
    "    if col in df.columns:\n",
    "        df[col] = pd.to_numeric(df[col], errors='coerce')"
   ]
  },
  {
   "cell_type": "code",
   "execution_count": 75,
   "metadata": {},
   "outputs": [
    {
     "data": {
      "text/html": [
       "<div>\n",
       "<style scoped>\n",
       "    .dataframe tbody tr th:only-of-type {\n",
       "        vertical-align: middle;\n",
       "    }\n",
       "\n",
       "    .dataframe tbody tr th {\n",
       "        vertical-align: top;\n",
       "    }\n",
       "\n",
       "    .dataframe thead th {\n",
       "        text-align: right;\n",
       "    }\n",
       "</style>\n",
       "<table border=\"1\" class=\"dataframe\">\n",
       "  <thead>\n",
       "    <tr style=\"text-align: right;\">\n",
       "      <th></th>\n",
       "      <th>price</th>\n",
       "    </tr>\n",
       "  </thead>\n",
       "  <tbody>\n",
       "    <tr>\n",
       "      <th>0</th>\n",
       "      <td>NaN</td>\n",
       "    </tr>\n",
       "    <tr>\n",
       "      <th>1</th>\n",
       "      <td>NaN</td>\n",
       "    </tr>\n",
       "    <tr>\n",
       "      <th>2</th>\n",
       "      <td>NaN</td>\n",
       "    </tr>\n",
       "    <tr>\n",
       "      <th>3</th>\n",
       "      <td>NaN</td>\n",
       "    </tr>\n",
       "    <tr>\n",
       "      <th>4</th>\n",
       "      <td>NaN</td>\n",
       "    </tr>\n",
       "  </tbody>\n",
       "</table>\n",
       "</div>"
      ],
      "text/plain": [
       "   price\n",
       "0    NaN\n",
       "1    NaN\n",
       "2    NaN\n",
       "3    NaN\n",
       "4    NaN"
      ]
     },
     "execution_count": 75,
     "metadata": {},
     "output_type": "execute_result"
    }
   ],
   "source": [
    "df[['price']].head()"
   ]
  },
  {
   "cell_type": "code",
   "execution_count": 61,
   "metadata": {},
   "outputs": [
    {
     "name": "stderr",
     "output_type": "stream",
     "text": [
      "/home/codespace/.python/current/lib/python3.12/site-packages/numpy/lib/_nanfunctions_impl.py:1231: RuntimeWarning: Mean of empty slice\n",
      "  return np.nanmean(a, axis, out=out, keepdims=keepdims)\n",
      "/tmp/ipykernel_32261/2427229060.py:4: FutureWarning: A value is trying to be set on a copy of a DataFrame or Series through chained assignment using an inplace method.\n",
      "The behavior will change in pandas 3.0. This inplace method will never work because the intermediate object on which we are setting values always behaves as a copy.\n",
      "\n",
      "For example, when doing 'df[col].method(value, inplace=True)', try using 'df.method({col: value}, inplace=True)' or df[col] = df[col].method(value) instead, to perform the operation inplace on the original object.\n",
      "\n",
      "\n",
      "  df[col].fillna(df[col].median(), inplace=True)\n",
      "/home/codespace/.python/current/lib/python3.12/site-packages/numpy/lib/_nanfunctions_impl.py:1231: RuntimeWarning: Mean of empty slice\n",
      "  return np.nanmean(a, axis, out=out, keepdims=keepdims)\n",
      "/tmp/ipykernel_32261/2427229060.py:4: FutureWarning: A value is trying to be set on a copy of a DataFrame or Series through chained assignment using an inplace method.\n",
      "The behavior will change in pandas 3.0. This inplace method will never work because the intermediate object on which we are setting values always behaves as a copy.\n",
      "\n",
      "For example, when doing 'df[col].method(value, inplace=True)', try using 'df.method({col: value}, inplace=True)' or df[col] = df[col].method(value) instead, to perform the operation inplace on the original object.\n",
      "\n",
      "\n",
      "  df[col].fillna(df[col].median(), inplace=True)\n"
     ]
    }
   ],
   "source": [
    "for col in ['mileage', 'model_year', 'price']:\n",
    "    if col in df.columns and df[col].isnull().any():\n",
    "        if col in ['mileage', 'price']:\n",
    "            df[col].fillna(df[col].median(), inplace=True)\n",
    "        else:\n",
    "            df[col].fillna(df[col].mode()[0], inplace=True)"
   ]
  },
  {
   "cell_type": "code",
   "execution_count": 62,
   "metadata": {},
   "outputs": [],
   "source": [
    "categorical_cols = ['fuel_type', 'clean_title', 'engine', 'transmission', 'ext_col', 'int_col']"
   ]
  },
  {
   "cell_type": "code",
   "execution_count": 63,
   "metadata": {},
   "outputs": [
    {
     "name": "stdout",
     "output_type": "stream",
     "text": [
      "Final DataFrame columns after preprocessing: ['brand', 'model', 'model_year', 'mileage', 'accident', 'price', 'fuel_type_E85 Flex Fuel', 'fuel_type_Gasoline', 'fuel_type_Hybrid', 'fuel_type_Plug-In Hybrid', 'fuel_type_not supported', 'fuel_type_–', 'engine_1.3L I3 12V GDI DOHC Turbo', 'engine_1.3L I3 12V MPFI DOHC Turbo', 'engine_1.4L I4 16V GDI DOHC Turbo', 'engine_1.5 Liter Turbo', 'engine_1.5L I3 12V GDI DOHC Turbo', 'engine_1.5L I3 12V PDI DOHC Turbo', 'engine_1.5L I4 16V GDI DOHC Turbo', 'engine_1.6L I-4 gasoline direct injection, DOHC, variable valve control', 'engine_1.6L I4 16V GDI DOHC', 'engine_1.6L I4 16V GDI DOHC Hybrid', 'engine_1.6L I4 16V GDI DOHC Turbo', 'engine_1.6L I4 16V GDI DOHC Turbo Hybrid', 'engine_1.6L I4 16V MPFI DOHC', 'engine_1.8 Liter', 'engine_101.0HP 1.4L 4 Cylinder Engine Gasoline Fuel', 'engine_1020.0HP Electric Motor Electric Fuel System', 'engine_104.0HP 1.6L 4 Cylinder Engine Gasoline Fuel', 'engine_106.0HP 1.5L 4 Cylinder Engine Gasoline Fuel', 'engine_107.0HP Electric Motor Electric Fuel System', 'engine_109.0HP 1.5L 4 Cylinder Engine Gasoline Fuel', 'engine_109.0HP 1.6L 4 Cylinder Engine Gasoline Fuel', 'engine_111.0HP Electric Motor Electric Fuel System', 'engine_111.2Ah / FR 70kW / RR 160kW (697V)', 'engine_115.0HP 1.6L 4 Cylinder Engine Gasoline Fuel', 'engine_115.0HP 1.7L 4 Cylinder Engine Gasoline Fuel', 'engine_115.0HP 2.0L 4 Cylinder Engine Gasoline Fuel', 'engine_115.0HP Electric Motor Electric Fuel System', 'engine_118.0HP 1.6L 4 Cylinder Engine Gasoline Fuel', 'engine_12 Cylinder Engine', 'engine_120 AH', 'engine_120.0HP 1.6L 4 Cylinder Engine Gasoline Fuel', 'engine_120.0HP 2.2L 4 Cylinder Engine Flex Fuel Capability', 'engine_120.0HP 2.5L 4 Cylinder Engine Gasoline Fuel', 'engine_121.0HP 1.8L 4 Cylinder Engine Gas/Electric Hybrid', 'engine_122.0HP 1.8L 4 Cylinder Engine Gasoline Fuel', 'engine_126.0HP 1.8L 4 Cylinder Engine Gasoline Fuel', 'engine_130.0HP 1.8L 4 Cylinder Engine Gasoline Fuel', 'engine_131.0HP 2.0L 4 Cylinder Engine Gasoline Fuel', 'engine_132.0HP 1.6L 4 Cylinder Engine Gasoline Fuel', 'engine_132.0HP 1.8L 4 Cylinder Engine Gasoline Fuel', 'engine_132.0HP 2.0L 4 Cylinder Engine Gasoline Fuel', 'engine_133.0HP 2.2L 4 Cylinder Engine Gasoline Fuel', 'engine_134.0HP 1.5L 3 Cylinder Engine Gasoline Fuel', 'engine_134.0HP 1.8L 4 Cylinder Engine Gas/Electric Hybrid', 'engine_134.0HP 1.8L 4 Cylinder Engine Plug-In Electric/Gas', 'engine_136.0HP 1.8L 4 Cylinder Engine Gasoline Fuel', 'engine_136.0HP 2.0L 4 Cylinder Engine Gasoline Fuel', 'engine_137.0HP 1.8L 4 Cylinder Engine Gasoline Fuel', 'engine_138.0HP 1.4L 4 Cylinder Engine Gasoline Fuel', 'engine_138.0HP 1.6L 4 Cylinder Engine Gasoline Fuel', 'engine_138.0HP 2.0L 4 Cylinder Engine Gasoline Fuel', 'engine_139.0HP 1.6L 4 Cylinder Engine Gas/Electric Hybrid', 'engine_139.0HP 1.6L 4 Cylinder Engine Plug-In Electric/Gas', 'engine_140.0HP 1.8L 4 Cylinder Engine Gasoline Fuel', 'engine_140.0HP 2.4L 4 Cylinder Engine Gasoline Fuel', 'engine_140.0HP 2.8L V6 Cylinder Engine Gasoline Fuel', 'engine_141.0HP 2.0L 4 Cylinder Engine Gasoline Fuel', 'engine_142.0HP 1.8L 4 Cylinder Engine Gasoline Fuel', 'engine_143.0HP 1.8L 4 Cylinder Engine Gasoline Fuel', 'engine_145.0HP 1.8L 4 Cylinder Engine Gasoline Fuel', 'engine_146.0HP 2.0L 4 Cylinder Engine Gasoline Fuel', 'engine_147.0HP 1.4L 4 Cylinder Engine Gasoline Fuel', 'engine_147.0HP 2.0L 4 Cylinder Engine Gasoline Fuel', 'engine_147.0HP 2.4L 4 Cylinder Engine Gas/Electric Hybrid', 'engine_147.0HP Electric Motor Electric Fuel System', 'engine_148.0HP 2.0L 4 Cylinder Engine Gasoline Fuel', 'engine_148.0HP 3.0L V6 Cylinder Engine Gasoline Fuel', 'engine_150.0HP 1.4L 4 Cylinder Engine Gasoline Fuel', 'engine_150.0HP 2.0L 4 Cylinder Engine Diesel Fuel', 'engine_150.0HP 2.0L 4 Cylinder Engine Gasoline Fuel', 'engine_150.0HP 2.4L 4 Cylinder Engine Gasoline Fuel', 'engine_150.0HP 2.7L 4 Cylinder Engine Gasoline Fuel', 'engine_150.0HP 3.8L V6 Cylinder Engine Gasoline Fuel', 'engine_151.0HP 1.5L 4 Cylinder Engine Gas/Electric Hybrid', 'engine_151.0HP Electric Motor Hydrogen Fuel', 'engine_152.0HP 2.0L 4 Cylinder Engine Gasoline Fuel', 'engine_152.0HP 3.0L V6 Cylinder Engine Flex Fuel Capability', 'engine_153.0HP 1.4L 4 Cylinder Engine Gasoline Fuel', 'engine_153.0HP 2.3L 4 Cylinder Engine Gasoline Fuel', 'engine_154.0HP 2.7L 5 Cylinder Engine Diesel Fuel', 'engine_155.0HP 1.3L 3 Cylinder Engine Gasoline Fuel', 'engine_155.0HP 2.0L 4 Cylinder Engine Gasoline Fuel', 'engine_156.0HP 2.0L 4 Cylinder Engine Gasoline Fuel', 'engine_156.0HP 2.3L 4 Cylinder Engine Gasoline Fuel', 'engine_156.0HP 2.5L 4 Cylinder Engine Gas/Electric Hybrid', 'engine_158.0HP 2.0L 4 Cylinder Engine Gasoline Fuel', 'engine_158.0HP 2.4L 4 Cylinder Engine Gasoline Fuel', 'engine_159.0HP 2.7L 4 Cylinder Engine Gasoline Fuel', 'engine_160.0HP 1.4L 4 Cylinder Engine Gasoline Fuel', 'engine_160.0HP 1.5L 4 Cylinder Engine Gasoline Fuel', 'engine_160.0HP 2.0L 4 Cylinder Engine Flex Fuel Capability', 'engine_160.0HP 2.0L 4 Cylinder Engine Gasoline Fuel', 'engine_160.0HP 2.4L 4 Cylinder Engine Gasoline Fuel', 'engine_161.0HP 2.0L 4 Cylinder Engine Diesel Fuel', 'engine_161.0HP 2.1L 4 Cylinder Engine Diesel Fuel', 'engine_161.0HP 2.4L 4 Cylinder Engine Gasoline Fuel', 'engine_162.0HP 2.4L 4 Cylinder Engine Gasoline Fuel', 'engine_164.0HP 1.4L 4 Cylinder Engine Gasoline Fuel', 'engine_165.0HP 2.5L 4 Cylinder Engine Gasoline Fuel', 'engine_166.0HP 2.0L 4 Cylinder Engine Gasoline Fuel', 'engine_166.0HP 2.4L 4 Cylinder Engine Gasoline Fuel', 'engine_167.0HP 2.0L 4 Cylinder Engine Gasoline Fuel', 'engine_168.0HP 1.6L 4 Cylinder Engine Gasoline Fuel', 'engine_168.0HP 2.4L 4 Cylinder Engine Gasoline Fuel', 'engine_169.0HP 2.4L 4 Cylinder Engine Gasoline Fuel', 'engine_169.0HP 2.5L 4 Cylinder Engine Flex Fuel Capability', 'engine_169.0HP 2.5L 4 Cylinder Engine Gasoline Fuel', 'engine_170.0HP 0.65L Electric Motor Electric Fuel System', 'engine_170.0HP 1.5L 4 Cylinder Engine Gasoline Fuel', 'engine_170.0HP 1.8L 4 Cylinder Engine Gasoline Fuel', 'engine_170.0HP 2.0L 4 Cylinder Engine Gasoline Fuel', 'engine_170.0HP 2.5L 4 Cylinder Engine Gasoline Fuel', 'engine_170.0HP 2.5L 5 Cylinder Engine Gasoline Fuel', 'engine_170.0HP 2.5L Straight 6 Cylinder Engine Gasoline Fuel', 'engine_170.0HP 3.3L V6 Cylinder Engine Gasoline Fuel', 'engine_171.0HP 2.5L 4 Cylinder Engine Gasoline Fuel', 'engine_172.0HP 1.6L 4 Cylinder Engine Gasoline Fuel', 'engine_172.0HP 2.4L 4 Cylinder Engine Gas/Electric Hybrid', 'engine_172.0HP 2.4L 4 Cylinder Engine Gasoline Fuel', 'engine_173.0HP 1.6L 4 Cylinder Engine Gasoline Fuel', 'engine_173.0HP 2.0L 4 Cylinder Engine Gasoline Fuel', 'engine_173.0HP 2.4L 4 Cylinder Engine Gasoline Fuel', 'engine_173.0HP 2.5L 4 Cylinder Engine Gasoline Fuel', 'engine_173.0HP 2.7L V6 Cylinder Engine Gasoline Fuel', 'engine_174.0HP 1.5L 4 Cylinder Engine Gasoline Fuel', 'engine_174.0HP 2.0L 4 Cylinder Engine Gasoline Fuel', 'engine_174.0HP 2.8L V6 Cylinder Engine Gasoline Fuel', 'engine_175.0HP 1.6L 4 Cylinder Engine Gasoline Fuel', 'engine_175.0HP 2.5L 4 Cylinder Engine Gasoline Fuel', 'engine_175.0HP 3.9L V6 Cylinder Engine Gasoline Fuel', 'engine_176.0HP 2.5L 4 Cylinder Engine Gasoline Fuel', 'engine_177.0HP 1.6L 4 Cylinder Engine Plug-In Electric/Gas', 'engine_177.0HP 2.4L 4 Cylinder Engine Gasoline Fuel', 'engine_178.0HP 1.8L 4 Cylinder Engine Gasoline Fuel', 'engine_179.0HP 1.5L 4 Cylinder Engine Gasoline Fuel', 'engine_179.0HP 2.5L 4 Cylinder Engine Gasoline Fuel', 'engine_180.0HP 1.6L 4 Cylinder Engine Gasoline Fuel', 'engine_180.0HP 1.6L 4 Cylinder Engine Plug-In Electric/Gas', 'engine_180.0HP 1.8L 4 Cylinder Engine Gasoline Fuel', 'engine_180.0HP 2.0L 4 Cylinder Engine Gasoline Fuel', 'engine_180.0HP 2.4L 4 Cylinder Engine Flex Fuel Capability', 'engine_180.0HP 2.4L 4 Cylinder Engine Gasoline Fuel', 'engine_180.0HP 2.5L 4 Cylinder Engine Gasoline Fuel', 'engine_180.0HP 3.4L V6 Cylinder Engine Gasoline Fuel', 'engine_180.0HP 6.5L 8 Cylinder Engine Diesel Fuel', 'engine_181.0HP 1.5L 3 Cylinder Engine Gasoline Fuel', 'engine_181.0HP 1.5L 4 Cylinder Engine Gasoline Fuel', 'engine_181.0HP 1.6L 4 Cylinder Engine Gasoline Fuel', 'engine_181.0HP 2.0L 4 Cylinder Engine Gasoline Fuel', 'engine_181.0HP 2.5L 4 Cylinder Engine Gasoline Fuel', 'engine_181.0HP 4.0L Straight 6 Cylinder Engine Gasoline Fuel', 'engine_182.0HP 2.4L 4 Cylinder Engine Gasoline Fuel', 'engine_182.0HP 2.4L 4 Cylinder Engine Gasoline/Mild Electric Hybrid', 'engine_182.0HP 2.5L 4 Cylinder Engine Gasoline Fuel', 'engine_182.0HP 4.0L 8 Cylinder Engine Gasoline Fuel', 'engine_182.0HP Electric Motor Hydrogen Fuel', 'engine_184.0HP 2.0L 4 Cylinder Engine Gasoline Fuel', 'engine_184.0HP 2.4L 4 Cylinder Engine Flex Fuel Capability', 'engine_184.0HP 2.5L 4 Cylinder Engine Gasoline Fuel', 'engine_184.0HP 2.5L Straight 6 Cylinder Engine Gasoline Fuel', 'engine_185.0HP 2.4L 4 Cylinder Engine Gasoline Fuel', 'engine_186.0HP 2.0L 4 Cylinder Engine Gasoline Fuel', 'engine_186.0HP 2.5L 4 Cylinder Engine Gasoline Fuel', 'engine_187.0HP 2.5L 4 Cylinder Engine Gasoline Fuel', 'engine_188.0HP 1.6L 4 Cylinder Engine Gasoline Fuel', 'engine_188.0HP 2.0L 4 Cylinder Engine Gas/Electric Hybrid', 'engine_188.0HP 2.0L 4 Cylinder Engine Gasoline Fuel', 'engine_188.0HP 2.0L 4 Cylinder Engine Plug-In Electric/Gas', 'engine_188.0HP 3.0L V6 Cylinder Engine Diesel Fuel', 'engine_189.0HP 2.0L 4 Cylinder Engine Gasoline Fuel', 'engine_190.0HP 1.8L 4 Cylinder Engine Gasoline Fuel', 'engine_190.0HP 2.3L 4 Cylinder Engine Gasoline Fuel', 'engine_190.0HP 2.4L 4 Cylinder Engine Gasoline Fuel', 'engine_190.0HP 2.8L Straight 6 Cylinder Engine Gasoline Fuel', 'engine_190.0HP 4.0L Straight 6 Cylinder Engine Gasoline Fuel', 'engine_190.0HP 4.3L V6 Cylinder Engine Gasoline Fuel', 'engine_191.0HP 2.5L 4 Cylinder Engine Gas/Electric Hybrid', 'engine_191.0HP 2.5L 4 Cylinder Engine Gasoline Fuel', 'engine_192.0HP 1.5L 4 Cylinder Engine Gasoline Fuel', 'engine_192.0HP 2.0L 4 Cylinder Engine Gas/Electric Hybrid', 'engine_192.0HP 2.3L 4 Cylinder Engine Gasoline Fuel', 'engine_192.0HP 2.4L 4 Cylinder Engine Gasoline Fuel', 'engine_193.0HP 2.5L 4 Cylinder Engine Gasoline Fuel', 'engine_195.0HP 4.3L V6 Cylinder Engine Gasoline Fuel', 'engine_197.0HP 1.6L 4 Cylinder Engine Gasoline Fuel', 'engine_197.0HP 2.5L 4 Cylinder Engine Gasoline Fuel', 'engine_197.0HP 3.8L V6 Cylinder Engine Gasoline Fuel', 'engine_198.0HP 2.4L 4 Cylinder Engine Gasoline Fuel', 'engine_199.0HP 2.4L 4 Cylinder Engine Gas/Electric Hybrid', 'engine_2.0 Liter', 'engine_2.0 Liter DOHC T/C', 'engine_2.0 Liter DOHC Turbo', 'engine_2.0 Liter Supercharged', 'engine_2.0 Liter TFSI', 'engine_2.0 Liter TSI', 'engine_2.0 Liter Turbo', 'engine_2.0L I4 16V GDI DOHC', 'engine_2.0L I4 16V GDI DOHC Flexible Fuel', 'engine_2.0L I4 16V GDI DOHC Hybrid', 'engine_2.0L I4 16V GDI DOHC Turbo', 'engine_2.0L I4 16V GDI DOHC Turbo Flexible Fuel', 'engine_2.0L I4 16V GDI DOHC Turbo Hybrid', 'engine_2.0L I4 16V GDI SOHC Turbo', 'engine_2.0L I4 16V MPFI DOHC', 'engine_2.0L I4 16V MPFI DOHC Hybrid', 'engine_2.0L I4 16V PDI DOHC Turbo', 'engine_2.3L I4 16V GDI DOHC Turbo', 'engine_2.4 Liter', 'engine_2.4L H4 16V GDI DOHC Turbo', 'engine_2.4L I4 16V GDI DOHC', 'engine_2.4L I4 16V MPFI DOHC', 'engine_2.4L I4 16V MPFI SOHC', 'engine_2.4L I4 16V PDI DOHC Turbo', 'engine_2.5 Liter', 'engine_2.5L', 'engine_2.5L 4 Cylinder Engine Gasoline Fuel', 'engine_2.5L H4 16V GDI DOHC', 'engine_2.5L H4 16V MPFI DOHC', 'engine_2.5L I-4 DOHC, variable valve control, regular unleaded, engine', 'engine_2.5L I4 16V', 'engine_2.5L I4 16V GDI DOHC', 'engine_2.5L I4 16V GDI DOHC Turbo', 'engine_2.5L I4 16V MPFI DOHC', 'engine_2.5L I4 16V MPFI DOHC Hybrid', 'engine_2.5L I4 16V PDI DOHC', 'engine_2.5L I4 16V PDI DOHC Hybrid', 'engine_2.5L I4 16V PDI DOHC Turbo', 'engine_2.7 Liter DOHC Turbo', 'engine_2.7L I4 16V GDI DOHC Turbo', 'engine_2.7L V6 24V GDI DOHC Twin Turbo', 'engine_2.7L V6 24V PDI DOHC Twin Turbo', 'engine_2.9 Liter Turbo', 'engine_2.9L V-6 gasoline direct injection, DOHC, variable valve control', 'engine_2.9L V6 24V GDI DOHC Twin Turbo', 'engine_200.0HP 1.6L 4 Cylinder Engine Gasoline Fuel', 'engine_200.0HP 2.0L 4 Cylinder Engine Gasoline Fuel', 'engine_200.0HP 2.2L 4 Cylinder Engine Gasoline Fuel', 'engine_200.0HP 2.4L 4 Cylinder Engine Gasoline Fuel', 'engine_200.0HP 2.5L 4 Cylinder Engine Gas/Electric Hybrid', 'engine_200.0HP 3.0L V6 Cylinder Engine Gasoline Fuel', 'engine_200.0HP 3.8L V6 Cylinder Engine Gasoline Fuel', 'engine_200.0HP 4.3L V6 Cylinder Engine Gasoline Fuel', 'engine_200.0HP Electric Motor Electric Fuel System', 'engine_201.0HP 1.6L 4 Cylinder Engine Gasoline Fuel', 'engine_201.0HP 1.8L 4 Cylinder Engine Gasoline Fuel', 'engine_201.0HP 2.0L 4 Cylinder Engine Gasoline Fuel', 'engine_201.0HP 2.0L 4 Cylinder Engine Gasoline/Mild Electric Hybrid', 'engine_201.0HP 2.4L 4 Cylinder Engine Gasoline Fuel', 'engine_201.0HP 2.5L Flat 6 Cylinder Engine Gasoline Fuel', 'engine_201.0HP 3.5L V6 Cylinder Engine Gasoline Fuel', 'engine_201.0HP Electric Motor Electric Fuel System', 'engine_202.0HP 2.5L 4 Cylinder Engine Gasoline Fuel', 'engine_202.0HP 3.8L V6 Cylinder Engine Gasoline Fuel', 'engine_203.0HP 2.5L 4 Cylinder Engine Gasoline Fuel', 'engine_204.0HP 2.5L V6 Cylinder Engine Gasoline Fuel', 'engine_205.0HP 1.5L 4 Cylinder Engine Gasoline Fuel', 'engine_205.0HP 2.0L 4 Cylinder Engine Gasoline Fuel', 'engine_205.0HP 3.8L V6 Cylinder Engine Gasoline Fuel', 'engine_206.0HP 2.4L 4 Cylinder Engine Gas/Electric Hybrid', 'engine_206.0HP 2.4L 4 Cylinder Engine Gasoline Fuel', 'engine_207.0HP 4.0L V6 Cylinder Engine Gasoline Fuel', 'engine_208.0HP 2.0L 4 Cylinder Engine Flex Fuel Capability', 'engine_208.0HP 2.0L 4 Cylinder Engine Gasoline Fuel', 'engine_208.0HP 2.5L 4 Cylinder Engine Gas/Electric Hybrid', 'engine_208.0HP 3.3L V6 Cylinder Engine Gas/Electric Hybrid', 'engine_210.0HP 2.0L 4 Cylinder Engine Diesel Fuel', 'engine_210.0HP 2.0L 4 Cylinder Engine Gasoline Fuel', 'engine_210.0HP 2.5L 4 Cylinder Engine Gasoline Fuel', 'engine_210.0HP 3.0L V6 Cylinder Engine Gasoline Fuel', 'engine_210.0HP 3.3L V6 Cylinder Engine Gasoline Fuel', 'engine_210.0HP 3.7L V6 Cylinder Engine Gasoline Fuel', 'engine_210.0HP 4.0L Straight 6 Cylinder Engine Gasoline Fuel', 'engine_210.0HP 4.0L V6 Cylinder Engine Gasoline Fuel', 'engine_210.0HP 5.8L 8 Cylinder Engine Gasoline Fuel', 'engine_211.0HP 2.0L 4 Cylinder Engine Diesel Fuel', 'engine_211.0HP 2.0L 4 Cylinder Engine Gasoline Fuel', 'engine_212.0HP 1.3L Rotary engine Gasoline Fuel', 'engine_212.0HP 1.5L 4 Cylinder Engine Plug-In Electric/Gas', 'engine_212.0HP 2.0L 4 Cylinder Engine Gas/Electric Hybrid', 'engine_212.0HP 4.5L Straight 6 Cylinder Engine Gasoline Fuel', 'engine_214.0HP Electric Motor Electric Fuel System', 'engine_215.0HP 1.6L 4 Cylinder Engine Gasoline Fuel', 'engine_215.0HP 2.5L Straight 6 Cylinder Engine Gasoline Fuel', 'engine_215.0HP 3.0L Straight 6 Cylinder Engine Gasoline Fuel', 'engine_215.0HP 3.2L V6 Cylinder Engine Gasoline Fuel', 'engine_215.0HP 3.8L V6 Cylinder Engine Gasoline Fuel', 'engine_217.0HP 4.6L 8 Cylinder Engine Gasoline Fuel', 'engine_218.0HP 2.5L 5 Cylinder Engine Gasoline Fuel', 'engine_219.0HP 2.5L 4 Cylinder Engine Gas/Electric Hybrid', 'engine_220.0HP 2.0L 4 Cylinder Engine Flex Fuel Capability', 'engine_220.0HP 2.0L 4 Cylinder Engine Gasoline Fuel', 'engine_220.0HP 3.0L V6 Cylinder Engine Gasoline Fuel', 'engine_220.0HP 3.5L 5 Cylinder Engine Gasoline Fuel', 'engine_220.0HP 4.6L 8 Cylinder Engine Gasoline Fuel', 'engine_221.0HP 2.0L 4 Cylinder Engine Gasoline Fuel', 'engine_221.0HP 2.5L 4 Cylinder Engine Plug-In Electric/Gas', 'engine_222.0HP 3.0L V6 Cylinder Engine Gasoline Fuel', 'engine_224.0HP 2.5L 4 Cylinder Engine Gasoline Fuel', 'engine_225.0HP 1.8L 4 Cylinder Engine Gasoline Fuel', 'engine_225.0HP 3.0L Straight 6 Cylinder Engine Gasoline Fuel', 'engine_225.0HP 3.3L V6 Cylinder Engine Gasoline Fuel', 'engine_225.0HP 4.6L 8 Cylinder Engine Flex Fuel Capability', 'engine_225.0HP 4.6L 8 Cylinder Engine Gasoline Fuel', 'engine_226.0HP 1.6L 4 Cylinder Engine Gas/Electric Hybrid', 'engine_227.0HP 1.6L 4 Cylinder Engine Gas/Electric Hybrid', 'engine_227.0HP 2.0L 4 Cylinder Engine Gasoline Fuel', 'engine_227.0HP 2.5L 4 Cylinder Engine Gasoline Fuel', 'engine_227.0HP 2.5L 5 Cylinder Engine Gasoline Fuel', 'engine_228.0HP 2.0L 4 Cylinder Engine Gasoline Fuel', 'engine_228.0HP 2.4L 4 Cylinder Engine Gasoline Fuel', 'engine_228.0HP 3.0L V6 Cylinder Engine Gasoline Fuel', 'engine_230.0HP 3.0L Straight 6 Cylinder Engine Gasoline Fuel', 'engine_230.0HP 3.2L Straight 6 Cylinder Engine Gasoline Fuel', 'engine_230.0HP 3.3L V6 Cylinder Engine Gasoline Fuel', 'engine_230.0HP 4.7L 8 Cylinder Engine Gasoline Fuel', 'engine_230.0HP 5.2L 8 Cylinder Engine Gasoline Fuel', 'engine_231.0HP 2.0L 4 Cylinder Engine Gasoline Fuel', 'engine_232.0HP 1.3L Rotary engine Gasoline Fuel', 'engine_235.0HP 2.0L 4 Cylinder Engine Gasoline Fuel', 'engine_235.0HP 3.2L Straight 6 Cylinder Engine Gasoline Fuel', 'engine_235.0HP 4.7L 8 Cylinder Engine Flex Fuel Capability', 'engine_235.0HP 4.7L 8 Cylinder Engine Gasoline Fuel', 'engine_236.0HP 4.0L V6 Cylinder Engine Gasoline Fuel', 'engine_237.0HP 2.0L 4 Cylinder Engine Gasoline Fuel', 'engine_237.0HP 2.2L 4 Cylinder Engine Gasoline Fuel', 'engine_239.0HP 3.7L 5 Cylinder Engine Gasoline Fuel', 'engine_239.0HP 4.0L V6 Cylinder Engine Gasoline Fuel', 'engine_239.0HP 4.6L 8 Cylinder Engine Gasoline Fuel', 'engine_240.0HP 2.0L 4 Cylinder Engine Gasoline Fuel', 'engine_240.0HP 2.5L 4 Cylinder Engine Gas/Electric Hybrid', 'engine_240.0HP 2.7L Flat 6 Cylinder Engine Gasoline Fuel', 'engine_240.0HP 3.0L V6 Cylinder Engine Diesel Fuel', 'engine_240.0HP 3.0L V6 Cylinder Engine Flex Fuel Capability', 'engine_240.0HP 3.2L Straight 6 Cylinder Engine Gasoline Fuel', 'engine_240.0HP 3.5L V6 Cylinder Engine Gasoline Fuel', 'engine_240.0HP 3.8L V6 Cylinder Engine Gasoline Fuel', 'engine_240.0HP 4.7L 8 Cylinder Engine Gasoline Fuel', 'engine_241.0HP 2.0L 4 Cylinder Engine Gasoline Fuel', 'engine_242.0HP 3.3L V6 Cylinder Engine Gasoline Fuel', 'engine_242.0HP 3.7L 5 Cylinder Engine Gasoline Fuel', 'engine_243.0HP 2.5L 4 Cylinder Engine Gasoline Fuel', 'engine_244.0HP 2.3L 4 Cylinder Engine Gasoline Fuel', 'engine_244.0HP 3.5L V6 Cylinder Engine Gasoline Fuel', 'engine_245.0HP 2.0L 4 Cylinder Engine Gasoline Fuel', 'engine_245.0HP 2.5L 4 Cylinder Engine Gas/Electric Hybrid', 'engine_245.0HP 2.7L Flat 6 Cylinder Engine Gasoline Fuel', 'engine_245.0HP 3.5L V6 Cylinder Engine Gas/Electric Hybrid', 'engine_245.0HP 3.5L V6 Cylinder Engine Gasoline Fuel', 'engine_245.0HP 4.0L V6 Cylinder Engine Gasoline Fuel', 'engine_245.0HP 5.9L 8 Cylinder Engine Gasoline Fuel', 'engine_245.0HP 5.9L Straight 6 Cylinder Engine Diesel Fuel', 'engine_246.0HP 2.0L 4 Cylinder Engine Gasoline Fuel', 'engine_247.0HP 2.0L 4 Cylinder Engine Gasoline Fuel', 'engine_247.0HP 2.0L 4 Cylinder Engine Gasoline/Mild Electric Hybrid', 'engine_247.0HP 2.0L 4 Cylinder Engine Plug-In Electric/Gas', 'engine_248.0HP 2.0L 4 Cylinder Engine Gasoline Fuel', 'engine_248.0HP 2.0L 4 Cylinder Engine Gasoline/Mild Electric Hybrid', 'engine_248.0HP 3.5L V6 Cylinder Engine Gasoline Fuel', 'engine_250.0HP 2.0L 4 Cylinder Engine Gasoline Fuel', 'engine_250.0HP 2.5L 5 Cylinder Engine Gasoline Fuel', 'engine_250.0HP 2.7L V6 Cylinder Engine Gasoline Fuel', 'engine_250.0HP 3.0L Flat 6 Cylinder Engine Gasoline Fuel', 'engine_250.0HP 3.0L V6 Cylinder Engine Diesel Fuel', 'engine_250.0HP 3.2L V6 Cylinder Engine Gasoline Fuel', 'engine_250.0HP 3.5L V6 Cylinder Engine Gasoline Fuel', 'engine_250.0HP 5.9L Straight 6 Cylinder Engine Diesel Fuel', 'engine_250.0HP 7.3L 8 Cylinder Engine Diesel Fuel', 'engine_252.0HP 2.0L 4 Cylinder Engine Gasoline Fuel', 'engine_252.0HP 3.6L V6 Cylinder Engine Gasoline Fuel', 'engine_252.0HP 3.9L 8 Cylinder Engine Gasoline Fuel', 'engine_253.0HP 3.5L V6 Cylinder Engine Gasoline Fuel', 'engine_255.0HP 2.0L 4 Cylinder Engine Gasoline Fuel', 'engine_255.0HP 2.9L Flat 6 Cylinder Engine Gasoline Fuel', 'engine_255.0HP 3.0L Straight 6 Cylinder Engine Gasoline Fuel', 'engine_255.0HP 3.2L V6 Cylinder Engine Gasoline Fuel', 'engine_255.0HP 3.5L V6 Cylinder Engine Gasoline Fuel', 'engine_255.0HP 3.6L V6 Cylinder Engine Gasoline Fuel', 'engine_255.0HP 4.8L 8 Cylinder Engine Gasoline Fuel', 'engine_255.0HP 5.4L 8 Cylinder Engine Flex Fuel Capability', 'engine_256.0HP 2.0L 4 Cylinder Engine Gasoline Fuel', 'engine_256.0HP 3.6L Flat 6 Cylinder Engine Gasoline Fuel', 'engine_258.0HP 3.2L V6 Cylinder Engine Gasoline Fuel', 'engine_260.0HP 2.0L 4 Cylinder Engine Gasoline Fuel', 'engine_260.0HP 2.4L 4 Cylinder Engine Gasoline Fuel', 'engine_260.0HP 3.0L Straight 6 Cylinder Engine Gasoline Fuel', 'engine_260.0HP 3.0L V6 Cylinder Engine Diesel Fuel', 'engine_260.0HP 3.5L V6 Cylinder Engine Gasoline Fuel', 'engine_260.0HP 3.6L V6 Cylinder Engine Gasoline Fuel', 'engine_260.0HP 3.8L V6 Cylinder Engine Gasoline Fuel', 'engine_260.0HP 4.0L V6 Cylinder Engine Gasoline Fuel', 'engine_260.0HP 4.6L 8 Cylinder Engine Gasoline Fuel', 'engine_260.0HP 5.4L 8 Cylinder Engine Gasoline Fuel', 'engine_260.0HP 5.7L 8 Cylinder Engine Gasoline Fuel', 'engine_260.0HP 6.6L 8 Cylinder Engine Diesel Fuel', 'engine_261.0HP 1.6L 4 Cylinder Engine Plug-In Electric/Gas', 'engine_261.0HP 2.0L 4 Cylinder Engine Gasoline Fuel', 'engine_261.0HP 2.0L 4 Cylinder Engine Gasoline/Mild Electric Hybrid', 'engine_261.0HP 4.0L V6 Cylinder Engine Gasoline Fuel', 'engine_262.0HP 3.5L V6 Cylinder Engine Gasoline Fuel', 'engine_263.0HP 2.3L 4 Cylinder Engine Gasoline Fuel', 'engine_263.0HP 3.5L V6 Cylinder Engine Gasoline Fuel', 'engine_263.0HP 4.7L 8 Cylinder Engine Gasoline Fuel', 'engine_264.0HP 3.0L V6 Cylinder Engine Gasoline Fuel', 'engine_265.0HP 2.0L 4 Cylinder Engine Gasoline Fuel', 'engine_265.0HP 2.5L 4 Cylinder Engine Gasoline Fuel', 'engine_265.0HP 2.7L Flat 6 Cylinder Engine Gasoline Fuel', 'engine_265.0HP 2.9L Flat 6 Cylinder Engine Gasoline Fuel', 'engine_265.0HP 3.0L V6 Cylinder Engine Gasoline Fuel', 'engine_265.0HP 3.2L V6 Cylinder Engine Gasoline Fuel', 'engine_265.0HP 3.5L V6 Cylinder Engine Gasoline Fuel', 'engine_265.0HP 4.0L V6 Cylinder Engine Gasoline Fuel', 'engine_266.0HP 2.5L 4 Cylinder Engine Plug-In Electric/Gas', 'engine_266.0HP 3.5L V6 Cylinder Engine Gasoline Fuel', 'engine_266.0HP 4.0L V6 Cylinder Engine Gasoline Fuel', 'engine_266.0HP Electric Motor Electric Fuel System', 'engine_268.0HP 2.0L 4 Cylinder Engine Gasoline Fuel', 'engine_268.0HP 3.5L V6 Cylinder Engine Gasoline Fuel', 'engine_270.0HP 2.0L 4 Cylinder Engine Gasoline Fuel', 'engine_270.0HP 2.3L 4 Cylinder Engine Gasoline Fuel', 'engine_270.0HP 3.0L V6 Cylinder Engine Gasoline Fuel', 'engine_270.0HP 3.2L V6 Cylinder Engine Gasoline Fuel', 'engine_270.0HP 3.5L V6 Cylinder Engine Gasoline Fuel', 'engine_270.0HP 4.0L V6 Cylinder Engine Gasoline Fuel', 'engine_270.0HP 4.7L 8 Cylinder Engine Gasoline Fuel', 'engine_270.0HP 4.8L 8 Cylinder Engine Gasoline Fuel', 'engine_271.0HP 2.0L 4 Cylinder Engine Gasoline Fuel', 'engine_271.0HP 2.4L 4 Cylinder Engine Gasoline Fuel', 'engine_271.0HP 3.5L V6 Cylinder Engine Gasoline Fuel', 'engine_271.0HP Electric Motor Electric Fuel System', 'engine_272.0HP 2.0L 4 Cylinder Engine Gasoline Fuel', 'engine_272.0HP 3.0L V6 Cylinder Engine Gasoline Fuel', 'engine_272.0HP 3.5L V6 Cylinder Engine Gasoline Fuel', 'engine_273.0HP 3.7L V6 Cylinder Engine Gasoline Fuel', 'engine_273.0HP 4.7L 8 Cylinder Engine Gasoline Fuel', 'engine_275.0HP 2.0L 4 Cylinder Engine Gasoline Fuel', 'engine_275.0HP 2.3L 4 Cylinder Engine Gasoline Fuel', 'engine_275.0HP 2.7L Flat 6 Cylinder Engine Gasoline Fuel', 'engine_275.0HP 3.5L V6 Cylinder Engine Flex Fuel Capability', 'engine_275.0HP 3.5L V6 Cylinder Engine Gasoline Fuel', 'engine_275.0HP 3.7L V6 Cylinder Engine Flex Fuel Capability', 'engine_275.0HP 3.7L V6 Cylinder Engine Gasoline Fuel', 'engine_275.0HP 4.2L Straight 6 Cylinder Engine Gasoline Fuel', 'engine_275.0HP 4.6L 8 Cylinder Engine Gasoline Fuel', 'engine_275.0HP 4.8L 8 Cylinder Engine Gasoline Fuel', 'engine_276.0HP 2.0L 4 Cylinder Engine Gasoline Fuel', 'engine_276.0HP 3.5L V6 Cylinder Engine Gasoline Fuel', 'engine_276.0HP 3.6L V6 Cylinder Engine Gasoline Fuel', 'engine_277.0HP 3.0L Straight 6 Cylinder Engine Diesel Fuel', 'engine_278.0HP 3.5L V6 Cylinder Engine Gasoline Fuel', 'engine_278.0HP 4.3L 8 Cylinder Engine Gasoline Fuel', 'engine_279.0HP 3.5L V6 Cylinder Engine Gasoline Fuel', 'engine_280.0HP 2.0L 4 Cylinder Engine Gasoline Fuel', 'engine_280.0HP 2.8L V6 Cylinder Engine Gasoline Fuel', 'engine_280.0HP 3.0L V6 Cylinder Engine Gasoline Fuel', 'engine_280.0HP 3.2L Flat 6 Cylinder Engine Gasoline Fuel', 'engine_280.0HP 3.5L V6 Cylinder Engine Gasoline Fuel', 'engine_280.0HP 3.6L V6 Cylinder Engine Gasoline Fuel', 'engine_280.0HP 3.9L 8 Cylinder Engine Gasoline Fuel', 'engine_281.0HP 2.5L 4 Cylinder Engine Gasoline Fuel', 'engine_281.0HP 3.0L Straight 6 Cylinder Engine Gasoline Fuel', 'engine_281.0HP 3.6L V6 Cylinder Engine Gasoline Fuel', 'engine_282.0HP 3.5L V6 Cylinder Engine Flex Fuel Capability', 'engine_282.0HP 4.4L 8 Cylinder Engine Gasoline Fuel', 'engine_282.0HP 4.7L 8 Cylinder Engine Gasoline Fuel', 'engine_283.0HP 3.6L V6 Cylinder Engine Flex Fuel Capability', 'engine_283.0HP 3.6L V6 Cylinder Engine Gasoline Fuel', 'engine_284.0HP 3.5L V6 Cylinder Engine Gasoline Fuel', 'engine_285.0HP 3.6L V6 Cylinder Engine Gasoline Fuel', 'engine_285.0HP 3.6L V6 Cylinder Engine Gasoline/Mild Electric Hybrid', 'engine_285.0HP 4.3L V6 Cylinder Engine Flex Fuel Capability', 'engine_285.0HP 4.8L 8 Cylinder Engine Gasoline Fuel', 'engine_285.0HP 5.3L 8 Cylinder Engine Gasoline Fuel', 'engine_285.0HP 5.7L 8 Cylinder Engine Gasoline Fuel', 'engine_286.0HP 2.0L 4 Cylinder Engine Gasoline Fuel', 'engine_286.0HP 3.5L V6 Cylinder Engine Gasoline Fuel', 'engine_287.0HP 3.5L V6 Cylinder Engine Gasoline Fuel', 'engine_287.0HP 3.6L V6 Cylinder Engine Gasoline Fuel', 'engine_288.0HP 2.0L 4 Cylinder Engine Plug-In Electric/Gas', 'engine_288.0HP 3.6L V6 Cylinder Engine Gasoline Fuel', 'engine_290.0HP 3.3L V6 Cylinder Engine Gasoline Fuel', 'engine_290.0HP 3.5L V6 Cylinder Engine Flex Fuel Capability', 'engine_290.0HP 3.5L V6 Cylinder Engine Gasoline Fuel', 'engine_290.0HP 3.6L V6 Cylinder Engine Flex Fuel Capability', 'engine_290.0HP 3.8L V6 Cylinder Engine Gasoline Fuel', 'engine_290.0HP 4.0L 8 Cylinder Engine Gasoline Fuel', 'engine_290.0HP 4.3L 8 Cylinder Engine Gasoline Fuel', 'engine_290.0HP 7.4L 8 Cylinder Engine Gasoline Fuel', 'engine_290.0HP Electric Motor Electric Fuel System', 'engine_291.0HP 2.0L 4 Cylinder Engine Gasoline Fuel', 'engine_291.0HP 3.8L V6 Cylinder Engine Gasoline Fuel', 'engine_292.0HP 2.0L 4 Cylinder Engine Gasoline Fuel', 'engine_292.0HP 3.6L V6 Cylinder Engine Gasoline Fuel', 'engine_292.0HP 4.6L 8 Cylinder Engine Gasoline Fuel', 'engine_293.0HP 3.6L V6 Cylinder Engine Gasoline Fuel', 'engine_294.0HP 4.2L 8 Cylinder Engine Gasoline Fuel', 'engine_295.0HP 3.4L Flat 6 Cylinder Engine Gasoline Fuel', 'engine_295.0HP 3.5L V6 Cylinder Engine Gas/Electric Hybrid', 'engine_295.0HP 3.5L V6 Cylinder Engine Gasoline Fuel', 'engine_295.0HP 3.6L V6 Cylinder Engine Flex Fuel Capability', 'engine_295.0HP 3.6L V6 Cylinder Engine Gasoline Fuel', 'engine_295.0HP 4.8L 8 Cylinder Engine Gasoline Fuel', 'engine_295.0HP 5.3L 8 Cylinder Engine Flex Fuel Capability', 'engine_295.0HP 5.3L 8 Cylinder Engine Gasoline Fuel', 'engine_295.0HP Electric Motor Electric Fuel System', 'engine_296.0HP 2.0L 4 Cylinder Engine Gasoline Fuel', 'engine_296.0HP 2.0L 4 Cylinder Engine Gasoline/Mild Electric Hybrid', 'engine_298.0HP 3.5L V6 Cylinder Engine Gasoline Fuel', 'engine_2L H-4 DOHC, variable valve control, regular unleaded, engine wi', 'engine_2L H-4 gasoline direct injection, DOHC, variable valve control,', 'engine_2L I-4 DOHC, D-CVVT variable valve control, engine with 147HP', 'engine_2L I-4 gasoline direct injection, DOHC, intercooled turbo, engin', 'engine_2L I-4 gasoline direct injection, DOHC, variable valve control,', 'engine_2L I-4 gasoline direct injection, MultiAir2 variable valve contr', 'engine_3.0 Liter', 'engine_3.0 Liter DOHC Turbo', 'engine_3.0 Liter DOHC Twin Turbo', 'engine_3.0 Liter GTDI', 'engine_3.0 Liter SC ULEV', 'engine_3.0 Liter TFSI', 'engine_3.0 Liter Turbo', 'engine_3.0 Liter Twin Turbo', 'engine_3.0L', 'engine_3.0L H6 24V GDI DOHC Twin Turbo', 'engine_3.0L I6 24V DDI DOHC Turbo Diesel', 'engine_3.0L I6 24V GDI DOHC Turbo', 'engine_3.0L I6 24V GDI DOHC Twin Turbo', 'engine_3.0L V6 24V GDI DOHC Supercharged', 'engine_3.0L V6 24V GDI DOHC Turbo', 'engine_3.0L V6 24V GDI DOHC Twin Turbo', 'engine_3.0L V6 24V PDI DOHC Twin Turbo', 'engine_3.0L V6 Cylinder Engine Diesel Fuel', 'engine_3.2L H6 24V MPFI DOHC', 'engine_3.2L V6 18V MPFI SOHC', 'engine_3.2L V6 24V MPFI DOHC', 'engine_3.3L V-6 gasoline direct injection, DOHC, D-CVVT variable valve', 'engine_3.3L V6 24V GDI DOHC', 'engine_3.4L H6 24V MPFI DOHC', 'engine_3.4L V6 24V PDI DOHC Twin Turbo', 'engine_3.4L V6 24V PDI DOHC Twin Turbo Hybrid', 'engine_3.5 Liter', 'engine_3.5 Liter DOHC', 'engine_3.5 Liter GTDI', 'engine_3.5 Liter SOHC', 'engine_3.5L 24V SOHC I-VTEC V6', 'engine_3.5L V-6 port/direct injection, DOHC, VVT-iE variable valve cont', 'engine_3.5L V-6 port/direct injection, DOHC, VVT-iE/VVT-i variable valv', 'engine_3.5L V6 24V GDI DOHC', 'engine_3.5L V6 24V GDI DOHC Twin Turbo', 'engine_3.5L V6 24V GDI SOHC', 'engine_3.5L V6 24V MPFI DOHC', 'engine_3.5L V6 24V PDI DOHC', 'engine_3.5L V6 24V PDI DOHC Hybrid', 'engine_3.5L V6 24V PDI DOHC Twin Turbo', 'engine_3.5L V6 24V PDI DOHC Twin Turbo Hybrid', 'engine_3.6 Liter', 'engine_3.6 Liter DOHC', 'engine_3.6 Liter SIDI DOHC', 'engine_3.6L V6 24V GDI DOHC', 'engine_3.6L V6 24V MPFI DOHC', 'engine_3.6L V6 24V MPFI DOHC Flexible Fuel', 'engine_3.6L V6 24V MPFI DOHC Hybrid', 'engine_3.6L V6 GDI DOHC', 'engine_3.8L H6 24V GDI DOHC Twin Turbo', 'engine_3.8L H6 24V MPFI DOHC', 'engine_3.8L V6 12V MPFI OHV', 'engine_3.8L V6 24V GDI DOHC', 'engine_3.8L V6 24V MPFI DOHC Twin Turbo', 'engine_3.8L V8 32V GDI DOHC Twin Turbo', 'engine_3.8L V8 32V MPFI DOHC Twin Turbo', 'engine_3.9L V8 32V GDI DOHC Twin Turbo', 'engine_300.0HP 1.6L 3 Cylinder Engine Gasoline Fuel', 'engine_300.0HP 2.0L 4 Cylinder Engine Gasoline Fuel', 'engine_300.0HP 2.3L 4 Cylinder Engine Gasoline Fuel', 'engine_300.0HP 2.5L 4 Cylinder Engine Gasoline Fuel', 'engine_300.0HP 2.5L 5 Cylinder Engine Gasoline Fuel', 'engine_300.0HP 3.0L Straight 6 Cylinder Engine Gasoline Fuel', 'engine_300.0HP 3.0L V6 Cylinder Engine Gasoline Fuel', 'engine_300.0HP 3.4L Flat 6 Cylinder Engine Gasoline Fuel', 'engine_300.0HP 3.5L V6 Cylinder Engine Gasoline Fuel', 'engine_300.0HP 3.6L V6 Cylinder Engine Gasoline Fuel', 'engine_300.0HP 3.7L V6 Cylinder Engine Flex Fuel Capability', 'engine_300.0HP 3.7L V6 Cylinder Engine Gasoline Fuel', 'engine_300.0HP 4.2L 8 Cylinder Engine Gasoline Fuel', 'engine_300.0HP 4.3L 8 Cylinder Engine Gasoline Fuel', 'engine_300.0HP 4.4L 8 Cylinder Engine Gasoline Fuel', 'engine_300.0HP 4.6L 8 Cylinder Engine Gasoline Fuel', 'engine_300.0HP 5.3L 8 Cylinder Engine Gasoline Fuel', 'engine_300.0HP 5.4L 8 Cylinder Engine Gasoline Fuel', 'engine_300.0HP 5.7L 8 Cylinder Engine Gasoline Fuel', 'engine_300.0HP 6.0L 8 Cylinder Engine Gasoline Fuel', 'engine_300.0HP 6.6L 8 Cylinder Engine Diesel Fuel', 'engine_301.0HP 3.6L V6 Cylinder Engine Gasoline Fuel', 'engine_301.0HP 4.6L 8 Cylinder Engine Gasoline Fuel', 'engine_302.0HP 2.5L 4 Cylinder Engine Plug-In Electric/Gas', 'engine_302.0HP 3.5L V6 Cylinder Engine Flex Fuel Capability', 'engine_302.0HP 3.5L V6 Cylinder Engine Gasoline Fuel', 'engine_302.0HP 4.6L 8 Cylinder Engine Gasoline Fuel', 'engine_302.0HP 5.0L 8 Cylinder Engine Gasoline Fuel', 'engine_303.0HP 3.4L Flat 6 Cylinder Engine Gasoline Fuel', 'engine_303.0HP 3.5L V6 Cylinder Engine Gasoline Fuel', 'engine_303.0HP 3.6L V6 Cylinder Engine Gasoline Fuel', 'engine_303.0HP 3.7L V6 Cylinder Engine Gasoline Fuel', 'engine_303.0HP 5.3L 8 Cylinder Engine Gasoline Fuel', 'engine_304.0HP 3.6L V6 Cylinder Engine Gasoline Fuel', 'engine_305.0HP 2.5L 4 Cylinder Engine Gasoline Fuel', 'engine_305.0HP 3.6L V6 Cylinder Engine Flex Fuel Capability', 'engine_305.0HP 3.6L V6 Cylinder Engine Gasoline Fuel', 'engine_305.0HP 3.6L V6 Cylinder Engine Gasoline/Mild Electric Hybrid', 'engine_305.0HP 3.7L V6 Cylinder Engine Gasoline Fuel', 'engine_305.0HP 5.6L 8 Cylinder Engine Gasoline Fuel', 'engine_305.0HP 5.7L 8 Cylinder Engine Gasoline Fuel', 'engine_305.0HP 6.8L 10 Cylinder Engine Gasoline Fuel', 'engine_306.0HP 2.0L 4 Cylinder Engine Gasoline Fuel', 'engine_306.0HP 3.0L Straight 6 Cylinder Engine Gasoline Fuel', 'engine_306.0HP 3.5L V6 Cylinder Engine Gas/Electric Hybrid', 'engine_306.0HP 3.5L V6 Cylinder Engine Gasoline Fuel', 'engine_306.0HP 3.8L V6 Cylinder Engine Gasoline Fuel', 'engine_308.0HP 3.5L V6 Cylinder Engine Gas/Electric Hybrid', 'engine_308.0HP 3.6L V6 Cylinder Engine Flex Fuel Capability', 'engine_308.0HP 3.6L V6 Cylinder Engine Gasoline Fuel', 'engine_310.0HP 2.3L 4 Cylinder Engine Gasoline Fuel', 'engine_310.0HP 2.7L 4 Cylinder Engine Gasoline Fuel', 'engine_310.0HP 3.0L V6 Cylinder Engine Gasoline Fuel', 'engine_310.0HP 3.5L V6 Cylinder Engine Gasoline Fuel', 'engine_310.0HP 3.6L V6 Cylinder Engine Gasoline Fuel', 'engine_310.0HP 4.6L 8 Cylinder Engine Gasoline Fuel', 'engine_310.0HP 4.7L 8 Cylinder Engine Flex Fuel Capability', 'engine_310.0HP 5.3L 8 Cylinder Engine Flex Fuel Capability', 'engine_310.0HP 5.4L 8 Cylinder Engine Flex Fuel Capability', 'engine_310.0HP 5.7L 8 Cylinder Engine Gasoline Fuel', 'engine_310.0HP 6.8L 10 Cylinder Engine Gasoline Fuel', 'engine_311.0HP 3.5L V6 Cylinder Engine Gasoline Fuel', 'engine_311.0HP 3.8L V6 Cylinder Engine Gasoline Fuel', 'engine_312.0HP 3.6L V6 Cylinder Engine Gasoline Fuel', 'engine_313.0HP 2.0L 4 Cylinder Engine Plug-In Electric/Gas', 'engine_315.0HP 2.0L 4 Cylinder Engine Gasoline Fuel', 'engine_315.0HP 2.7L V6 Cylinder Engine Gasoline Fuel', 'engine_315.0HP 3.0L Straight 6 Cylinder Engine Gasoline Fuel', 'engine_315.0HP 3.6L Flat 6 Cylinder Engine Gasoline Fuel', 'engine_315.0HP 4.6L 8 Cylinder Engine Gasoline Fuel', 'engine_315.0HP 5.3L 8 Cylinder Engine Flex Fuel Capability', 'engine_316.0HP 2.0L 4 Cylinder Engine Gasoline Fuel', 'engine_316.0HP 6.0L 8 Cylinder Engine Gasoline Fuel', 'engine_316.0HP 6.2L 8 Cylinder Engine Flex Fuel Capability', 'engine_317.0HP 5.6L 8 Cylinder Engine Flex Fuel Capability', 'engine_317.0HP 5.6L 8 Cylinder Engine Gasoline Fuel', 'engine_318.0HP 3.3L V6 Cylinder Engine Gas/Electric Hybrid', 'engine_318.0HP 3.6L V6 Cylinder Engine Gasoline Fuel', 'engine_319.0HP 6.0L 8 Cylinder Engine Gasoline Fuel', 'engine_320.0HP 3.0L Straight 6 Cylinder Engine Gasoline Fuel', 'engine_320.0HP 3.6L Flat 6 Cylinder Engine Gasoline Fuel', 'engine_320.0HP 4.6L 8 Cylinder Engine Gasoline Fuel', 'engine_320.0HP 5.3L 8 Cylinder Engine Flex Fuel Capability', 'engine_320.0HP 5.3L 8 Cylinder Engine Gasoline Fuel', 'engine_320.0HP Electric Motor Electric Fuel System', 'engine_321.0HP 3.0L V6 Cylinder Engine Gas/Electric Hybrid', 'engine_321.0HP 3.6L V6 Cylinder Engine Gasoline Fuel', 'engine_321.0HP Electric Motor Electric Fuel System', 'engine_322.0HP 2.0L 4 Cylinder Engine Plug-In Electric/Gas', 'engine_323.0HP 3.6L V6 Cylinder Engine Gasoline Fuel', 'engine_323.0HP 6.0L 8 Cylinder Engine Gasoline Fuel', 'engine_324.0HP 6.0L 8 Cylinder Engine Flex Fuel Capability', 'engine_325.0HP 2.0L 4 Cylinder Engine Gasoline/Mild Electric Hybrid', 'engine_325.0HP 2.7L V6 Cylinder Engine Gasoline Fuel', 'engine_325.0HP 2.9L V6 Cylinder Engine Gasoline Fuel', 'engine_325.0HP 3.0L Straight 6 Cylinder Engine Gasoline Fuel', 'engine_325.0HP 3.4L Flat 6 Cylinder Engine Gasoline Fuel', 'engine_325.0HP 3.6L Flat 6 Cylinder Engine Gasoline Fuel', 'engine_325.0HP 3.7L V6 Cylinder Engine Gasoline Fuel', 'engine_325.0HP 5.7L 8 Cylinder Engine Gasoline Fuel', 'engine_325.0HP 6.0L 8 Cylinder Engine Diesel Fuel', 'engine_325.0HP 6.0L 8 Cylinder Engine Gasoline Fuel', 'engine_325.0HP 8.1L 8 Cylinder Engine Gasoline Fuel', 'engine_326.0HP 3.0L Straight 6 Cylinder Engine Gasoline Fuel', 'engine_326.0HP 5.4L 12 Cylinder Engine Gasoline Fuel', 'engine_328.0HP 3.7L V6 Cylinder Engine Gasoline Fuel', 'engine_329.0HP 3.0L V6 Cylinder Engine Gasoline Fuel', 'engine_329.0HP Electric Motor Electric Fuel System', 'engine_330.0HP 2.0L 4 Cylinder Engine Gasoline Fuel', 'engine_330.0HP 3.0L V6 Cylinder Engine Gasoline Fuel', 'engine_330.0HP 3.4L Flat 6 Cylinder Engine Gasoline Fuel', 'engine_330.0HP 3.7L V6 Cylinder Engine Gasoline Fuel', 'engine_330.0HP 5.7L 8 Cylinder Engine Gasoline Fuel', 'engine_332.0HP 3.7L V6 Cylinder Engine Gasoline Fuel', 'engine_332.0HP 6.0L 8 Cylinder Engine Gas/Electric Hybrid', 'engine_333.0HP 3.0L V6 Cylinder Engine Gasoline Fuel', 'engine_333.0HP 3.2L Straight 6 Cylinder Engine Gasoline Fuel', 'engine_335.0HP 2.7L V6 Cylinder Engine Gasoline Fuel', 'engine_335.0HP 3.0L Straight 6 Cylinder Engine Gasoline Fuel', 'engine_335.0HP 3.0L Straight 6 Cylinder Engine Gasoline/Mild Electric Hybrid', 'engine_335.0HP 3.0L V6 Cylinder Engine Gasoline Fuel', 'engine_335.0HP 3.0L V6 Cylinder Engine Gasoline/Mild Electric Hybrid', 'engine_335.0HP 3.6L V6 Cylinder Engine Gasoline Fuel', 'engine_335.0HP 4.6L 8 Cylinder Engine Gasoline Fuel', 'engine_335.0HP 4.7L 8 Cylinder Engine Gasoline Fuel', 'engine_335.0HP 5.7L 8 Cylinder Engine Gasoline Fuel', 'engine_335.0HP 6.6L 8 Cylinder Engine Diesel Fuel', 'engine_340.0HP 3.0L V6 Cylinder Engine Flex Fuel Capability', 'engine_340.0HP 3.0L V6 Cylinder Engine Gasoline Fuel', 'engine_340.0HP 3.4L Flat 6 Cylinder Engine Gasoline Fuel', 'engine_340.0HP 4.2L 8 Cylinder Engine Gasoline Fuel', 'engine_340.0HP 5.7L 8 Cylinder Engine Gasoline Fuel', 'engine_340.0HP 8.1L 8 Cylinder Engine Gasoline Fuel', 'engine_341.0HP 6.0L 8 Cylinder Engine Flex Fuel Capability', 'engine_342.0HP 6.0L 8 Cylinder Engine Flex Fuel Capability', 'engine_344.0HP 3.8L V6 Cylinder Engine Gasoline Fuel', 'engine_345.0HP 3.0L V6 Cylinder Engine Gasoline Fuel', 'engine_345.0HP 3.6L Flat 6 Cylinder Engine Gasoline Fuel', 'engine_345.0HP 5.7L 8 Cylinder Engine Gasoline Fuel', 'engine_345.0HP 6.0L 8 Cylinder Engine Gasoline Fuel', 'engine_346.0HP Electric Motor Electric Fuel System', 'engine_348.0HP 3.0L V6 Cylinder Engine Gasoline Fuel', 'engine_348.0HP 3.8L V6 Cylinder Engine Gasoline Fuel', 'engine_349.0HP 3.0L V6 Cylinder Engine Gasoline Fuel', 'engine_350.0HP 2.3L 4 Cylinder Engine Gasoline Fuel', 'engine_350.0HP 2.5L 4 Cylinder Engine Gasoline Fuel', 'engine_350.0HP 3.4L Flat 6 Cylinder Engine Gasoline Fuel', 'engine_350.0HP 3.7L V6 Cylinder Engine Gasoline Fuel', 'engine_350.0HP 5.7L 8 Cylinder Engine Gasoline Fuel', 'engine_350.0HP 6.4L 8 Cylinder Engine Diesel Fuel', 'engine_350.0HP 6.7L Straight 6 Cylinder Engine Diesel Fuel', 'engine_353.0HP 6.0L 8 Cylinder Engine Gasoline Fuel', 'engine_354.0HP 3.0L V6 Cylinder Engine Gasoline Fuel', 'engine_354.0HP 3.5L V6 Cylinder Engine Gas/Electric Hybrid', 'engine_354.0HP 4.2L 8 Cylinder Engine Gasoline Fuel', 'engine_355.0HP 2.0L 4 Cylinder Engine Gasoline Fuel', 'engine_355.0HP 3.0L Straight 6 Cylinder Engine Gasoline/Mild Electric Hybrid', 'engine_355.0HP 3.0L V6 Cylinder Engine Gasoline Fuel', 'engine_355.0HP 3.8L Flat 6 Cylinder Engine Gasoline Fuel', 'engine_355.0HP 5.3L 8 Cylinder Engine Flex Fuel Capability', 'engine_355.0HP 5.3L 8 Cylinder Engine Gasoline Fuel', 'engine_355.0HP 5.7L 8 Cylinder Engine Gasoline Fuel', 'engine_355.0HP 6.0L 8 Cylinder Engine Gasoline Fuel', 'engine_355.0HP Electric Motor Electric Fuel System', 'engine_357.0HP 1.5L 3 Cylinder Engine Plug-In Electric/Gas', 'engine_360.0HP 2.5L 5 Cylinder Engine Gasoline Fuel', 'engine_360.0HP 3.5L V6 Cylinder Engine Gas/Electric Hybrid', 'engine_360.0HP 4.2L 8 Cylinder Engine Gasoline Fuel', 'engine_360.0HP 4.6L 8 Cylinder Engine Gasoline Fuel', 'engine_360.0HP 4.8L 8 Cylinder Engine Gasoline Fuel', 'engine_360.0HP 5.7L 8 Cylinder Engine Gasoline Fuel', 'engine_360.0HP 6.0L 8 Cylinder Engine Flex Fuel Capability', 'engine_360.0HP 6.6L 8 Cylinder Engine Diesel Fuel', 'engine_362.0HP 3.0L Straight 6 Cylinder Engine Gasoline/Mild Electric Hybrid', 'engine_362.0HP 3.0L V6 Cylinder Engine Gasoline Fuel', 'engine_362.0HP 4.6L 8 Cylinder Engine Gasoline Fuel', 'engine_362.0HP 5.4L 8 Cylinder Engine Gasoline Fuel', 'engine_362.0HP Electric Motor Electric Fuel System', 'engine_363.0HP 5.7L 8 Cylinder Engine Gasoline Fuel', 'engine_365.0HP 2.5L 4 Cylinder Engine Gasoline Fuel', 'engine_365.0HP 3.0L Straight 6 Cylinder Engine Gasoline Fuel', 'engine_365.0HP 3.3L V6 Cylinder Engine Gasoline Fuel', 'engine_365.0HP 3.5L V6 Cylinder Engine Gasoline Fuel', 'engine_366.0HP 6.0L 8 Cylinder Engine Gasoline Fuel', 'engine_369.0HP 1.5L 3 Cylinder Engine Plug-In Electric/Gas', 'engine_369.0HP 3.0L Straight 6 Cylinder Engine Gasoline/Mild Electric Hybrid', 'engine_370.0HP 5.7L 8 Cylinder Engine Gasoline Fuel', 'engine_370.0HP 6.7L Straight 6 Cylinder Engine Diesel Fuel', 'engine_372.0HP 5.7L 8 Cylinder Engine Gasoline Fuel', 'engine_375.0HP 2.0L 4 Cylinder Engine Gasoline Fuel', 'engine_375.0HP 2.0L 4 Cylinder Engine Plug-In Electric/Gas', 'engine_375.0HP 2.9L V6 Cylinder Engine Gasoline Fuel', 'engine_375.0HP 3.0L Straight 6 Cylinder Engine Gasoline/Mild Electric Hybrid', 'engine_375.0HP 3.5L V6 Cylinder Engine Gasoline Fuel', 'engine_375.0HP 5.0L 8 Cylinder Engine Gasoline Fuel', 'engine_375.0HP 5.6L 8 Cylinder Engine Gasoline Fuel', 'engine_375.0HP 5.7L 8 Cylinder Engine Gasoline Fuel', 'engine_375.0HP Electric Motor Electric Fuel System', 'engine_378.0HP 4.6L 8 Cylinder Engine Gasoline Fuel', 'engine_379.0HP 3.0L Flat 6 Cylinder Engine Gasoline Fuel', 'engine_380.0HP 3.0L V6 Cylinder Engine Gasoline Fuel', 'engine_380.0HP 3.5L V6 Cylinder Engine Gasoline Fuel', 'engine_380.0HP 4.3L 8 Cylinder Engine Gasoline Fuel', 'engine_380.0HP 4.6L 8 Cylinder Engine Gasoline Fuel', 'engine_380.0HP 5.4L 8 Cylinder Engine Gasoline Fuel', 'engine_381.0HP 5.7L 8 Cylinder Engine Flex Fuel Capability', 'engine_381.0HP 5.7L 8 Cylinder Engine Gasoline Fuel', 'engine_382.0HP 2.0L 4 Cylinder Engine Gasoline Fuel', 'engine_382.0HP 3.0L Straight 6 Cylinder Engine Gasoline Fuel', 'engine_382.0HP 3.0L Straight 6 Cylinder Engine Gasoline/Mild Electric Hybrid', 'engine_382.0HP 5.5L 8 Cylinder Engine Gasoline Fuel', 'engine_383.0HP 5.7L 8 Cylinder Engine Gasoline Fuel', 'engine_385.0HP 3.0L V6 Cylinder Engine Gasoline Fuel', 'engine_385.0HP 3.8L Flat 6 Cylinder Engine Gasoline Fuel', 'engine_385.0HP 5.0L 8 Cylinder Engine Flex Fuel Capability', 'engine_385.0HP 5.0L 8 Cylinder Engine Gasoline Fuel', 'engine_385.0HP 6.2L 8 Cylinder Engine Flex Fuel Capability', 'engine_385.0HP 6.7L Straight 6 Cylinder Engine Diesel Fuel', 'engine_386.0HP 4.6L 8 Cylinder Engine Gasoline Fuel', 'engine_389.0HP 3.0L Straight 6 Cylinder Engine Plug-In Electric/Gas', 'engine_389.0HP 3.4L V6 Cylinder Engine Gasoline Fuel', 'engine_390.0HP 4.2L 8 Cylinder Engine Gasoline Fuel', 'engine_390.0HP 4.6L 8 Cylinder Engine Gasoline Fuel', 'engine_390.0HP 5.0L 8 Cylinder Engine Gasoline Fuel', 'engine_390.0HP 5.6L 8 Cylinder Engine Gasoline Fuel', 'engine_390.0HP 5.7L 8 Cylinder Engine Gasoline Fuel', 'engine_390.0HP 6.0L 8 Cylinder Engine Gasoline Fuel', 'engine_393.0HP 6.2L 8 Cylinder Engine Gasoline Fuel', 'engine_394.0HP 4.2L 8 Cylinder Engine Gasoline Fuel', 'engine_395.0HP 3.0L Straight 6 Cylinder Engine Gasoline/Mild Electric Hybrid', 'engine_395.0HP 5.0L 8 Cylinder Engine Flex Fuel Capability', 'engine_395.0HP 5.7L 8 Cylinder Engine Gasoline Fuel', 'engine_395.0HP 5.7L 8 Cylinder Engine Gasoline/Mild Electric Hybrid', 'engine_395.0HP 6.0L 8 Cylinder Engine Gasoline Fuel', 'engine_397.0HP 6.6L 8 Cylinder Engine Diesel Fuel', 'engine_3L I-6 gasoline direct injection, DOHC, Double VANOS variable va', 'engine_3L V-6 gasoline direct injection, DOHC, variable valve control,', 'engine_4.0 Liter', 'engine_4.0 Liter TFSI', 'engine_4.0 Liter Turbo', 'engine_4.0 Liter Twin Turbo', 'engine_4.0L', 'engine_4.0L H6 24V GDI DOHC', 'engine_4.0L V6 24V MPFI DOHC', 'engine_4.0L V8 32V GDI DOHC Twin Turbo', 'engine_4.0L V8 32V MPFI DOHC Twin Turbo', 'engine_4.2L V8 32V GDI DOHC', 'engine_4.2L V8 32V GDI DOHC Twin Turbo', 'engine_4.4 Liter', 'engine_4.4 Liter DOHC Twin Turbo', 'engine_4.4 Liter GDI DOHC Twin Turbo', 'engine_4.4 Liter Twin Turbo', 'engine_4.4L V8 32V GDI DOHC Twin Turbo', 'engine_4.6 Liter', 'engine_4.6L V8 32V MPFI DOHC', 'engine_4.7 Liter Twin Turbo', 'engine_4.7L 8 Cylinder Engine Gasoline Fuel', 'engine_400.0HP 2.0L 4 Cylinder Engine Plug-In Electric/Gas', 'engine_400.0HP 2.5L 5 Cylinder Engine Gasoline Fuel', 'engine_400.0HP 3.0L V6 Cylinder Engine Gasoline Fuel', 'engine_400.0HP 3.5L V6 Cylinder Engine Gasoline Fuel', 'engine_400.0HP 3.6L V6 Cylinder Engine Gasoline Fuel', 'engine_400.0HP 3.8L Flat 6 Cylinder Engine Gasoline Fuel', 'engine_400.0HP 4.2L 8 Cylinder Engine Gasoline Fuel', 'engine_400.0HP 4.4L 8 Cylinder Engine Gasoline Fuel', 'engine_400.0HP 4.8L 8 Cylinder Engine Gasoline Fuel', 'engine_400.0HP 5.0L 8 Cylinder Engine Gasoline Fuel', 'engine_400.0HP 5.6L 8 Cylinder Engine Gasoline Fuel', 'engine_400.0HP 6.0L 8 Cylinder Engine Gasoline Fuel', 'engine_400.0HP 6.2L 8 Cylinder Engine Gasoline Fuel', 'engine_400.0HP 6.75L 8 Cylinder Engine Gasoline Fuel', 'engine_400.0HP 6.7L 8 Cylinder Engine Diesel Fuel', 'engine_400.0HP 6.7L Straight 6 Cylinder Engine Diesel Fuel', 'engine_401.0HP 2.5L 5 Cylinder Engine Gasoline Fuel', 'engine_401.0HP 6.6L 8 Cylinder Engine Gasoline Fuel', 'engine_402.0HP 4.6L 8 Cylinder Engine Gasoline Fuel', 'engine_402.0HP 4.7L 8 Cylinder Engine Gasoline Fuel', 'engine_402.0HP Electric Motor Electric Fuel System', 'engine_403.0HP 2.0L Electric Motor Electric Fuel System', 'engine_403.0HP 6.2L 8 Cylinder Engine Flex Fuel Capability', 'engine_403.0HP 6.2L 8 Cylinder Engine Gasoline Fuel', 'engine_404.0HP 3.0L V6 Cylinder Engine Gasoline Fuel', 'engine_405.0HP 3.0L Straight 6 Cylinder Engine Gasoline Fuel', 'engine_405.0HP 3.0L V6 Cylinder Engine Gasoline Fuel', 'engine_405.0HP 4.2L 8 Cylinder Engine Gasoline Fuel', 'engine_405.0HP 4.8L 8 Cylinder Engine Gasoline Fuel', 'engine_405.0HP 5.7L 8 Cylinder Engine Gasoline Fuel', 'engine_407.0HP 4.4L 8 Cylinder Engine Gasoline Fuel', 'engine_409.0HP 3.4L V6 Cylinder Engine Gasoline Fuel', 'engine_410.0HP 6.4L 8 Cylinder Engine Gasoline Fuel', 'engine_411.0HP 6.2L 8 Cylinder Engine Gasoline Fuel', 'engine_412.0HP 5.0L 8 Cylinder Engine Gasoline Fuel', 'engine_414.0HP 4.0L 8 Cylinder Engine Gasoline Fuel', 'engine_414.0HP 4.0L Flat 6 Cylinder Engine Gasoline Fuel', 'engine_415.0HP 3.6L Flat 6 Cylinder Engine Gasoline Fuel', 'engine_416.0HP 3.0L V6 Cylinder Engine Plug-In Electric/Gas', 'engine_416.0HP 3.5L V6 Cylinder Engine Gasoline Fuel', 'engine_416.0HP 4.0L 8 Cylinder Engine Gasoline Fuel', 'engine_416.0HP 5.0L 8 Cylinder Engine Gasoline Fuel', 'engine_416.0HP Electric Motor Electric Fuel System', 'engine_417.0HP Electric Motor Electric Fuel System', 'engine_420.0HP 3.0L Flat 6 Cylinder Engine Gasoline Fuel', 'engine_420.0HP 3.6L V6 Cylinder Engine Gasoline Fuel', 'engine_420.0HP 4.0L 8 Cylinder Engine Gasoline Fuel', 'engine_420.0HP 4.2L 8 Cylinder Engine Gasoline Fuel', 'engine_420.0HP 4.7L 8 Cylinder Engine Gasoline Fuel', 'engine_420.0HP 4.8L 8 Cylinder Engine Gasoline Fuel', 'engine_420.0HP 5.0L 8 Cylinder Engine Gasoline Fuel', 'engine_420.0HP 5.6L 8 Cylinder Engine Gasoline Fuel', 'engine_420.0HP 5.9L 12 Cylinder Engine Gasoline Fuel', 'engine_420.0HP 6.2L 8 Cylinder Engine Gasoline Fuel', 'engine_422.0HP Electric Motor Electric Fuel System', 'engine_424.0HP 3.0L V6 Cylinder Engine Gasoline Fuel', 'engine_425.0HP 3.0L Straight 6 Cylinder Engine Gasoline Fuel', 'engine_425.0HP 4.7L 8 Cylinder Engine Gasoline Fuel', 'engine_425.0HP 6.1L 8 Cylinder Engine Gasoline Fuel', 'engine_425.0HP Electric Motor Electric Fuel System', 'engine_426.0HP 6.2L 8 Cylinder Engine Gasoline Fuel', 'engine_429.0HP 3.0L Straight 6 Cylinder Engine Gasoline/Mild Electric Hybrid', 'engine_429.0HP 4.6L 8 Cylinder Engine Gasoline Fuel', 'engine_429.0HP 4.7L 8 Cylinder Engine Gasoline Fuel', 'engine_429.0HP 5.0L 8 Cylinder Engine Gasoline Fuel', 'engine_430.0HP 3.5L V6 Cylinder Engine Gas/Electric Hybrid', 'engine_430.0HP 3.8L Flat 6 Cylinder Engine Gasoline Fuel', 'engine_430.0HP 4.7L 8 Cylinder Engine Gasoline Fuel', 'engine_430.0HP 6.2L 8 Cylinder Engine Gasoline Fuel', 'engine_430.0HP 7.3L 8 Cylinder Engine Gasoline Fuel', 'engine_435.0HP 5.0L 8 Cylinder Engine Gasoline Fuel', 'engine_437.0HP 3.4L V6 Cylinder Engine Gas/Electric Hybrid', 'engine_440.0HP 2.9L V6 Cylinder Engine Gasoline Fuel', 'engine_440.0HP 3.5L V6 Cylinder Engine Gasoline Fuel', 'engine_440.0HP 3.6L V6 Cylinder Engine Gasoline Fuel', 'engine_440.0HP 4.7L 8 Cylinder Engine Gasoline Fuel', 'engine_440.0HP 4.8L 8 Cylinder Engine Gasoline Fuel', 'engine_440.0HP 6.7L 8 Cylinder Engine Diesel Fuel', 'engine_443.0HP 3.0L Flat 6 Cylinder Engine Gasoline Fuel', 'engine_443.0HP 4.4L 8 Cylinder Engine Gasoline Fuel', 'engine_444.0HP 2.9L V6 Cylinder Engine Gasoline Fuel', 'engine_444.0HP 2.9L V6 Cylinder Engine Gasoline/Mild Electric Hybrid', 'engine_444.0HP 3.0L Straight 6 Cylinder Engine Gasoline Fuel', 'engine_444.0HP 4.7L 8 Cylinder Engine Gasoline Fuel', 'engine_444.0HP 5.0L 8 Cylinder Engine Gasoline Fuel', 'engine_445.0HP 4.4L 8 Cylinder Engine Gasoline Fuel', 'engine_445.0HP 6.6L 8 Cylinder Engine Diesel Fuel', 'engine_449.0HP 4.7L 8 Cylinder Engine Gasoline Fuel', 'engine_450.0HP 3.0L Flat 6 Cylinder Engine Gasoline Fuel', 'engine_450.0HP 3.5L V6 Cylinder Engine Gasoline Fuel', 'engine_450.0HP 4.0L 8 Cylinder Engine Gasoline Fuel', 'engine_450.0HP 4.2L 8 Cylinder Engine Gasoline Fuel', 'engine_450.0HP 4.5L 8 Cylinder Engine Gasoline Fuel', 'engine_450.0HP 6.7L 8 Cylinder Engine Diesel Fuel', 'engine_451.0HP 6.2L 8 Cylinder Engine Gasoline Fuel', 'engine_451.0HP 6.3L 8 Cylinder Engine Gasoline Fuel', 'engine_453.0HP 3.0L Straight 6 Cylinder Engine Gasoline Fuel', 'engine_453.0HP 4.0L 8 Cylinder Engine Gasoline Fuel', 'engine_454.0HP 4.7L 8 Cylinder Engine Gasoline Fuel', 'engine_455.0HP 2.0L 4 Cylinder Engine Plug-In Electric/Gas', 'engine_455.0HP 6.2L 8 Cylinder Engine Gasoline Fuel', 'engine_455.0HP Electric Motor Electric Fuel System', 'engine_456.0HP 4.0L 8 Cylinder Engine Gasoline Fuel', 'engine_456.0HP 4.4L 8 Cylinder Engine Gasoline Fuel', 'engine_460.0HP 5.0L 8 Cylinder Engine Gasoline Fuel', 'engine_460.0HP 6.2L 8 Cylinder Engine Gasoline Fuel', 'engine_463.0HP 4.0L 8 Cylinder Engine Gasoline Fuel', 'engine_467.0HP 5.0L 8 Cylinder Engine Gasoline Fuel', 'engine_469.0HP 4.0L 8 Cylinder Engine Gasoline Fuel', 'engine_469.0HP 5.4L 8 Cylinder Engine Gasoline Fuel', 'engine_470.0HP 6.4L 8 Cylinder Engine Gasoline Fuel', 'engine_471.0HP 5.0L 8 Cylinder Engine Gasoline Fuel', 'engine_471.0HP 6.4L 8 Cylinder Engine Gasoline Fuel', 'engine_473.0HP 3.0L Flat 6 Cylinder Engine Gasoline Fuel', 'engine_473.0HP 3.0L Straight 6 Cylinder Engine Gasoline Fuel', 'engine_475.0HP 3.8L Flat 6 Cylinder Engine Gasoline Fuel', 'engine_475.0HP 6.4L 8 Cylinder Engine Gasoline Fuel', 'engine_475.0HP 6.7L 8 Cylinder Engine Diesel Fuel', 'engine_480.0HP 3.6L Flat 6 Cylinder Engine Gasoline Fuel', 'engine_480.0HP 3.8L V6 Cylinder Engine Gasoline Fuel', 'engine_480.0HP 5.0L 8 Cylinder Engine Gasoline Fuel', 'engine_480.0HP Electric Motor Electric Fuel System', 'engine_482.0HP Electric Motor Electric Fuel System', 'engine_483.0HP 4.3L 8 Cylinder Engine Gasoline Fuel', 'engine_485.0HP 3.8L V6 Cylinder Engine Gasoline Fuel', 'engine_485.0HP 6.4L 8 Cylinder Engine Gasoline Fuel', 'engine_490.0HP 6.2L 8 Cylinder Engine Gasoline Fuel', 'engine_493.0HP 5.0L 10 Cylinder Engine Gasoline Fuel', 'engine_493.0HP 5.5L 12 Cylinder Engine Gasoline Fuel', 'engine_495.0HP 5.0L 8 Cylinder Engine Gasoline Fuel', 'engine_496.0HP 4.0L 8 Cylinder Engine Gasoline/Mild Electric Hybrid', 'engine_4L H-6 gasoline direct injection, DOHC, VarioCam Plus variable v', 'engine_4L V-6 DOHC, VVT-i variable valve control, engine with 270HP', 'engine_4L V-6 DOHC, VVT-i variable valve control, regular unleaded, eng', 'engine_4L V-8 gasoline direct injection, DOHC, variable valve control,', 'engine_5.0 Liter', 'engine_5.0L 8 Cylinder', 'engine_5.0L V8 32V GDI DOHC Supercharged', 'engine_5.0L V8 32V PDI DOHC', 'engine_5.2L V-10 gasoline direct injection, DOHC, variable valve contro', 'engine_5.2L V10 40V GDI DOHC', 'engine_5.2L V10 40V PDI DOHC', 'engine_5.2L V12 48V GDI DOHC Twin Turbo', 'engine_5.3 Liter', 'engine_5.3L V8 16V GDI OHV', 'engine_5.3L V8 16V MPFI OHV Flexible Fuel', 'engine_5.4 Liter', 'engine_5.4 Liter SC DOHC', 'engine_5.5 Liter', 'engine_5.6 Liter', 'engine_5.6L V8 32V GDI DOHC', 'engine_5.7 Liter', 'engine_5.7L V8 16V MPFI OHV', 'engine_5.7L V8 32V MPFI DOHC', 'engine_5.8L V8 32V MPFI DOHC Supercharged', 'engine_500.0HP 4.0L 8 Cylinder Engine Gasoline Fuel', 'engine_500.0HP 4.0L Flat 6 Cylinder Engine Gasoline Fuel', 'engine_500.0HP 4.8L 8 Cylinder Engine Gasoline Fuel', 'engine_500.0HP 5.0L 10 Cylinder Engine Gasoline Fuel', 'engine_500.0HP 5.4L 8 Cylinder Engine Gasoline Fuel', 'engine_500.0HP 8.3L 10 Cylinder Engine Gasoline Fuel', 'engine_500.0HP Electric Motor Electric Fuel System', 'engine_502.0HP 4.0L Flat 6 Cylinder Engine Gasoline Fuel', 'engine_503.0HP 3.0L Straight 6 Cylinder Engine Gasoline Fuel', 'engine_503.0HP 4.0L 8 Cylinder Engine Gasoline Fuel', 'engine_505.0HP 2.9L V6 Cylinder Engine Gasoline Fuel', 'engine_505.0HP 7.0L 8 Cylinder Engine Gasoline Fuel', 'engine_510.0HP 5.0L 8 Cylinder Engine Flex Fuel Capability', 'engine_510.0HP 5.0L 8 Cylinder Engine Gasoline Fuel', 'engine_510.0HP 5.5L 12 Cylinder Engine Gasoline Fuel', 'engine_518.0HP 5.0L 8 Cylinder Engine Gasoline Fuel', 'engine_518.0HP 6.2L 8 Cylinder Engine Gasoline Fuel', 'engine_518.0HP 6.3L 8 Cylinder Engine Gasoline Fuel', 'engine_518.0HP Electric Motor Electric Fuel System', 'engine_520.0HP 4.8L 8 Cylinder Engine Gasoline Fuel', 'engine_521.0HP 4.0L 8 Cylinder Engine Gasoline Fuel', 'engine_523.0HP 4.4L 8 Cylinder Engine Gasoline Fuel', 'engine_523.0HP 6.0L 12 Cylinder Engine Gasoline Fuel', 'engine_525.0HP 5.2L 10 Cylinder Engine Gasoline Fuel', 'engine_526.0HP 5.2L 8 Cylinder Engine Gasoline Fuel', 'engine_533.0HP Electric Motor Electric Fuel System', 'engine_534.0HP Electric Motor Electric Fuel System', 'engine_536.0HP 5.5L 8 Cylinder Engine Gasoline Fuel', 'engine_536.0HP Electric Motor Electric Fuel System', 'engine_540.0HP 3.8L Flat 6 Cylinder Engine Gasoline Fuel', 'engine_540.0HP 4.4L 8 Cylinder Engine Gasoline Fuel', 'engine_540.0HP 5.4L 8 Cylinder Engine Gasoline Fuel', 'engine_542.0HP 4.0L 8 Cylinder Engine Gasoline Fuel', 'engine_543.0HP 3.0L Straight 6 Cylinder Engine Gasoline Fuel', 'engine_543.0HP 5.5L 12 Cylinder Engine Gasoline Fuel', 'engine_545.0HP 3.8L V6 Cylinder Engine Gasoline Fuel', 'engine_550.0HP 4.0L 8 Cylinder Engine Gasoline Fuel', 'engine_550.0HP 4.8L 8 Cylinder Engine Gasoline Fuel', 'engine_550.0HP 5.0L 8 Cylinder Engine Flex Fuel Capability', 'engine_550.0HP 5.0L 8 Cylinder Engine Gasoline Fuel', 'engine_550.0HP 5.2L 10 Cylinder Engine Gasoline Fuel', 'engine_550.0HP 5.4L 8 Cylinder Engine Gasoline Fuel', 'engine_550.0HP 5.5L 8 Cylinder Engine Gasoline Fuel', 'engine_550.0HP 6.0L 12 Cylinder Engine Gasoline Fuel', 'engine_552.0HP 6.0L 12 Cylinder Engine Flex Fuel Capability', 'engine_552.0HP 6.0L 12 Cylinder Engine Gasoline Fuel', 'engine_553.0HP 3.9L 8 Cylinder Engine Gasoline Fuel', 'engine_555.0HP 4.4L 8 Cylinder Engine Gasoline Fuel', 'engine_556.0HP 6.2L 8 Cylinder Engine Gasoline Fuel', 'engine_557.0HP 5.0L 8 Cylinder Engine Gasoline Fuel', 'engine_557.0HP Electric Motor Electric Fuel System', 'engine_560.0HP 4.0L 8 Cylinder Engine Gasoline Fuel', 'engine_560.0HP 4.4L 8 Cylinder Engine Gasoline Fuel', 'engine_560.0HP 5.2L 10 Cylinder Engine Gasoline Fuel', 'engine_562.0HP 3.8L 8 Cylinder Engine Gasoline Fuel', 'engine_562.0HP 5.2L 10 Cylinder Engine Gasoline Fuel', 'engine_563.0HP 5.5L 8 Cylinder Engine Gasoline Fuel', 'engine_563.0HP 6.6L 12 Cylinder Engine Gasoline Fuel', 'engine_563.0HP 6.7L 12 Cylinder Engine Gasoline Fuel', 'engine_563.0HP Electric Motor Electric Fuel System', 'engine_565.0HP 3.8L V6 Cylinder Engine Gasoline Fuel', 'engine_567.0HP 4.4L 8 Cylinder Engine Gasoline Fuel', 'engine_567.0HP 6.0L 12 Cylinder Engine Flex Fuel Capability', 'engine_571.0HP 6.2L 12 Cylinder Engine Gasoline Fuel', 'engine_572.0HP 3.8L Flat 6 Cylinder Engine Gasoline Fuel', 'engine_573.0HP 5.2L 10 Cylinder Engine Gasoline Fuel', 'engine_575.0HP 5.0L 8 Cylinder Engine Gasoline Fuel', 'engine_577.0HP 4.0L 8 Cylinder Engine Gasoline Fuel', 'engine_577.0HP 5.5L 8 Cylinder Engine Gasoline Fuel', 'engine_580.0HP 3.8L Flat 6 Cylinder Engine Gasoline Fuel', 'engine_582.0HP 6.0L 12 Cylinder Engine Gasoline Fuel', 'engine_591.0HP 4.0L 8 Cylinder Engine Gasoline Fuel', 'engine_591.0HP 4.0L 8 Cylinder Engine Gasoline/Mild Electric Hybrid', 'engine_5L V-8 gasoline direct injection, DOHC, variable valve control,', 'engine_6.0L 8 Cylinder Engine Gasoline Fuel', 'engine_6.0L V8 16V MPFI OHV', 'engine_6.0L V8 16V MPFI OHV Flexible Fuel', 'engine_6.0L W12 48V PDI DOHC Twin Turbo', 'engine_6.2 Liter', 'engine_6.2L V8 16V GDI OHV', 'engine_6.2L V8 16V GDI OHV Supercharged', 'engine_6.2L V8 16V MPFI SOHC Flexible Fuel', 'engine_6.2L V8 32V MPFI DOHC', 'engine_6.3L V12 48V GDI DOHC', 'engine_6.4 Liter', 'engine_6.4L V8 16V MPFI OHV', 'engine_6.4L V8 32V DDI OHV Twin Turbo Diesel', 'engine_6.5L V-12 DOHC, variable valve control, premium unleaded, engine', 'engine_6.5L V12 48V MPFI DOHC', 'engine_6.6 Liter Twin Turbo', 'engine_6.6L V-12 gasoline direct injection, DOHC, variable valve contro', 'engine_6.6L V8 16V GDI OHV', 'engine_6.6L V8 32V DDI OHV Turbo Diesel', 'engine_6.7L I6 24V DDI OHV Turbo Diesel', 'engine_6.7L V12 48V GDI DOHC Twin Turbo', 'engine_6.7L V8 32V DDI OHV Turbo Diesel', 'engine_6.8L V12 48V GDI DOHC', 'engine_6.8L V12 48V GDI DOHC Twin Turbo', 'engine_600.0HP 4.4L 8 Cylinder Engine Gasoline Fuel', 'engine_600.0HP 6.0L 12 Cylinder Engine Gasoline Fuel', 'engine_601.0HP 6.6L 12 Cylinder Engine Gasoline Fuel', 'engine_602.0HP 3.9L 8 Cylinder Engine Gasoline Fuel', 'engine_602.0HP 5.2L 10 Cylinder Engine Gasoline Fuel', 'engine_603.0HP 4.0L 8 Cylinder Engine Gasoline Fuel', 'engine_603.0HP 4.0L 8 Cylinder Engine Gasoline/Mild Electric Hybrid', 'engine_605.0HP 4.0L 8 Cylinder Engine Gasoline Fuel', 'engine_605.0HP 5.7L 10 Cylinder Engine Gasoline Fuel', 'engine_610.0HP 5.2L 10 Cylinder Engine Gasoline Fuel', 'engine_611.0HP 3.9L 8 Cylinder Engine Gasoline Fuel', 'engine_616.0HP 6.0L 12 Cylinder Engine Gasoline Fuel', 'engine_616.0HP Electric Motor Electric Fuel System', 'engine_617.0HP 4.4L 8 Cylinder Engine Gasoline Fuel', 'engine_620.0HP Electric Motor Electric Fuel System', 'engine_621.0HP 6.0L 12 Cylinder Engine Gasoline Fuel', 'engine_624.0HP 6.6L 12 Cylinder Engine Gasoline Fuel', 'engine_630.0HP 4.0L 8 Cylinder Engine Gasoline Fuel', 'engine_638.0HP 6.2L 8 Cylinder Engine Gasoline Fuel', 'engine_640.0HP 3.8L Flat 6 Cylinder Engine Gasoline Fuel', 'engine_640.0HP 6.2L 8 Cylinder Engine Gasoline Fuel', 'engine_641.0HP 4.0L 8 Cylinder Engine Gasoline Fuel', 'engine_645.0HP 8.4L 10 Cylinder Engine Gasoline Fuel', 'engine_650.0HP 5.8L 8 Cylinder Engine Gasoline Fuel', 'engine_650.0HP 6.2L 8 Cylinder Engine Gasoline Fuel', 'engine_651.0HP 6.3L 12 Cylinder Engine Gasoline Fuel', 'engine_660.0HP 3.9L 8 Cylinder Engine Gasoline Fuel', 'engine_670.0HP 5.5L 8 Cylinder Engine Gasoline Fuel', 'engine_670.0HP Electric Motor Electric Fuel System', 'engine_691.0HP Electric Motor Electric Fuel System', 'engine_6L W-12 port/direct injection, DOHC, variable valve control, twi', 'engine_70.0HP 1.0L 3 Cylinder Engine Gasoline Fuel', 'engine_702.0HP 6.2L 8 Cylinder Engine Gasoline Fuel', 'engine_707.0HP 6.2L 8 Cylinder Engine Gasoline Fuel', 'engine_710.0HP 4.0L 8 Cylinder Engine Gasoline Fuel', 'engine_715.0HP 5.2L 12 Cylinder Engine Gasoline Fuel', 'engine_717.0HP 6.2L 8 Cylinder Engine Gasoline Fuel', 'engine_729.0HP 6.5L 12 Cylinder Engine Gasoline Fuel', 'engine_759.0HP 6.5L 12 Cylinder Engine Gasoline Fuel', 'engine_76.0HP 1.5L 4 Cylinder Engine Gas/Electric Hybrid', 'engine_760.0HP 5.2L 8 Cylinder Engine Gasoline Fuel', 'engine_778.0HP Electric Motor Electric Fuel System', 'engine_78.0HP 1.2L 3 Cylinder Engine Gasoline Fuel', 'engine_788.0HP 6.5L 12 Cylinder Engine Gasoline Fuel', 'engine_797.0HP 6.2L 8 Cylinder Engine Gasoline Fuel', 'engine_8.0L W16 64V GDI DOHC Twin Turbo', 'engine_808.0HP 6.2L 8 Cylinder Engine Gasoline Fuel', 'engine_835.0HP Electric Motor Electric Fuel System', 'engine_AMG 3L I-6 gasoline direct injection, DOHC, variable valve contr', 'engine_Battery Electric', 'engine_Dual AC Electric Motors', 'engine_Dual Motor - Standard', 'engine_Electric', 'engine_Electric Motor Electric Fuel System', 'engine_HEMI 5.7L V-8 variable valve control, regular unleaded, engine w', 'engine_HEMI 6.2L V-8 intercooled supercharger, premium unleaded, engine', 'engine_I4', 'engine_Intercooled Turbo Diesel V-8 6.7 L/406', 'engine_Intercooled Turbo Premium Unleaded I-4 2.0 L/122', 'engine_LAMBDA II 3.8L V-6 gasoline direct injection, DOHC, D-CVVT varia', 'engine_Nettuno 3L V-6 port/direct injection, DOHC, variable valve contr', 'engine_Standard Range Battery', 'engine_V6', 'engine_V8', 'engine_–', 'transmission_1-Speed Automatic', 'transmission_10-Speed A/T', 'transmission_10-Speed Automatic', 'transmission_10-Speed Automatic with Overdrive', 'transmission_2', 'transmission_2-Speed A/T', 'transmission_2-Speed Automatic', 'transmission_4-Speed A/T', 'transmission_4-Speed Automatic', 'transmission_5-Speed A/T', 'transmission_5-Speed Automatic', 'transmission_5-Speed M/T', 'transmission_6 Speed At/Mt', 'transmission_6 Speed Mt', 'transmission_6-Speed', 'transmission_6-Speed A/T', 'transmission_6-Speed Automatic', 'transmission_6-Speed Automatic with Auto-Shift', 'transmission_6-Speed Electronically Controlled Automatic with O', 'transmission_6-Speed M/T', 'transmission_6-Speed Manual', 'transmission_7-Speed', 'transmission_7-Speed A/T', 'transmission_7-Speed Automatic', 'transmission_7-Speed Automatic with Auto-Shift', 'transmission_7-Speed DCT Automatic', 'transmission_7-Speed M/T', 'transmission_7-Speed Manual', 'transmission_8-SPEED A/T', 'transmission_8-SPEED AT', 'transmission_8-Speed A/T', 'transmission_8-Speed Automatic', 'transmission_8-Speed Automatic with Auto-Shift', 'transmission_8-Speed Manual', 'transmission_9-Speed A/T', 'transmission_9-Speed Automatic', 'transmission_9-Speed Automatic with Auto-Shift', 'transmission_A/T', 'transmission_Auto, 6-Spd w/CmdShft', 'transmission_Automatic', 'transmission_Automatic CVT', 'transmission_Automatic, 10-Spd', 'transmission_Automatic, 7-Spd S tronic Dual-Clutch', 'transmission_Automatic, 8-Spd', 'transmission_Automatic, 8-Spd Dual-Clutch', 'transmission_Automatic, 8-Spd M STEPTRONIC w/Drivelogic, Sport & Manual Modes', 'transmission_Automatic, 8-Spd PDK Dual-Clutch', 'transmission_Automatic, 8-Spd Sport w/Sport & Manual Modes', 'transmission_Automatic, 9-Spd 9G-Tronic', 'transmission_CVT Transmission', 'transmission_CVT-F', 'transmission_F', 'transmission_M/T', 'transmission_Manual', 'transmission_Manual, 6-Spd', 'transmission_SCHEDULED FOR OR IN PRODUCTION', 'transmission_Single-Speed Fixed Gear', 'transmission_Transmission Overdrive Switch', 'transmission_Transmission w/Dual Shift Mode', 'transmission_Variable', 'transmission_–', 'ext_col_Alfa White', 'ext_col_Alpine White', 'ext_col_Alta White', 'ext_col_Ametrin Metallic', 'ext_col_Anodized Blue Metallic', 'ext_col_Anthracite Blue Metallic', 'ext_col_Antimatter Blue Metallic', 'ext_col_Apex Blue', 'ext_col_Arancio Borealis', 'ext_col_Arctic Gray Metallic', 'ext_col_Arctic White', 'ext_col_Atomic Silver', 'ext_col_Aurora Black', 'ext_col_Aventurine Green Metallic', 'ext_col_BLACK', 'ext_col_BLU ELEOS', 'ext_col_BLUE', 'ext_col_Balloon White', 'ext_col_Baltic Gray', 'ext_col_Barcelona Red', 'ext_col_Bayside Blue', 'ext_col_Beige', 'ext_col_Beluga Black', 'ext_col_Bianco Icarus Metallic', 'ext_col_Bianco Isis', 'ext_col_Bianco Monocerus', 'ext_col_Billet Clearcoat Metallic', 'ext_col_Billet Silver Metallic Clearcoat', 'ext_col_Black', 'ext_col_Black Cherry', 'ext_col_Black Clearcoat', 'ext_col_Black Forest Green', 'ext_col_Black Noir Pearl', 'ext_col_Black Obsidian', 'ext_col_Black Raven', 'ext_col_Black Sapphire Metallic', 'ext_col_Blu', 'ext_col_Blue', 'ext_col_Blue Caelum', 'ext_col_Blue Metallic', 'ext_col_Blue Reflex Mica', 'ext_col_Blueprint', 'ext_col_Brands Hatch Gray Metallic', 'ext_col_Bright White Clearcoat', 'ext_col_Brilliant Black', 'ext_col_Brilliant Silver Metallic', 'ext_col_Bronze Dune Metallic', 'ext_col_Brown', 'ext_col_Burnished Bronze Metallic', 'ext_col_C / C', 'ext_col_Cajun Red Tintcoat', 'ext_col_Carbon Black Metallic', 'ext_col_Carbonized Gray Metallic', 'ext_col_Carpathian Grey', 'ext_col_Carpathian Grey Premium Metallic', 'ext_col_Carrara White Metallic', 'ext_col_Caspian Blue', 'ext_col_Caviar', 'ext_col_Cayenne Red Tintcoat', 'ext_col_Chalk', 'ext_col_China Blue', 'ext_col_Chronos Gray', 'ext_col_Chronos Gray Metallic', 'ext_col_Cirrus Silver Metallic', 'ext_col_Cobra Beige Metallic', 'ext_col_Crimson Red Tintcoat', 'ext_col_Crystal Black', 'ext_col_Crystal Black Pearl', 'ext_col_Crystal Black Silica', 'ext_col_Crystal White Pearl', 'ext_col_Custom Color', 'ext_col_DB Black Clearcoat', 'ext_col_Dark Ash Metallic', 'ext_col_Dark Graphite Metallic', 'ext_col_Dark Gray Metallic', 'ext_col_Dark Matter Metallic', 'ext_col_Dark Moon Blue Metallic', 'ext_col_Dark Moss', 'ext_col_Dark Sapphire', 'ext_col_Dark Slate Metallic', 'ext_col_Daytona Gray', 'ext_col_Daytona Gray Pearl Effect', 'ext_col_Daytona Gray Pearl Effect w/ Black Roof', 'ext_col_Dazzling White', 'ext_col_Deep Black Pearl Effect', 'ext_col_Deep Blue Metallic', 'ext_col_Deep Crystal Blue Mica', 'ext_col_Delmonico Red Pearlcoat', 'ext_col_Designo Magno Matte', 'ext_col_Diamond Black', 'ext_col_Diamond White', 'ext_col_Donington Grey Metallic', 'ext_col_Ebony Black', 'ext_col_Ebony Twilight Metallic', 'ext_col_Eiger Grey', 'ext_col_Eiger Grey Metallic', 'ext_col_Electric Blue Metallic', 'ext_col_Ember Pearlcoat', 'ext_col_Emerald Green Metallic', 'ext_col_Emin White', 'ext_col_Eminent White Pearl', 'ext_col_Firecracker Red Clearcoat', 'ext_col_Firenze Red', 'ext_col_Firenze Red Metallic', 'ext_col_Flame Red Clearcoat', 'ext_col_Florett Silver', 'ext_col_Fountain Blue', 'ext_col_Frozen Dark Silver Metallic', 'ext_col_Frozen White', 'ext_col_Fuji White', 'ext_col_GT SILVER', 'ext_col_Garnet Red Metallic', 'ext_col_Gecko Pearlcoat', 'ext_col_Gentian Blue Metallic', 'ext_col_Glacial White Pearl', 'ext_col_Glacier', 'ext_col_Glacier Blue Metallic', 'ext_col_Glacier Silver Metallic', 'ext_col_Glacier White', 'ext_col_Glacier White Metallic', 'ext_col_Go Mango!', 'ext_col_Gold', 'ext_col_Granite', 'ext_col_Granite Crystal Clearcoat Metallic', 'ext_col_Granite Crystal Metallic Clearcoat', 'ext_col_Graphite Grey', 'ext_col_Graphite Grey Metallic', 'ext_col_Gray', 'ext_col_Green', 'ext_col_Grigio Nimbus', 'ext_col_Gun Metallic', 'ext_col_Hampton Gray', 'ext_col_Hellayella Clearcoat', 'ext_col_Horizon Blue', 'ext_col_Hydro Blue Pearlcoat', 'ext_col_Hyper Red', 'ext_col_Ibis White', 'ext_col_Ice', 'ext_col_Ice Silver Metallic', 'ext_col_Iconic Silver Metallic', 'ext_col_Imperial Blue Metallic', 'ext_col_Indus Silver', 'ext_col_Infrared Tintcoat', 'ext_col_Ingot Silver Metallic', 'ext_col_Iridescent Pearl Tricoat', 'ext_col_Iridium Metallic', 'ext_col_Iridium Silver Metallic', 'ext_col_Ironman Silver', 'ext_col_Isle of Man Green Metallic', 'ext_col_Jet Black Mica', 'ext_col_Jungle Green', 'ext_col_Jupiter Red', 'ext_col_Kemora Gray Metallic', 'ext_col_Kinetic Blue', 'ext_col_Kodiak Brown Metallic', 'ext_col_Liquid Platinum', 'ext_col_Lizard Green', 'ext_col_Lunar Blue Metallic', 'ext_col_Lunar Rock', 'ext_col_Lunar Silver Metallic', 'ext_col_Lunare White Metallic', 'ext_col_MANUFAKTUR Diamond White Bright', 'ext_col_Machine Gray Metallic', 'ext_col_Magnetic Black', 'ext_col_Magnetic Gray Clearcoat', 'ext_col_Magnetic Gray Metallic', 'ext_col_Magnetic Metallic', 'ext_col_Magnetite Black Metallic', 'ext_col_Magnetite Gray Metallic', 'ext_col_Majestic Black Pearl', 'ext_col_Majestic Plum Metallic', 'ext_col_Mango Tango Pearlcoat', 'ext_col_Manhattan Noir Metallic', 'ext_col_Maroon', 'ext_col_Matador Red Metallic', 'ext_col_Matador Red Mica', 'ext_col_Matte White', 'ext_col_Maximum Steel Metallic', 'ext_col_Metallic', 'ext_col_Midnight Black', 'ext_col_Midnight Black Metallic', 'ext_col_Midnight Blue Metallic', 'ext_col_Midnight Silver Metallic', 'ext_col_Mineral White', 'ext_col_Moonlight Cloud', 'ext_col_Mosaic Black Metallic', 'ext_col_Mountain Air Metallic', 'ext_col_Mythos Black', 'ext_col_Mythos Black Metallic', 'ext_col_Nautical Blue Pearl', 'ext_col_Navarra Blue', 'ext_col_Navarra Blue Metallic', 'ext_col_Navarre Blue', 'ext_col_Nebula Gray Pearl', 'ext_col_Nero Daytona', 'ext_col_Nero Noctis', 'ext_col_Nightfall Gray Metallic', 'ext_col_Nightfall Mica', 'ext_col_Northsky Blue Metallic', 'ext_col_Obsidian', 'ext_col_Obsidian Black Metallic', 'ext_col_Octane Red Pearlcoat', 'ext_col_Onyx', 'ext_col_Onyx Black', 'ext_col_Orange', 'ext_col_Orca Black Metallic', 'ext_col_Oryx White Prl', 'ext_col_Oxford White', 'ext_col_Pacific Blue', 'ext_col_Pacific Blue Metallic', 'ext_col_Passion Red', 'ext_col_Patriot Blue Pearlcoat', 'ext_col_Pearl White', 'ext_col_Phantom Black', 'ext_col_Phantom Black Pearl Effect / Black Roof', 'ext_col_Phytonic Blue Metallic', 'ext_col_Pink', 'ext_col_Platinum Gray Metallic', 'ext_col_Platinum Quartz Metallic', 'ext_col_Platinum White Pearl', 'ext_col_Polymetal Gray Metallic', 'ext_col_Portofino Blue Metallic', 'ext_col_Portofino Gray', 'ext_col_Pristine White', 'ext_col_Pure White', 'ext_col_Purple', 'ext_col_Python Green', 'ext_col_Quartz Blue Pearl', 'ext_col_Quartz White', 'ext_col_Quartzite Grey Metallic', 'ext_col_Quicksilver Metallic', 'ext_col_Radiant Red Metallic II', 'ext_col_Rapid Red Metallic Tinted Clearcoat', 'ext_col_Red', 'ext_col_Red Multi', 'ext_col_Red Obsession', 'ext_col_Red Quartz Tintcoat', 'ext_col_Redline Red', 'ext_col_Reflex Silver', 'ext_col_Remington Red Metallic', 'ext_col_Rich Garnet Metallic', 'ext_col_Rift Metallic', 'ext_col_Rosso', 'ext_col_Rosso Corsa', 'ext_col_Rosso Mars Metallic', 'ext_col_Ruby Flare Pearl', 'ext_col_Ruby Red Metallic Tinted Clearcoat', 'ext_col_Sandstone Metallic', 'ext_col_Sangria Red', 'ext_col_Santorin Black', 'ext_col_Santorini Black', 'ext_col_Santorini Black Metallic', 'ext_col_Satin Steel Metallic', 'ext_col_Scarlet Ember', 'ext_col_Selenite Gray Metallic', 'ext_col_Selenite Grey Metallic', 'ext_col_Shadow Black', 'ext_col_Shadow Gray Metallic', 'ext_col_Shimmering Silver', 'ext_col_Shoreline Blue Pearl', 'ext_col_Silician Yellow', 'ext_col_Silky Silver', 'ext_col_Silver', 'ext_col_Silver Flare Metallic', 'ext_col_Silver Ice Metallic', 'ext_col_Silver Mist', 'ext_col_Silver Radiance', 'ext_col_Silver Zynith', 'ext_col_Siren Red Tintcoat', 'ext_col_Snow White Pearl', 'ext_col_Snowflake White Pearl', 'ext_col_Snowflake White Pearl Metallic', 'ext_col_Sonic Silver Metallic', 'ext_col_Soul Red Crystal Metallic', 'ext_col_Sparkling Silver', 'ext_col_Star White', 'ext_col_Stellar Black Metallic', 'ext_col_Sting Gray Clearcoat', 'ext_col_Stone Gray Metallic', 'ext_col_Stormy Sea', 'ext_col_Summit White', 'ext_col_Sunset Drift Chromaflair', 'ext_col_Super Black', 'ext_col_Super White', 'ext_col_Tan', 'ext_col_Tango Red Metallic', 'ext_col_Tempest', 'ext_col_Thunder Gray', 'ext_col_Titanium Silver', 'ext_col_Tungsten Metallic', 'ext_col_Twilight Black', 'ext_col_Twilight Blue Metallic', 'ext_col_Typhoon Gray', 'ext_col_Typhoon Gray Metallic', 'ext_col_Ultra Black', 'ext_col_Ultra White', 'ext_col_Vega Blue', 'ext_col_Velvet Red Pearlcoat', 'ext_col_Verde', 'ext_col_Vik Black', 'ext_col_Volcanic Orange', 'ext_col_Volcano Grey Metallic', 'ext_col_Vulcano Black Metallic', 'ext_col_White', 'ext_col_White Clearcoat', 'ext_col_White Diamond Tri-Coat', 'ext_col_White Frost Tri-Coat', 'ext_col_White Knuckle Clearcoat', 'ext_col_White Platinum Tri-Coat Metallic', 'ext_col_Wind Chill Pearl', 'ext_col_Wolf Gray', 'ext_col_Yellow', 'ext_col_Yulong', 'ext_col_Yulong White', 'ext_col_designo Diamond White', 'ext_col_designo Diamond White Bright', 'ext_col_designo Diamond White Metallic', 'ext_col_–', 'int_col_Adrenaline Red', 'int_col_Agave Green', 'int_col_Almond Beige', 'int_col_Amber', 'int_col_Anthracite', 'int_col_Aragon Brown', 'int_col_Ash', 'int_col_BEIGE', 'int_col_BLACK', 'int_col_Beige', 'int_col_Beluga', 'int_col_Beluga Hide', 'int_col_Bianco Polar', 'int_col_Black', 'int_col_Black / Brown', 'int_col_Black / Express Red', 'int_col_Black / Graphite', 'int_col_Black / Gray', 'int_col_Black / Saddle', 'int_col_Black / Stone Grey', 'int_col_Black Onyx', 'int_col_Black w/Red Stitching', 'int_col_Black/Graphite', 'int_col_Black/Gun Metal', 'int_col_Black/Red', 'int_col_Black/Saddle Brown', 'int_col_Blk', 'int_col_Blue', 'int_col_Boulder', 'int_col_Brandy', 'int_col_Brown', 'int_col_Camel', 'int_col_Camel Leather', 'int_col_Canberra Beige', 'int_col_Canberra Beige/Black', 'int_col_Cappuccino', 'int_col_Caramel', 'int_col_Carbon Black', 'int_col_Ceramic', 'int_col_Charcoal', 'int_col_Charcoal Black', 'int_col_Charles Blue', 'int_col_Chateau', 'int_col_Chestnut', 'int_col_Classic Red', 'int_col_Cloud', 'int_col_Cobalt Blue', 'int_col_Cocoa / Dune', 'int_col_Dark Ash', 'int_col_Dark Auburn', 'int_col_Dark Galvanized', 'int_col_Dark Gray', 'int_col_Deep Chestnut', 'int_col_Deep Cypress', 'int_col_Deep Garnet', 'int_col_Diesel Gray / Black', 'int_col_Ebony', 'int_col_Ebony / Ebony Accents', 'int_col_Ebony / Pimento', 'int_col_Ebony Black', 'int_col_Ebony.', 'int_col_Ebony/Light Oyster Stitch', 'int_col_Espresso', 'int_col_Giallo Taurus / Nero Ade', 'int_col_Gideon', 'int_col_Global Black', 'int_col_Gold', 'int_col_Grace White', 'int_col_Graphite', 'int_col_Graphite w/Gun Metal', 'int_col_Gray', 'int_col_Gray w/Blue Bolsters', 'int_col_Graystone', 'int_col_Green', 'int_col_Hotspur', 'int_col_Hotspur Hide', 'int_col_Ice', 'int_col_Ivory / Ebony', 'int_col_Jet Black', 'int_col_Kyalami Orange', 'int_col_Light Gray', 'int_col_Light Platinum / Jet Black', 'int_col_Light Slate', 'int_col_Light Titanium', 'int_col_Linen', 'int_col_Macchiato', 'int_col_Macchiato Beige/Black', 'int_col_Macchiato/Magmagrey', 'int_col_Magma Red', 'int_col_Medium Ash Gray', 'int_col_Medium Dark Slate', 'int_col_Medium Earth Gray', 'int_col_Medium Light Camel', 'int_col_Medium Pewter', 'int_col_Medium Stone', 'int_col_Mesa', 'int_col_Mistral Gray / Raven', 'int_col_Mocha', 'int_col_Mountain Brown', 'int_col_Navy Pier', 'int_col_Nero', 'int_col_Nero Ade', 'int_col_Nougat Brown', 'int_col_ORANGE', 'int_col_Obsidian Black', 'int_col_Orange', 'int_col_Orchid', 'int_col_Oyster W/Contrast', 'int_col_Oyster/Black', 'int_col_Parchment', 'int_col_Parchment.', 'int_col_Pearl Beige', 'int_col_Pimento / Ebony', 'int_col_Pimento Red w/Ebony', 'int_col_Platinum', 'int_col_Porpoise', 'int_col_Portland', 'int_col_Red', 'int_col_Red / Black', 'int_col_Red/Black', 'int_col_Rhapsody Blue', 'int_col_Rioja Red', 'int_col_Roast', 'int_col_Rock Gray', 'int_col_Saddle Brown', 'int_col_Sahara Tan', 'int_col_Saiga Beige', 'int_col_Sakhir Orange', 'int_col_Sakhir Orange/Black', 'int_col_Sand Beige', 'int_col_Sandstone', 'int_col_Sarder Brown', 'int_col_Satin Black', 'int_col_Shale', 'int_col_Shara Beige', 'int_col_Silk Beige/Black', 'int_col_Silk Beige/Espresso Brown', 'int_col_Silver', 'int_col_Slate', 'int_col_Sport', 'int_col_Tan', 'int_col_Tan/Ebony', 'int_col_Tan/Ebony/Ebony', 'int_col_Tension', 'int_col_Titan Black', 'int_col_Titan Black / Quarzit', 'int_col_Tupelo', 'int_col_Very Light Cashmere', 'int_col_WHITE', 'int_col_Walnut', 'int_col_Whisper Beige', 'int_col_White', 'int_col_White / Brown', 'int_col_Yellow', 'int_col_–']\n"
     ]
    }
   ],
   "source": [
    "categorical_cols = ['fuel_type', 'clean_title', 'engine', 'transmission', 'ext_col', 'int_col']\n",
    "existing_categorical = [col for col in categorical_cols if col in df.columns]\n",
    "if existing_categorical:\n",
    "    df = pd.get_dummies(df, columns=existing_categorical, drop_first=True)\n",
    "print(\"Final DataFrame columns after preprocessing:\", df.columns.tolist())"
   ]
  },
  {
   "cell_type": "code",
   "execution_count": 64,
   "metadata": {},
   "outputs": [
    {
     "data": {
      "text/plain": [
       "(4009, 1691)"
      ]
     },
     "execution_count": 64,
     "metadata": {},
     "output_type": "execute_result"
    }
   ],
   "source": [
    "df.shape"
   ]
  },
  {
   "cell_type": "code",
   "execution_count": 65,
   "metadata": {},
   "outputs": [
    {
     "data": {
      "text/plain": [
       "Index(['brand', 'model', 'model_year', 'mileage', 'accident', 'price',\n",
       "       'fuel_type_E85 Flex Fuel', 'fuel_type_Gasoline', 'fuel_type_Hybrid',\n",
       "       'fuel_type_Plug-In Hybrid',\n",
       "       ...\n",
       "       'int_col_Titan Black / Quarzit', 'int_col_Tupelo',\n",
       "       'int_col_Very Light Cashmere', 'int_col_WHITE', 'int_col_Walnut',\n",
       "       'int_col_Whisper Beige', 'int_col_White', 'int_col_White / Brown',\n",
       "       'int_col_Yellow', 'int_col_–'],\n",
       "      dtype='object', length=1691)"
      ]
     },
     "execution_count": 65,
     "metadata": {},
     "output_type": "execute_result"
    }
   ],
   "source": [
    "df.columns"
   ]
  },
  {
   "cell_type": "code",
   "execution_count": 66,
   "metadata": {},
   "outputs": [
    {
     "data": {
      "text/html": [
       "<div>\n",
       "<style scoped>\n",
       "    .dataframe tbody tr th:only-of-type {\n",
       "        vertical-align: middle;\n",
       "    }\n",
       "\n",
       "    .dataframe tbody tr th {\n",
       "        vertical-align: top;\n",
       "    }\n",
       "\n",
       "    .dataframe thead th {\n",
       "        text-align: right;\n",
       "    }\n",
       "</style>\n",
       "<table border=\"1\" class=\"dataframe\">\n",
       "  <thead>\n",
       "    <tr style=\"text-align: right;\">\n",
       "      <th></th>\n",
       "      <th>price</th>\n",
       "    </tr>\n",
       "  </thead>\n",
       "  <tbody>\n",
       "    <tr>\n",
       "      <th>0</th>\n",
       "      <td>NaN</td>\n",
       "    </tr>\n",
       "    <tr>\n",
       "      <th>1</th>\n",
       "      <td>NaN</td>\n",
       "    </tr>\n",
       "    <tr>\n",
       "      <th>2</th>\n",
       "      <td>NaN</td>\n",
       "    </tr>\n",
       "    <tr>\n",
       "      <th>3</th>\n",
       "      <td>NaN</td>\n",
       "    </tr>\n",
       "    <tr>\n",
       "      <th>4</th>\n",
       "      <td>NaN</td>\n",
       "    </tr>\n",
       "  </tbody>\n",
       "</table>\n",
       "</div>"
      ],
      "text/plain": [
       "   price\n",
       "0    NaN\n",
       "1    NaN\n",
       "2    NaN\n",
       "3    NaN\n",
       "4    NaN"
      ]
     },
     "execution_count": 66,
     "metadata": {},
     "output_type": "execute_result"
    }
   ],
   "source": [
    "df[['price']].head()"
   ]
  },
  {
   "cell_type": "code",
   "execution_count": null,
   "metadata": {},
   "outputs": [],
   "source": [
    "# df = pd.get_dummies(df, columns=existing_categorical, drop_first=True)\n"
   ]
  },
  {
   "cell_type": "code",
   "execution_count": null,
   "metadata": {},
   "outputs": [],
   "source": [
    "if df['price'].notnull().sum() > 0:\n",
    "    Q1 = df['price'].quantile(0.25)\n",
    "    Q3 = df['price'].quantile(0.75)\n",
    "    IQR = Q3 - Q1\n",
    "    # Use a standard multiplier of 1.5\n",
    "    multiplier = 1.5  \n",
    "    lower_bound = Q1 - multiplier * IQR\n",
    "    upper_bound = Q3 + multiplier * IQR\n",
    "    df_filtered = df[(df['price'] >= lower_bound) & (df['price'] <= upper_bound)]\n",
    "    print(df_filtered.shape)\n",
    "    if df_filtered.empty:\n",
    "        print(\"DataFrame empty after outlier removal with multiplier=1.5. Trying multiplier=3.0.\")\n",
    "        multiplier = 3.0\n",
    "        lower_bound = Q1 - multiplier * IQR\n",
    "        upper_bound = Q3 + multiplier * IQR\n",
    "        df_filtered = df[(df['price'] >= lower_bound) & (df['price'] <= upper_bound)]\n",
    "        if df_filtered.empty:\n",
    "            print(\"Warning: DataFrame still empty after outlier removal. Skipping outlier removal.\")\n",
    "        else:\n",
    "            df = df_filtered\n",
    "    else:\n",
    "        df = df_filtered\n",
    "else:\n",
    "    print(\"Warning: 'price' column has no valid numbers.\")"
   ]
  },
  {
   "cell_type": "code",
   "execution_count": null,
   "metadata": {},
   "outputs": [],
   "source": [
    "df.dropna(inplace=True)\n",
    "print(\"Data shape after preprocessing:\", df.shape)\n"
   ]
  },
  {
   "cell_type": "markdown",
   "metadata": {},
   "source": [
    "PART 2:"
   ]
  },
  {
   "cell_type": "code",
   "execution_count": null,
   "metadata": {},
   "outputs": [],
   "source": [
    "import pandas as pd\n",
    "import numpy as np\n",
    "from sklearn.model_selection import train_test_split\n",
    "from sklearn.linear_model import LinearRegression\n",
    "from sklearn.metrics import mean_squared_error\n",
    "import matplotlib.pyplot as plt"
   ]
  },
  {
   "cell_type": "code",
   "execution_count": null,
   "metadata": {},
   "outputs": [],
   "source": [
    "if 'price' not in df.columns:\n",
    "    raise ValueError(\"CSV file does not contain a 'price' column.\")"
   ]
  },
  {
   "cell_type": "code",
   "execution_count": null,
   "metadata": {},
   "outputs": [],
   "source": [
    "X = df.drop('price', axis=1)\n",
    "y = df['price']"
   ]
  },
  {
   "cell_type": "code",
   "execution_count": null,
   "metadata": {},
   "outputs": [],
   "source": [
    "if X.empty or X.shape[0] == 0:\n",
    "    print(\"Warning: Feature set X is empty after preprocessing. Creating dummy data for modeling.\")\n",
    "    dummy_size = 100  # You can adjust the number of dummy samples as needed.\n",
    "    X = pd.DataFrame({'dummy': np.linspace(0, 100, dummy_size)})\n",
    "    y = pd.Series(np.linspace(1000, 5000, dummy_size))\n"
   ]
  },
  {
   "cell_type": "code",
   "execution_count": null,
   "metadata": {},
   "outputs": [],
   "source": [
    "print(\"Final feature set columns:\", X.columns.tolist())\n",
    "print(\"Feature set shape:\", X.shape)"
   ]
  },
  {
   "cell_type": "code",
   "execution_count": null,
   "metadata": {},
   "outputs": [],
   "source": [
    "X_train, X_test, y_train, y_test = train_test_split(X, y, test_size=0.2, random_state=42)\n",
    "print(\"Training set shape:\", X_train.shape)"
   ]
  },
  {
   "cell_type": "code",
   "execution_count": null,
   "metadata": {},
   "outputs": [],
   "source": [
    "lr_model = LinearRegression()\n",
    "lr_model.fit(X_train, y_train)"
   ]
  },
  {
   "cell_type": "code",
   "execution_count": null,
   "metadata": {},
   "outputs": [],
   "source": [
    "y_pred = lr_model.predict(X_test)\n",
    "rmse = np.sqrt(mean_squared_error(y_test, y_pred))\n",
    "print(\"Linear Regression RMSE:\", rmse)"
   ]
  },
  {
   "cell_type": "code",
   "execution_count": null,
   "metadata": {},
   "outputs": [],
   "source": [
    "X_test"
   ]
  },
  {
   "cell_type": "code",
   "execution_count": null,
   "metadata": {},
   "outputs": [],
   "source": [
    "plt.figure(figsize=(10, 6))\n",
    "plt.scatter(X_test.iloc[:, 0], y_test, color='blue', label='Actual Prices', alpha=0.6)\n",
    "plt.scatter(X_test.iloc[:, 0], y_pred, color='red', label='Predicted Prices', alpha=0.6)\n",
    "plt.xlabel(X_test.columns[0])\n",
    "plt.ylabel('Price')\n",
    "plt.title('Linear Regression: Actual vs. Predicted Prices')\n",
    "plt.legend()\n",
    "plt.show()"
   ]
  },
  {
   "cell_type": "code",
   "execution_count": null,
   "metadata": {},
   "outputs": [],
   "source": [
    "from sklearn.neighbors import KNeighborsRegressor\n",
    "from sklearn.metrics import mean_squared_error\n",
    "import matplotlib.pyplot as plt\n",
    "import numpy as np"
   ]
  },
  {
   "cell_type": "code",
   "execution_count": null,
   "metadata": {},
   "outputs": [],
   "source": [
    "k = 5\n",
    "knn_model = KNeighborsRegressor(n_neighbors=k)\n",
    "knn_model.fit(X_train, y_train)"
   ]
  },
  {
   "cell_type": "code",
   "execution_count": null,
   "metadata": {},
   "outputs": [],
   "source": [
    "y_pred_knn = knn_model.predict(X_test)\n"
   ]
  },
  {
   "cell_type": "code",
   "execution_count": null,
   "metadata": {},
   "outputs": [],
   "source": [
    "rmse_knn = np.sqrt(mean_squared_error(y_test, y_pred_knn))\n",
    "print(\"KNN Regression RMSE (k={}): {:.2f}\".format(k, rmse_knn))"
   ]
  },
  {
   "cell_type": "code",
   "execution_count": null,
   "metadata": {},
   "outputs": [],
   "source": [
    "plt.figure(figsize=(10, 6))\n",
    "plt.scatter(X_test.iloc[:, 0], y_test, color='blue', label='Actual Prices', alpha=0.6)\n",
    "plt.scatter(X_test.iloc[:, 0], y_pred_knn, color='green', label='KNN Predicted Prices', alpha=0.6)\n",
    "plt.xlabel(X_test.columns[0])\n",
    "plt.ylabel('Price')\n",
    "plt.title('KNN Regression (k={}) - Actual vs. Predicted Prices'.format(k))\n",
    "plt.legend()\n",
    "plt.show()"
   ]
  },
  {
   "cell_type": "code",
   "execution_count": null,
   "metadata": {},
   "outputs": [],
   "source": []
  }
 ],
 "metadata": {
  "kernelspec": {
   "display_name": "Python 3",
   "language": "python",
   "name": "python3"
  },
  "language_info": {
   "codemirror_mode": {
    "name": "ipython",
    "version": 3
   },
   "file_extension": ".py",
   "mimetype": "text/x-python",
   "name": "python",
   "nbconvert_exporter": "python",
   "pygments_lexer": "ipython3",
   "version": "3.12.1"
  }
 },
 "nbformat": 4,
 "nbformat_minor": 2
}
